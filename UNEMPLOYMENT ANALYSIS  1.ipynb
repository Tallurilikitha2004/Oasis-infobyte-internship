{
 "cells": [
  {
   "cell_type": "markdown",
   "id": "80adce81",
   "metadata": {},
   "source": [
    "# Unemployment analysis with python(TASK-2)"
   ]
  },
  {
   "cell_type": "code",
   "execution_count": 1,
   "id": "e07d4396",
   "metadata": {},
   "outputs": [],
   "source": [
    "import pandas as pd\n",
    "import numpy as np \n",
    "import seaborn as sns\n",
    "from matplotlib import pyplot as plt\n",
    "import plotly.express as px"
   ]
  },
  {
   "cell_type": "code",
   "execution_count": 2,
   "id": "fe06c46e",
   "metadata": {},
   "outputs": [],
   "source": [
    "dk=pd.read_csv(r\"C:\\Desktop\\Unemployment in India.csv\")\n",
    "dk=pd.read_csv(r\"C:\\Desktop\\Unemployment_Rate_upto_11_2020.csv\")"
   ]
  },
  {
   "cell_type": "code",
   "execution_count": 3,
   "id": "a671c441",
   "metadata": {},
   "outputs": [
    {
     "data": {
      "text/html": [
       "<div>\n",
       "<style scoped>\n",
       "    .dataframe tbody tr th:only-of-type {\n",
       "        vertical-align: middle;\n",
       "    }\n",
       "\n",
       "    .dataframe tbody tr th {\n",
       "        vertical-align: top;\n",
       "    }\n",
       "\n",
       "    .dataframe thead th {\n",
       "        text-align: right;\n",
       "    }\n",
       "</style>\n",
       "<table border=\"1\" class=\"dataframe\">\n",
       "  <thead>\n",
       "    <tr style=\"text-align: right;\">\n",
       "      <th></th>\n",
       "      <th>Region</th>\n",
       "      <th>Date</th>\n",
       "      <th>Frequency</th>\n",
       "      <th>Estimated Unemployment Rate (%)</th>\n",
       "      <th>Estimated Employed</th>\n",
       "      <th>Estimated Labour Participation Rate (%)</th>\n",
       "      <th>Region.1</th>\n",
       "      <th>longitude</th>\n",
       "      <th>latitude</th>\n",
       "    </tr>\n",
       "  </thead>\n",
       "  <tbody>\n",
       "    <tr>\n",
       "      <th>0</th>\n",
       "      <td>Andhra Pradesh</td>\n",
       "      <td>31-01-2020</td>\n",
       "      <td>M</td>\n",
       "      <td>5.48</td>\n",
       "      <td>16635535</td>\n",
       "      <td>41.02</td>\n",
       "      <td>South</td>\n",
       "      <td>15.9129</td>\n",
       "      <td>79.740</td>\n",
       "    </tr>\n",
       "    <tr>\n",
       "      <th>1</th>\n",
       "      <td>Andhra Pradesh</td>\n",
       "      <td>29-02-2020</td>\n",
       "      <td>M</td>\n",
       "      <td>5.83</td>\n",
       "      <td>16545652</td>\n",
       "      <td>40.90</td>\n",
       "      <td>South</td>\n",
       "      <td>15.9129</td>\n",
       "      <td>79.740</td>\n",
       "    </tr>\n",
       "    <tr>\n",
       "      <th>2</th>\n",
       "      <td>Andhra Pradesh</td>\n",
       "      <td>31-03-2020</td>\n",
       "      <td>M</td>\n",
       "      <td>5.79</td>\n",
       "      <td>15881197</td>\n",
       "      <td>39.18</td>\n",
       "      <td>South</td>\n",
       "      <td>15.9129</td>\n",
       "      <td>79.740</td>\n",
       "    </tr>\n",
       "    <tr>\n",
       "      <th>3</th>\n",
       "      <td>Andhra Pradesh</td>\n",
       "      <td>30-04-2020</td>\n",
       "      <td>M</td>\n",
       "      <td>20.51</td>\n",
       "      <td>11336911</td>\n",
       "      <td>33.10</td>\n",
       "      <td>South</td>\n",
       "      <td>15.9129</td>\n",
       "      <td>79.740</td>\n",
       "    </tr>\n",
       "    <tr>\n",
       "      <th>4</th>\n",
       "      <td>Andhra Pradesh</td>\n",
       "      <td>31-05-2020</td>\n",
       "      <td>M</td>\n",
       "      <td>17.43</td>\n",
       "      <td>12988845</td>\n",
       "      <td>36.46</td>\n",
       "      <td>South</td>\n",
       "      <td>15.9129</td>\n",
       "      <td>79.740</td>\n",
       "    </tr>\n",
       "    <tr>\n",
       "      <th>...</th>\n",
       "      <td>...</td>\n",
       "      <td>...</td>\n",
       "      <td>...</td>\n",
       "      <td>...</td>\n",
       "      <td>...</td>\n",
       "      <td>...</td>\n",
       "      <td>...</td>\n",
       "      <td>...</td>\n",
       "      <td>...</td>\n",
       "    </tr>\n",
       "    <tr>\n",
       "      <th>262</th>\n",
       "      <td>West Bengal</td>\n",
       "      <td>30-06-2020</td>\n",
       "      <td>M</td>\n",
       "      <td>7.29</td>\n",
       "      <td>30726310</td>\n",
       "      <td>40.39</td>\n",
       "      <td>East</td>\n",
       "      <td>22.9868</td>\n",
       "      <td>87.855</td>\n",
       "    </tr>\n",
       "    <tr>\n",
       "      <th>263</th>\n",
       "      <td>West Bengal</td>\n",
       "      <td>31-07-2020</td>\n",
       "      <td>M</td>\n",
       "      <td>6.83</td>\n",
       "      <td>35372506</td>\n",
       "      <td>46.17</td>\n",
       "      <td>East</td>\n",
       "      <td>22.9868</td>\n",
       "      <td>87.855</td>\n",
       "    </tr>\n",
       "    <tr>\n",
       "      <th>264</th>\n",
       "      <td>West Bengal</td>\n",
       "      <td>31-08-2020</td>\n",
       "      <td>M</td>\n",
       "      <td>14.87</td>\n",
       "      <td>33298644</td>\n",
       "      <td>47.48</td>\n",
       "      <td>East</td>\n",
       "      <td>22.9868</td>\n",
       "      <td>87.855</td>\n",
       "    </tr>\n",
       "    <tr>\n",
       "      <th>265</th>\n",
       "      <td>West Bengal</td>\n",
       "      <td>30-09-2020</td>\n",
       "      <td>M</td>\n",
       "      <td>9.35</td>\n",
       "      <td>35707239</td>\n",
       "      <td>47.73</td>\n",
       "      <td>East</td>\n",
       "      <td>22.9868</td>\n",
       "      <td>87.855</td>\n",
       "    </tr>\n",
       "    <tr>\n",
       "      <th>266</th>\n",
       "      <td>West Bengal</td>\n",
       "      <td>31-10-2020</td>\n",
       "      <td>M</td>\n",
       "      <td>9.98</td>\n",
       "      <td>33962549</td>\n",
       "      <td>45.63</td>\n",
       "      <td>East</td>\n",
       "      <td>22.9868</td>\n",
       "      <td>87.855</td>\n",
       "    </tr>\n",
       "  </tbody>\n",
       "</table>\n",
       "<p>267 rows × 9 columns</p>\n",
       "</div>"
      ],
      "text/plain": [
       "             Region         Date  Frequency   Estimated Unemployment Rate (%)  \\\n",
       "0    Andhra Pradesh   31-01-2020          M                              5.48   \n",
       "1    Andhra Pradesh   29-02-2020          M                              5.83   \n",
       "2    Andhra Pradesh   31-03-2020          M                              5.79   \n",
       "3    Andhra Pradesh   30-04-2020          M                             20.51   \n",
       "4    Andhra Pradesh   31-05-2020          M                             17.43   \n",
       "..              ...          ...        ...                               ...   \n",
       "262     West Bengal   30-06-2020          M                              7.29   \n",
       "263     West Bengal   31-07-2020          M                              6.83   \n",
       "264     West Bengal   31-08-2020          M                             14.87   \n",
       "265     West Bengal   30-09-2020          M                              9.35   \n",
       "266     West Bengal   31-10-2020          M                              9.98   \n",
       "\n",
       "      Estimated Employed   Estimated Labour Participation Rate (%) Region.1  \\\n",
       "0               16635535                                     41.02    South   \n",
       "1               16545652                                     40.90    South   \n",
       "2               15881197                                     39.18    South   \n",
       "3               11336911                                     33.10    South   \n",
       "4               12988845                                     36.46    South   \n",
       "..                   ...                                       ...      ...   \n",
       "262             30726310                                     40.39     East   \n",
       "263             35372506                                     46.17     East   \n",
       "264             33298644                                     47.48     East   \n",
       "265             35707239                                     47.73     East   \n",
       "266             33962549                                     45.63     East   \n",
       "\n",
       "     longitude  latitude  \n",
       "0      15.9129    79.740  \n",
       "1      15.9129    79.740  \n",
       "2      15.9129    79.740  \n",
       "3      15.9129    79.740  \n",
       "4      15.9129    79.740  \n",
       "..         ...       ...  \n",
       "262    22.9868    87.855  \n",
       "263    22.9868    87.855  \n",
       "264    22.9868    87.855  \n",
       "265    22.9868    87.855  \n",
       "266    22.9868    87.855  \n",
       "\n",
       "[267 rows x 9 columns]"
      ]
     },
     "execution_count": 3,
     "metadata": {},
     "output_type": "execute_result"
    }
   ],
   "source": [
    "dk"
   ]
  },
  {
   "cell_type": "code",
   "execution_count": 4,
   "id": "6cc221b0",
   "metadata": {},
   "outputs": [
    {
     "data": {
      "text/html": [
       "<div>\n",
       "<style scoped>\n",
       "    .dataframe tbody tr th:only-of-type {\n",
       "        vertical-align: middle;\n",
       "    }\n",
       "\n",
       "    .dataframe tbody tr th {\n",
       "        vertical-align: top;\n",
       "    }\n",
       "\n",
       "    .dataframe thead th {\n",
       "        text-align: right;\n",
       "    }\n",
       "</style>\n",
       "<table border=\"1\" class=\"dataframe\">\n",
       "  <thead>\n",
       "    <tr style=\"text-align: right;\">\n",
       "      <th></th>\n",
       "      <th>Region</th>\n",
       "      <th>Date</th>\n",
       "      <th>Frequency</th>\n",
       "      <th>Estimated Unemployment Rate (%)</th>\n",
       "      <th>Estimated Employed</th>\n",
       "      <th>Estimated Labour Participation Rate (%)</th>\n",
       "      <th>Region.1</th>\n",
       "      <th>longitude</th>\n",
       "      <th>latitude</th>\n",
       "    </tr>\n",
       "  </thead>\n",
       "  <tbody>\n",
       "    <tr>\n",
       "      <th>262</th>\n",
       "      <td>West Bengal</td>\n",
       "      <td>30-06-2020</td>\n",
       "      <td>M</td>\n",
       "      <td>7.29</td>\n",
       "      <td>30726310</td>\n",
       "      <td>40.39</td>\n",
       "      <td>East</td>\n",
       "      <td>22.9868</td>\n",
       "      <td>87.8550</td>\n",
       "    </tr>\n",
       "    <tr>\n",
       "      <th>121</th>\n",
       "      <td>Kerala</td>\n",
       "      <td>31-03-2020</td>\n",
       "      <td>M</td>\n",
       "      <td>8.99</td>\n",
       "      <td>8221728</td>\n",
       "      <td>32.00</td>\n",
       "      <td>South</td>\n",
       "      <td>10.8505</td>\n",
       "      <td>76.2711</td>\n",
       "    </tr>\n",
       "    <tr>\n",
       "      <th>179</th>\n",
       "      <td>Punjab</td>\n",
       "      <td>31-01-2020</td>\n",
       "      <td>M</td>\n",
       "      <td>11.11</td>\n",
       "      <td>9442093</td>\n",
       "      <td>42.82</td>\n",
       "      <td>North</td>\n",
       "      <td>31.1471</td>\n",
       "      <td>75.3412</td>\n",
       "    </tr>\n",
       "    <tr>\n",
       "      <th>239</th>\n",
       "      <td>Uttar Pradesh</td>\n",
       "      <td>31-03-2020</td>\n",
       "      <td>M</td>\n",
       "      <td>10.11</td>\n",
       "      <td>56976338</td>\n",
       "      <td>38.89</td>\n",
       "      <td>North</td>\n",
       "      <td>26.8467</td>\n",
       "      <td>80.9462</td>\n",
       "    </tr>\n",
       "    <tr>\n",
       "      <th>141</th>\n",
       "      <td>Maharashtra</td>\n",
       "      <td>31-03-2020</td>\n",
       "      <td>M</td>\n",
       "      <td>5.79</td>\n",
       "      <td>40196806</td>\n",
       "      <td>41.91</td>\n",
       "      <td>West</td>\n",
       "      <td>19.7515</td>\n",
       "      <td>75.7139</td>\n",
       "    </tr>\n",
       "    <tr>\n",
       "      <th>28</th>\n",
       "      <td>Bihar</td>\n",
       "      <td>30-09-2020</td>\n",
       "      <td>M</td>\n",
       "      <td>11.91</td>\n",
       "      <td>26902907</td>\n",
       "      <td>38.35</td>\n",
       "      <td>East</td>\n",
       "      <td>25.0961</td>\n",
       "      <td>85.3131</td>\n",
       "    </tr>\n",
       "    <tr>\n",
       "      <th>84</th>\n",
       "      <td>Himachal Pradesh</td>\n",
       "      <td>31-05-2020</td>\n",
       "      <td>M</td>\n",
       "      <td>26.95</td>\n",
       "      <td>1897639</td>\n",
       "      <td>42.70</td>\n",
       "      <td>North</td>\n",
       "      <td>31.1048</td>\n",
       "      <td>77.1734</td>\n",
       "    </tr>\n",
       "    <tr>\n",
       "      <th>6</th>\n",
       "      <td>Andhra Pradesh</td>\n",
       "      <td>31-07-2020</td>\n",
       "      <td>M</td>\n",
       "      <td>8.34</td>\n",
       "      <td>15431615</td>\n",
       "      <td>38.91</td>\n",
       "      <td>South</td>\n",
       "      <td>15.9129</td>\n",
       "      <td>79.7400</td>\n",
       "    </tr>\n",
       "  </tbody>\n",
       "</table>\n",
       "</div>"
      ],
      "text/plain": [
       "               Region         Date  Frequency  \\\n",
       "262       West Bengal   30-06-2020          M   \n",
       "121            Kerala   31-03-2020          M   \n",
       "179            Punjab   31-01-2020          M   \n",
       "239     Uttar Pradesh   31-03-2020          M   \n",
       "141       Maharashtra   31-03-2020          M   \n",
       "28              Bihar   30-09-2020          M   \n",
       "84   Himachal Pradesh   31-05-2020          M   \n",
       "6      Andhra Pradesh   31-07-2020          M   \n",
       "\n",
       "      Estimated Unemployment Rate (%)   Estimated Employed  \\\n",
       "262                              7.29             30726310   \n",
       "121                              8.99              8221728   \n",
       "179                             11.11              9442093   \n",
       "239                             10.11             56976338   \n",
       "141                              5.79             40196806   \n",
       "28                              11.91             26902907   \n",
       "84                              26.95              1897639   \n",
       "6                                8.34             15431615   \n",
       "\n",
       "      Estimated Labour Participation Rate (%) Region.1  longitude  latitude  \n",
       "262                                     40.39     East    22.9868   87.8550  \n",
       "121                                     32.00    South    10.8505   76.2711  \n",
       "179                                     42.82    North    31.1471   75.3412  \n",
       "239                                     38.89    North    26.8467   80.9462  \n",
       "141                                     41.91     West    19.7515   75.7139  \n",
       "28                                      38.35     East    25.0961   85.3131  \n",
       "84                                      42.70    North    31.1048   77.1734  \n",
       "6                                       38.91    South    15.9129   79.7400  "
      ]
     },
     "execution_count": 4,
     "metadata": {},
     "output_type": "execute_result"
    }
   ],
   "source": [
    "dk.sample(8)"
   ]
  },
  {
   "cell_type": "code",
   "execution_count": 5,
   "id": "de60d188",
   "metadata": {},
   "outputs": [
    {
     "data": {
      "text/plain": [
       "(267, 9)"
      ]
     },
     "execution_count": 5,
     "metadata": {},
     "output_type": "execute_result"
    }
   ],
   "source": [
    "dk.shape"
   ]
  },
  {
   "cell_type": "code",
   "execution_count": 6,
   "id": "26a88c27",
   "metadata": {},
   "outputs": [
    {
     "name": "stdout",
     "output_type": "stream",
     "text": [
      "Rows---> 267\n",
      "Columns---> 9\n"
     ]
    }
   ],
   "source": [
    "print(\"Rows--->\",dk.shape[0])\n",
    "print(\"Columns--->\",dk.shape[1])"
   ]
  },
  {
   "cell_type": "code",
   "execution_count": 7,
   "id": "6e1dd8b6",
   "metadata": {},
   "outputs": [
    {
     "data": {
      "text/html": [
       "<div>\n",
       "<style scoped>\n",
       "    .dataframe tbody tr th:only-of-type {\n",
       "        vertical-align: middle;\n",
       "    }\n",
       "\n",
       "    .dataframe tbody tr th {\n",
       "        vertical-align: top;\n",
       "    }\n",
       "\n",
       "    .dataframe thead th {\n",
       "        text-align: right;\n",
       "    }\n",
       "</style>\n",
       "<table border=\"1\" class=\"dataframe\">\n",
       "  <thead>\n",
       "    <tr style=\"text-align: right;\">\n",
       "      <th></th>\n",
       "      <th>Region</th>\n",
       "      <th>Date</th>\n",
       "      <th>Frequency</th>\n",
       "      <th>Estimated Unemployment Rate (%)</th>\n",
       "      <th>Estimated Employed</th>\n",
       "      <th>Estimated Labour Participation Rate (%)</th>\n",
       "      <th>Region.1</th>\n",
       "      <th>longitude</th>\n",
       "      <th>latitude</th>\n",
       "    </tr>\n",
       "  </thead>\n",
       "  <tbody>\n",
       "    <tr>\n",
       "      <th>0</th>\n",
       "      <td>False</td>\n",
       "      <td>False</td>\n",
       "      <td>False</td>\n",
       "      <td>False</td>\n",
       "      <td>False</td>\n",
       "      <td>False</td>\n",
       "      <td>False</td>\n",
       "      <td>False</td>\n",
       "      <td>False</td>\n",
       "    </tr>\n",
       "    <tr>\n",
       "      <th>1</th>\n",
       "      <td>False</td>\n",
       "      <td>False</td>\n",
       "      <td>False</td>\n",
       "      <td>False</td>\n",
       "      <td>False</td>\n",
       "      <td>False</td>\n",
       "      <td>False</td>\n",
       "      <td>False</td>\n",
       "      <td>False</td>\n",
       "    </tr>\n",
       "    <tr>\n",
       "      <th>2</th>\n",
       "      <td>False</td>\n",
       "      <td>False</td>\n",
       "      <td>False</td>\n",
       "      <td>False</td>\n",
       "      <td>False</td>\n",
       "      <td>False</td>\n",
       "      <td>False</td>\n",
       "      <td>False</td>\n",
       "      <td>False</td>\n",
       "    </tr>\n",
       "    <tr>\n",
       "      <th>3</th>\n",
       "      <td>False</td>\n",
       "      <td>False</td>\n",
       "      <td>False</td>\n",
       "      <td>False</td>\n",
       "      <td>False</td>\n",
       "      <td>False</td>\n",
       "      <td>False</td>\n",
       "      <td>False</td>\n",
       "      <td>False</td>\n",
       "    </tr>\n",
       "    <tr>\n",
       "      <th>4</th>\n",
       "      <td>False</td>\n",
       "      <td>False</td>\n",
       "      <td>False</td>\n",
       "      <td>False</td>\n",
       "      <td>False</td>\n",
       "      <td>False</td>\n",
       "      <td>False</td>\n",
       "      <td>False</td>\n",
       "      <td>False</td>\n",
       "    </tr>\n",
       "    <tr>\n",
       "      <th>...</th>\n",
       "      <td>...</td>\n",
       "      <td>...</td>\n",
       "      <td>...</td>\n",
       "      <td>...</td>\n",
       "      <td>...</td>\n",
       "      <td>...</td>\n",
       "      <td>...</td>\n",
       "      <td>...</td>\n",
       "      <td>...</td>\n",
       "    </tr>\n",
       "    <tr>\n",
       "      <th>262</th>\n",
       "      <td>False</td>\n",
       "      <td>False</td>\n",
       "      <td>False</td>\n",
       "      <td>False</td>\n",
       "      <td>False</td>\n",
       "      <td>False</td>\n",
       "      <td>False</td>\n",
       "      <td>False</td>\n",
       "      <td>False</td>\n",
       "    </tr>\n",
       "    <tr>\n",
       "      <th>263</th>\n",
       "      <td>False</td>\n",
       "      <td>False</td>\n",
       "      <td>False</td>\n",
       "      <td>False</td>\n",
       "      <td>False</td>\n",
       "      <td>False</td>\n",
       "      <td>False</td>\n",
       "      <td>False</td>\n",
       "      <td>False</td>\n",
       "    </tr>\n",
       "    <tr>\n",
       "      <th>264</th>\n",
       "      <td>False</td>\n",
       "      <td>False</td>\n",
       "      <td>False</td>\n",
       "      <td>False</td>\n",
       "      <td>False</td>\n",
       "      <td>False</td>\n",
       "      <td>False</td>\n",
       "      <td>False</td>\n",
       "      <td>False</td>\n",
       "    </tr>\n",
       "    <tr>\n",
       "      <th>265</th>\n",
       "      <td>False</td>\n",
       "      <td>False</td>\n",
       "      <td>False</td>\n",
       "      <td>False</td>\n",
       "      <td>False</td>\n",
       "      <td>False</td>\n",
       "      <td>False</td>\n",
       "      <td>False</td>\n",
       "      <td>False</td>\n",
       "    </tr>\n",
       "    <tr>\n",
       "      <th>266</th>\n",
       "      <td>False</td>\n",
       "      <td>False</td>\n",
       "      <td>False</td>\n",
       "      <td>False</td>\n",
       "      <td>False</td>\n",
       "      <td>False</td>\n",
       "      <td>False</td>\n",
       "      <td>False</td>\n",
       "      <td>False</td>\n",
       "    </tr>\n",
       "  </tbody>\n",
       "</table>\n",
       "<p>267 rows × 9 columns</p>\n",
       "</div>"
      ],
      "text/plain": [
       "     Region   Date   Frequency   Estimated Unemployment Rate (%)  \\\n",
       "0     False  False       False                             False   \n",
       "1     False  False       False                             False   \n",
       "2     False  False       False                             False   \n",
       "3     False  False       False                             False   \n",
       "4     False  False       False                             False   \n",
       "..      ...    ...         ...                               ...   \n",
       "262   False  False       False                             False   \n",
       "263   False  False       False                             False   \n",
       "264   False  False       False                             False   \n",
       "265   False  False       False                             False   \n",
       "266   False  False       False                             False   \n",
       "\n",
       "      Estimated Employed   Estimated Labour Participation Rate (%)  Region.1  \\\n",
       "0                  False                                     False     False   \n",
       "1                  False                                     False     False   \n",
       "2                  False                                     False     False   \n",
       "3                  False                                     False     False   \n",
       "4                  False                                     False     False   \n",
       "..                   ...                                       ...       ...   \n",
       "262                False                                     False     False   \n",
       "263                False                                     False     False   \n",
       "264                False                                     False     False   \n",
       "265                False                                     False     False   \n",
       "266                False                                     False     False   \n",
       "\n",
       "     longitude  latitude  \n",
       "0        False     False  \n",
       "1        False     False  \n",
       "2        False     False  \n",
       "3        False     False  \n",
       "4        False     False  \n",
       "..         ...       ...  \n",
       "262      False     False  \n",
       "263      False     False  \n",
       "264      False     False  \n",
       "265      False     False  \n",
       "266      False     False  \n",
       "\n",
       "[267 rows x 9 columns]"
      ]
     },
     "execution_count": 7,
     "metadata": {},
     "output_type": "execute_result"
    }
   ],
   "source": [
    "dk.isnull()"
   ]
  },
  {
   "cell_type": "code",
   "execution_count": 8,
   "id": "2fa8a0ef",
   "metadata": {},
   "outputs": [
    {
     "data": {
      "text/plain": [
       "Region                                      0\n",
       " Date                                       0\n",
       " Frequency                                  0\n",
       " Estimated Unemployment Rate (%)            0\n",
       " Estimated Employed                         0\n",
       " Estimated Labour Participation Rate (%)    0\n",
       "Region.1                                    0\n",
       "longitude                                   0\n",
       "latitude                                    0\n",
       "dtype: int64"
      ]
     },
     "execution_count": 8,
     "metadata": {},
     "output_type": "execute_result"
    }
   ],
   "source": [
    "dk.isnull().sum()"
   ]
  },
  {
   "cell_type": "code",
   "execution_count": 9,
   "id": "43bbd028",
   "metadata": {},
   "outputs": [
    {
     "data": {
      "text/html": [
       "<div>\n",
       "<style scoped>\n",
       "    .dataframe tbody tr th:only-of-type {\n",
       "        vertical-align: middle;\n",
       "    }\n",
       "\n",
       "    .dataframe tbody tr th {\n",
       "        vertical-align: top;\n",
       "    }\n",
       "\n",
       "    .dataframe thead th {\n",
       "        text-align: right;\n",
       "    }\n",
       "</style>\n",
       "<table border=\"1\" class=\"dataframe\">\n",
       "  <thead>\n",
       "    <tr style=\"text-align: right;\">\n",
       "      <th></th>\n",
       "      <th>Estimated Unemployment Rate (%)</th>\n",
       "      <th>Estimated Employed</th>\n",
       "      <th>Estimated Labour Participation Rate (%)</th>\n",
       "      <th>longitude</th>\n",
       "      <th>latitude</th>\n",
       "    </tr>\n",
       "  </thead>\n",
       "  <tbody>\n",
       "    <tr>\n",
       "      <th>count</th>\n",
       "      <td>267.000000</td>\n",
       "      <td>2.670000e+02</td>\n",
       "      <td>267.000000</td>\n",
       "      <td>267.000000</td>\n",
       "      <td>267.000000</td>\n",
       "    </tr>\n",
       "    <tr>\n",
       "      <th>mean</th>\n",
       "      <td>12.236929</td>\n",
       "      <td>1.396211e+07</td>\n",
       "      <td>41.681573</td>\n",
       "      <td>22.826048</td>\n",
       "      <td>80.532425</td>\n",
       "    </tr>\n",
       "    <tr>\n",
       "      <th>std</th>\n",
       "      <td>10.803283</td>\n",
       "      <td>1.336632e+07</td>\n",
       "      <td>7.845419</td>\n",
       "      <td>6.270731</td>\n",
       "      <td>5.831738</td>\n",
       "    </tr>\n",
       "    <tr>\n",
       "      <th>min</th>\n",
       "      <td>0.500000</td>\n",
       "      <td>1.175420e+05</td>\n",
       "      <td>16.770000</td>\n",
       "      <td>10.850500</td>\n",
       "      <td>71.192400</td>\n",
       "    </tr>\n",
       "    <tr>\n",
       "      <th>25%</th>\n",
       "      <td>4.845000</td>\n",
       "      <td>2.838930e+06</td>\n",
       "      <td>37.265000</td>\n",
       "      <td>18.112400</td>\n",
       "      <td>76.085600</td>\n",
       "    </tr>\n",
       "    <tr>\n",
       "      <th>50%</th>\n",
       "      <td>9.650000</td>\n",
       "      <td>9.732417e+06</td>\n",
       "      <td>40.390000</td>\n",
       "      <td>23.610200</td>\n",
       "      <td>79.019300</td>\n",
       "    </tr>\n",
       "    <tr>\n",
       "      <th>75%</th>\n",
       "      <td>16.755000</td>\n",
       "      <td>2.187869e+07</td>\n",
       "      <td>44.055000</td>\n",
       "      <td>27.278400</td>\n",
       "      <td>85.279900</td>\n",
       "    </tr>\n",
       "    <tr>\n",
       "      <th>max</th>\n",
       "      <td>75.850000</td>\n",
       "      <td>5.943376e+07</td>\n",
       "      <td>69.690000</td>\n",
       "      <td>33.778200</td>\n",
       "      <td>92.937600</td>\n",
       "    </tr>\n",
       "  </tbody>\n",
       "</table>\n",
       "</div>"
      ],
      "text/plain": [
       "        Estimated Unemployment Rate (%)   Estimated Employed  \\\n",
       "count                        267.000000         2.670000e+02   \n",
       "mean                          12.236929         1.396211e+07   \n",
       "std                           10.803283         1.336632e+07   \n",
       "min                            0.500000         1.175420e+05   \n",
       "25%                            4.845000         2.838930e+06   \n",
       "50%                            9.650000         9.732417e+06   \n",
       "75%                           16.755000         2.187869e+07   \n",
       "max                           75.850000         5.943376e+07   \n",
       "\n",
       "        Estimated Labour Participation Rate (%)   longitude    latitude  \n",
       "count                                267.000000  267.000000  267.000000  \n",
       "mean                                  41.681573   22.826048   80.532425  \n",
       "std                                    7.845419    6.270731    5.831738  \n",
       "min                                   16.770000   10.850500   71.192400  \n",
       "25%                                   37.265000   18.112400   76.085600  \n",
       "50%                                   40.390000   23.610200   79.019300  \n",
       "75%                                   44.055000   27.278400   85.279900  \n",
       "max                                   69.690000   33.778200   92.937600  "
      ]
     },
     "execution_count": 9,
     "metadata": {},
     "output_type": "execute_result"
    }
   ],
   "source": [
    "dk.describe()"
   ]
  },
  {
   "cell_type": "code",
   "execution_count": 10,
   "id": "cc6bd017",
   "metadata": {},
   "outputs": [
    {
     "name": "stdout",
     "output_type": "stream",
     "text": [
      "<class 'pandas.core.frame.DataFrame'>\n",
      "RangeIndex: 267 entries, 0 to 266\n",
      "Data columns (total 9 columns):\n",
      " #   Column                                    Non-Null Count  Dtype  \n",
      "---  ------                                    --------------  -----  \n",
      " 0   Region                                    267 non-null    object \n",
      " 1    Date                                     267 non-null    object \n",
      " 2    Frequency                                267 non-null    object \n",
      " 3    Estimated Unemployment Rate (%)          267 non-null    float64\n",
      " 4    Estimated Employed                       267 non-null    int64  \n",
      " 5    Estimated Labour Participation Rate (%)  267 non-null    float64\n",
      " 6   Region.1                                  267 non-null    object \n",
      " 7   longitude                                 267 non-null    float64\n",
      " 8   latitude                                  267 non-null    float64\n",
      "dtypes: float64(4), int64(1), object(4)\n",
      "memory usage: 18.9+ KB\n"
     ]
    }
   ],
   "source": [
    "dk.info()"
   ]
  },
  {
   "cell_type": "code",
   "execution_count": 11,
   "id": "29d13fb4",
   "metadata": {},
   "outputs": [
    {
     "data": {
      "text/plain": [
       "<bound method DataFrame.info of              Region         Date  Frequency   Estimated Unemployment Rate (%)  \\\n",
       "0    Andhra Pradesh   31-01-2020          M                              5.48   \n",
       "1    Andhra Pradesh   29-02-2020          M                              5.83   \n",
       "2    Andhra Pradesh   31-03-2020          M                              5.79   \n",
       "3    Andhra Pradesh   30-04-2020          M                             20.51   \n",
       "4    Andhra Pradesh   31-05-2020          M                             17.43   \n",
       "..              ...          ...        ...                               ...   \n",
       "262     West Bengal   30-06-2020          M                              7.29   \n",
       "263     West Bengal   31-07-2020          M                              6.83   \n",
       "264     West Bengal   31-08-2020          M                             14.87   \n",
       "265     West Bengal   30-09-2020          M                              9.35   \n",
       "266     West Bengal   31-10-2020          M                              9.98   \n",
       "\n",
       "      Estimated Employed   Estimated Labour Participation Rate (%) Region.1  \\\n",
       "0               16635535                                     41.02    South   \n",
       "1               16545652                                     40.90    South   \n",
       "2               15881197                                     39.18    South   \n",
       "3               11336911                                     33.10    South   \n",
       "4               12988845                                     36.46    South   \n",
       "..                   ...                                       ...      ...   \n",
       "262             30726310                                     40.39     East   \n",
       "263             35372506                                     46.17     East   \n",
       "264             33298644                                     47.48     East   \n",
       "265             35707239                                     47.73     East   \n",
       "266             33962549                                     45.63     East   \n",
       "\n",
       "     longitude  latitude  \n",
       "0      15.9129    79.740  \n",
       "1      15.9129    79.740  \n",
       "2      15.9129    79.740  \n",
       "3      15.9129    79.740  \n",
       "4      15.9129    79.740  \n",
       "..         ...       ...  \n",
       "262    22.9868    87.855  \n",
       "263    22.9868    87.855  \n",
       "264    22.9868    87.855  \n",
       "265    22.9868    87.855  \n",
       "266    22.9868    87.855  \n",
       "\n",
       "[267 rows x 9 columns]>"
      ]
     },
     "execution_count": 11,
     "metadata": {},
     "output_type": "execute_result"
    }
   ],
   "source": [
    "dk.info"
   ]
  },
  {
   "cell_type": "code",
   "execution_count": 12,
   "id": "e9cf27e9",
   "metadata": {},
   "outputs": [
    {
     "name": "stdout",
     "output_type": "stream",
     "text": [
      "<bound method NDFrame.describe of              Region         Date  Frequency   Estimated Unemployment Rate (%)  \\\n",
      "0    Andhra Pradesh   31-01-2020          M                              5.48   \n",
      "1    Andhra Pradesh   29-02-2020          M                              5.83   \n",
      "2    Andhra Pradesh   31-03-2020          M                              5.79   \n",
      "3    Andhra Pradesh   30-04-2020          M                             20.51   \n",
      "4    Andhra Pradesh   31-05-2020          M                             17.43   \n",
      "..              ...          ...        ...                               ...   \n",
      "262     West Bengal   30-06-2020          M                              7.29   \n",
      "263     West Bengal   31-07-2020          M                              6.83   \n",
      "264     West Bengal   31-08-2020          M                             14.87   \n",
      "265     West Bengal   30-09-2020          M                              9.35   \n",
      "266     West Bengal   31-10-2020          M                              9.98   \n",
      "\n",
      "      Estimated Employed   Estimated Labour Participation Rate (%) Region.1  \\\n",
      "0               16635535                                     41.02    South   \n",
      "1               16545652                                     40.90    South   \n",
      "2               15881197                                     39.18    South   \n",
      "3               11336911                                     33.10    South   \n",
      "4               12988845                                     36.46    South   \n",
      "..                   ...                                       ...      ...   \n",
      "262             30726310                                     40.39     East   \n",
      "263             35372506                                     46.17     East   \n",
      "264             33298644                                     47.48     East   \n",
      "265             35707239                                     47.73     East   \n",
      "266             33962549                                     45.63     East   \n",
      "\n",
      "     longitude  latitude  \n",
      "0      15.9129    79.740  \n",
      "1      15.9129    79.740  \n",
      "2      15.9129    79.740  \n",
      "3      15.9129    79.740  \n",
      "4      15.9129    79.740  \n",
      "..         ...       ...  \n",
      "262    22.9868    87.855  \n",
      "263    22.9868    87.855  \n",
      "264    22.9868    87.855  \n",
      "265    22.9868    87.855  \n",
      "266    22.9868    87.855  \n",
      "\n",
      "[267 rows x 9 columns]>\n"
     ]
    }
   ],
   "source": [
    "print(dk.describe)"
   ]
  },
  {
   "cell_type": "code",
   "execution_count": 13,
   "id": "b212ef6c",
   "metadata": {},
   "outputs": [
    {
     "data": {
      "text/plain": [
       "0      False\n",
       "1      False\n",
       "2      False\n",
       "3      False\n",
       "4      False\n",
       "       ...  \n",
       "262    False\n",
       "263    False\n",
       "264    False\n",
       "265    False\n",
       "266    False\n",
       "Length: 267, dtype: bool"
      ]
     },
     "execution_count": 13,
     "metadata": {},
     "output_type": "execute_result"
    }
   ],
   "source": [
    "dk.duplicated()"
   ]
  },
  {
   "cell_type": "code",
   "execution_count": 14,
   "id": "50500676",
   "metadata": {},
   "outputs": [
    {
     "data": {
      "text/plain": [
       "0"
      ]
     },
     "execution_count": 14,
     "metadata": {},
     "output_type": "execute_result"
    }
   ],
   "source": [
    "dk.duplicated().sum()"
   ]
  },
  {
   "cell_type": "code",
   "execution_count": 15,
   "id": "cf178839",
   "metadata": {},
   "outputs": [
    {
     "data": {
      "text/plain": [
       "Region                                       object\n",
       " Date                                        object\n",
       " Frequency                                   object\n",
       " Estimated Unemployment Rate (%)            float64\n",
       " Estimated Employed                           int64\n",
       " Estimated Labour Participation Rate (%)    float64\n",
       "Region.1                                     object\n",
       "longitude                                   float64\n",
       "latitude                                    float64\n",
       "dtype: object"
      ]
     },
     "execution_count": 15,
     "metadata": {},
     "output_type": "execute_result"
    }
   ],
   "source": [
    "dk.dtypes"
   ]
  },
  {
   "cell_type": "code",
   "execution_count": 16,
   "id": "a37c6e76",
   "metadata": {},
   "outputs": [],
   "source": [
    "dk.columns=['States','Date','Frequency','Estimated Unemployment Rate','Estimated Employed','Estimated Labour Participation Rate','Region','longitude','latitude']"
   ]
  },
  {
   "cell_type": "code",
   "execution_count": 17,
   "id": "81a818ae",
   "metadata": {},
   "outputs": [
    {
     "data": {
      "text/html": [
       "<div>\n",
       "<style scoped>\n",
       "    .dataframe tbody tr th:only-of-type {\n",
       "        vertical-align: middle;\n",
       "    }\n",
       "\n",
       "    .dataframe tbody tr th {\n",
       "        vertical-align: top;\n",
       "    }\n",
       "\n",
       "    .dataframe thead th {\n",
       "        text-align: right;\n",
       "    }\n",
       "</style>\n",
       "<table border=\"1\" class=\"dataframe\">\n",
       "  <thead>\n",
       "    <tr style=\"text-align: right;\">\n",
       "      <th></th>\n",
       "      <th>States</th>\n",
       "      <th>Date</th>\n",
       "      <th>Frequency</th>\n",
       "      <th>Estimated Unemployment Rate</th>\n",
       "      <th>Estimated Employed</th>\n",
       "      <th>Estimated Labour Participation Rate</th>\n",
       "      <th>Region</th>\n",
       "      <th>longitude</th>\n",
       "      <th>latitude</th>\n",
       "    </tr>\n",
       "  </thead>\n",
       "  <tbody>\n",
       "    <tr>\n",
       "      <th>0</th>\n",
       "      <td>Andhra Pradesh</td>\n",
       "      <td>31-01-2020</td>\n",
       "      <td>M</td>\n",
       "      <td>5.48</td>\n",
       "      <td>16635535</td>\n",
       "      <td>41.02</td>\n",
       "      <td>South</td>\n",
       "      <td>15.9129</td>\n",
       "      <td>79.740</td>\n",
       "    </tr>\n",
       "    <tr>\n",
       "      <th>1</th>\n",
       "      <td>Andhra Pradesh</td>\n",
       "      <td>29-02-2020</td>\n",
       "      <td>M</td>\n",
       "      <td>5.83</td>\n",
       "      <td>16545652</td>\n",
       "      <td>40.90</td>\n",
       "      <td>South</td>\n",
       "      <td>15.9129</td>\n",
       "      <td>79.740</td>\n",
       "    </tr>\n",
       "    <tr>\n",
       "      <th>2</th>\n",
       "      <td>Andhra Pradesh</td>\n",
       "      <td>31-03-2020</td>\n",
       "      <td>M</td>\n",
       "      <td>5.79</td>\n",
       "      <td>15881197</td>\n",
       "      <td>39.18</td>\n",
       "      <td>South</td>\n",
       "      <td>15.9129</td>\n",
       "      <td>79.740</td>\n",
       "    </tr>\n",
       "    <tr>\n",
       "      <th>3</th>\n",
       "      <td>Andhra Pradesh</td>\n",
       "      <td>30-04-2020</td>\n",
       "      <td>M</td>\n",
       "      <td>20.51</td>\n",
       "      <td>11336911</td>\n",
       "      <td>33.10</td>\n",
       "      <td>South</td>\n",
       "      <td>15.9129</td>\n",
       "      <td>79.740</td>\n",
       "    </tr>\n",
       "    <tr>\n",
       "      <th>4</th>\n",
       "      <td>Andhra Pradesh</td>\n",
       "      <td>31-05-2020</td>\n",
       "      <td>M</td>\n",
       "      <td>17.43</td>\n",
       "      <td>12988845</td>\n",
       "      <td>36.46</td>\n",
       "      <td>South</td>\n",
       "      <td>15.9129</td>\n",
       "      <td>79.740</td>\n",
       "    </tr>\n",
       "    <tr>\n",
       "      <th>...</th>\n",
       "      <td>...</td>\n",
       "      <td>...</td>\n",
       "      <td>...</td>\n",
       "      <td>...</td>\n",
       "      <td>...</td>\n",
       "      <td>...</td>\n",
       "      <td>...</td>\n",
       "      <td>...</td>\n",
       "      <td>...</td>\n",
       "    </tr>\n",
       "    <tr>\n",
       "      <th>262</th>\n",
       "      <td>West Bengal</td>\n",
       "      <td>30-06-2020</td>\n",
       "      <td>M</td>\n",
       "      <td>7.29</td>\n",
       "      <td>30726310</td>\n",
       "      <td>40.39</td>\n",
       "      <td>East</td>\n",
       "      <td>22.9868</td>\n",
       "      <td>87.855</td>\n",
       "    </tr>\n",
       "    <tr>\n",
       "      <th>263</th>\n",
       "      <td>West Bengal</td>\n",
       "      <td>31-07-2020</td>\n",
       "      <td>M</td>\n",
       "      <td>6.83</td>\n",
       "      <td>35372506</td>\n",
       "      <td>46.17</td>\n",
       "      <td>East</td>\n",
       "      <td>22.9868</td>\n",
       "      <td>87.855</td>\n",
       "    </tr>\n",
       "    <tr>\n",
       "      <th>264</th>\n",
       "      <td>West Bengal</td>\n",
       "      <td>31-08-2020</td>\n",
       "      <td>M</td>\n",
       "      <td>14.87</td>\n",
       "      <td>33298644</td>\n",
       "      <td>47.48</td>\n",
       "      <td>East</td>\n",
       "      <td>22.9868</td>\n",
       "      <td>87.855</td>\n",
       "    </tr>\n",
       "    <tr>\n",
       "      <th>265</th>\n",
       "      <td>West Bengal</td>\n",
       "      <td>30-09-2020</td>\n",
       "      <td>M</td>\n",
       "      <td>9.35</td>\n",
       "      <td>35707239</td>\n",
       "      <td>47.73</td>\n",
       "      <td>East</td>\n",
       "      <td>22.9868</td>\n",
       "      <td>87.855</td>\n",
       "    </tr>\n",
       "    <tr>\n",
       "      <th>266</th>\n",
       "      <td>West Bengal</td>\n",
       "      <td>31-10-2020</td>\n",
       "      <td>M</td>\n",
       "      <td>9.98</td>\n",
       "      <td>33962549</td>\n",
       "      <td>45.63</td>\n",
       "      <td>East</td>\n",
       "      <td>22.9868</td>\n",
       "      <td>87.855</td>\n",
       "    </tr>\n",
       "  </tbody>\n",
       "</table>\n",
       "<p>267 rows × 9 columns</p>\n",
       "</div>"
      ],
      "text/plain": [
       "             States         Date Frequency  Estimated Unemployment Rate  \\\n",
       "0    Andhra Pradesh   31-01-2020         M                         5.48   \n",
       "1    Andhra Pradesh   29-02-2020         M                         5.83   \n",
       "2    Andhra Pradesh   31-03-2020         M                         5.79   \n",
       "3    Andhra Pradesh   30-04-2020         M                        20.51   \n",
       "4    Andhra Pradesh   31-05-2020         M                        17.43   \n",
       "..              ...          ...       ...                          ...   \n",
       "262     West Bengal   30-06-2020         M                         7.29   \n",
       "263     West Bengal   31-07-2020         M                         6.83   \n",
       "264     West Bengal   31-08-2020         M                        14.87   \n",
       "265     West Bengal   30-09-2020         M                         9.35   \n",
       "266     West Bengal   31-10-2020         M                         9.98   \n",
       "\n",
       "     Estimated Employed  Estimated Labour Participation Rate Region  \\\n",
       "0              16635535                                41.02  South   \n",
       "1              16545652                                40.90  South   \n",
       "2              15881197                                39.18  South   \n",
       "3              11336911                                33.10  South   \n",
       "4              12988845                                36.46  South   \n",
       "..                  ...                                  ...    ...   \n",
       "262            30726310                                40.39   East   \n",
       "263            35372506                                46.17   East   \n",
       "264            33298644                                47.48   East   \n",
       "265            35707239                                47.73   East   \n",
       "266            33962549                                45.63   East   \n",
       "\n",
       "     longitude  latitude  \n",
       "0      15.9129    79.740  \n",
       "1      15.9129    79.740  \n",
       "2      15.9129    79.740  \n",
       "3      15.9129    79.740  \n",
       "4      15.9129    79.740  \n",
       "..         ...       ...  \n",
       "262    22.9868    87.855  \n",
       "263    22.9868    87.855  \n",
       "264    22.9868    87.855  \n",
       "265    22.9868    87.855  \n",
       "266    22.9868    87.855  \n",
       "\n",
       "[267 rows x 9 columns]"
      ]
     },
     "execution_count": 17,
     "metadata": {},
     "output_type": "execute_result"
    }
   ],
   "source": [
    "dk"
   ]
  },
  {
   "cell_type": "code",
   "execution_count": 18,
   "id": "1eba9cdf",
   "metadata": {},
   "outputs": [
    {
     "name": "stdout",
     "output_type": "stream",
     "text": [
      "             States         Date Frequency  Estimated Unemployment Rate  \\\n",
      "0    Andhra Pradesh   31-01-2020         M                         5.48   \n",
      "1    Andhra Pradesh   29-02-2020         M                         5.83   \n",
      "2    Andhra Pradesh   31-03-2020         M                         5.79   \n",
      "3    Andhra Pradesh   30-04-2020         M                        20.51   \n",
      "4    Andhra Pradesh   31-05-2020         M                        17.43   \n",
      "..              ...          ...       ...                          ...   \n",
      "262     West Bengal   30-06-2020         M                         7.29   \n",
      "263     West Bengal   31-07-2020         M                         6.83   \n",
      "264     West Bengal   31-08-2020         M                        14.87   \n",
      "265     West Bengal   30-09-2020         M                         9.35   \n",
      "266     West Bengal   31-10-2020         M                         9.98   \n",
      "\n",
      "     Estimated Employed  Estimated Labour Participation Rate Region  \\\n",
      "0              16635535                                41.02  South   \n",
      "1              16545652                                40.90  South   \n",
      "2              15881197                                39.18  South   \n",
      "3              11336911                                33.10  South   \n",
      "4              12988845                                36.46  South   \n",
      "..                  ...                                  ...    ...   \n",
      "262            30726310                                40.39   East   \n",
      "263            35372506                                46.17   East   \n",
      "264            33298644                                47.48   East   \n",
      "265            35707239                                47.73   East   \n",
      "266            33962549                                45.63   East   \n",
      "\n",
      "     longitude  latitude  \n",
      "0      15.9129    79.740  \n",
      "1      15.9129    79.740  \n",
      "2      15.9129    79.740  \n",
      "3      15.9129    79.740  \n",
      "4      15.9129    79.740  \n",
      "..         ...       ...  \n",
      "262    22.9868    87.855  \n",
      "263    22.9868    87.855  \n",
      "264    22.9868    87.855  \n",
      "265    22.9868    87.855  \n",
      "266    22.9868    87.855  \n",
      "\n",
      "[267 rows x 9 columns]\n"
     ]
    }
   ],
   "source": [
    "print(dk)"
   ]
  },
  {
   "cell_type": "code",
   "execution_count": 19,
   "id": "a6cc351e",
   "metadata": {},
   "outputs": [],
   "source": [
    "dk[['Day','Month','Year']]=dk['Date'].str.split('-',expand=True)"
   ]
  },
  {
   "cell_type": "code",
   "execution_count": 20,
   "id": "6268f053",
   "metadata": {},
   "outputs": [
    {
     "data": {
      "text/html": [
       "<div>\n",
       "<style scoped>\n",
       "    .dataframe tbody tr th:only-of-type {\n",
       "        vertical-align: middle;\n",
       "    }\n",
       "\n",
       "    .dataframe tbody tr th {\n",
       "        vertical-align: top;\n",
       "    }\n",
       "\n",
       "    .dataframe thead th {\n",
       "        text-align: right;\n",
       "    }\n",
       "</style>\n",
       "<table border=\"1\" class=\"dataframe\">\n",
       "  <thead>\n",
       "    <tr style=\"text-align: right;\">\n",
       "      <th></th>\n",
       "      <th>States</th>\n",
       "      <th>Date</th>\n",
       "      <th>Frequency</th>\n",
       "      <th>Estimated Unemployment Rate</th>\n",
       "      <th>Estimated Employed</th>\n",
       "      <th>Estimated Labour Participation Rate</th>\n",
       "      <th>Region</th>\n",
       "      <th>longitude</th>\n",
       "      <th>latitude</th>\n",
       "      <th>Day</th>\n",
       "      <th>Month</th>\n",
       "      <th>Year</th>\n",
       "    </tr>\n",
       "  </thead>\n",
       "  <tbody>\n",
       "    <tr>\n",
       "      <th>0</th>\n",
       "      <td>Andhra Pradesh</td>\n",
       "      <td>31-01-2020</td>\n",
       "      <td>M</td>\n",
       "      <td>5.48</td>\n",
       "      <td>16635535</td>\n",
       "      <td>41.02</td>\n",
       "      <td>South</td>\n",
       "      <td>15.9129</td>\n",
       "      <td>79.740</td>\n",
       "      <td>31</td>\n",
       "      <td>01</td>\n",
       "      <td>2020</td>\n",
       "    </tr>\n",
       "    <tr>\n",
       "      <th>1</th>\n",
       "      <td>Andhra Pradesh</td>\n",
       "      <td>29-02-2020</td>\n",
       "      <td>M</td>\n",
       "      <td>5.83</td>\n",
       "      <td>16545652</td>\n",
       "      <td>40.90</td>\n",
       "      <td>South</td>\n",
       "      <td>15.9129</td>\n",
       "      <td>79.740</td>\n",
       "      <td>29</td>\n",
       "      <td>02</td>\n",
       "      <td>2020</td>\n",
       "    </tr>\n",
       "    <tr>\n",
       "      <th>2</th>\n",
       "      <td>Andhra Pradesh</td>\n",
       "      <td>31-03-2020</td>\n",
       "      <td>M</td>\n",
       "      <td>5.79</td>\n",
       "      <td>15881197</td>\n",
       "      <td>39.18</td>\n",
       "      <td>South</td>\n",
       "      <td>15.9129</td>\n",
       "      <td>79.740</td>\n",
       "      <td>31</td>\n",
       "      <td>03</td>\n",
       "      <td>2020</td>\n",
       "    </tr>\n",
       "    <tr>\n",
       "      <th>3</th>\n",
       "      <td>Andhra Pradesh</td>\n",
       "      <td>30-04-2020</td>\n",
       "      <td>M</td>\n",
       "      <td>20.51</td>\n",
       "      <td>11336911</td>\n",
       "      <td>33.10</td>\n",
       "      <td>South</td>\n",
       "      <td>15.9129</td>\n",
       "      <td>79.740</td>\n",
       "      <td>30</td>\n",
       "      <td>04</td>\n",
       "      <td>2020</td>\n",
       "    </tr>\n",
       "    <tr>\n",
       "      <th>4</th>\n",
       "      <td>Andhra Pradesh</td>\n",
       "      <td>31-05-2020</td>\n",
       "      <td>M</td>\n",
       "      <td>17.43</td>\n",
       "      <td>12988845</td>\n",
       "      <td>36.46</td>\n",
       "      <td>South</td>\n",
       "      <td>15.9129</td>\n",
       "      <td>79.740</td>\n",
       "      <td>31</td>\n",
       "      <td>05</td>\n",
       "      <td>2020</td>\n",
       "    </tr>\n",
       "    <tr>\n",
       "      <th>...</th>\n",
       "      <td>...</td>\n",
       "      <td>...</td>\n",
       "      <td>...</td>\n",
       "      <td>...</td>\n",
       "      <td>...</td>\n",
       "      <td>...</td>\n",
       "      <td>...</td>\n",
       "      <td>...</td>\n",
       "      <td>...</td>\n",
       "      <td>...</td>\n",
       "      <td>...</td>\n",
       "      <td>...</td>\n",
       "    </tr>\n",
       "    <tr>\n",
       "      <th>262</th>\n",
       "      <td>West Bengal</td>\n",
       "      <td>30-06-2020</td>\n",
       "      <td>M</td>\n",
       "      <td>7.29</td>\n",
       "      <td>30726310</td>\n",
       "      <td>40.39</td>\n",
       "      <td>East</td>\n",
       "      <td>22.9868</td>\n",
       "      <td>87.855</td>\n",
       "      <td>30</td>\n",
       "      <td>06</td>\n",
       "      <td>2020</td>\n",
       "    </tr>\n",
       "    <tr>\n",
       "      <th>263</th>\n",
       "      <td>West Bengal</td>\n",
       "      <td>31-07-2020</td>\n",
       "      <td>M</td>\n",
       "      <td>6.83</td>\n",
       "      <td>35372506</td>\n",
       "      <td>46.17</td>\n",
       "      <td>East</td>\n",
       "      <td>22.9868</td>\n",
       "      <td>87.855</td>\n",
       "      <td>31</td>\n",
       "      <td>07</td>\n",
       "      <td>2020</td>\n",
       "    </tr>\n",
       "    <tr>\n",
       "      <th>264</th>\n",
       "      <td>West Bengal</td>\n",
       "      <td>31-08-2020</td>\n",
       "      <td>M</td>\n",
       "      <td>14.87</td>\n",
       "      <td>33298644</td>\n",
       "      <td>47.48</td>\n",
       "      <td>East</td>\n",
       "      <td>22.9868</td>\n",
       "      <td>87.855</td>\n",
       "      <td>31</td>\n",
       "      <td>08</td>\n",
       "      <td>2020</td>\n",
       "    </tr>\n",
       "    <tr>\n",
       "      <th>265</th>\n",
       "      <td>West Bengal</td>\n",
       "      <td>30-09-2020</td>\n",
       "      <td>M</td>\n",
       "      <td>9.35</td>\n",
       "      <td>35707239</td>\n",
       "      <td>47.73</td>\n",
       "      <td>East</td>\n",
       "      <td>22.9868</td>\n",
       "      <td>87.855</td>\n",
       "      <td>30</td>\n",
       "      <td>09</td>\n",
       "      <td>2020</td>\n",
       "    </tr>\n",
       "    <tr>\n",
       "      <th>266</th>\n",
       "      <td>West Bengal</td>\n",
       "      <td>31-10-2020</td>\n",
       "      <td>M</td>\n",
       "      <td>9.98</td>\n",
       "      <td>33962549</td>\n",
       "      <td>45.63</td>\n",
       "      <td>East</td>\n",
       "      <td>22.9868</td>\n",
       "      <td>87.855</td>\n",
       "      <td>31</td>\n",
       "      <td>10</td>\n",
       "      <td>2020</td>\n",
       "    </tr>\n",
       "  </tbody>\n",
       "</table>\n",
       "<p>267 rows × 12 columns</p>\n",
       "</div>"
      ],
      "text/plain": [
       "             States         Date Frequency  Estimated Unemployment Rate  \\\n",
       "0    Andhra Pradesh   31-01-2020         M                         5.48   \n",
       "1    Andhra Pradesh   29-02-2020         M                         5.83   \n",
       "2    Andhra Pradesh   31-03-2020         M                         5.79   \n",
       "3    Andhra Pradesh   30-04-2020         M                        20.51   \n",
       "4    Andhra Pradesh   31-05-2020         M                        17.43   \n",
       "..              ...          ...       ...                          ...   \n",
       "262     West Bengal   30-06-2020         M                         7.29   \n",
       "263     West Bengal   31-07-2020         M                         6.83   \n",
       "264     West Bengal   31-08-2020         M                        14.87   \n",
       "265     West Bengal   30-09-2020         M                         9.35   \n",
       "266     West Bengal   31-10-2020         M                         9.98   \n",
       "\n",
       "     Estimated Employed  Estimated Labour Participation Rate Region  \\\n",
       "0              16635535                                41.02  South   \n",
       "1              16545652                                40.90  South   \n",
       "2              15881197                                39.18  South   \n",
       "3              11336911                                33.10  South   \n",
       "4              12988845                                36.46  South   \n",
       "..                  ...                                  ...    ...   \n",
       "262            30726310                                40.39   East   \n",
       "263            35372506                                46.17   East   \n",
       "264            33298644                                47.48   East   \n",
       "265            35707239                                47.73   East   \n",
       "266            33962549                                45.63   East   \n",
       "\n",
       "     longitude  latitude  Day Month  Year  \n",
       "0      15.9129    79.740   31    01  2020  \n",
       "1      15.9129    79.740   29    02  2020  \n",
       "2      15.9129    79.740   31    03  2020  \n",
       "3      15.9129    79.740   30    04  2020  \n",
       "4      15.9129    79.740   31    05  2020  \n",
       "..         ...       ...  ...   ...   ...  \n",
       "262    22.9868    87.855   30    06  2020  \n",
       "263    22.9868    87.855   31    07  2020  \n",
       "264    22.9868    87.855   31    08  2020  \n",
       "265    22.9868    87.855   30    09  2020  \n",
       "266    22.9868    87.855   31    10  2020  \n",
       "\n",
       "[267 rows x 12 columns]"
      ]
     },
     "execution_count": 20,
     "metadata": {},
     "output_type": "execute_result"
    }
   ],
   "source": [
    "dk"
   ]
  },
  {
   "cell_type": "code",
   "execution_count": 21,
   "id": "5d23071e",
   "metadata": {},
   "outputs": [
    {
     "data": {
      "text/html": [
       "<div>\n",
       "<style scoped>\n",
       "    .dataframe tbody tr th:only-of-type {\n",
       "        vertical-align: middle;\n",
       "    }\n",
       "\n",
       "    .dataframe tbody tr th {\n",
       "        vertical-align: top;\n",
       "    }\n",
       "\n",
       "    .dataframe thead th {\n",
       "        text-align: right;\n",
       "    }\n",
       "</style>\n",
       "<table border=\"1\" class=\"dataframe\">\n",
       "  <thead>\n",
       "    <tr style=\"text-align: right;\">\n",
       "      <th></th>\n",
       "      <th>States</th>\n",
       "      <th>Date</th>\n",
       "      <th>Estimated Unemployment Rate</th>\n",
       "      <th>Estimated Employed</th>\n",
       "      <th>Estimated Labour Participation Rate</th>\n",
       "      <th>Region</th>\n",
       "      <th>longitude</th>\n",
       "      <th>latitude</th>\n",
       "      <th>Day</th>\n",
       "      <th>Month</th>\n",
       "      <th>Year</th>\n",
       "    </tr>\n",
       "  </thead>\n",
       "  <tbody>\n",
       "    <tr>\n",
       "      <th>0</th>\n",
       "      <td>Andhra Pradesh</td>\n",
       "      <td>31-01-2020</td>\n",
       "      <td>5.48</td>\n",
       "      <td>16635535</td>\n",
       "      <td>41.02</td>\n",
       "      <td>South</td>\n",
       "      <td>15.9129</td>\n",
       "      <td>79.740</td>\n",
       "      <td>31</td>\n",
       "      <td>01</td>\n",
       "      <td>2020</td>\n",
       "    </tr>\n",
       "    <tr>\n",
       "      <th>1</th>\n",
       "      <td>Andhra Pradesh</td>\n",
       "      <td>29-02-2020</td>\n",
       "      <td>5.83</td>\n",
       "      <td>16545652</td>\n",
       "      <td>40.90</td>\n",
       "      <td>South</td>\n",
       "      <td>15.9129</td>\n",
       "      <td>79.740</td>\n",
       "      <td>29</td>\n",
       "      <td>02</td>\n",
       "      <td>2020</td>\n",
       "    </tr>\n",
       "    <tr>\n",
       "      <th>2</th>\n",
       "      <td>Andhra Pradesh</td>\n",
       "      <td>31-03-2020</td>\n",
       "      <td>5.79</td>\n",
       "      <td>15881197</td>\n",
       "      <td>39.18</td>\n",
       "      <td>South</td>\n",
       "      <td>15.9129</td>\n",
       "      <td>79.740</td>\n",
       "      <td>31</td>\n",
       "      <td>03</td>\n",
       "      <td>2020</td>\n",
       "    </tr>\n",
       "    <tr>\n",
       "      <th>3</th>\n",
       "      <td>Andhra Pradesh</td>\n",
       "      <td>30-04-2020</td>\n",
       "      <td>20.51</td>\n",
       "      <td>11336911</td>\n",
       "      <td>33.10</td>\n",
       "      <td>South</td>\n",
       "      <td>15.9129</td>\n",
       "      <td>79.740</td>\n",
       "      <td>30</td>\n",
       "      <td>04</td>\n",
       "      <td>2020</td>\n",
       "    </tr>\n",
       "    <tr>\n",
       "      <th>4</th>\n",
       "      <td>Andhra Pradesh</td>\n",
       "      <td>31-05-2020</td>\n",
       "      <td>17.43</td>\n",
       "      <td>12988845</td>\n",
       "      <td>36.46</td>\n",
       "      <td>South</td>\n",
       "      <td>15.9129</td>\n",
       "      <td>79.740</td>\n",
       "      <td>31</td>\n",
       "      <td>05</td>\n",
       "      <td>2020</td>\n",
       "    </tr>\n",
       "    <tr>\n",
       "      <th>...</th>\n",
       "      <td>...</td>\n",
       "      <td>...</td>\n",
       "      <td>...</td>\n",
       "      <td>...</td>\n",
       "      <td>...</td>\n",
       "      <td>...</td>\n",
       "      <td>...</td>\n",
       "      <td>...</td>\n",
       "      <td>...</td>\n",
       "      <td>...</td>\n",
       "      <td>...</td>\n",
       "    </tr>\n",
       "    <tr>\n",
       "      <th>262</th>\n",
       "      <td>West Bengal</td>\n",
       "      <td>30-06-2020</td>\n",
       "      <td>7.29</td>\n",
       "      <td>30726310</td>\n",
       "      <td>40.39</td>\n",
       "      <td>East</td>\n",
       "      <td>22.9868</td>\n",
       "      <td>87.855</td>\n",
       "      <td>30</td>\n",
       "      <td>06</td>\n",
       "      <td>2020</td>\n",
       "    </tr>\n",
       "    <tr>\n",
       "      <th>263</th>\n",
       "      <td>West Bengal</td>\n",
       "      <td>31-07-2020</td>\n",
       "      <td>6.83</td>\n",
       "      <td>35372506</td>\n",
       "      <td>46.17</td>\n",
       "      <td>East</td>\n",
       "      <td>22.9868</td>\n",
       "      <td>87.855</td>\n",
       "      <td>31</td>\n",
       "      <td>07</td>\n",
       "      <td>2020</td>\n",
       "    </tr>\n",
       "    <tr>\n",
       "      <th>264</th>\n",
       "      <td>West Bengal</td>\n",
       "      <td>31-08-2020</td>\n",
       "      <td>14.87</td>\n",
       "      <td>33298644</td>\n",
       "      <td>47.48</td>\n",
       "      <td>East</td>\n",
       "      <td>22.9868</td>\n",
       "      <td>87.855</td>\n",
       "      <td>31</td>\n",
       "      <td>08</td>\n",
       "      <td>2020</td>\n",
       "    </tr>\n",
       "    <tr>\n",
       "      <th>265</th>\n",
       "      <td>West Bengal</td>\n",
       "      <td>30-09-2020</td>\n",
       "      <td>9.35</td>\n",
       "      <td>35707239</td>\n",
       "      <td>47.73</td>\n",
       "      <td>East</td>\n",
       "      <td>22.9868</td>\n",
       "      <td>87.855</td>\n",
       "      <td>30</td>\n",
       "      <td>09</td>\n",
       "      <td>2020</td>\n",
       "    </tr>\n",
       "    <tr>\n",
       "      <th>266</th>\n",
       "      <td>West Bengal</td>\n",
       "      <td>31-10-2020</td>\n",
       "      <td>9.98</td>\n",
       "      <td>33962549</td>\n",
       "      <td>45.63</td>\n",
       "      <td>East</td>\n",
       "      <td>22.9868</td>\n",
       "      <td>87.855</td>\n",
       "      <td>31</td>\n",
       "      <td>10</td>\n",
       "      <td>2020</td>\n",
       "    </tr>\n",
       "  </tbody>\n",
       "</table>\n",
       "<p>267 rows × 11 columns</p>\n",
       "</div>"
      ],
      "text/plain": [
       "             States         Date  Estimated Unemployment Rate  \\\n",
       "0    Andhra Pradesh   31-01-2020                         5.48   \n",
       "1    Andhra Pradesh   29-02-2020                         5.83   \n",
       "2    Andhra Pradesh   31-03-2020                         5.79   \n",
       "3    Andhra Pradesh   30-04-2020                        20.51   \n",
       "4    Andhra Pradesh   31-05-2020                        17.43   \n",
       "..              ...          ...                          ...   \n",
       "262     West Bengal   30-06-2020                         7.29   \n",
       "263     West Bengal   31-07-2020                         6.83   \n",
       "264     West Bengal   31-08-2020                        14.87   \n",
       "265     West Bengal   30-09-2020                         9.35   \n",
       "266     West Bengal   31-10-2020                         9.98   \n",
       "\n",
       "     Estimated Employed  Estimated Labour Participation Rate Region  \\\n",
       "0              16635535                                41.02  South   \n",
       "1              16545652                                40.90  South   \n",
       "2              15881197                                39.18  South   \n",
       "3              11336911                                33.10  South   \n",
       "4              12988845                                36.46  South   \n",
       "..                  ...                                  ...    ...   \n",
       "262            30726310                                40.39   East   \n",
       "263            35372506                                46.17   East   \n",
       "264            33298644                                47.48   East   \n",
       "265            35707239                                47.73   East   \n",
       "266            33962549                                45.63   East   \n",
       "\n",
       "     longitude  latitude  Day Month  Year  \n",
       "0      15.9129    79.740   31    01  2020  \n",
       "1      15.9129    79.740   29    02  2020  \n",
       "2      15.9129    79.740   31    03  2020  \n",
       "3      15.9129    79.740   30    04  2020  \n",
       "4      15.9129    79.740   31    05  2020  \n",
       "..         ...       ...  ...   ...   ...  \n",
       "262    22.9868    87.855   30    06  2020  \n",
       "263    22.9868    87.855   31    07  2020  \n",
       "264    22.9868    87.855   31    08  2020  \n",
       "265    22.9868    87.855   30    09  2020  \n",
       "266    22.9868    87.855   31    10  2020  \n",
       "\n",
       "[267 rows x 11 columns]"
      ]
     },
     "execution_count": 21,
     "metadata": {},
     "output_type": "execute_result"
    }
   ],
   "source": [
    "dk.drop(columns=['Frequency'],axis=0,inplace=True)\n",
    "dk"
   ]
  },
  {
   "cell_type": "code",
   "execution_count": 22,
   "id": "bfa236f8",
   "metadata": {},
   "outputs": [
    {
     "data": {
      "text/html": [
       "<div>\n",
       "<style scoped>\n",
       "    .dataframe tbody tr th:only-of-type {\n",
       "        vertical-align: middle;\n",
       "    }\n",
       "\n",
       "    .dataframe tbody tr th {\n",
       "        vertical-align: top;\n",
       "    }\n",
       "\n",
       "    .dataframe thead th {\n",
       "        text-align: right;\n",
       "    }\n",
       "</style>\n",
       "<table border=\"1\" class=\"dataframe\">\n",
       "  <thead>\n",
       "    <tr style=\"text-align: right;\">\n",
       "      <th></th>\n",
       "      <th>States</th>\n",
       "      <th>Date</th>\n",
       "      <th>Estimated Unemployment Rate</th>\n",
       "      <th>Estimated Employed</th>\n",
       "      <th>Estimated Labour Participation Rate</th>\n",
       "      <th>Region</th>\n",
       "      <th>longitude</th>\n",
       "      <th>latitude</th>\n",
       "      <th>Day</th>\n",
       "      <th>Month</th>\n",
       "      <th>Year</th>\n",
       "    </tr>\n",
       "  </thead>\n",
       "  <tbody>\n",
       "    <tr>\n",
       "      <th>0</th>\n",
       "      <td>Andhra Pradesh</td>\n",
       "      <td>31-01-2020</td>\n",
       "      <td>5.48</td>\n",
       "      <td>16635535</td>\n",
       "      <td>41.02</td>\n",
       "      <td>South</td>\n",
       "      <td>15.9129</td>\n",
       "      <td>79.74</td>\n",
       "      <td>31</td>\n",
       "      <td>01</td>\n",
       "      <td>2020</td>\n",
       "    </tr>\n",
       "    <tr>\n",
       "      <th>1</th>\n",
       "      <td>Andhra Pradesh</td>\n",
       "      <td>29-02-2020</td>\n",
       "      <td>5.83</td>\n",
       "      <td>16545652</td>\n",
       "      <td>40.90</td>\n",
       "      <td>South</td>\n",
       "      <td>15.9129</td>\n",
       "      <td>79.74</td>\n",
       "      <td>29</td>\n",
       "      <td>02</td>\n",
       "      <td>2020</td>\n",
       "    </tr>\n",
       "    <tr>\n",
       "      <th>2</th>\n",
       "      <td>Andhra Pradesh</td>\n",
       "      <td>31-03-2020</td>\n",
       "      <td>5.79</td>\n",
       "      <td>15881197</td>\n",
       "      <td>39.18</td>\n",
       "      <td>South</td>\n",
       "      <td>15.9129</td>\n",
       "      <td>79.74</td>\n",
       "      <td>31</td>\n",
       "      <td>03</td>\n",
       "      <td>2020</td>\n",
       "    </tr>\n",
       "    <tr>\n",
       "      <th>3</th>\n",
       "      <td>Andhra Pradesh</td>\n",
       "      <td>30-04-2020</td>\n",
       "      <td>20.51</td>\n",
       "      <td>11336911</td>\n",
       "      <td>33.10</td>\n",
       "      <td>South</td>\n",
       "      <td>15.9129</td>\n",
       "      <td>79.74</td>\n",
       "      <td>30</td>\n",
       "      <td>04</td>\n",
       "      <td>2020</td>\n",
       "    </tr>\n",
       "    <tr>\n",
       "      <th>4</th>\n",
       "      <td>Andhra Pradesh</td>\n",
       "      <td>31-05-2020</td>\n",
       "      <td>17.43</td>\n",
       "      <td>12988845</td>\n",
       "      <td>36.46</td>\n",
       "      <td>South</td>\n",
       "      <td>15.9129</td>\n",
       "      <td>79.74</td>\n",
       "      <td>31</td>\n",
       "      <td>05</td>\n",
       "      <td>2020</td>\n",
       "    </tr>\n",
       "    <tr>\n",
       "      <th>5</th>\n",
       "      <td>Andhra Pradesh</td>\n",
       "      <td>30-06-2020</td>\n",
       "      <td>3.31</td>\n",
       "      <td>19805400</td>\n",
       "      <td>47.41</td>\n",
       "      <td>South</td>\n",
       "      <td>15.9129</td>\n",
       "      <td>79.74</td>\n",
       "      <td>30</td>\n",
       "      <td>06</td>\n",
       "      <td>2020</td>\n",
       "    </tr>\n",
       "    <tr>\n",
       "      <th>6</th>\n",
       "      <td>Andhra Pradesh</td>\n",
       "      <td>31-07-2020</td>\n",
       "      <td>8.34</td>\n",
       "      <td>15431615</td>\n",
       "      <td>38.91</td>\n",
       "      <td>South</td>\n",
       "      <td>15.9129</td>\n",
       "      <td>79.74</td>\n",
       "      <td>31</td>\n",
       "      <td>07</td>\n",
       "      <td>2020</td>\n",
       "    </tr>\n",
       "    <tr>\n",
       "      <th>7</th>\n",
       "      <td>Andhra Pradesh</td>\n",
       "      <td>31-08-2020</td>\n",
       "      <td>6.96</td>\n",
       "      <td>15251776</td>\n",
       "      <td>37.83</td>\n",
       "      <td>South</td>\n",
       "      <td>15.9129</td>\n",
       "      <td>79.74</td>\n",
       "      <td>31</td>\n",
       "      <td>08</td>\n",
       "      <td>2020</td>\n",
       "    </tr>\n",
       "  </tbody>\n",
       "</table>\n",
       "</div>"
      ],
      "text/plain": [
       "           States         Date  Estimated Unemployment Rate  \\\n",
       "0  Andhra Pradesh   31-01-2020                         5.48   \n",
       "1  Andhra Pradesh   29-02-2020                         5.83   \n",
       "2  Andhra Pradesh   31-03-2020                         5.79   \n",
       "3  Andhra Pradesh   30-04-2020                        20.51   \n",
       "4  Andhra Pradesh   31-05-2020                        17.43   \n",
       "5  Andhra Pradesh   30-06-2020                         3.31   \n",
       "6  Andhra Pradesh   31-07-2020                         8.34   \n",
       "7  Andhra Pradesh   31-08-2020                         6.96   \n",
       "\n",
       "   Estimated Employed  Estimated Labour Participation Rate Region  longitude  \\\n",
       "0            16635535                                41.02  South    15.9129   \n",
       "1            16545652                                40.90  South    15.9129   \n",
       "2            15881197                                39.18  South    15.9129   \n",
       "3            11336911                                33.10  South    15.9129   \n",
       "4            12988845                                36.46  South    15.9129   \n",
       "5            19805400                                47.41  South    15.9129   \n",
       "6            15431615                                38.91  South    15.9129   \n",
       "7            15251776                                37.83  South    15.9129   \n",
       "\n",
       "   latitude  Day Month  Year  \n",
       "0     79.74   31    01  2020  \n",
       "1     79.74   29    02  2020  \n",
       "2     79.74   31    03  2020  \n",
       "3     79.74   30    04  2020  \n",
       "4     79.74   31    05  2020  \n",
       "5     79.74   30    06  2020  \n",
       "6     79.74   31    07  2020  \n",
       "7     79.74   31    08  2020  "
      ]
     },
     "execution_count": 22,
     "metadata": {},
     "output_type": "execute_result"
    }
   ],
   "source": [
    "dk[:8]"
   ]
  },
  {
   "cell_type": "code",
   "execution_count": 23,
   "id": "4f7dec5f",
   "metadata": {},
   "outputs": [
    {
     "name": "stderr",
     "output_type": "stream",
     "text": [
      "C:\\Users\\arpit\\AppData\\Local\\Temp\\ipykernel_18072\\3754203172.py:1: FutureWarning: The default value of numeric_only in DataFrame.corr is deprecated. In a future version, it will default to False. Select only valid columns or specify the value of numeric_only to silence this warning.\n",
      "  sns.heatmap(dk.corr(),annot=True)\n"
     ]
    },
    {
     "data": {
      "image/png": "[encoded data removed]",
      "text/plain": [
       "<Figure size 640x480 with 2 Axes>"
      ]
     },
     "metadata": {},
     "output_type": "display_data"
    }
   ],
   "source": [
    "sns.heatmap(dk.corr(),annot=True)\n",
    "plt.show()"
   ]
  },
  {
   "cell_type": "markdown",
   "id": "c1a5c2f8",
   "metadata": {},
   "source": [
    "## Analysing data by histogram plot"
   ]
  },
  {
   "cell_type": "code",
   "execution_count": 24,
   "id": "c164b53f",
   "metadata": {},
   "outputs": [
    {
     "data": {
      "text/plain": [
       "North        79\n",
       "South        60\n",
       "West         50\n",
       "East         40\n",
       "Northeast    38\n",
       "Name: Region, dtype: int64"
      ]
     },
     "execution_count": 24,
     "metadata": {},
     "output_type": "execute_result"
    }
   ],
   "source": [
    "dk.Region.value_counts()"
   ]
  },
  {
   "cell_type": "code",
   "execution_count": 25,
   "id": "84d97613",
   "metadata": {},
   "outputs": [
    {
     "data": {
      "image/png": "[encoded data removed]",
      "text/plain": [
       "<Figure size 640x480 with 1 Axes>"
      ]
     },
     "metadata": {},
     "output_type": "display_data"
    }
   ],
   "source": [
    "dk.columns\n",
    "plt.title('Indian Unemployment')\n",
    "sns.histplot(x=\"Estimated Employed\",hue=\"Region\",data=dk)\n",
    "plt.show()"
   ]
  },
  {
   "cell_type": "code",
   "execution_count": 26,
   "id": "83836373",
   "metadata": {},
   "outputs": [
    {
     "data": {
      "image/png": "[encoded data removed]",
      "text/plain": [
       "<Figure size 500x600 with 1 Axes>"
      ]
     },
     "metadata": {},
     "output_type": "display_data"
    }
   ],
   "source": [
    "plt.figure(figsize=(5,6))\n",
    "plt.title('Indian Unemployment')\n",
    "sns.histplot(x=\"Estimated Unemployment Rate\",hue=\"Region\",data=dk)\n",
    "plt.show()"
   ]
  },
  {
   "cell_type": "code",
   "execution_count": 2,
   "id": "78146814",
   "metadata": {},
   "outputs": [
    {
     "ename": "NameError",
     "evalue": "name 'dk' is not defined",
     "output_type": "error",
     "traceback": [
      "\u001b[1;31m---------------------------------------------------------------------------\u001b[0m",
      "\u001b[1;31mNameError\u001b[0m                                 Traceback (most recent call last)",
      "Cell \u001b[1;32mIn[2], line 1\u001b[0m\n\u001b[1;32m----> 1\u001b[0m fg\u001b[38;5;241m=\u001b[39mdk\u001b[38;5;241m.\u001b[39mhistogram(dk,x\u001b[38;5;241m=\u001b[39m\u001b[38;5;124m'\u001b[39m\u001b[38;5;124mStates\u001b[39m\u001b[38;5;124m'\u001b[39m,y\u001b[38;5;241m=\u001b[39m\u001b[38;5;124m'\u001b[39m\u001b[38;5;124mEstimated Unemployment Rate\u001b[39m\u001b[38;5;124m'\u001b[39m,title\u001b[38;5;241m=\u001b[39m\u001b[38;5;124m'\u001b[39m\u001b[38;5;124mIndian unemployment rate(state-wise)\u001b[39m\u001b[38;5;124m'\u001b[39m,template\u001b[38;5;241m=\u001b[39m\u001b[38;5;124m'\u001b[39m\u001b[38;5;124mplotly\u001b[39m\u001b[38;5;124m'\u001b[39m,color\u001b[38;5;241m=\u001b[39m\u001b[38;5;124m'\u001b[39m\u001b[38;5;124mStates\u001b[39m\u001b[38;5;124m'\u001b[39m)\n\u001b[0;32m      2\u001b[0m fg\u001b[38;5;241m.\u001b[39mupdate_layout(xaxis\u001b[38;5;241m=\u001b[39m{\u001b[38;5;124m'\u001b[39m\u001b[38;5;124mcategoryorder\u001b[39m\u001b[38;5;124m'\u001b[39m:\u001b[38;5;124m'\u001b[39m\u001b[38;5;124mtotal descending\u001b[39m\u001b[38;5;124m'\u001b[39m})\n\u001b[0;32m      3\u001b[0m fg\u001b[38;5;241m.\u001b[39mshow()\n",
      "\u001b[1;31mNameError\u001b[0m: name 'dk' is not defined"
     ]
    }
   ],
   "source": [
    "fg=dk.histogram(dk,x='States',y='Estimated Unemployment Rate',title='Indian unemployment rate(state-wise)',template='plotly',color='States')\n",
    "fg.update_layout(xaxis={'categoryorder':'total descending'})\n",
    "fg.show()"
   ]
  },
  {
   "cell_type": "code",
   "execution_count": 28,
   "id": "3d299bfc",
   "metadata": {},
   "outputs": [
    {
     "data": {
      "application/vnd.plotly.v1+json": {
       "config": {
        "plotlyServerURL": "https://plot.ly"
       },
       "data": [
        {
         "alignmentgroup": "True",
         "bingroup": "x",
         "histfunc": "sum",
         "hovertemplate": "Region=%{x}<br>sum of Estimated Unemployment Rate=%{y}<extra></extra>",
         "legendgroup": "South",
         "marker": {
          "color": "#636efa",
          "pattern": {
           "shape": ""
          }
         },
         "name": "South",
         "offsetgroup": "South",
         "orientation": "v",
         "showlegend": true,
         "type": "histogram",
         "x": [
          "South",
          "South",
          "South",
          "South",
          "South",
          "South",
          "South",
          "South",
          "South",
          "South",
          "South",
          "South",
          "South",
          "South",
          "South",
          "South",
          "South",
          "South",
          "South",
          "South",
          "South",
          "South",
          "South",
          "South",
          "South",
          "South",
          "South",
          "South",
          "South",
          "South",
          "South",
          "South",
          "South",
          "South",
          "South",
          "South",
          "South",
          "South",
          "South",
          "South",
          "South",
          "South",
          "South",
          "South",
          "South",
          "South",
          "South",
          "South",
          "South",
          "South",
          "South",
          "South",
          "South",
          "South",
          "South",
          "South",
          "South",
          "South",
          "South",
          "South"
         ],
         "xaxis": "x",
         "y": [
          5.48,
          5.83,
          5.79,
          20.51,
          17.43,
          3.31,
          8.34,
          6.96,
          6.4,
          6.59,
          2.86,
          3.61,
          3.46,
          29.84,
          19.97,
          8.44,
          4.01,
          0.5,
          2.41,
          1.58,
          5.31,
          7.6,
          8.99,
          16.99,
          17.88,
          9.71,
          7.09,
          10.98,
          5.91,
          3.88,
          0.58,
          1.76,
          1.2,
          75.85,
          58.19,
          4.24,
          15.47,
          5.05,
          10.9,
          6.18,
          1.57,
          2.09,
          6.4,
          49.83,
          33.16,
          12.2,
          6.81,
          2.65,
          5,
          2.16,
          5.49,
          8.29,
          5.77,
          6.25,
          14.7,
          10.55,
          5.36,
          5.79,
          3.27,
          2.86
         ],
         "yaxis": "y"
        },
        {
         "alignmentgroup": "True",
         "bingroup": "x",
         "histfunc": "sum",
         "hovertemplate": "Region=%{x}<br>sum of Estimated Unemployment Rate=%{y}<extra></extra>",
         "legendgroup": "Northeast",
         "marker": {
          "color": "#EF553B",
          "pattern": {
           "shape": ""
          }
         },
         "name": "Northeast",
         "offsetgroup": "Northeast",
         "orientation": "v",
         "showlegend": true,
         "type": "histogram",
         "x": [
          "Northeast",
          "Northeast",
          "Northeast",
          "Northeast",
          "Northeast",
          "Northeast",
          "Northeast",
          "Northeast",
          "Northeast",
          "Northeast",
          "Northeast",
          "Northeast",
          "Northeast",
          "Northeast",
          "Northeast",
          "Northeast",
          "Northeast",
          "Northeast",
          "Northeast",
          "Northeast",
          "Northeast",
          "Northeast",
          "Northeast",
          "Northeast",
          "Northeast",
          "Northeast",
          "Northeast",
          "Northeast",
          "Northeast",
          "Northeast",
          "Northeast",
          "Northeast",
          "Northeast",
          "Northeast",
          "Northeast",
          "Northeast",
          "Northeast",
          "Northeast"
         ],
         "xaxis": "x",
         "y": [
          4.66,
          4.41,
          4.77,
          11.06,
          9.55,
          0.6,
          3.77,
          5.53,
          1.19,
          3.02,
          1.66,
          3.59,
          1.58,
          10.03,
          5.92,
          1.15,
          2.1,
          3.74,
          4.29,
          4.6,
          23.57,
          2.28,
          24.51,
          4.46,
          4.45,
          12.49,
          5.7,
          0.88,
          32.67,
          28.4,
          29.95,
          41.23,
          21.51,
          21.71,
          18.24,
          27.92,
          17.35,
          11.57
         ],
         "yaxis": "y"
        },
        {
         "alignmentgroup": "True",
         "bingroup": "x",
         "histfunc": "sum",
         "hovertemplate": "Region=%{x}<br>sum of Estimated Unemployment Rate=%{y}<extra></extra>",
         "legendgroup": "East",
         "marker": {
          "color": "#00cc96",
          "pattern": {
           "shape": ""
          }
         },
         "name": "East",
         "offsetgroup": "East",
         "orientation": "v",
         "showlegend": true,
         "type": "histogram",
         "x": [
          "East",
          "East",
          "East",
          "East",
          "East",
          "East",
          "East",
          "East",
          "East",
          "East",
          "East",
          "East",
          "East",
          "East",
          "East",
          "East",
          "East",
          "East",
          "East",
          "East",
          "East",
          "East",
          "East",
          "East",
          "East",
          "East",
          "East",
          "East",
          "East",
          "East",
          "East",
          "East",
          "East",
          "East",
          "East",
          "East",
          "East",
          "East",
          "East",
          "East"
         ],
         "xaxis": "x",
         "y": [
          10.61,
          10.29,
          15.43,
          46.64,
          45.96,
          17.82,
          12.79,
          13.44,
          11.91,
          9.82,
          10.61,
          11.85,
          8.23,
          47.09,
          59.23,
          20.95,
          7.63,
          9.76,
          8.24,
          11.8,
          1.9,
          3.12,
          13.08,
          23.76,
          11.41,
          3.77,
          1.88,
          1.42,
          2.1,
          2.18,
          6.94,
          4.92,
          6.92,
          17.41,
          17.41,
          7.29,
          6.83,
          14.87,
          9.35,
          9.98
         ],
         "yaxis": "y"
        },
        {
         "alignmentgroup": "True",
         "bingroup": "x",
         "histfunc": "sum",
         "hovertemplate": "Region=%{x}<br>sum of Estimated Unemployment Rate=%{y}<extra></extra>",
         "legendgroup": "West",
         "marker": {
          "color": "#ab63fa",
          "pattern": {
           "shape": ""
          }
         },
         "name": "West",
         "offsetgroup": "West",
         "orientation": "v",
         "showlegend": true,
         "type": "histogram",
         "x": [
          "West",
          "West",
          "West",
          "West",
          "West",
          "West",
          "West",
          "West",
          "West",
          "West",
          "West",
          "West",
          "West",
          "West",
          "West",
          "West",
          "West",
          "West",
          "West",
          "West",
          "West",
          "West",
          "West",
          "West",
          "West",
          "West",
          "West",
          "West",
          "West",
          "West",
          "West",
          "West",
          "West",
          "West",
          "West",
          "West",
          "West",
          "West",
          "West",
          "West",
          "West",
          "West",
          "West",
          "West",
          "West",
          "West",
          "West",
          "West",
          "West",
          "West"
         ],
         "xaxis": "x",
         "y": [
          9.65,
          8.38,
          7.54,
          3.41,
          10.5,
          14.23,
          10.27,
          5.63,
          1.96,
          6.62,
          8.89,
          2.81,
          5.25,
          13.31,
          21.25,
          9.96,
          17.07,
          16.21,
          15.38,
          11.54,
          5.54,
          6.38,
          6.66,
          18.71,
          12.11,
          3.2,
          1.84,
          1.87,
          3.42,
          4.03,
          4.11,
          4.57,
          2.22,
          12.36,
          21.98,
          6.48,
          5.08,
          4.7,
          3.91,
          3.13,
          4.95,
          4.69,
          5.79,
          20.9,
          15.46,
          9.23,
          3.89,
          6.23,
          4.55,
          4.1
         ],
         "yaxis": "y"
        },
        {
         "alignmentgroup": "True",
         "bingroup": "x",
         "histfunc": "sum",
         "hovertemplate": "Region=%{x}<br>sum of Estimated Unemployment Rate=%{y}<extra></extra>",
         "legendgroup": "North",
         "marker": {
          "color": "#FFA15A",
          "pattern": {
           "shape": ""
          }
         },
         "name": "North",
         "offsetgroup": "North",
         "orientation": "v",
         "showlegend": true,
         "type": "histogram",
         "x": [
          "North",
          "North",
          "North",
          "North",
          "North",
          "North",
          "North",
          "North",
          "North",
          "North",
          "North",
          "North",
          "North",
          "North",
          "North",
          "North",
          "North",
          "North",
          "North",
          "North",
          "North",
          "North",
          "North",
          "North",
          "North",
          "North",
          "North",
          "North",
          "North",
          "North",
          "North",
          "North",
          "North",
          "North",
          "North",
          "North",
          "North",
          "North",
          "North",
          "North",
          "North",
          "North",
          "North",
          "North",
          "North",
          "North",
          "North",
          "North",
          "North",
          "North",
          "North",
          "North",
          "North",
          "North",
          "North",
          "North",
          "North",
          "North",
          "North",
          "North",
          "North",
          "North",
          "North",
          "North",
          "North",
          "North",
          "North",
          "North",
          "North",
          "North",
          "North",
          "North",
          "North",
          "North",
          "North",
          "North",
          "North",
          "North",
          "North"
         ],
         "xaxis": "x",
         "y": [
          22.23,
          14.84,
          17.04,
          16.68,
          42.27,
          18.19,
          20.3,
          13.79,
          12.53,
          6.27,
          20.34,
          25.77,
          25.05,
          43.22,
          29.02,
          26.7,
          24.18,
          33.5,
          19.68,
          27.31,
          16.83,
          16.84,
          18.76,
          2.2,
          26.95,
          13.47,
          24.31,
          15.79,
          12.04,
          13.46,
          21.08,
          20.78,
          15.5,
          18.74,
          17.92,
          10.88,
          11.09,
          16.17,
          16.14,
          11.11,
          10.97,
          10.32,
          2.86,
          28.33,
          16.55,
          9.19,
          10.99,
          9.61,
          9.88,
          10.97,
          15.16,
          11.9,
          17.7,
          15.74,
          14.39,
          15.81,
          17.51,
          15.35,
          24.15,
          7.58,
          8.98,
          10.11,
          21.54,
          20.41,
          9.47,
          5.56,
          5.79,
          4.18,
          3.75,
          5.49,
          4.99,
          19.85,
          6.48,
          8.01,
          8.61,
          12.38,
          14.26,
          22.26,
          9.23
         ],
         "yaxis": "y"
        }
       ],
       "layout": {
        "barmode": "relative",
        "legend": {
         "title": {
          "text": "Region"
         },
         "tracegroupgap": 0
        },
        "template": {
         "data": {
          "bar": [
           {
            "error_x": {
             "color": "#2a3f5f"
            },
            "error_y": {
             "color": "#2a3f5f"
            },
            "marker": {
             "line": {
              "color": "#E5ECF6",
              "width": 0.5
             },
             "pattern": {
              "fillmode": "overlay",
              "size": 10,
              "solidity": 0.2
             }
            },
            "type": "bar"
           }
          ],
          "barpolar": [
           {
            "marker": {
             "line": {
              "color": "#E5ECF6",
              "width": 0.5
             },
             "pattern": {
              "fillmode": "overlay",
              "size": 10,
              "solidity": 0.2
             }
            },
            "type": "barpolar"
           }
          ],
          "carpet": [
           {
            "aaxis": {
             "endlinecolor": "#2a3f5f",
             "gridcolor": "white",
             "linecolor": "white",
             "minorgridcolor": "white",
             "startlinecolor": "#2a3f5f"
            },
            "baxis": {
             "endlinecolor": "#2a3f5f",
             "gridcolor": "white",
             "linecolor": "white",
             "minorgridcolor": "white",
             "startlinecolor": "#2a3f5f"
            },
            "type": "carpet"
           }
          ],
          "choropleth": [
           {
            "colorbar": {
             "outlinewidth": 0,
             "ticks": ""
            },
            "type": "choropleth"
           }
          ],
          "contour": [
           {
            "colorbar": {
             "outlinewidth": 0,
             "ticks": ""
            },
            "colorscale": [
             [
              0,
              "#0d0887"
             ],
             [
              0.1111111111111111,
              "#46039f"
             ],
             [
              0.2222222222222222,
              "#7201a8"
             ],
             [
              0.3333333333333333,
              "#9c179e"
             ],
             [
              0.4444444444444444,
              "#bd3786"
             ],
             [
              0.5555555555555556,
              "#d8576b"
             ],
             [
              0.6666666666666666,
              "#ed7953"
             ],
             [
              0.7777777777777778,
              "#fb9f3a"
             ],
             [
              0.8888888888888888,
              "#fdca26"
             ],
             [
              1,
              "#f0f921"
             ]
            ],
            "type": "contour"
           }
          ],
          "contourcarpet": [
           {
            "colorbar": {
             "outlinewidth": 0,
             "ticks": ""
            },
            "type": "contourcarpet"
           }
          ],
          "heatmap": [
           {
            "colorbar": {
             "outlinewidth": 0,
             "ticks": ""
            },
            "colorscale": [
             [
              0,
              "#0d0887"
             ],
             [
              0.1111111111111111,
              "#46039f"
             ],
             [
              0.2222222222222222,
              "#7201a8"
             ],
             [
              0.3333333333333333,
              "#9c179e"
             ],
             [
              0.4444444444444444,
              "#bd3786"
             ],
             [
              0.5555555555555556,
              "#d8576b"
             ],
             [
              0.6666666666666666,
              "#ed7953"
             ],
             [
              0.7777777777777778,
              "#fb9f3a"
             ],
             [
              0.8888888888888888,
              "#fdca26"
             ],
             [
              1,
              "#f0f921"
             ]
            ],
            "type": "heatmap"
           }
          ],
          "heatmapgl": [
           {
            "colorbar": {
             "outlinewidth": 0,
             "ticks": ""
            },
            "colorscale": [
             [
              0,
              "#0d0887"
             ],
             [
              0.1111111111111111,
              "#46039f"
             ],
             [
              0.2222222222222222,
              "#7201a8"
             ],
             [
              0.3333333333333333,
              "#9c179e"
             ],
             [
              0.4444444444444444,
              "#bd3786"
             ],
             [
              0.5555555555555556,
              "#d8576b"
             ],
             [
              0.6666666666666666,
              "#ed7953"
             ],
             [
              0.7777777777777778,
              "#fb9f3a"
             ],
             [
              0.8888888888888888,
              "#fdca26"
             ],
             [
              1,
              "#f0f921"
             ]
            ],
            "type": "heatmapgl"
           }
          ],
          "histogram": [
           {
            "marker": {
             "pattern": {
              "fillmode": "overlay",
              "size": 10,
              "solidity": 0.2
             }
            },
            "type": "histogram"
           }
          ],
          "histogram2d": [
           {
            "colorbar": {
             "outlinewidth": 0,
             "ticks": ""
            },
            "colorscale": [
             [
              0,
              "#0d0887"
             ],
             [
              0.1111111111111111,
              "#46039f"
             ],
             [
              0.2222222222222222,
              "#7201a8"
             ],
             [
              0.3333333333333333,
              "#9c179e"
             ],
             [
              0.4444444444444444,
              "#bd3786"
             ],
             [
              0.5555555555555556,
              "#d8576b"
             ],
             [
              0.6666666666666666,
              "#ed7953"
             ],
             [
              0.7777777777777778,
              "#fb9f3a"
             ],
             [
              0.8888888888888888,
              "#fdca26"
             ],
             [
              1,
              "#f0f921"
             ]
            ],
            "type": "histogram2d"
           }
          ],
          "histogram2dcontour": [
           {
            "colorbar": {
             "outlinewidth": 0,
             "ticks": ""
            },
            "colorscale": [
             [
              0,
              "#0d0887"
             ],
             [
              0.1111111111111111,
              "#46039f"
             ],
             [
              0.2222222222222222,
              "#7201a8"
             ],
             [
              0.3333333333333333,
              "#9c179e"
             ],
             [
              0.4444444444444444,
              "#bd3786"
             ],
             [
              0.5555555555555556,
              "#d8576b"
             ],
             [
              0.6666666666666666,
              "#ed7953"
             ],
             [
              0.7777777777777778,
              "#fb9f3a"
             ],
             [
              0.8888888888888888,
              "#fdca26"
             ],
             [
              1,
              "#f0f921"
             ]
            ],
            "type": "histogram2dcontour"
           }
          ],
          "mesh3d": [
           {
            "colorbar": {
             "outlinewidth": 0,
             "ticks": ""
            },
            "type": "mesh3d"
           }
          ],
          "parcoords": [
           {
            "line": {
             "colorbar": {
              "outlinewidth": 0,
              "ticks": ""
             }
            },
            "type": "parcoords"
           }
          ],
          "pie": [
           {
            "automargin": true,
            "type": "pie"
           }
          ],
          "scatter": [
           {
            "fillpattern": {
             "fillmode": "overlay",
             "size": 10,
             "solidity": 0.2
            },
            "type": "scatter"
           }
          ],
          "scatter3d": [
           {
            "line": {
             "colorbar": {
              "outlinewidth": 0,
              "ticks": ""
             }
            },
            "marker": {
             "colorbar": {
              "outlinewidth": 0,
              "ticks": ""
             }
            },
            "type": "scatter3d"
           }
          ],
          "scattercarpet": [
           {
            "marker": {
             "colorbar": {
              "outlinewidth": 0,
              "ticks": ""
             }
            },
            "type": "scattercarpet"
           }
          ],
          "scattergeo": [
           {
            "marker": {
             "colorbar": {
              "outlinewidth": 0,
              "ticks": ""
             }
            },
            "type": "scattergeo"
           }
          ],
          "scattergl": [
           {
            "marker": {
             "colorbar": {
              "outlinewidth": 0,
              "ticks": ""
             }
            },
            "type": "scattergl"
           }
          ],
          "scattermapbox": [
           {
            "marker": {
             "colorbar": {
              "outlinewidth": 0,
              "ticks": ""
             }
            },
            "type": "scattermapbox"
           }
          ],
          "scatterpolar": [
           {
            "marker": {
             "colorbar": {
              "outlinewidth": 0,
              "ticks": ""
             }
            },
            "type": "scatterpolar"
           }
          ],
          "scatterpolargl": [
           {
            "marker": {
             "colorbar": {
              "outlinewidth": 0,
              "ticks": ""
             }
            },
            "type": "scatterpolargl"
           }
          ],
          "scatterternary": [
           {
            "marker": {
             "colorbar": {
              "outlinewidth": 0,
              "ticks": ""
             }
            },
            "type": "scatterternary"
           }
          ],
          "surface": [
           {
            "colorbar": {
             "outlinewidth": 0,
             "ticks": ""
            },
            "colorscale": [
             [
              0,
              "#0d0887"
             ],
             [
              0.1111111111111111,
              "#46039f"
             ],
             [
              0.2222222222222222,
              "#7201a8"
             ],
             [
              0.3333333333333333,
              "#9c179e"
             ],
             [
              0.4444444444444444,
              "#bd3786"
             ],
             [
              0.5555555555555556,
              "#d8576b"
             ],
             [
              0.6666666666666666,
              "#ed7953"
             ],
             [
              0.7777777777777778,
              "#fb9f3a"
             ],
             [
              0.8888888888888888,
              "#fdca26"
             ],
             [
              1,
              "#f0f921"
             ]
            ],
            "type": "surface"
           }
          ],
          "table": [
           {
            "cells": {
             "fill": {
              "color": "#EBF0F8"
             },
             "line": {
              "color": "white"
             }
            },
            "header": {
             "fill": {
              "color": "#C8D4E3"
             },
             "line": {
              "color": "white"
             }
            },
            "type": "table"
           }
          ]
         },
         "layout": {
          "annotationdefaults": {
           "arrowcolor": "#2a3f5f",
           "arrowhead": 0,
           "arrowwidth": 1
          },
          "autotypenumbers": "strict",
          "coloraxis": {
           "colorbar": {
            "outlinewidth": 0,
            "ticks": ""
           }
          },
          "colorscale": {
           "diverging": [
            [
             0,
             "#8e0152"
            ],
            [
             0.1,
             "#c51b7d"
            ],
            [
             0.2,
             "#de77ae"
            ],
            [
             0.3,
             "#f1b6da"
            ],
            [
             0.4,
             "#fde0ef"
            ],
            [
             0.5,
             "#f7f7f7"
            ],
            [
             0.6,
             "#e6f5d0"
            ],
            [
             0.7,
             "#b8e186"
            ],
            [
             0.8,
             "#7fbc41"
            ],
            [
             0.9,
             "#4d9221"
            ],
            [
             1,
             "#276419"
            ]
           ],
           "sequential": [
            [
             0,
             "#0d0887"
            ],
            [
             0.1111111111111111,
             "#46039f"
            ],
            [
             0.2222222222222222,
             "#7201a8"
            ],
            [
             0.3333333333333333,
             "#9c179e"
            ],
            [
             0.4444444444444444,
             "#bd3786"
            ],
            [
             0.5555555555555556,
             "#d8576b"
            ],
            [
             0.6666666666666666,
             "#ed7953"
            ],
            [
             0.7777777777777778,
             "#fb9f3a"
            ],
            [
             0.8888888888888888,
             "#fdca26"
            ],
            [
             1,
             "#f0f921"
            ]
           ],
           "sequentialminus": [
            [
             0,
             "#0d0887"
            ],
            [
             0.1111111111111111,
             "#46039f"
            ],
            [
             0.2222222222222222,
             "#7201a8"
            ],
            [
             0.3333333333333333,
             "#9c179e"
            ],
            [
             0.4444444444444444,
             "#bd3786"
            ],
            [
             0.5555555555555556,
             "#d8576b"
            ],
            [
             0.6666666666666666,
             "#ed7953"
            ],
            [
             0.7777777777777778,
             "#fb9f3a"
            ],
            [
             0.8888888888888888,
             "#fdca26"
            ],
            [
             1,
             "#f0f921"
            ]
           ]
          },
          "colorway": [
           "#636efa",
           "#EF553B",
           "#00cc96",
           "#ab63fa",
           "#FFA15A",
           "#19d3f3",
           "#FF6692",
           "#B6E880",
           "#FF97FF",
           "#FECB52"
          ],
          "font": {
           "color": "#2a3f5f"
          },
          "geo": {
           "bgcolor": "white",
           "lakecolor": "white",
           "landcolor": "#E5ECF6",
           "showlakes": true,
           "showland": true,
           "subunitcolor": "white"
          },
          "hoverlabel": {
           "align": "left"
          },
          "hovermode": "closest",
          "mapbox": {
           "style": "light"
          },
          "paper_bgcolor": "white",
          "plot_bgcolor": "#E5ECF6",
          "polar": {
           "angularaxis": {
            "gridcolor": "white",
            "linecolor": "white",
            "ticks": ""
           },
           "bgcolor": "#E5ECF6",
           "radialaxis": {
            "gridcolor": "white",
            "linecolor": "white",
            "ticks": ""
           }
          },
          "scene": {
           "xaxis": {
            "backgroundcolor": "#E5ECF6",
            "gridcolor": "white",
            "gridwidth": 2,
            "linecolor": "white",
            "showbackground": true,
            "ticks": "",
            "zerolinecolor": "white"
           },
           "yaxis": {
            "backgroundcolor": "#E5ECF6",
            "gridcolor": "white",
            "gridwidth": 2,
            "linecolor": "white",
            "showbackground": true,
            "ticks": "",
            "zerolinecolor": "white"
           },
           "zaxis": {
            "backgroundcolor": "#E5ECF6",
            "gridcolor": "white",
            "gridwidth": 2,
            "linecolor": "white",
            "showbackground": true,
            "ticks": "",
            "zerolinecolor": "white"
           }
          },
          "shapedefaults": {
           "line": {
            "color": "#2a3f5f"
           }
          },
          "ternary": {
           "aaxis": {
            "gridcolor": "white",
            "linecolor": "white",
            "ticks": ""
           },
           "baxis": {
            "gridcolor": "white",
            "linecolor": "white",
            "ticks": ""
           },
           "bgcolor": "#E5ECF6",
           "caxis": {
            "gridcolor": "white",
            "linecolor": "white",
            "ticks": ""
           }
          },
          "title": {
           "x": 0.05
          },
          "xaxis": {
           "automargin": true,
           "gridcolor": "white",
           "linecolor": "white",
           "ticks": "",
           "title": {
            "standoff": 15
           },
           "zerolinecolor": "white",
           "zerolinewidth": 2
          },
          "yaxis": {
           "automargin": true,
           "gridcolor": "white",
           "linecolor": "white",
           "ticks": "",
           "title": {
            "standoff": 15
           },
           "zerolinecolor": "white",
           "zerolinewidth": 2
          }
         }
        },
        "title": {
         "text": "Indian unemployment rate(state-wise)"
        },
        "xaxis": {
         "anchor": "y",
         "categoryarray": [
          "South",
          "Northeast",
          "East",
          "West",
          "North"
         ],
         "categoryorder": "total descending",
         "domain": [
          0,
          1
         ],
         "title": {
          "text": "Region"
         }
        },
        "yaxis": {
         "anchor": "x",
         "domain": [
          0,
          1
         ],
         "title": {
          "text": "sum of Estimated Unemployment Rate"
         }
        }
       }
      },
      "text/html": [
       "<div>                            <div id=\"231f3b06-8912-43e0-88ca-b67bb43b7ace\" class=\"plotly-graph-div\" style=\"height:525px; width:100%;\"></div>            <script type=\"text/javascript\">                require([\"plotly\"], function(Plotly) {                    window.PLOTLYENV=window.PLOTLYENV || {};                                    if (document.getElementById(\"231f3b06-8912-43e0-88ca-b67bb43b7ace\")) {                    Plotly.newPlot(                        \"231f3b06-8912-43e0-88ca-b67bb43b7ace\",                        [{\"alignmentgroup\":\"True\",\"bingroup\":\"x\",\"histfunc\":\"sum\",\"hovertemplate\":\"Region=%{x}<br>sum of Estimated Unemployment Rate=%{y}<extra></extra>\",\"legendgroup\":\"South\",\"marker\":{\"color\":\"#636efa\",\"pattern\":{\"shape\":\"\"}},\"name\":\"South\",\"offsetgroup\":\"South\",\"orientation\":\"v\",\"showlegend\":true,\"x\":[\"South\",\"South\",\"South\",\"South\",\"South\",\"South\",\"South\",\"South\",\"South\",\"South\",\"South\",\"South\",\"South\",\"South\",\"South\",\"South\",\"South\",\"South\",\"South\",\"South\",\"South\",\"South\",\"South\",\"South\",\"South\",\"South\",\"South\",\"South\",\"South\",\"South\",\"South\",\"South\",\"South\",\"South\",\"South\",\"South\",\"South\",\"South\",\"South\",\"South\",\"South\",\"South\",\"South\",\"South\",\"South\",\"South\",\"South\",\"South\",\"South\",\"South\",\"South\",\"South\",\"South\",\"South\",\"South\",\"South\",\"South\",\"South\",\"South\",\"South\"],\"xaxis\":\"x\",\"y\":[5.48,5.83,5.79,20.51,17.43,3.31,8.34,6.96,6.4,6.59,2.86,3.61,3.46,29.84,19.97,8.44,4.01,0.5,2.41,1.58,5.31,7.6,8.99,16.99,17.88,9.71,7.09,10.98,5.91,3.88,0.58,1.76,1.2,75.85,58.19,4.24,15.47,5.05,10.9,6.18,1.57,2.09,6.4,49.83,33.16,12.2,6.81,2.65,5.0,2.16,5.49,8.29,5.77,6.25,14.7,10.55,5.36,5.79,3.27,2.86],\"yaxis\":\"y\",\"type\":\"histogram\"},{\"alignmentgroup\":\"True\",\"bingroup\":\"x\",\"histfunc\":\"sum\",\"hovertemplate\":\"Region=%{x}<br>sum of Estimated Unemployment Rate=%{y}<extra></extra>\",\"legendgroup\":\"Northeast\",\"marker\":{\"color\":\"#EF553B\",\"pattern\":{\"shape\":\"\"}},\"name\":\"Northeast\",\"offsetgroup\":\"Northeast\",\"orientation\":\"v\",\"showlegend\":true,\"x\":[\"Northeast\",\"Northeast\",\"Northeast\",\"Northeast\",\"Northeast\",\"Northeast\",\"Northeast\",\"Northeast\",\"Northeast\",\"Northeast\",\"Northeast\",\"Northeast\",\"Northeast\",\"Northeast\",\"Northeast\",\"Northeast\",\"Northeast\",\"Northeast\",\"Northeast\",\"Northeast\",\"Northeast\",\"Northeast\",\"Northeast\",\"Northeast\",\"Northeast\",\"Northeast\",\"Northeast\",\"Northeast\",\"Northeast\",\"Northeast\",\"Northeast\",\"Northeast\",\"Northeast\",\"Northeast\",\"Northeast\",\"Northeast\",\"Northeast\",\"Northeast\"],\"xaxis\":\"x\",\"y\":[4.66,4.41,4.77,11.06,9.55,0.6,3.77,5.53,1.19,3.02,1.66,3.59,1.58,10.03,5.92,1.15,2.1,3.74,4.29,4.6,23.57,2.28,24.51,4.46,4.45,12.49,5.7,0.88,32.67,28.4,29.95,41.23,21.51,21.71,18.24,27.92,17.35,11.57],\"yaxis\":\"y\",\"type\":\"histogram\"},{\"alignmentgroup\":\"True\",\"bingroup\":\"x\",\"histfunc\":\"sum\",\"hovertemplate\":\"Region=%{x}<br>sum of Estimated Unemployment Rate=%{y}<extra></extra>\",\"legendgroup\":\"East\",\"marker\":{\"color\":\"#00cc96\",\"pattern\":{\"shape\":\"\"}},\"name\":\"East\",\"offsetgroup\":\"East\",\"orientation\":\"v\",\"showlegend\":true,\"x\":[\"East\",\"East\",\"East\",\"East\",\"East\",\"East\",\"East\",\"East\",\"East\",\"East\",\"East\",\"East\",\"East\",\"East\",\"East\",\"East\",\"East\",\"East\",\"East\",\"East\",\"East\",\"East\",\"East\",\"East\",\"East\",\"East\",\"East\",\"East\",\"East\",\"East\",\"East\",\"East\",\"East\",\"East\",\"East\",\"East\",\"East\",\"East\",\"East\",\"East\"],\"xaxis\":\"x\",\"y\":[10.61,10.29,15.43,46.64,45.96,17.82,12.79,13.44,11.91,9.82,10.61,11.85,8.23,47.09,59.23,20.95,7.63,9.76,8.24,11.8,1.9,3.12,13.08,23.76,11.41,3.77,1.88,1.42,2.1,2.18,6.94,4.92,6.92,17.41,17.41,7.29,6.83,14.87,9.35,9.98],\"yaxis\":\"y\",\"type\":\"histogram\"},{\"alignmentgroup\":\"True\",\"bingroup\":\"x\",\"histfunc\":\"sum\",\"hovertemplate\":\"Region=%{x}<br>sum of Estimated Unemployment Rate=%{y}<extra></extra>\",\"legendgroup\":\"West\",\"marker\":{\"color\":\"#ab63fa\",\"pattern\":{\"shape\":\"\"}},\"name\":\"West\",\"offsetgroup\":\"West\",\"orientation\":\"v\",\"showlegend\":true,\"x\":[\"West\",\"West\",\"West\",\"West\",\"West\",\"West\",\"West\",\"West\",\"West\",\"West\",\"West\",\"West\",\"West\",\"West\",\"West\",\"West\",\"West\",\"West\",\"West\",\"West\",\"West\",\"West\",\"West\",\"West\",\"West\",\"West\",\"West\",\"West\",\"West\",\"West\",\"West\",\"West\",\"West\",\"West\",\"West\",\"West\",\"West\",\"West\",\"West\",\"West\",\"West\",\"West\",\"West\",\"West\",\"West\",\"West\",\"West\",\"West\",\"West\",\"West\"],\"xaxis\":\"x\",\"y\":[9.65,8.38,7.54,3.41,10.5,14.23,10.27,5.63,1.96,6.62,8.89,2.81,5.25,13.31,21.25,9.96,17.07,16.21,15.38,11.54,5.54,6.38,6.66,18.71,12.11,3.2,1.84,1.87,3.42,4.03,4.11,4.57,2.22,12.36,21.98,6.48,5.08,4.7,3.91,3.13,4.95,4.69,5.79,20.9,15.46,9.23,3.89,6.23,4.55,4.1],\"yaxis\":\"y\",\"type\":\"histogram\"},{\"alignmentgroup\":\"True\",\"bingroup\":\"x\",\"histfunc\":\"sum\",\"hovertemplate\":\"Region=%{x}<br>sum of Estimated Unemployment Rate=%{y}<extra></extra>\",\"legendgroup\":\"North\",\"marker\":{\"color\":\"#FFA15A\",\"pattern\":{\"shape\":\"\"}},\"name\":\"North\",\"offsetgroup\":\"North\",\"orientation\":\"v\",\"showlegend\":true,\"x\":[\"North\",\"North\",\"North\",\"North\",\"North\",\"North\",\"North\",\"North\",\"North\",\"North\",\"North\",\"North\",\"North\",\"North\",\"North\",\"North\",\"North\",\"North\",\"North\",\"North\",\"North\",\"North\",\"North\",\"North\",\"North\",\"North\",\"North\",\"North\",\"North\",\"North\",\"North\",\"North\",\"North\",\"North\",\"North\",\"North\",\"North\",\"North\",\"North\",\"North\",\"North\",\"North\",\"North\",\"North\",\"North\",\"North\",\"North\",\"North\",\"North\",\"North\",\"North\",\"North\",\"North\",\"North\",\"North\",\"North\",\"North\",\"North\",\"North\",\"North\",\"North\",\"North\",\"North\",\"North\",\"North\",\"North\",\"North\",\"North\",\"North\",\"North\",\"North\",\"North\",\"North\",\"North\",\"North\",\"North\",\"North\",\"North\",\"North\"],\"xaxis\":\"x\",\"y\":[22.23,14.84,17.04,16.68,42.27,18.19,20.3,13.79,12.53,6.27,20.34,25.77,25.05,43.22,29.02,26.7,24.18,33.5,19.68,27.31,16.83,16.84,18.76,2.2,26.95,13.47,24.31,15.79,12.04,13.46,21.08,20.78,15.5,18.74,17.92,10.88,11.09,16.17,16.14,11.11,10.97,10.32,2.86,28.33,16.55,9.19,10.99,9.61,9.88,10.97,15.16,11.9,17.7,15.74,14.39,15.81,17.51,15.35,24.15,7.58,8.98,10.11,21.54,20.41,9.47,5.56,5.79,4.18,3.75,5.49,4.99,19.85,6.48,8.01,8.61,12.38,14.26,22.26,9.23],\"yaxis\":\"y\",\"type\":\"histogram\"}],                        {\"template\":{\"data\":{\"histogram2dcontour\":[{\"type\":\"histogram2dcontour\",\"colorbar\":{\"outlinewidth\":0,\"ticks\":\"\"},\"colorscale\":[[0.0,\"#0d0887\"],[0.1111111111111111,\"#46039f\"],[0.2222222222222222,\"#7201a8\"],[0.3333333333333333,\"#9c179e\"],[0.4444444444444444,\"#bd3786\"],[0.5555555555555556,\"#d8576b\"],[0.6666666666666666,\"#ed7953\"],[0.7777777777777778,\"#fb9f3a\"],[0.8888888888888888,\"#fdca26\"],[1.0,\"#f0f921\"]]}],\"choropleth\":[{\"type\":\"choropleth\",\"colorbar\":{\"outlinewidth\":0,\"ticks\":\"\"}}],\"histogram2d\":[{\"type\":\"histogram2d\",\"colorbar\":{\"outlinewidth\":0,\"ticks\":\"\"},\"colorscale\":[[0.0,\"#0d0887\"],[0.1111111111111111,\"#46039f\"],[0.2222222222222222,\"#7201a8\"],[0.3333333333333333,\"#9c179e\"],[0.4444444444444444,\"#bd3786\"],[0.5555555555555556,\"#d8576b\"],[0.6666666666666666,\"#ed7953\"],[0.7777777777777778,\"#fb9f3a\"],[0.8888888888888888,\"#fdca26\"],[1.0,\"#f0f921\"]]}],\"heatmap\":[{\"type\":\"heatmap\",\"colorbar\":{\"outlinewidth\":0,\"ticks\":\"\"},\"colorscale\":[[0.0,\"#0d0887\"],[0.1111111111111111,\"#46039f\"],[0.2222222222222222,\"#7201a8\"],[0.3333333333333333,\"#9c179e\"],[0.4444444444444444,\"#bd3786\"],[0.5555555555555556,\"#d8576b\"],[0.6666666666666666,\"#ed7953\"],[0.7777777777777778,\"#fb9f3a\"],[0.8888888888888888,\"#fdca26\"],[1.0,\"#f0f921\"]]}],\"heatmapgl\":[{\"type\":\"heatmapgl\",\"colorbar\":{\"outlinewidth\":0,\"ticks\":\"\"},\"colorscale\":[[0.0,\"#0d0887\"],[0.1111111111111111,\"#46039f\"],[0.2222222222222222,\"#7201a8\"],[0.3333333333333333,\"#9c179e\"],[0.4444444444444444,\"#bd3786\"],[0.5555555555555556,\"#d8576b\"],[0.6666666666666666,\"#ed7953\"],[0.7777777777777778,\"#fb9f3a\"],[0.8888888888888888,\"#fdca26\"],[1.0,\"#f0f921\"]]}],\"contourcarpet\":[{\"type\":\"contourcarpet\",\"colorbar\":{\"outlinewidth\":0,\"ticks\":\"\"}}],\"contour\":[{\"type\":\"contour\",\"colorbar\":{\"outlinewidth\":0,\"ticks\":\"\"},\"colorscale\":[[0.0,\"#0d0887\"],[0.1111111111111111,\"#46039f\"],[0.2222222222222222,\"#7201a8\"],[0.3333333333333333,\"#9c179e\"],[0.4444444444444444,\"#bd3786\"],[0.5555555555555556,\"#d8576b\"],[0.6666666666666666,\"#ed7953\"],[0.7777777777777778,\"#fb9f3a\"],[0.8888888888888888,\"#fdca26\"],[1.0,\"#f0f921\"]]}],\"surface\":[{\"type\":\"surface\",\"colorbar\":{\"outlinewidth\":0,\"ticks\":\"\"},\"colorscale\":[[0.0,\"#0d0887\"],[0.1111111111111111,\"#46039f\"],[0.2222222222222222,\"#7201a8\"],[0.3333333333333333,\"#9c179e\"],[0.4444444444444444,\"#bd3786\"],[0.5555555555555556,\"#d8576b\"],[0.6666666666666666,\"#ed7953\"],[0.7777777777777778,\"#fb9f3a\"],[0.8888888888888888,\"#fdca26\"],[1.0,\"#f0f921\"]]}],\"mesh3d\":[{\"type\":\"mesh3d\",\"colorbar\":{\"outlinewidth\":0,\"ticks\":\"\"}}],\"scatter\":[{\"fillpattern\":{\"fillmode\":\"overlay\",\"size\":10,\"solidity\":0.2},\"type\":\"scatter\"}],\"parcoords\":[{\"type\":\"parcoords\",\"line\":{\"colorbar\":{\"outlinewidth\":0,\"ticks\":\"\"}}}],\"scatterpolargl\":[{\"type\":\"scatterpolargl\",\"marker\":{\"colorbar\":{\"outlinewidth\":0,\"ticks\":\"\"}}}],\"bar\":[{\"error_x\":{\"color\":\"#2a3f5f\"},\"error_y\":{\"color\":\"#2a3f5f\"},\"marker\":{\"line\":{\"color\":\"#E5ECF6\",\"width\":0.5},\"pattern\":{\"fillmode\":\"overlay\",\"size\":10,\"solidity\":0.2}},\"type\":\"bar\"}],\"scattergeo\":[{\"type\":\"scattergeo\",\"marker\":{\"colorbar\":{\"outlinewidth\":0,\"ticks\":\"\"}}}],\"scatterpolar\":[{\"type\":\"scatterpolar\",\"marker\":{\"colorbar\":{\"outlinewidth\":0,\"ticks\":\"\"}}}],\"histogram\":[{\"marker\":{\"pattern\":{\"fillmode\":\"overlay\",\"size\":10,\"solidity\":0.2}},\"type\":\"histogram\"}],\"scattergl\":[{\"type\":\"scattergl\",\"marker\":{\"colorbar\":{\"outlinewidth\":0,\"ticks\":\"\"}}}],\"scatter3d\":[{\"type\":\"scatter3d\",\"line\":{\"colorbar\":{\"outlinewidth\":0,\"ticks\":\"\"}},\"marker\":{\"colorbar\":{\"outlinewidth\":0,\"ticks\":\"\"}}}],\"scattermapbox\":[{\"type\":\"scattermapbox\",\"marker\":{\"colorbar\":{\"outlinewidth\":0,\"ticks\":\"\"}}}],\"scatterternary\":[{\"type\":\"scatterternary\",\"marker\":{\"colorbar\":{\"outlinewidth\":0,\"ticks\":\"\"}}}],\"scattercarpet\":[{\"type\":\"scattercarpet\",\"marker\":{\"colorbar\":{\"outlinewidth\":0,\"ticks\":\"\"}}}],\"carpet\":[{\"aaxis\":{\"endlinecolor\":\"#2a3f5f\",\"gridcolor\":\"white\",\"linecolor\":\"white\",\"minorgridcolor\":\"white\",\"startlinecolor\":\"#2a3f5f\"},\"baxis\":{\"endlinecolor\":\"#2a3f5f\",\"gridcolor\":\"white\",\"linecolor\":\"white\",\"minorgridcolor\":\"white\",\"startlinecolor\":\"#2a3f5f\"},\"type\":\"carpet\"}],\"table\":[{\"cells\":{\"fill\":{\"color\":\"#EBF0F8\"},\"line\":{\"color\":\"white\"}},\"header\":{\"fill\":{\"color\":\"#C8D4E3\"},\"line\":{\"color\":\"white\"}},\"type\":\"table\"}],\"barpolar\":[{\"marker\":{\"line\":{\"color\":\"#E5ECF6\",\"width\":0.5},\"pattern\":{\"fillmode\":\"overlay\",\"size\":10,\"solidity\":0.2}},\"type\":\"barpolar\"}],\"pie\":[{\"automargin\":true,\"type\":\"pie\"}]},\"layout\":{\"autotypenumbers\":\"strict\",\"colorway\":[\"#636efa\",\"#EF553B\",\"#00cc96\",\"#ab63fa\",\"#FFA15A\",\"#19d3f3\",\"#FF6692\",\"#B6E880\",\"#FF97FF\",\"#FECB52\"],\"font\":{\"color\":\"#2a3f5f\"},\"hovermode\":\"closest\",\"hoverlabel\":{\"align\":\"left\"},\"paper_bgcolor\":\"white\",\"plot_bgcolor\":\"#E5ECF6\",\"polar\":{\"bgcolor\":\"#E5ECF6\",\"angularaxis\":{\"gridcolor\":\"white\",\"linecolor\":\"white\",\"ticks\":\"\"},\"radialaxis\":{\"gridcolor\":\"white\",\"linecolor\":\"white\",\"ticks\":\"\"}},\"ternary\":{\"bgcolor\":\"#E5ECF6\",\"aaxis\":{\"gridcolor\":\"white\",\"linecolor\":\"white\",\"ticks\":\"\"},\"baxis\":{\"gridcolor\":\"white\",\"linecolor\":\"white\",\"ticks\":\"\"},\"caxis\":{\"gridcolor\":\"white\",\"linecolor\":\"white\",\"ticks\":\"\"}},\"coloraxis\":{\"colorbar\":{\"outlinewidth\":0,\"ticks\":\"\"}},\"colorscale\":{\"sequential\":[[0.0,\"#0d0887\"],[0.1111111111111111,\"#46039f\"],[0.2222222222222222,\"#7201a8\"],[0.3333333333333333,\"#9c179e\"],[0.4444444444444444,\"#bd3786\"],[0.5555555555555556,\"#d8576b\"],[0.6666666666666666,\"#ed7953\"],[0.7777777777777778,\"#fb9f3a\"],[0.8888888888888888,\"#fdca26\"],[1.0,\"#f0f921\"]],\"sequentialminus\":[[0.0,\"#0d0887\"],[0.1111111111111111,\"#46039f\"],[0.2222222222222222,\"#7201a8\"],[0.3333333333333333,\"#9c179e\"],[0.4444444444444444,\"#bd3786\"],[0.5555555555555556,\"#d8576b\"],[0.6666666666666666,\"#ed7953\"],[0.7777777777777778,\"#fb9f3a\"],[0.8888888888888888,\"#fdca26\"],[1.0,\"#f0f921\"]],\"diverging\":[[0,\"#8e0152\"],[0.1,\"#c51b7d\"],[0.2,\"#de77ae\"],[0.3,\"#f1b6da\"],[0.4,\"#fde0ef\"],[0.5,\"#f7f7f7\"],[0.6,\"#e6f5d0\"],[0.7,\"#b8e186\"],[0.8,\"#7fbc41\"],[0.9,\"#4d9221\"],[1,\"#276419\"]]},\"xaxis\":{\"gridcolor\":\"white\",\"linecolor\":\"white\",\"ticks\":\"\",\"title\":{\"standoff\":15},\"zerolinecolor\":\"white\",\"automargin\":true,\"zerolinewidth\":2},\"yaxis\":{\"gridcolor\":\"white\",\"linecolor\":\"white\",\"ticks\":\"\",\"title\":{\"standoff\":15},\"zerolinecolor\":\"white\",\"automargin\":true,\"zerolinewidth\":2},\"scene\":{\"xaxis\":{\"backgroundcolor\":\"#E5ECF6\",\"gridcolor\":\"white\",\"linecolor\":\"white\",\"showbackground\":true,\"ticks\":\"\",\"zerolinecolor\":\"white\",\"gridwidth\":2},\"yaxis\":{\"backgroundcolor\":\"#E5ECF6\",\"gridcolor\":\"white\",\"linecolor\":\"white\",\"showbackground\":true,\"ticks\":\"\",\"zerolinecolor\":\"white\",\"gridwidth\":2},\"zaxis\":{\"backgroundcolor\":\"#E5ECF6\",\"gridcolor\":\"white\",\"linecolor\":\"white\",\"showbackground\":true,\"ticks\":\"\",\"zerolinecolor\":\"white\",\"gridwidth\":2}},\"shapedefaults\":{\"line\":{\"color\":\"#2a3f5f\"}},\"annotationdefaults\":{\"arrowcolor\":\"#2a3f5f\",\"arrowhead\":0,\"arrowwidth\":1},\"geo\":{\"bgcolor\":\"white\",\"landcolor\":\"#E5ECF6\",\"subunitcolor\":\"white\",\"showland\":true,\"showlakes\":true,\"lakecolor\":\"white\"},\"title\":{\"x\":0.05},\"mapbox\":{\"style\":\"light\"}}},\"xaxis\":{\"anchor\":\"y\",\"domain\":[0.0,1.0],\"title\":{\"text\":\"Region\"},\"categoryorder\":\"total descending\",\"categoryarray\":[\"South\",\"Northeast\",\"East\",\"West\",\"North\"]},\"yaxis\":{\"anchor\":\"x\",\"domain\":[0.0,1.0],\"title\":{\"text\":\"sum of Estimated Unemployment Rate\"}},\"legend\":{\"title\":{\"text\":\"Region\"},\"tracegroupgap\":0},\"title\":{\"text\":\"Indian unemployment rate(state-wise)\"},\"barmode\":\"relative\"},                        {\"responsive\": true}                    ).then(function(){\n",
       "                            \n",
       "var gd = document.getElementById('231f3b06-8912-43e0-88ca-b67bb43b7ace');\n",
       "var x = new MutationObserver(function (mutations, observer) {{\n",
       "        var display = window.getComputedStyle(gd).display;\n",
       "        if (!display || display === 'none') {{\n",
       "            console.log([gd, 'removed!']);\n",
       "            Plotly.purge(gd);\n",
       "            observer.disconnect();\n",
       "        }}\n",
       "}});\n",
       "\n",
       "// Listen for the removal of the full notebook cells\n",
       "var notebookContainer = gd.closest('#notebook-container');\n",
       "if (notebookContainer) {{\n",
       "    x.observe(notebookContainer, {childList: true});\n",
       "}}\n",
       "\n",
       "// Listen for the clearing of the current output cell\n",
       "var outputEl = gd.closest('.output');\n",
       "if (outputEl) {{\n",
       "    x.observe(outputEl, {childList: true});\n",
       "}}\n",
       "\n",
       "                        })                };                });            </script>        </div>"
      ]
     },
     "metadata": {},
     "output_type": "display_data"
    }
   ],
   "source": [
    "fg=px.histogram(dk,x='Region',y='Estimated Unemployment Rate',title='Indian unemployment rate(state-wise)',template='plotly',color='Region')\n",
    "fg.update_layout(xaxis={'categoryorder':'total descending'})\n",
    "fg.show()"
   ]
  },
  {
   "cell_type": "markdown",
   "id": "6b7fee19",
   "metadata": {},
   "source": [
    "## Analysing data using barplot"
   ]
  },
  {
   "cell_type": "code",
   "execution_count": 29,
   "id": "95af6e70",
   "metadata": {},
   "outputs": [
    {
     "data": {
      "text/plain": [
       "array(['01', '02', '03', '04', '05', '06', '07', '08', '09', '10'],\n",
       "      dtype=object)"
      ]
     },
     "execution_count": 29,
     "metadata": {},
     "output_type": "execute_result"
    }
   ],
   "source": [
    "dk.Month.unique()"
   ]
  },
  {
   "cell_type": "code",
   "execution_count": 30,
   "id": "c24470da",
   "metadata": {},
   "outputs": [
    {
     "data": {
      "text/plain": [
       "<Axes: xlabel='Month', ylabel='Estimated Unemployment Rate'>"
      ]
     },
     "execution_count": 30,
     "metadata": {},
     "output_type": "execute_result"
    },
    {
     "data": {
      "image/png": "[encoded data removed]",
      "text/plain": [
       "<Figure size 640x480 with 1 Axes>"
      ]
     },
     "metadata": {},
     "output_type": "display_data"
    }
   ],
   "source": [
    "sns.barplot(x=\"Month\",y=\"Estimated Unemployment Rate\",hue=\"Year\",data=dk)"
   ]
  },
  {
   "cell_type": "code",
   "execution_count": 31,
   "id": "6692bd03",
   "metadata": {},
   "outputs": [
    {
     "data": {
      "text/plain": [
       "array([' 31', ' 29', ' 30'], dtype=object)"
      ]
     },
     "execution_count": 31,
     "metadata": {},
     "output_type": "execute_result"
    }
   ],
   "source": [
    "dk.Day.unique()"
   ]
  },
  {
   "cell_type": "code",
   "execution_count": 32,
   "id": "d16e9441",
   "metadata": {},
   "outputs": [
    {
     "data": {
      "text/plain": [
       "<Axes: xlabel='Day', ylabel='Estimated Unemployment Rate'>"
      ]
     },
     "execution_count": 32,
     "metadata": {},
     "output_type": "execute_result"
    },
    {
     "data": {
      "image/png": "[encoded data removed]",
      "text/plain": [
       "<Figure size 640x480 with 1 Axes>"
      ]
     },
     "metadata": {},
     "output_type": "display_data"
    }
   ],
   "source": [
    "sns.barplot(x=\"Day\",y=\"Estimated Unemployment Rate\",hue=\"Year\",data=dk)"
   ]
  },
  {
   "cell_type": "code",
   "execution_count": 33,
   "id": "a09b68a9",
   "metadata": {},
   "outputs": [
    {
     "data": {
      "application/vnd.plotly.v1+json": {
       "config": {
        "plotlyServerURL": "https://plot.ly"
       },
       "data": [
        {
         "alignmentgroup": "True",
         "hovertemplate": "States=%{x}<br>Estimated Unemployment Rate=%{y}<extra></extra>",
         "legendgroup": "Andhra Pradesh",
         "marker": {
          "color": "#636efa",
          "pattern": {
           "shape": ""
          }
         },
         "name": "Andhra Pradesh",
         "offsetgroup": "Andhra Pradesh",
         "orientation": "v",
         "showlegend": true,
         "textposition": "auto",
         "type": "bar",
         "x": [
          "Andhra Pradesh",
          "Andhra Pradesh",
          "Andhra Pradesh",
          "Andhra Pradesh",
          "Andhra Pradesh",
          "Andhra Pradesh",
          "Andhra Pradesh",
          "Andhra Pradesh",
          "Andhra Pradesh",
          "Andhra Pradesh"
         ],
         "xaxis": "x",
         "y": [
          5.48,
          5.83,
          5.79,
          20.51,
          17.43,
          3.31,
          8.34,
          6.96,
          6.4,
          6.59
         ],
         "yaxis": "y"
        },
        {
         "alignmentgroup": "True",
         "hovertemplate": "States=%{x}<br>Estimated Unemployment Rate=%{y}<extra></extra>",
         "legendgroup": "Assam",
         "marker": {
          "color": "#EF553B",
          "pattern": {
           "shape": ""
          }
         },
         "name": "Assam",
         "offsetgroup": "Assam",
         "orientation": "v",
         "showlegend": true,
         "textposition": "auto",
         "type": "bar",
         "x": [
          "Assam",
          "Assam",
          "Assam",
          "Assam",
          "Assam",
          "Assam",
          "Assam",
          "Assam",
          "Assam",
          "Assam"
         ],
         "xaxis": "x",
         "y": [
          4.66,
          4.41,
          4.77,
          11.06,
          9.55,
          0.6,
          3.77,
          5.53,
          1.19,
          3.02
         ],
         "yaxis": "y"
        },
        {
         "alignmentgroup": "True",
         "hovertemplate": "States=%{x}<br>Estimated Unemployment Rate=%{y}<extra></extra>",
         "legendgroup": "Bihar",
         "marker": {
          "color": "#00cc96",
          "pattern": {
           "shape": ""
          }
         },
         "name": "Bihar",
         "offsetgroup": "Bihar",
         "orientation": "v",
         "showlegend": true,
         "textposition": "auto",
         "type": "bar",
         "x": [
          "Bihar",
          "Bihar",
          "Bihar",
          "Bihar",
          "Bihar",
          "Bihar",
          "Bihar",
          "Bihar",
          "Bihar",
          "Bihar"
         ],
         "xaxis": "x",
         "y": [
          10.61,
          10.29,
          15.43,
          46.64,
          45.96,
          17.82,
          12.79,
          13.44,
          11.91,
          9.82
         ],
         "yaxis": "y"
        },
        {
         "alignmentgroup": "True",
         "hovertemplate": "States=%{x}<br>Estimated Unemployment Rate=%{y}<extra></extra>",
         "legendgroup": "Chhattisgarh",
         "marker": {
          "color": "#ab63fa",
          "pattern": {
           "shape": ""
          }
         },
         "name": "Chhattisgarh",
         "offsetgroup": "Chhattisgarh",
         "orientation": "v",
         "showlegend": true,
         "textposition": "auto",
         "type": "bar",
         "x": [
          "Chhattisgarh",
          "Chhattisgarh",
          "Chhattisgarh",
          "Chhattisgarh",
          "Chhattisgarh",
          "Chhattisgarh",
          "Chhattisgarh",
          "Chhattisgarh",
          "Chhattisgarh",
          "Chhattisgarh"
         ],
         "xaxis": "x",
         "y": [
          9.65,
          8.38,
          7.54,
          3.41,
          10.5,
          14.23,
          10.27,
          5.63,
          1.96,
          6.62
         ],
         "yaxis": "y"
        },
        {
         "alignmentgroup": "True",
         "hovertemplate": "States=%{x}<br>Estimated Unemployment Rate=%{y}<extra></extra>",
         "legendgroup": "Delhi",
         "marker": {
          "color": "#FFA15A",
          "pattern": {
           "shape": ""
          }
         },
         "name": "Delhi",
         "offsetgroup": "Delhi",
         "orientation": "v",
         "showlegend": true,
         "textposition": "auto",
         "type": "bar",
         "x": [
          "Delhi",
          "Delhi",
          "Delhi",
          "Delhi",
          "Delhi",
          "Delhi",
          "Delhi",
          "Delhi",
          "Delhi",
          "Delhi"
         ],
         "xaxis": "x",
         "y": [
          22.23,
          14.84,
          17.04,
          16.68,
          42.27,
          18.19,
          20.3,
          13.79,
          12.53,
          6.27
         ],
         "yaxis": "y"
        },
        {
         "alignmentgroup": "True",
         "hovertemplate": "States=%{x}<br>Estimated Unemployment Rate=%{y}<extra></extra>",
         "legendgroup": "Goa",
         "marker": {
          "color": "#19d3f3",
          "pattern": {
           "shape": ""
          }
         },
         "name": "Goa",
         "offsetgroup": "Goa",
         "orientation": "v",
         "showlegend": true,
         "textposition": "auto",
         "type": "bar",
         "x": [
          "Goa",
          "Goa",
          "Goa",
          "Goa",
          "Goa",
          "Goa",
          "Goa",
          "Goa",
          "Goa",
          "Goa"
         ],
         "xaxis": "x",
         "y": [
          8.89,
          2.81,
          5.25,
          13.31,
          21.25,
          9.96,
          17.07,
          16.21,
          15.38,
          11.54
         ],
         "yaxis": "y"
        },
        {
         "alignmentgroup": "True",
         "hovertemplate": "States=%{x}<br>Estimated Unemployment Rate=%{y}<extra></extra>",
         "legendgroup": "Gujarat",
         "marker": {
          "color": "#FF6692",
          "pattern": {
           "shape": ""
          }
         },
         "name": "Gujarat",
         "offsetgroup": "Gujarat",
         "orientation": "v",
         "showlegend": true,
         "textposition": "auto",
         "type": "bar",
         "x": [
          "Gujarat",
          "Gujarat",
          "Gujarat",
          "Gujarat",
          "Gujarat",
          "Gujarat",
          "Gujarat",
          "Gujarat",
          "Gujarat",
          "Gujarat"
         ],
         "xaxis": "x",
         "y": [
          5.54,
          6.38,
          6.66,
          18.71,
          12.11,
          3.2,
          1.84,
          1.87,
          3.42,
          4.03
         ],
         "yaxis": "y"
        },
        {
         "alignmentgroup": "True",
         "hovertemplate": "States=%{x}<br>Estimated Unemployment Rate=%{y}<extra></extra>",
         "legendgroup": "Haryana",
         "marker": {
          "color": "#B6E880",
          "pattern": {
           "shape": ""
          }
         },
         "name": "Haryana",
         "offsetgroup": "Haryana",
         "orientation": "v",
         "showlegend": true,
         "textposition": "auto",
         "type": "bar",
         "x": [
          "Haryana",
          "Haryana",
          "Haryana",
          "Haryana",
          "Haryana",
          "Haryana",
          "Haryana",
          "Haryana",
          "Haryana",
          "Haryana"
         ],
         "xaxis": "x",
         "y": [
          20.34,
          25.77,
          25.05,
          43.22,
          29.02,
          26.7,
          24.18,
          33.5,
          19.68,
          27.31
         ],
         "yaxis": "y"
        },
        {
         "alignmentgroup": "True",
         "hovertemplate": "States=%{x}<br>Estimated Unemployment Rate=%{y}<extra></extra>",
         "legendgroup": "Himachal Pradesh",
         "marker": {
          "color": "#FF97FF",
          "pattern": {
           "shape": ""
          }
         },
         "name": "Himachal Pradesh",
         "offsetgroup": "Himachal Pradesh",
         "orientation": "v",
         "showlegend": true,
         "textposition": "auto",
         "type": "bar",
         "x": [
          "Himachal Pradesh",
          "Himachal Pradesh",
          "Himachal Pradesh",
          "Himachal Pradesh",
          "Himachal Pradesh",
          "Himachal Pradesh",
          "Himachal Pradesh",
          "Himachal Pradesh",
          "Himachal Pradesh",
          "Himachal Pradesh"
         ],
         "xaxis": "x",
         "y": [
          16.83,
          16.84,
          18.76,
          2.2,
          26.95,
          13.47,
          24.31,
          15.79,
          12.04,
          13.46
         ],
         "yaxis": "y"
        },
        {
         "alignmentgroup": "True",
         "hovertemplate": "States=%{x}<br>Estimated Unemployment Rate=%{y}<extra></extra>",
         "legendgroup": "Jammu & Kashmir",
         "marker": {
          "color": "#FECB52",
          "pattern": {
           "shape": ""
          }
         },
         "name": "Jammu & Kashmir",
         "offsetgroup": "Jammu & Kashmir",
         "orientation": "v",
         "showlegend": true,
         "textposition": "auto",
         "type": "bar",
         "x": [
          "Jammu & Kashmir",
          "Jammu & Kashmir",
          "Jammu & Kashmir",
          "Jammu & Kashmir",
          "Jammu & Kashmir",
          "Jammu & Kashmir",
          "Jammu & Kashmir",
          "Jammu & Kashmir",
          "Jammu & Kashmir"
         ],
         "xaxis": "x",
         "y": [
          21.08,
          20.78,
          15.5,
          18.74,
          17.92,
          10.88,
          11.09,
          16.17,
          16.14
         ],
         "yaxis": "y"
        },
        {
         "alignmentgroup": "True",
         "hovertemplate": "States=%{x}<br>Estimated Unemployment Rate=%{y}<extra></extra>",
         "legendgroup": "Jharkhand",
         "marker": {
          "color": "#636efa",
          "pattern": {
           "shape": ""
          }
         },
         "name": "Jharkhand",
         "offsetgroup": "Jharkhand",
         "orientation": "v",
         "showlegend": true,
         "textposition": "auto",
         "type": "bar",
         "x": [
          "Jharkhand",
          "Jharkhand",
          "Jharkhand",
          "Jharkhand",
          "Jharkhand",
          "Jharkhand",
          "Jharkhand",
          "Jharkhand",
          "Jharkhand",
          "Jharkhand"
         ],
         "xaxis": "x",
         "y": [
          10.61,
          11.85,
          8.23,
          47.09,
          59.23,
          20.95,
          7.63,
          9.76,
          8.24,
          11.8
         ],
         "yaxis": "y"
        },
        {
         "alignmentgroup": "True",
         "hovertemplate": "States=%{x}<br>Estimated Unemployment Rate=%{y}<extra></extra>",
         "legendgroup": "Karnataka",
         "marker": {
          "color": "#EF553B",
          "pattern": {
           "shape": ""
          }
         },
         "name": "Karnataka",
         "offsetgroup": "Karnataka",
         "orientation": "v",
         "showlegend": true,
         "textposition": "auto",
         "type": "bar",
         "x": [
          "Karnataka",
          "Karnataka",
          "Karnataka",
          "Karnataka",
          "Karnataka",
          "Karnataka",
          "Karnataka",
          "Karnataka",
          "Karnataka",
          "Karnataka"
         ],
         "xaxis": "x",
         "y": [
          2.86,
          3.61,
          3.46,
          29.84,
          19.97,
          8.44,
          4.01,
          0.5,
          2.41,
          1.58
         ],
         "yaxis": "y"
        },
        {
         "alignmentgroup": "True",
         "hovertemplate": "States=%{x}<br>Estimated Unemployment Rate=%{y}<extra></extra>",
         "legendgroup": "Kerala",
         "marker": {
          "color": "#00cc96",
          "pattern": {
           "shape": ""
          }
         },
         "name": "Kerala",
         "offsetgroup": "Kerala",
         "orientation": "v",
         "showlegend": true,
         "textposition": "auto",
         "type": "bar",
         "x": [
          "Kerala",
          "Kerala",
          "Kerala",
          "Kerala",
          "Kerala",
          "Kerala",
          "Kerala",
          "Kerala",
          "Kerala",
          "Kerala"
         ],
         "xaxis": "x",
         "y": [
          5.31,
          7.6,
          8.99,
          16.99,
          17.88,
          9.71,
          7.09,
          10.98,
          5.91,
          3.88
         ],
         "yaxis": "y"
        },
        {
         "alignmentgroup": "True",
         "hovertemplate": "States=%{x}<br>Estimated Unemployment Rate=%{y}<extra></extra>",
         "legendgroup": "Madhya Pradesh",
         "marker": {
          "color": "#ab63fa",
          "pattern": {
           "shape": ""
          }
         },
         "name": "Madhya Pradesh",
         "offsetgroup": "Madhya Pradesh",
         "orientation": "v",
         "showlegend": true,
         "textposition": "auto",
         "type": "bar",
         "x": [
          "Madhya Pradesh",
          "Madhya Pradesh",
          "Madhya Pradesh",
          "Madhya Pradesh",
          "Madhya Pradesh",
          "Madhya Pradesh",
          "Madhya Pradesh",
          "Madhya Pradesh",
          "Madhya Pradesh",
          "Madhya Pradesh"
         ],
         "xaxis": "x",
         "y": [
          4.11,
          4.57,
          2.22,
          12.36,
          21.98,
          6.48,
          5.08,
          4.7,
          3.91,
          3.13
         ],
         "yaxis": "y"
        },
        {
         "alignmentgroup": "True",
         "hovertemplate": "States=%{x}<br>Estimated Unemployment Rate=%{y}<extra></extra>",
         "legendgroup": "Maharashtra",
         "marker": {
          "color": "#FFA15A",
          "pattern": {
           "shape": ""
          }
         },
         "name": "Maharashtra",
         "offsetgroup": "Maharashtra",
         "orientation": "v",
         "showlegend": true,
         "textposition": "auto",
         "type": "bar",
         "x": [
          "Maharashtra",
          "Maharashtra",
          "Maharashtra",
          "Maharashtra",
          "Maharashtra",
          "Maharashtra",
          "Maharashtra",
          "Maharashtra",
          "Maharashtra",
          "Maharashtra"
         ],
         "xaxis": "x",
         "y": [
          4.95,
          4.69,
          5.79,
          20.9,
          15.46,
          9.23,
          3.89,
          6.23,
          4.55,
          4.1
         ],
         "yaxis": "y"
        },
        {
         "alignmentgroup": "True",
         "hovertemplate": "States=%{x}<br>Estimated Unemployment Rate=%{y}<extra></extra>",
         "legendgroup": "Meghalaya",
         "marker": {
          "color": "#19d3f3",
          "pattern": {
           "shape": ""
          }
         },
         "name": "Meghalaya",
         "offsetgroup": "Meghalaya",
         "orientation": "v",
         "showlegend": true,
         "textposition": "auto",
         "type": "bar",
         "x": [
          "Meghalaya",
          "Meghalaya",
          "Meghalaya",
          "Meghalaya",
          "Meghalaya",
          "Meghalaya",
          "Meghalaya",
          "Meghalaya",
          "Meghalaya",
          "Meghalaya"
         ],
         "xaxis": "x",
         "y": [
          1.66,
          3.59,
          1.58,
          10.03,
          5.92,
          1.15,
          2.1,
          3.74,
          4.29,
          4.6
         ],
         "yaxis": "y"
        },
        {
         "alignmentgroup": "True",
         "hovertemplate": "States=%{x}<br>Estimated Unemployment Rate=%{y}<extra></extra>",
         "legendgroup": "Odisha",
         "marker": {
          "color": "#FF6692",
          "pattern": {
           "shape": ""
          }
         },
         "name": "Odisha",
         "offsetgroup": "Odisha",
         "orientation": "v",
         "showlegend": true,
         "textposition": "auto",
         "type": "bar",
         "x": [
          "Odisha",
          "Odisha",
          "Odisha",
          "Odisha",
          "Odisha",
          "Odisha",
          "Odisha",
          "Odisha",
          "Odisha",
          "Odisha"
         ],
         "xaxis": "x",
         "y": [
          1.9,
          3.12,
          13.08,
          23.76,
          11.41,
          3.77,
          1.88,
          1.42,
          2.1,
          2.18
         ],
         "yaxis": "y"
        },
        {
         "alignmentgroup": "True",
         "hovertemplate": "States=%{x}<br>Estimated Unemployment Rate=%{y}<extra></extra>",
         "legendgroup": "Puducherry",
         "marker": {
          "color": "#B6E880",
          "pattern": {
           "shape": ""
          }
         },
         "name": "Puducherry",
         "offsetgroup": "Puducherry",
         "orientation": "v",
         "showlegend": true,
         "textposition": "auto",
         "type": "bar",
         "x": [
          "Puducherry",
          "Puducherry",
          "Puducherry",
          "Puducherry",
          "Puducherry",
          "Puducherry",
          "Puducherry",
          "Puducherry",
          "Puducherry",
          "Puducherry"
         ],
         "xaxis": "x",
         "y": [
          0.58,
          1.76,
          1.2,
          75.85,
          58.19,
          4.24,
          15.47,
          5.05,
          10.9,
          6.18
         ],
         "yaxis": "y"
        },
        {
         "alignmentgroup": "True",
         "hovertemplate": "States=%{x}<br>Estimated Unemployment Rate=%{y}<extra></extra>",
         "legendgroup": "Punjab",
         "marker": {
          "color": "#FF97FF",
          "pattern": {
           "shape": ""
          }
         },
         "name": "Punjab",
         "offsetgroup": "Punjab",
         "orientation": "v",
         "showlegend": true,
         "textposition": "auto",
         "type": "bar",
         "x": [
          "Punjab",
          "Punjab",
          "Punjab",
          "Punjab",
          "Punjab",
          "Punjab",
          "Punjab",
          "Punjab",
          "Punjab",
          "Punjab"
         ],
         "xaxis": "x",
         "y": [
          11.11,
          10.97,
          10.32,
          2.86,
          28.33,
          16.55,
          9.19,
          10.99,
          9.61,
          9.88
         ],
         "yaxis": "y"
        },
        {
         "alignmentgroup": "True",
         "hovertemplate": "States=%{x}<br>Estimated Unemployment Rate=%{y}<extra></extra>",
         "legendgroup": "Rajasthan",
         "marker": {
          "color": "#FECB52",
          "pattern": {
           "shape": ""
          }
         },
         "name": "Rajasthan",
         "offsetgroup": "Rajasthan",
         "orientation": "v",
         "showlegend": true,
         "textposition": "auto",
         "type": "bar",
         "x": [
          "Rajasthan",
          "Rajasthan",
          "Rajasthan",
          "Rajasthan",
          "Rajasthan",
          "Rajasthan",
          "Rajasthan",
          "Rajasthan",
          "Rajasthan",
          "Rajasthan"
         ],
         "xaxis": "x",
         "y": [
          10.97,
          15.16,
          11.9,
          17.7,
          15.74,
          14.39,
          15.81,
          17.51,
          15.35,
          24.15
         ],
         "yaxis": "y"
        },
        {
         "alignmentgroup": "True",
         "hovertemplate": "States=%{x}<br>Estimated Unemployment Rate=%{y}<extra></extra>",
         "legendgroup": "Sikkim",
         "marker": {
          "color": "#636efa",
          "pattern": {
           "shape": ""
          }
         },
         "name": "Sikkim",
         "offsetgroup": "Sikkim",
         "orientation": "v",
         "showlegend": true,
         "textposition": "auto",
         "type": "bar",
         "x": [
          "Sikkim",
          "Sikkim",
          "Sikkim",
          "Sikkim",
          "Sikkim",
          "Sikkim",
          "Sikkim",
          "Sikkim"
         ],
         "xaxis": "x",
         "y": [
          23.57,
          2.28,
          24.51,
          4.46,
          4.45,
          12.49,
          5.7,
          0.88
         ],
         "yaxis": "y"
        },
        {
         "alignmentgroup": "True",
         "hovertemplate": "States=%{x}<br>Estimated Unemployment Rate=%{y}<extra></extra>",
         "legendgroup": "Tamil Nadu",
         "marker": {
          "color": "#EF553B",
          "pattern": {
           "shape": ""
          }
         },
         "name": "Tamil Nadu",
         "offsetgroup": "Tamil Nadu",
         "orientation": "v",
         "showlegend": true,
         "textposition": "auto",
         "type": "bar",
         "x": [
          "Tamil Nadu",
          "Tamil Nadu",
          "Tamil Nadu",
          "Tamil Nadu",
          "Tamil Nadu",
          "Tamil Nadu",
          "Tamil Nadu",
          "Tamil Nadu",
          "Tamil Nadu",
          "Tamil Nadu"
         ],
         "xaxis": "x",
         "y": [
          1.57,
          2.09,
          6.4,
          49.83,
          33.16,
          12.2,
          6.81,
          2.65,
          5,
          2.16
         ],
         "yaxis": "y"
        },
        {
         "alignmentgroup": "True",
         "hovertemplate": "States=%{x}<br>Estimated Unemployment Rate=%{y}<extra></extra>",
         "legendgroup": "Telangana",
         "marker": {
          "color": "#00cc96",
          "pattern": {
           "shape": ""
          }
         },
         "name": "Telangana",
         "offsetgroup": "Telangana",
         "orientation": "v",
         "showlegend": true,
         "textposition": "auto",
         "type": "bar",
         "x": [
          "Telangana",
          "Telangana",
          "Telangana",
          "Telangana",
          "Telangana",
          "Telangana",
          "Telangana",
          "Telangana",
          "Telangana",
          "Telangana"
         ],
         "xaxis": "x",
         "y": [
          5.49,
          8.29,
          5.77,
          6.25,
          14.7,
          10.55,
          5.36,
          5.79,
          3.27,
          2.86
         ],
         "yaxis": "y"
        },
        {
         "alignmentgroup": "True",
         "hovertemplate": "States=%{x}<br>Estimated Unemployment Rate=%{y}<extra></extra>",
         "legendgroup": "Tripura",
         "marker": {
          "color": "#ab63fa",
          "pattern": {
           "shape": ""
          }
         },
         "name": "Tripura",
         "offsetgroup": "Tripura",
         "orientation": "v",
         "showlegend": true,
         "textposition": "auto",
         "type": "bar",
         "x": [
          "Tripura",
          "Tripura",
          "Tripura",
          "Tripura",
          "Tripura",
          "Tripura",
          "Tripura",
          "Tripura",
          "Tripura",
          "Tripura"
         ],
         "xaxis": "x",
         "y": [
          32.67,
          28.4,
          29.95,
          41.23,
          21.51,
          21.71,
          18.24,
          27.92,
          17.35,
          11.57
         ],
         "yaxis": "y"
        },
        {
         "alignmentgroup": "True",
         "hovertemplate": "States=%{x}<br>Estimated Unemployment Rate=%{y}<extra></extra>",
         "legendgroup": "Uttar Pradesh",
         "marker": {
          "color": "#FFA15A",
          "pattern": {
           "shape": ""
          }
         },
         "name": "Uttar Pradesh",
         "offsetgroup": "Uttar Pradesh",
         "orientation": "v",
         "showlegend": true,
         "textposition": "auto",
         "type": "bar",
         "x": [
          "Uttar Pradesh",
          "Uttar Pradesh",
          "Uttar Pradesh",
          "Uttar Pradesh",
          "Uttar Pradesh",
          "Uttar Pradesh",
          "Uttar Pradesh",
          "Uttar Pradesh",
          "Uttar Pradesh",
          "Uttar Pradesh"
         ],
         "xaxis": "x",
         "y": [
          7.58,
          8.98,
          10.11,
          21.54,
          20.41,
          9.47,
          5.56,
          5.79,
          4.18,
          3.75
         ],
         "yaxis": "y"
        },
        {
         "alignmentgroup": "True",
         "hovertemplate": "States=%{x}<br>Estimated Unemployment Rate=%{y}<extra></extra>",
         "legendgroup": "Uttarakhand",
         "marker": {
          "color": "#19d3f3",
          "pattern": {
           "shape": ""
          }
         },
         "name": "Uttarakhand",
         "offsetgroup": "Uttarakhand",
         "orientation": "v",
         "showlegend": true,
         "textposition": "auto",
         "type": "bar",
         "x": [
          "Uttarakhand",
          "Uttarakhand",
          "Uttarakhand",
          "Uttarakhand",
          "Uttarakhand",
          "Uttarakhand",
          "Uttarakhand",
          "Uttarakhand",
          "Uttarakhand",
          "Uttarakhand"
         ],
         "xaxis": "x",
         "y": [
          5.49,
          4.99,
          19.85,
          6.48,
          8.01,
          8.61,
          12.38,
          14.26,
          22.26,
          9.23
         ],
         "yaxis": "y"
        },
        {
         "alignmentgroup": "True",
         "hovertemplate": "States=%{x}<br>Estimated Unemployment Rate=%{y}<extra></extra>",
         "legendgroup": "West Bengal",
         "marker": {
          "color": "#FF6692",
          "pattern": {
           "shape": ""
          }
         },
         "name": "West Bengal",
         "offsetgroup": "West Bengal",
         "orientation": "v",
         "showlegend": true,
         "textposition": "auto",
         "type": "bar",
         "x": [
          "West Bengal",
          "West Bengal",
          "West Bengal",
          "West Bengal",
          "West Bengal",
          "West Bengal",
          "West Bengal",
          "West Bengal",
          "West Bengal",
          "West Bengal"
         ],
         "xaxis": "x",
         "y": [
          6.94,
          4.92,
          6.92,
          17.41,
          17.41,
          7.29,
          6.83,
          14.87,
          9.35,
          9.98
         ],
         "yaxis": "y"
        }
       ],
       "layout": {
        "barmode": "relative",
        "legend": {
         "title": {
          "text": "States"
         },
         "tracegroupgap": 0
        },
        "template": {
         "data": {
          "bar": [
           {
            "error_x": {
             "color": "#2a3f5f"
            },
            "error_y": {
             "color": "#2a3f5f"
            },
            "marker": {
             "line": {
              "color": "#E5ECF6",
              "width": 0.5
             },
             "pattern": {
              "fillmode": "overlay",
              "size": 10,
              "solidity": 0.2
             }
            },
            "type": "bar"
           }
          ],
          "barpolar": [
           {
            "marker": {
             "line": {
              "color": "#E5ECF6",
              "width": 0.5
             },
             "pattern": {
              "fillmode": "overlay",
              "size": 10,
              "solidity": 0.2
             }
            },
            "type": "barpolar"
           }
          ],
          "carpet": [
           {
            "aaxis": {
             "endlinecolor": "#2a3f5f",
             "gridcolor": "white",
             "linecolor": "white",
             "minorgridcolor": "white",
             "startlinecolor": "#2a3f5f"
            },
            "baxis": {
             "endlinecolor": "#2a3f5f",
             "gridcolor": "white",
             "linecolor": "white",
             "minorgridcolor": "white",
             "startlinecolor": "#2a3f5f"
            },
            "type": "carpet"
           }
          ],
          "choropleth": [
           {
            "colorbar": {
             "outlinewidth": 0,
             "ticks": ""
            },
            "type": "choropleth"
           }
          ],
          "contour": [
           {
            "colorbar": {
             "outlinewidth": 0,
             "ticks": ""
            },
            "colorscale": [
             [
              0,
              "#0d0887"
             ],
             [
              0.1111111111111111,
              "#46039f"
             ],
             [
              0.2222222222222222,
              "#7201a8"
             ],
             [
              0.3333333333333333,
              "#9c179e"
             ],
             [
              0.4444444444444444,
              "#bd3786"
             ],
             [
              0.5555555555555556,
              "#d8576b"
             ],
             [
              0.6666666666666666,
              "#ed7953"
             ],
             [
              0.7777777777777778,
              "#fb9f3a"
             ],
             [
              0.8888888888888888,
              "#fdca26"
             ],
             [
              1,
              "#f0f921"
             ]
            ],
            "type": "contour"
           }
          ],
          "contourcarpet": [
           {
            "colorbar": {
             "outlinewidth": 0,
             "ticks": ""
            },
            "type": "contourcarpet"
           }
          ],
          "heatmap": [
           {
            "colorbar": {
             "outlinewidth": 0,
             "ticks": ""
            },
            "colorscale": [
             [
              0,
              "#0d0887"
             ],
             [
              0.1111111111111111,
              "#46039f"
             ],
             [
              0.2222222222222222,
              "#7201a8"
             ],
             [
              0.3333333333333333,
              "#9c179e"
             ],
             [
              0.4444444444444444,
              "#bd3786"
             ],
             [
              0.5555555555555556,
              "#d8576b"
             ],
             [
              0.6666666666666666,
              "#ed7953"
             ],
             [
              0.7777777777777778,
              "#fb9f3a"
             ],
             [
              0.8888888888888888,
              "#fdca26"
             ],
             [
              1,
              "#f0f921"
             ]
            ],
            "type": "heatmap"
           }
          ],
          "heatmapgl": [
           {
            "colorbar": {
             "outlinewidth": 0,
             "ticks": ""
            },
            "colorscale": [
             [
              0,
              "#0d0887"
             ],
             [
              0.1111111111111111,
              "#46039f"
             ],
             [
              0.2222222222222222,
              "#7201a8"
             ],
             [
              0.3333333333333333,
              "#9c179e"
             ],
             [
              0.4444444444444444,
              "#bd3786"
             ],
             [
              0.5555555555555556,
              "#d8576b"
             ],
             [
              0.6666666666666666,
              "#ed7953"
             ],
             [
              0.7777777777777778,
              "#fb9f3a"
             ],
             [
              0.8888888888888888,
              "#fdca26"
             ],
             [
              1,
              "#f0f921"
             ]
            ],
            "type": "heatmapgl"
           }
          ],
          "histogram": [
           {
            "marker": {
             "pattern": {
              "fillmode": "overlay",
              "size": 10,
              "solidity": 0.2
             }
            },
            "type": "histogram"
           }
          ],
          "histogram2d": [
           {
            "colorbar": {
             "outlinewidth": 0,
             "ticks": ""
            },
            "colorscale": [
             [
              0,
              "#0d0887"
             ],
             [
              0.1111111111111111,
              "#46039f"
             ],
             [
              0.2222222222222222,
              "#7201a8"
             ],
             [
              0.3333333333333333,
              "#9c179e"
             ],
             [
              0.4444444444444444,
              "#bd3786"
             ],
             [
              0.5555555555555556,
              "#d8576b"
             ],
             [
              0.6666666666666666,
              "#ed7953"
             ],
             [
              0.7777777777777778,
              "#fb9f3a"
             ],
             [
              0.8888888888888888,
              "#fdca26"
             ],
             [
              1,
              "#f0f921"
             ]
            ],
            "type": "histogram2d"
           }
          ],
          "histogram2dcontour": [
           {
            "colorbar": {
             "outlinewidth": 0,
             "ticks": ""
            },
            "colorscale": [
             [
              0,
              "#0d0887"
             ],
             [
              0.1111111111111111,
              "#46039f"
             ],
             [
              0.2222222222222222,
              "#7201a8"
             ],
             [
              0.3333333333333333,
              "#9c179e"
             ],
             [
              0.4444444444444444,
              "#bd3786"
             ],
             [
              0.5555555555555556,
              "#d8576b"
             ],
             [
              0.6666666666666666,
              "#ed7953"
             ],
             [
              0.7777777777777778,
              "#fb9f3a"
             ],
             [
              0.8888888888888888,
              "#fdca26"
             ],
             [
              1,
              "#f0f921"
             ]
            ],
            "type": "histogram2dcontour"
           }
          ],
          "mesh3d": [
           {
            "colorbar": {
             "outlinewidth": 0,
             "ticks": ""
            },
            "type": "mesh3d"
           }
          ],
          "parcoords": [
           {
            "line": {
             "colorbar": {
              "outlinewidth": 0,
              "ticks": ""
             }
            },
            "type": "parcoords"
           }
          ],
          "pie": [
           {
            "automargin": true,
            "type": "pie"
           }
          ],
          "scatter": [
           {
            "fillpattern": {
             "fillmode": "overlay",
             "size": 10,
             "solidity": 0.2
            },
            "type": "scatter"
           }
          ],
          "scatter3d": [
           {
            "line": {
             "colorbar": {
              "outlinewidth": 0,
              "ticks": ""
             }
            },
            "marker": {
             "colorbar": {
              "outlinewidth": 0,
              "ticks": ""
             }
            },
            "type": "scatter3d"
           }
          ],
          "scattercarpet": [
           {
            "marker": {
             "colorbar": {
              "outlinewidth": 0,
              "ticks": ""
             }
            },
            "type": "scattercarpet"
           }
          ],
          "scattergeo": [
           {
            "marker": {
             "colorbar": {
              "outlinewidth": 0,
              "ticks": ""
             }
            },
            "type": "scattergeo"
           }
          ],
          "scattergl": [
           {
            "marker": {
             "colorbar": {
              "outlinewidth": 0,
              "ticks": ""
             }
            },
            "type": "scattergl"
           }
          ],
          "scattermapbox": [
           {
            "marker": {
             "colorbar": {
              "outlinewidth": 0,
              "ticks": ""
             }
            },
            "type": "scattermapbox"
           }
          ],
          "scatterpolar": [
           {
            "marker": {
             "colorbar": {
              "outlinewidth": 0,
              "ticks": ""
             }
            },
            "type": "scatterpolar"
           }
          ],
          "scatterpolargl": [
           {
            "marker": {
             "colorbar": {
              "outlinewidth": 0,
              "ticks": ""
             }
            },
            "type": "scatterpolargl"
           }
          ],
          "scatterternary": [
           {
            "marker": {
             "colorbar": {
              "outlinewidth": 0,
              "ticks": ""
             }
            },
            "type": "scatterternary"
           }
          ],
          "surface": [
           {
            "colorbar": {
             "outlinewidth": 0,
             "ticks": ""
            },
            "colorscale": [
             [
              0,
              "#0d0887"
             ],
             [
              0.1111111111111111,
              "#46039f"
             ],
             [
              0.2222222222222222,
              "#7201a8"
             ],
             [
              0.3333333333333333,
              "#9c179e"
             ],
             [
              0.4444444444444444,
              "#bd3786"
             ],
             [
              0.5555555555555556,
              "#d8576b"
             ],
             [
              0.6666666666666666,
              "#ed7953"
             ],
             [
              0.7777777777777778,
              "#fb9f3a"
             ],
             [
              0.8888888888888888,
              "#fdca26"
             ],
             [
              1,
              "#f0f921"
             ]
            ],
            "type": "surface"
           }
          ],
          "table": [
           {
            "cells": {
             "fill": {
              "color": "#EBF0F8"
             },
             "line": {
              "color": "white"
             }
            },
            "header": {
             "fill": {
              "color": "#C8D4E3"
             },
             "line": {
              "color": "white"
             }
            },
            "type": "table"
           }
          ]
         },
         "layout": {
          "annotationdefaults": {
           "arrowcolor": "#2a3f5f",
           "arrowhead": 0,
           "arrowwidth": 1
          },
          "autotypenumbers": "strict",
          "coloraxis": {
           "colorbar": {
            "outlinewidth": 0,
            "ticks": ""
           }
          },
          "colorscale": {
           "diverging": [
            [
             0,
             "#8e0152"
            ],
            [
             0.1,
             "#c51b7d"
            ],
            [
             0.2,
             "#de77ae"
            ],
            [
             0.3,
             "#f1b6da"
            ],
            [
             0.4,
             "#fde0ef"
            ],
            [
             0.5,
             "#f7f7f7"
            ],
            [
             0.6,
             "#e6f5d0"
            ],
            [
             0.7,
             "#b8e186"
            ],
            [
             0.8,
             "#7fbc41"
            ],
            [
             0.9,
             "#4d9221"
            ],
            [
             1,
             "#276419"
            ]
           ],
           "sequential": [
            [
             0,
             "#0d0887"
            ],
            [
             0.1111111111111111,
             "#46039f"
            ],
            [
             0.2222222222222222,
             "#7201a8"
            ],
            [
             0.3333333333333333,
             "#9c179e"
            ],
            [
             0.4444444444444444,
             "#bd3786"
            ],
            [
             0.5555555555555556,
             "#d8576b"
            ],
            [
             0.6666666666666666,
             "#ed7953"
            ],
            [
             0.7777777777777778,
             "#fb9f3a"
            ],
            [
             0.8888888888888888,
             "#fdca26"
            ],
            [
             1,
             "#f0f921"
            ]
           ],
           "sequentialminus": [
            [
             0,
             "#0d0887"
            ],
            [
             0.1111111111111111,
             "#46039f"
            ],
            [
             0.2222222222222222,
             "#7201a8"
            ],
            [
             0.3333333333333333,
             "#9c179e"
            ],
            [
             0.4444444444444444,
             "#bd3786"
            ],
            [
             0.5555555555555556,
             "#d8576b"
            ],
            [
             0.6666666666666666,
             "#ed7953"
            ],
            [
             0.7777777777777778,
             "#fb9f3a"
            ],
            [
             0.8888888888888888,
             "#fdca26"
            ],
            [
             1,
             "#f0f921"
            ]
           ]
          },
          "colorway": [
           "#636efa",
           "#EF553B",
           "#00cc96",
           "#ab63fa",
           "#FFA15A",
           "#19d3f3",
           "#FF6692",
           "#B6E880",
           "#FF97FF",
           "#FECB52"
          ],
          "font": {
           "color": "#2a3f5f"
          },
          "geo": {
           "bgcolor": "white",
           "lakecolor": "white",
           "landcolor": "#E5ECF6",
           "showlakes": true,
           "showland": true,
           "subunitcolor": "white"
          },
          "hoverlabel": {
           "align": "left"
          },
          "hovermode": "closest",
          "mapbox": {
           "style": "light"
          },
          "paper_bgcolor": "white",
          "plot_bgcolor": "#E5ECF6",
          "polar": {
           "angularaxis": {
            "gridcolor": "white",
            "linecolor": "white",
            "ticks": ""
           },
           "bgcolor": "#E5ECF6",
           "radialaxis": {
            "gridcolor": "white",
            "linecolor": "white",
            "ticks": ""
           }
          },
          "scene": {
           "xaxis": {
            "backgroundcolor": "#E5ECF6",
            "gridcolor": "white",
            "gridwidth": 2,
            "linecolor": "white",
            "showbackground": true,
            "ticks": "",
            "zerolinecolor": "white"
           },
           "yaxis": {
            "backgroundcolor": "#E5ECF6",
            "gridcolor": "white",
            "gridwidth": 2,
            "linecolor": "white",
            "showbackground": true,
            "ticks": "",
            "zerolinecolor": "white"
           },
           "zaxis": {
            "backgroundcolor": "#E5ECF6",
            "gridcolor": "white",
            "gridwidth": 2,
            "linecolor": "white",
            "showbackground": true,
            "ticks": "",
            "zerolinecolor": "white"
           }
          },
          "shapedefaults": {
           "line": {
            "color": "#2a3f5f"
           }
          },
          "ternary": {
           "aaxis": {
            "gridcolor": "white",
            "linecolor": "white",
            "ticks": ""
           },
           "baxis": {
            "gridcolor": "white",
            "linecolor": "white",
            "ticks": ""
           },
           "bgcolor": "#E5ECF6",
           "caxis": {
            "gridcolor": "white",
            "linecolor": "white",
            "ticks": ""
           }
          },
          "title": {
           "x": 0.05
          },
          "xaxis": {
           "automargin": true,
           "gridcolor": "white",
           "linecolor": "white",
           "ticks": "",
           "title": {
            "standoff": 15
           },
           "zerolinecolor": "white",
           "zerolinewidth": 2
          },
          "yaxis": {
           "automargin": true,
           "gridcolor": "white",
           "linecolor": "white",
           "ticks": "",
           "title": {
            "standoff": 15
           },
           "zerolinecolor": "white",
           "zerolinewidth": 2
          }
         }
        },
        "title": {
         "text": "Indian unemployment rate(state-wise)"
        },
        "xaxis": {
         "anchor": "y",
         "categoryarray": [
          "Andhra Pradesh",
          "Assam",
          "Bihar",
          "Chhattisgarh",
          "Delhi",
          "Goa",
          "Gujarat",
          "Haryana",
          "Himachal Pradesh",
          "Jammu & Kashmir",
          "Jharkhand",
          "Karnataka",
          "Kerala",
          "Madhya Pradesh",
          "Maharashtra",
          "Meghalaya",
          "Odisha",
          "Puducherry",
          "Punjab",
          "Rajasthan",
          "Sikkim",
          "Tamil Nadu",
          "Telangana",
          "Tripura",
          "Uttar Pradesh",
          "Uttarakhand",
          "West Bengal"
         ],
         "categoryorder": "total descending",
         "domain": [
          0,
          1
         ],
         "title": {
          "text": "States"
         }
        },
        "yaxis": {
         "anchor": "x",
         "domain": [
          0,
          1
         ],
         "title": {
          "text": "Estimated Unemployment Rate"
         }
        }
       }
      },
      "text/html": [
       "<div>                            <div id=\"2cc6748a-33d9-4d2f-a751-ea93a23f078d\" class=\"plotly-graph-div\" style=\"height:525px; width:100%;\"></div>            <script type=\"text/javascript\">                require([\"plotly\"], function(Plotly) {                    window.PLOTLYENV=window.PLOTLYENV || {};                                    if (document.getElementById(\"2cc6748a-33d9-4d2f-a751-ea93a23f078d\")) {                    Plotly.newPlot(                        \"2cc6748a-33d9-4d2f-a751-ea93a23f078d\",                        [{\"alignmentgroup\":\"True\",\"hovertemplate\":\"States=%{x}<br>Estimated Unemployment Rate=%{y}<extra></extra>\",\"legendgroup\":\"Andhra Pradesh\",\"marker\":{\"color\":\"#636efa\",\"pattern\":{\"shape\":\"\"}},\"name\":\"Andhra Pradesh\",\"offsetgroup\":\"Andhra Pradesh\",\"orientation\":\"v\",\"showlegend\":true,\"textposition\":\"auto\",\"x\":[\"Andhra Pradesh\",\"Andhra Pradesh\",\"Andhra Pradesh\",\"Andhra Pradesh\",\"Andhra Pradesh\",\"Andhra Pradesh\",\"Andhra Pradesh\",\"Andhra Pradesh\",\"Andhra Pradesh\",\"Andhra Pradesh\"],\"xaxis\":\"x\",\"y\":[5.48,5.83,5.79,20.51,17.43,3.31,8.34,6.96,6.4,6.59],\"yaxis\":\"y\",\"type\":\"bar\"},{\"alignmentgroup\":\"True\",\"hovertemplate\":\"States=%{x}<br>Estimated Unemployment Rate=%{y}<extra></extra>\",\"legendgroup\":\"Assam\",\"marker\":{\"color\":\"#EF553B\",\"pattern\":{\"shape\":\"\"}},\"name\":\"Assam\",\"offsetgroup\":\"Assam\",\"orientation\":\"v\",\"showlegend\":true,\"textposition\":\"auto\",\"x\":[\"Assam\",\"Assam\",\"Assam\",\"Assam\",\"Assam\",\"Assam\",\"Assam\",\"Assam\",\"Assam\",\"Assam\"],\"xaxis\":\"x\",\"y\":[4.66,4.41,4.77,11.06,9.55,0.6,3.77,5.53,1.19,3.02],\"yaxis\":\"y\",\"type\":\"bar\"},{\"alignmentgroup\":\"True\",\"hovertemplate\":\"States=%{x}<br>Estimated Unemployment Rate=%{y}<extra></extra>\",\"legendgroup\":\"Bihar\",\"marker\":{\"color\":\"#00cc96\",\"pattern\":{\"shape\":\"\"}},\"name\":\"Bihar\",\"offsetgroup\":\"Bihar\",\"orientation\":\"v\",\"showlegend\":true,\"textposition\":\"auto\",\"x\":[\"Bihar\",\"Bihar\",\"Bihar\",\"Bihar\",\"Bihar\",\"Bihar\",\"Bihar\",\"Bihar\",\"Bihar\",\"Bihar\"],\"xaxis\":\"x\",\"y\":[10.61,10.29,15.43,46.64,45.96,17.82,12.79,13.44,11.91,9.82],\"yaxis\":\"y\",\"type\":\"bar\"},{\"alignmentgroup\":\"True\",\"hovertemplate\":\"States=%{x}<br>Estimated Unemployment Rate=%{y}<extra></extra>\",\"legendgroup\":\"Chhattisgarh\",\"marker\":{\"color\":\"#ab63fa\",\"pattern\":{\"shape\":\"\"}},\"name\":\"Chhattisgarh\",\"offsetgroup\":\"Chhattisgarh\",\"orientation\":\"v\",\"showlegend\":true,\"textposition\":\"auto\",\"x\":[\"Chhattisgarh\",\"Chhattisgarh\",\"Chhattisgarh\",\"Chhattisgarh\",\"Chhattisgarh\",\"Chhattisgarh\",\"Chhattisgarh\",\"Chhattisgarh\",\"Chhattisgarh\",\"Chhattisgarh\"],\"xaxis\":\"x\",\"y\":[9.65,8.38,7.54,3.41,10.5,14.23,10.27,5.63,1.96,6.62],\"yaxis\":\"y\",\"type\":\"bar\"},{\"alignmentgroup\":\"True\",\"hovertemplate\":\"States=%{x}<br>Estimated Unemployment Rate=%{y}<extra></extra>\",\"legendgroup\":\"Delhi\",\"marker\":{\"color\":\"#FFA15A\",\"pattern\":{\"shape\":\"\"}},\"name\":\"Delhi\",\"offsetgroup\":\"Delhi\",\"orientation\":\"v\",\"showlegend\":true,\"textposition\":\"auto\",\"x\":[\"Delhi\",\"Delhi\",\"Delhi\",\"Delhi\",\"Delhi\",\"Delhi\",\"Delhi\",\"Delhi\",\"Delhi\",\"Delhi\"],\"xaxis\":\"x\",\"y\":[22.23,14.84,17.04,16.68,42.27,18.19,20.3,13.79,12.53,6.27],\"yaxis\":\"y\",\"type\":\"bar\"},{\"alignmentgroup\":\"True\",\"hovertemplate\":\"States=%{x}<br>Estimated Unemployment Rate=%{y}<extra></extra>\",\"legendgroup\":\"Goa\",\"marker\":{\"color\":\"#19d3f3\",\"pattern\":{\"shape\":\"\"}},\"name\":\"Goa\",\"offsetgroup\":\"Goa\",\"orientation\":\"v\",\"showlegend\":true,\"textposition\":\"auto\",\"x\":[\"Goa\",\"Goa\",\"Goa\",\"Goa\",\"Goa\",\"Goa\",\"Goa\",\"Goa\",\"Goa\",\"Goa\"],\"xaxis\":\"x\",\"y\":[8.89,2.81,5.25,13.31,21.25,9.96,17.07,16.21,15.38,11.54],\"yaxis\":\"y\",\"type\":\"bar\"},{\"alignmentgroup\":\"True\",\"hovertemplate\":\"States=%{x}<br>Estimated Unemployment Rate=%{y}<extra></extra>\",\"legendgroup\":\"Gujarat\",\"marker\":{\"color\":\"#FF6692\",\"pattern\":{\"shape\":\"\"}},\"name\":\"Gujarat\",\"offsetgroup\":\"Gujarat\",\"orientation\":\"v\",\"showlegend\":true,\"textposition\":\"auto\",\"x\":[\"Gujarat\",\"Gujarat\",\"Gujarat\",\"Gujarat\",\"Gujarat\",\"Gujarat\",\"Gujarat\",\"Gujarat\",\"Gujarat\",\"Gujarat\"],\"xaxis\":\"x\",\"y\":[5.54,6.38,6.66,18.71,12.11,3.2,1.84,1.87,3.42,4.03],\"yaxis\":\"y\",\"type\":\"bar\"},{\"alignmentgroup\":\"True\",\"hovertemplate\":\"States=%{x}<br>Estimated Unemployment Rate=%{y}<extra></extra>\",\"legendgroup\":\"Haryana\",\"marker\":{\"color\":\"#B6E880\",\"pattern\":{\"shape\":\"\"}},\"name\":\"Haryana\",\"offsetgroup\":\"Haryana\",\"orientation\":\"v\",\"showlegend\":true,\"textposition\":\"auto\",\"x\":[\"Haryana\",\"Haryana\",\"Haryana\",\"Haryana\",\"Haryana\",\"Haryana\",\"Haryana\",\"Haryana\",\"Haryana\",\"Haryana\"],\"xaxis\":\"x\",\"y\":[20.34,25.77,25.05,43.22,29.02,26.7,24.18,33.5,19.68,27.31],\"yaxis\":\"y\",\"type\":\"bar\"},{\"alignmentgroup\":\"True\",\"hovertemplate\":\"States=%{x}<br>Estimated Unemployment Rate=%{y}<extra></extra>\",\"legendgroup\":\"Himachal Pradesh\",\"marker\":{\"color\":\"#FF97FF\",\"pattern\":{\"shape\":\"\"}},\"name\":\"Himachal Pradesh\",\"offsetgroup\":\"Himachal Pradesh\",\"orientation\":\"v\",\"showlegend\":true,\"textposition\":\"auto\",\"x\":[\"Himachal Pradesh\",\"Himachal Pradesh\",\"Himachal Pradesh\",\"Himachal Pradesh\",\"Himachal Pradesh\",\"Himachal Pradesh\",\"Himachal Pradesh\",\"Himachal Pradesh\",\"Himachal Pradesh\",\"Himachal Pradesh\"],\"xaxis\":\"x\",\"y\":[16.83,16.84,18.76,2.2,26.95,13.47,24.31,15.79,12.04,13.46],\"yaxis\":\"y\",\"type\":\"bar\"},{\"alignmentgroup\":\"True\",\"hovertemplate\":\"States=%{x}<br>Estimated Unemployment Rate=%{y}<extra></extra>\",\"legendgroup\":\"Jammu & Kashmir\",\"marker\":{\"color\":\"#FECB52\",\"pattern\":{\"shape\":\"\"}},\"name\":\"Jammu & Kashmir\",\"offsetgroup\":\"Jammu & Kashmir\",\"orientation\":\"v\",\"showlegend\":true,\"textposition\":\"auto\",\"x\":[\"Jammu & Kashmir\",\"Jammu & Kashmir\",\"Jammu & Kashmir\",\"Jammu & Kashmir\",\"Jammu & Kashmir\",\"Jammu & Kashmir\",\"Jammu & Kashmir\",\"Jammu & Kashmir\",\"Jammu & Kashmir\"],\"xaxis\":\"x\",\"y\":[21.08,20.78,15.5,18.74,17.92,10.88,11.09,16.17,16.14],\"yaxis\":\"y\",\"type\":\"bar\"},{\"alignmentgroup\":\"True\",\"hovertemplate\":\"States=%{x}<br>Estimated Unemployment Rate=%{y}<extra></extra>\",\"legendgroup\":\"Jharkhand\",\"marker\":{\"color\":\"#636efa\",\"pattern\":{\"shape\":\"\"}},\"name\":\"Jharkhand\",\"offsetgroup\":\"Jharkhand\",\"orientation\":\"v\",\"showlegend\":true,\"textposition\":\"auto\",\"x\":[\"Jharkhand\",\"Jharkhand\",\"Jharkhand\",\"Jharkhand\",\"Jharkhand\",\"Jharkhand\",\"Jharkhand\",\"Jharkhand\",\"Jharkhand\",\"Jharkhand\"],\"xaxis\":\"x\",\"y\":[10.61,11.85,8.23,47.09,59.23,20.95,7.63,9.76,8.24,11.8],\"yaxis\":\"y\",\"type\":\"bar\"},{\"alignmentgroup\":\"True\",\"hovertemplate\":\"States=%{x}<br>Estimated Unemployment Rate=%{y}<extra></extra>\",\"legendgroup\":\"Karnataka\",\"marker\":{\"color\":\"#EF553B\",\"pattern\":{\"shape\":\"\"}},\"name\":\"Karnataka\",\"offsetgroup\":\"Karnataka\",\"orientation\":\"v\",\"showlegend\":true,\"textposition\":\"auto\",\"x\":[\"Karnataka\",\"Karnataka\",\"Karnataka\",\"Karnataka\",\"Karnataka\",\"Karnataka\",\"Karnataka\",\"Karnataka\",\"Karnataka\",\"Karnataka\"],\"xaxis\":\"x\",\"y\":[2.86,3.61,3.46,29.84,19.97,8.44,4.01,0.5,2.41,1.58],\"yaxis\":\"y\",\"type\":\"bar\"},{\"alignmentgroup\":\"True\",\"hovertemplate\":\"States=%{x}<br>Estimated Unemployment Rate=%{y}<extra></extra>\",\"legendgroup\":\"Kerala\",\"marker\":{\"color\":\"#00cc96\",\"pattern\":{\"shape\":\"\"}},\"name\":\"Kerala\",\"offsetgroup\":\"Kerala\",\"orientation\":\"v\",\"showlegend\":true,\"textposition\":\"auto\",\"x\":[\"Kerala\",\"Kerala\",\"Kerala\",\"Kerala\",\"Kerala\",\"Kerala\",\"Kerala\",\"Kerala\",\"Kerala\",\"Kerala\"],\"xaxis\":\"x\",\"y\":[5.31,7.6,8.99,16.99,17.88,9.71,7.09,10.98,5.91,3.88],\"yaxis\":\"y\",\"type\":\"bar\"},{\"alignmentgroup\":\"True\",\"hovertemplate\":\"States=%{x}<br>Estimated Unemployment Rate=%{y}<extra></extra>\",\"legendgroup\":\"Madhya Pradesh\",\"marker\":{\"color\":\"#ab63fa\",\"pattern\":{\"shape\":\"\"}},\"name\":\"Madhya Pradesh\",\"offsetgroup\":\"Madhya Pradesh\",\"orientation\":\"v\",\"showlegend\":true,\"textposition\":\"auto\",\"x\":[\"Madhya Pradesh\",\"Madhya Pradesh\",\"Madhya Pradesh\",\"Madhya Pradesh\",\"Madhya Pradesh\",\"Madhya Pradesh\",\"Madhya Pradesh\",\"Madhya Pradesh\",\"Madhya Pradesh\",\"Madhya Pradesh\"],\"xaxis\":\"x\",\"y\":[4.11,4.57,2.22,12.36,21.98,6.48,5.08,4.7,3.91,3.13],\"yaxis\":\"y\",\"type\":\"bar\"},{\"alignmentgroup\":\"True\",\"hovertemplate\":\"States=%{x}<br>Estimated Unemployment Rate=%{y}<extra></extra>\",\"legendgroup\":\"Maharashtra\",\"marker\":{\"color\":\"#FFA15A\",\"pattern\":{\"shape\":\"\"}},\"name\":\"Maharashtra\",\"offsetgroup\":\"Maharashtra\",\"orientation\":\"v\",\"showlegend\":true,\"textposition\":\"auto\",\"x\":[\"Maharashtra\",\"Maharashtra\",\"Maharashtra\",\"Maharashtra\",\"Maharashtra\",\"Maharashtra\",\"Maharashtra\",\"Maharashtra\",\"Maharashtra\",\"Maharashtra\"],\"xaxis\":\"x\",\"y\":[4.95,4.69,5.79,20.9,15.46,9.23,3.89,6.23,4.55,4.1],\"yaxis\":\"y\",\"type\":\"bar\"},{\"alignmentgroup\":\"True\",\"hovertemplate\":\"States=%{x}<br>Estimated Unemployment Rate=%{y}<extra></extra>\",\"legendgroup\":\"Meghalaya\",\"marker\":{\"color\":\"#19d3f3\",\"pattern\":{\"shape\":\"\"}},\"name\":\"Meghalaya\",\"offsetgroup\":\"Meghalaya\",\"orientation\":\"v\",\"showlegend\":true,\"textposition\":\"auto\",\"x\":[\"Meghalaya\",\"Meghalaya\",\"Meghalaya\",\"Meghalaya\",\"Meghalaya\",\"Meghalaya\",\"Meghalaya\",\"Meghalaya\",\"Meghalaya\",\"Meghalaya\"],\"xaxis\":\"x\",\"y\":[1.66,3.59,1.58,10.03,5.92,1.15,2.1,3.74,4.29,4.6],\"yaxis\":\"y\",\"type\":\"bar\"},{\"alignmentgroup\":\"True\",\"hovertemplate\":\"States=%{x}<br>Estimated Unemployment Rate=%{y}<extra></extra>\",\"legendgroup\":\"Odisha\",\"marker\":{\"color\":\"#FF6692\",\"pattern\":{\"shape\":\"\"}},\"name\":\"Odisha\",\"offsetgroup\":\"Odisha\",\"orientation\":\"v\",\"showlegend\":true,\"textposition\":\"auto\",\"x\":[\"Odisha\",\"Odisha\",\"Odisha\",\"Odisha\",\"Odisha\",\"Odisha\",\"Odisha\",\"Odisha\",\"Odisha\",\"Odisha\"],\"xaxis\":\"x\",\"y\":[1.9,3.12,13.08,23.76,11.41,3.77,1.88,1.42,2.1,2.18],\"yaxis\":\"y\",\"type\":\"bar\"},{\"alignmentgroup\":\"True\",\"hovertemplate\":\"States=%{x}<br>Estimated Unemployment Rate=%{y}<extra></extra>\",\"legendgroup\":\"Puducherry\",\"marker\":{\"color\":\"#B6E880\",\"pattern\":{\"shape\":\"\"}},\"name\":\"Puducherry\",\"offsetgroup\":\"Puducherry\",\"orientation\":\"v\",\"showlegend\":true,\"textposition\":\"auto\",\"x\":[\"Puducherry\",\"Puducherry\",\"Puducherry\",\"Puducherry\",\"Puducherry\",\"Puducherry\",\"Puducherry\",\"Puducherry\",\"Puducherry\",\"Puducherry\"],\"xaxis\":\"x\",\"y\":[0.58,1.76,1.2,75.85,58.19,4.24,15.47,5.05,10.9,6.18],\"yaxis\":\"y\",\"type\":\"bar\"},{\"alignmentgroup\":\"True\",\"hovertemplate\":\"States=%{x}<br>Estimated Unemployment Rate=%{y}<extra></extra>\",\"legendgroup\":\"Punjab\",\"marker\":{\"color\":\"#FF97FF\",\"pattern\":{\"shape\":\"\"}},\"name\":\"Punjab\",\"offsetgroup\":\"Punjab\",\"orientation\":\"v\",\"showlegend\":true,\"textposition\":\"auto\",\"x\":[\"Punjab\",\"Punjab\",\"Punjab\",\"Punjab\",\"Punjab\",\"Punjab\",\"Punjab\",\"Punjab\",\"Punjab\",\"Punjab\"],\"xaxis\":\"x\",\"y\":[11.11,10.97,10.32,2.86,28.33,16.55,9.19,10.99,9.61,9.88],\"yaxis\":\"y\",\"type\":\"bar\"},{\"alignmentgroup\":\"True\",\"hovertemplate\":\"States=%{x}<br>Estimated Unemployment Rate=%{y}<extra></extra>\",\"legendgroup\":\"Rajasthan\",\"marker\":{\"color\":\"#FECB52\",\"pattern\":{\"shape\":\"\"}},\"name\":\"Rajasthan\",\"offsetgroup\":\"Rajasthan\",\"orientation\":\"v\",\"showlegend\":true,\"textposition\":\"auto\",\"x\":[\"Rajasthan\",\"Rajasthan\",\"Rajasthan\",\"Rajasthan\",\"Rajasthan\",\"Rajasthan\",\"Rajasthan\",\"Rajasthan\",\"Rajasthan\",\"Rajasthan\"],\"xaxis\":\"x\",\"y\":[10.97,15.16,11.9,17.7,15.74,14.39,15.81,17.51,15.35,24.15],\"yaxis\":\"y\",\"type\":\"bar\"},{\"alignmentgroup\":\"True\",\"hovertemplate\":\"States=%{x}<br>Estimated Unemployment Rate=%{y}<extra></extra>\",\"legendgroup\":\"Sikkim\",\"marker\":{\"color\":\"#636efa\",\"pattern\":{\"shape\":\"\"}},\"name\":\"Sikkim\",\"offsetgroup\":\"Sikkim\",\"orientation\":\"v\",\"showlegend\":true,\"textposition\":\"auto\",\"x\":[\"Sikkim\",\"Sikkim\",\"Sikkim\",\"Sikkim\",\"Sikkim\",\"Sikkim\",\"Sikkim\",\"Sikkim\"],\"xaxis\":\"x\",\"y\":[23.57,2.28,24.51,4.46,4.45,12.49,5.7,0.88],\"yaxis\":\"y\",\"type\":\"bar\"},{\"alignmentgroup\":\"True\",\"hovertemplate\":\"States=%{x}<br>Estimated Unemployment Rate=%{y}<extra></extra>\",\"legendgroup\":\"Tamil Nadu\",\"marker\":{\"color\":\"#EF553B\",\"pattern\":{\"shape\":\"\"}},\"name\":\"Tamil Nadu\",\"offsetgroup\":\"Tamil Nadu\",\"orientation\":\"v\",\"showlegend\":true,\"textposition\":\"auto\",\"x\":[\"Tamil Nadu\",\"Tamil Nadu\",\"Tamil Nadu\",\"Tamil Nadu\",\"Tamil Nadu\",\"Tamil Nadu\",\"Tamil Nadu\",\"Tamil Nadu\",\"Tamil Nadu\",\"Tamil Nadu\"],\"xaxis\":\"x\",\"y\":[1.57,2.09,6.4,49.83,33.16,12.2,6.81,2.65,5.0,2.16],\"yaxis\":\"y\",\"type\":\"bar\"},{\"alignmentgroup\":\"True\",\"hovertemplate\":\"States=%{x}<br>Estimated Unemployment Rate=%{y}<extra></extra>\",\"legendgroup\":\"Telangana\",\"marker\":{\"color\":\"#00cc96\",\"pattern\":{\"shape\":\"\"}},\"name\":\"Telangana\",\"offsetgroup\":\"Telangana\",\"orientation\":\"v\",\"showlegend\":true,\"textposition\":\"auto\",\"x\":[\"Telangana\",\"Telangana\",\"Telangana\",\"Telangana\",\"Telangana\",\"Telangana\",\"Telangana\",\"Telangana\",\"Telangana\",\"Telangana\"],\"xaxis\":\"x\",\"y\":[5.49,8.29,5.77,6.25,14.7,10.55,5.36,5.79,3.27,2.86],\"yaxis\":\"y\",\"type\":\"bar\"},{\"alignmentgroup\":\"True\",\"hovertemplate\":\"States=%{x}<br>Estimated Unemployment Rate=%{y}<extra></extra>\",\"legendgroup\":\"Tripura\",\"marker\":{\"color\":\"#ab63fa\",\"pattern\":{\"shape\":\"\"}},\"name\":\"Tripura\",\"offsetgroup\":\"Tripura\",\"orientation\":\"v\",\"showlegend\":true,\"textposition\":\"auto\",\"x\":[\"Tripura\",\"Tripura\",\"Tripura\",\"Tripura\",\"Tripura\",\"Tripura\",\"Tripura\",\"Tripura\",\"Tripura\",\"Tripura\"],\"xaxis\":\"x\",\"y\":[32.67,28.4,29.95,41.23,21.51,21.71,18.24,27.92,17.35,11.57],\"yaxis\":\"y\",\"type\":\"bar\"},{\"alignmentgroup\":\"True\",\"hovertemplate\":\"States=%{x}<br>Estimated Unemployment Rate=%{y}<extra></extra>\",\"legendgroup\":\"Uttar Pradesh\",\"marker\":{\"color\":\"#FFA15A\",\"pattern\":{\"shape\":\"\"}},\"name\":\"Uttar Pradesh\",\"offsetgroup\":\"Uttar Pradesh\",\"orientation\":\"v\",\"showlegend\":true,\"textposition\":\"auto\",\"x\":[\"Uttar Pradesh\",\"Uttar Pradesh\",\"Uttar Pradesh\",\"Uttar Pradesh\",\"Uttar Pradesh\",\"Uttar Pradesh\",\"Uttar Pradesh\",\"Uttar Pradesh\",\"Uttar Pradesh\",\"Uttar Pradesh\"],\"xaxis\":\"x\",\"y\":[7.58,8.98,10.11,21.54,20.41,9.47,5.56,5.79,4.18,3.75],\"yaxis\":\"y\",\"type\":\"bar\"},{\"alignmentgroup\":\"True\",\"hovertemplate\":\"States=%{x}<br>Estimated Unemployment Rate=%{y}<extra></extra>\",\"legendgroup\":\"Uttarakhand\",\"marker\":{\"color\":\"#19d3f3\",\"pattern\":{\"shape\":\"\"}},\"name\":\"Uttarakhand\",\"offsetgroup\":\"Uttarakhand\",\"orientation\":\"v\",\"showlegend\":true,\"textposition\":\"auto\",\"x\":[\"Uttarakhand\",\"Uttarakhand\",\"Uttarakhand\",\"Uttarakhand\",\"Uttarakhand\",\"Uttarakhand\",\"Uttarakhand\",\"Uttarakhand\",\"Uttarakhand\",\"Uttarakhand\"],\"xaxis\":\"x\",\"y\":[5.49,4.99,19.85,6.48,8.01,8.61,12.38,14.26,22.26,9.23],\"yaxis\":\"y\",\"type\":\"bar\"},{\"alignmentgroup\":\"True\",\"hovertemplate\":\"States=%{x}<br>Estimated Unemployment Rate=%{y}<extra></extra>\",\"legendgroup\":\"West Bengal\",\"marker\":{\"color\":\"#FF6692\",\"pattern\":{\"shape\":\"\"}},\"name\":\"West Bengal\",\"offsetgroup\":\"West Bengal\",\"orientation\":\"v\",\"showlegend\":true,\"textposition\":\"auto\",\"x\":[\"West Bengal\",\"West Bengal\",\"West Bengal\",\"West Bengal\",\"West Bengal\",\"West Bengal\",\"West Bengal\",\"West Bengal\",\"West Bengal\",\"West Bengal\"],\"xaxis\":\"x\",\"y\":[6.94,4.92,6.92,17.41,17.41,7.29,6.83,14.87,9.35,9.98],\"yaxis\":\"y\",\"type\":\"bar\"}],                        {\"template\":{\"data\":{\"histogram2dcontour\":[{\"type\":\"histogram2dcontour\",\"colorbar\":{\"outlinewidth\":0,\"ticks\":\"\"},\"colorscale\":[[0.0,\"#0d0887\"],[0.1111111111111111,\"#46039f\"],[0.2222222222222222,\"#7201a8\"],[0.3333333333333333,\"#9c179e\"],[0.4444444444444444,\"#bd3786\"],[0.5555555555555556,\"#d8576b\"],[0.6666666666666666,\"#ed7953\"],[0.7777777777777778,\"#fb9f3a\"],[0.8888888888888888,\"#fdca26\"],[1.0,\"#f0f921\"]]}],\"choropleth\":[{\"type\":\"choropleth\",\"colorbar\":{\"outlinewidth\":0,\"ticks\":\"\"}}],\"histogram2d\":[{\"type\":\"histogram2d\",\"colorbar\":{\"outlinewidth\":0,\"ticks\":\"\"},\"colorscale\":[[0.0,\"#0d0887\"],[0.1111111111111111,\"#46039f\"],[0.2222222222222222,\"#7201a8\"],[0.3333333333333333,\"#9c179e\"],[0.4444444444444444,\"#bd3786\"],[0.5555555555555556,\"#d8576b\"],[0.6666666666666666,\"#ed7953\"],[0.7777777777777778,\"#fb9f3a\"],[0.8888888888888888,\"#fdca26\"],[1.0,\"#f0f921\"]]}],\"heatmap\":[{\"type\":\"heatmap\",\"colorbar\":{\"outlinewidth\":0,\"ticks\":\"\"},\"colorscale\":[[0.0,\"#0d0887\"],[0.1111111111111111,\"#46039f\"],[0.2222222222222222,\"#7201a8\"],[0.3333333333333333,\"#9c179e\"],[0.4444444444444444,\"#bd3786\"],[0.5555555555555556,\"#d8576b\"],[0.6666666666666666,\"#ed7953\"],[0.7777777777777778,\"#fb9f3a\"],[0.8888888888888888,\"#fdca26\"],[1.0,\"#f0f921\"]]}],\"heatmapgl\":[{\"type\":\"heatmapgl\",\"colorbar\":{\"outlinewidth\":0,\"ticks\":\"\"},\"colorscale\":[[0.0,\"#0d0887\"],[0.1111111111111111,\"#46039f\"],[0.2222222222222222,\"#7201a8\"],[0.3333333333333333,\"#9c179e\"],[0.4444444444444444,\"#bd3786\"],[0.5555555555555556,\"#d8576b\"],[0.6666666666666666,\"#ed7953\"],[0.7777777777777778,\"#fb9f3a\"],[0.8888888888888888,\"#fdca26\"],[1.0,\"#f0f921\"]]}],\"contourcarpet\":[{\"type\":\"contourcarpet\",\"colorbar\":{\"outlinewidth\":0,\"ticks\":\"\"}}],\"contour\":[{\"type\":\"contour\",\"colorbar\":{\"outlinewidth\":0,\"ticks\":\"\"},\"colorscale\":[[0.0,\"#0d0887\"],[0.1111111111111111,\"#46039f\"],[0.2222222222222222,\"#7201a8\"],[0.3333333333333333,\"#9c179e\"],[0.4444444444444444,\"#bd3786\"],[0.5555555555555556,\"#d8576b\"],[0.6666666666666666,\"#ed7953\"],[0.7777777777777778,\"#fb9f3a\"],[0.8888888888888888,\"#fdca26\"],[1.0,\"#f0f921\"]]}],\"surface\":[{\"type\":\"surface\",\"colorbar\":{\"outlinewidth\":0,\"ticks\":\"\"},\"colorscale\":[[0.0,\"#0d0887\"],[0.1111111111111111,\"#46039f\"],[0.2222222222222222,\"#7201a8\"],[0.3333333333333333,\"#9c179e\"],[0.4444444444444444,\"#bd3786\"],[0.5555555555555556,\"#d8576b\"],[0.6666666666666666,\"#ed7953\"],[0.7777777777777778,\"#fb9f3a\"],[0.8888888888888888,\"#fdca26\"],[1.0,\"#f0f921\"]]}],\"mesh3d\":[{\"type\":\"mesh3d\",\"colorbar\":{\"outlinewidth\":0,\"ticks\":\"\"}}],\"scatter\":[{\"fillpattern\":{\"fillmode\":\"overlay\",\"size\":10,\"solidity\":0.2},\"type\":\"scatter\"}],\"parcoords\":[{\"type\":\"parcoords\",\"line\":{\"colorbar\":{\"outlinewidth\":0,\"ticks\":\"\"}}}],\"scatterpolargl\":[{\"type\":\"scatterpolargl\",\"marker\":{\"colorbar\":{\"outlinewidth\":0,\"ticks\":\"\"}}}],\"bar\":[{\"error_x\":{\"color\":\"#2a3f5f\"},\"error_y\":{\"color\":\"#2a3f5f\"},\"marker\":{\"line\":{\"color\":\"#E5ECF6\",\"width\":0.5},\"pattern\":{\"fillmode\":\"overlay\",\"size\":10,\"solidity\":0.2}},\"type\":\"bar\"}],\"scattergeo\":[{\"type\":\"scattergeo\",\"marker\":{\"colorbar\":{\"outlinewidth\":0,\"ticks\":\"\"}}}],\"scatterpolar\":[{\"type\":\"scatterpolar\",\"marker\":{\"colorbar\":{\"outlinewidth\":0,\"ticks\":\"\"}}}],\"histogram\":[{\"marker\":{\"pattern\":{\"fillmode\":\"overlay\",\"size\":10,\"solidity\":0.2}},\"type\":\"histogram\"}],\"scattergl\":[{\"type\":\"scattergl\",\"marker\":{\"colorbar\":{\"outlinewidth\":0,\"ticks\":\"\"}}}],\"scatter3d\":[{\"type\":\"scatter3d\",\"line\":{\"colorbar\":{\"outlinewidth\":0,\"ticks\":\"\"}},\"marker\":{\"colorbar\":{\"outlinewidth\":0,\"ticks\":\"\"}}}],\"scattermapbox\":[{\"type\":\"scattermapbox\",\"marker\":{\"colorbar\":{\"outlinewidth\":0,\"ticks\":\"\"}}}],\"scatterternary\":[{\"type\":\"scatterternary\",\"marker\":{\"colorbar\":{\"outlinewidth\":0,\"ticks\":\"\"}}}],\"scattercarpet\":[{\"type\":\"scattercarpet\",\"marker\":{\"colorbar\":{\"outlinewidth\":0,\"ticks\":\"\"}}}],\"carpet\":[{\"aaxis\":{\"endlinecolor\":\"#2a3f5f\",\"gridcolor\":\"white\",\"linecolor\":\"white\",\"minorgridcolor\":\"white\",\"startlinecolor\":\"#2a3f5f\"},\"baxis\":{\"endlinecolor\":\"#2a3f5f\",\"gridcolor\":\"white\",\"linecolor\":\"white\",\"minorgridcolor\":\"white\",\"startlinecolor\":\"#2a3f5f\"},\"type\":\"carpet\"}],\"table\":[{\"cells\":{\"fill\":{\"color\":\"#EBF0F8\"},\"line\":{\"color\":\"white\"}},\"header\":{\"fill\":{\"color\":\"#C8D4E3\"},\"line\":{\"color\":\"white\"}},\"type\":\"table\"}],\"barpolar\":[{\"marker\":{\"line\":{\"color\":\"#E5ECF6\",\"width\":0.5},\"pattern\":{\"fillmode\":\"overlay\",\"size\":10,\"solidity\":0.2}},\"type\":\"barpolar\"}],\"pie\":[{\"automargin\":true,\"type\":\"pie\"}]},\"layout\":{\"autotypenumbers\":\"strict\",\"colorway\":[\"#636efa\",\"#EF553B\",\"#00cc96\",\"#ab63fa\",\"#FFA15A\",\"#19d3f3\",\"#FF6692\",\"#B6E880\",\"#FF97FF\",\"#FECB52\"],\"font\":{\"color\":\"#2a3f5f\"},\"hovermode\":\"closest\",\"hoverlabel\":{\"align\":\"left\"},\"paper_bgcolor\":\"white\",\"plot_bgcolor\":\"#E5ECF6\",\"polar\":{\"bgcolor\":\"#E5ECF6\",\"angularaxis\":{\"gridcolor\":\"white\",\"linecolor\":\"white\",\"ticks\":\"\"},\"radialaxis\":{\"gridcolor\":\"white\",\"linecolor\":\"white\",\"ticks\":\"\"}},\"ternary\":{\"bgcolor\":\"#E5ECF6\",\"aaxis\":{\"gridcolor\":\"white\",\"linecolor\":\"white\",\"ticks\":\"\"},\"baxis\":{\"gridcolor\":\"white\",\"linecolor\":\"white\",\"ticks\":\"\"},\"caxis\":{\"gridcolor\":\"white\",\"linecolor\":\"white\",\"ticks\":\"\"}},\"coloraxis\":{\"colorbar\":{\"outlinewidth\":0,\"ticks\":\"\"}},\"colorscale\":{\"sequential\":[[0.0,\"#0d0887\"],[0.1111111111111111,\"#46039f\"],[0.2222222222222222,\"#7201a8\"],[0.3333333333333333,\"#9c179e\"],[0.4444444444444444,\"#bd3786\"],[0.5555555555555556,\"#d8576b\"],[0.6666666666666666,\"#ed7953\"],[0.7777777777777778,\"#fb9f3a\"],[0.8888888888888888,\"#fdca26\"],[1.0,\"#f0f921\"]],\"sequentialminus\":[[0.0,\"#0d0887\"],[0.1111111111111111,\"#46039f\"],[0.2222222222222222,\"#7201a8\"],[0.3333333333333333,\"#9c179e\"],[0.4444444444444444,\"#bd3786\"],[0.5555555555555556,\"#d8576b\"],[0.6666666666666666,\"#ed7953\"],[0.7777777777777778,\"#fb9f3a\"],[0.8888888888888888,\"#fdca26\"],[1.0,\"#f0f921\"]],\"diverging\":[[0,\"#8e0152\"],[0.1,\"#c51b7d\"],[0.2,\"#de77ae\"],[0.3,\"#f1b6da\"],[0.4,\"#fde0ef\"],[0.5,\"#f7f7f7\"],[0.6,\"#e6f5d0\"],[0.7,\"#b8e186\"],[0.8,\"#7fbc41\"],[0.9,\"#4d9221\"],[1,\"#276419\"]]},\"xaxis\":{\"gridcolor\":\"white\",\"linecolor\":\"white\",\"ticks\":\"\",\"title\":{\"standoff\":15},\"zerolinecolor\":\"white\",\"automargin\":true,\"zerolinewidth\":2},\"yaxis\":{\"gridcolor\":\"white\",\"linecolor\":\"white\",\"ticks\":\"\",\"title\":{\"standoff\":15},\"zerolinecolor\":\"white\",\"automargin\":true,\"zerolinewidth\":2},\"scene\":{\"xaxis\":{\"backgroundcolor\":\"#E5ECF6\",\"gridcolor\":\"white\",\"linecolor\":\"white\",\"showbackground\":true,\"ticks\":\"\",\"zerolinecolor\":\"white\",\"gridwidth\":2},\"yaxis\":{\"backgroundcolor\":\"#E5ECF6\",\"gridcolor\":\"white\",\"linecolor\":\"white\",\"showbackground\":true,\"ticks\":\"\",\"zerolinecolor\":\"white\",\"gridwidth\":2},\"zaxis\":{\"backgroundcolor\":\"#E5ECF6\",\"gridcolor\":\"white\",\"linecolor\":\"white\",\"showbackground\":true,\"ticks\":\"\",\"zerolinecolor\":\"white\",\"gridwidth\":2}},\"shapedefaults\":{\"line\":{\"color\":\"#2a3f5f\"}},\"annotationdefaults\":{\"arrowcolor\":\"#2a3f5f\",\"arrowhead\":0,\"arrowwidth\":1},\"geo\":{\"bgcolor\":\"white\",\"landcolor\":\"#E5ECF6\",\"subunitcolor\":\"white\",\"showland\":true,\"showlakes\":true,\"lakecolor\":\"white\"},\"title\":{\"x\":0.05},\"mapbox\":{\"style\":\"light\"}}},\"xaxis\":{\"anchor\":\"y\",\"domain\":[0.0,1.0],\"title\":{\"text\":\"States\"},\"categoryorder\":\"total descending\",\"categoryarray\":[\"Andhra Pradesh\",\"Assam\",\"Bihar\",\"Chhattisgarh\",\"Delhi\",\"Goa\",\"Gujarat\",\"Haryana\",\"Himachal Pradesh\",\"Jammu & Kashmir\",\"Jharkhand\",\"Karnataka\",\"Kerala\",\"Madhya Pradesh\",\"Maharashtra\",\"Meghalaya\",\"Odisha\",\"Puducherry\",\"Punjab\",\"Rajasthan\",\"Sikkim\",\"Tamil Nadu\",\"Telangana\",\"Tripura\",\"Uttar Pradesh\",\"Uttarakhand\",\"West Bengal\"]},\"yaxis\":{\"anchor\":\"x\",\"domain\":[0.0,1.0],\"title\":{\"text\":\"Estimated Unemployment Rate\"}},\"legend\":{\"title\":{\"text\":\"States\"},\"tracegroupgap\":0},\"title\":{\"text\":\"Indian unemployment rate(state-wise)\"},\"barmode\":\"relative\"},                        {\"responsive\": true}                    ).then(function(){\n",
       "                            \n",
       "var gd = document.getElementById('2cc6748a-33d9-4d2f-a751-ea93a23f078d');\n",
       "var x = new MutationObserver(function (mutations, observer) {{\n",
       "        var display = window.getComputedStyle(gd).display;\n",
       "        if (!display || display === 'none') {{\n",
       "            console.log([gd, 'removed!']);\n",
       "            Plotly.purge(gd);\n",
       "            observer.disconnect();\n",
       "        }}\n",
       "}});\n",
       "\n",
       "// Listen for the removal of the full notebook cells\n",
       "var notebookContainer = gd.closest('#notebook-container');\n",
       "if (notebookContainer) {{\n",
       "    x.observe(notebookContainer, {childList: true});\n",
       "}}\n",
       "\n",
       "// Listen for the clearing of the current output cell\n",
       "var outputEl = gd.closest('.output');\n",
       "if (outputEl) {{\n",
       "    x.observe(outputEl, {childList: true});\n",
       "}}\n",
       "\n",
       "                        })                };                });            </script>        </div>"
      ]
     },
     "metadata": {},
     "output_type": "display_data"
    }
   ],
   "source": [
    "fg=px.bar(dk,x='States',y='Estimated Unemployment Rate',title='Indian unemployment rate(state-wise)',template='plotly',color='States')\n",
    "fg.update_layout(xaxis={'categoryorder':'total descending'})\n",
    "fg.show()"
   ]
  },
  {
   "cell_type": "code",
   "execution_count": 34,
   "id": "a74c4e58",
   "metadata": {},
   "outputs": [
    {
     "data": {
      "application/vnd.plotly.v1+json": {
       "config": {
        "plotlyServerURL": "https://plot.ly"
       },
       "data": [
        {
         "alignmentgroup": "True",
         "hovertemplate": "Region=%{x}<br>Estimated Unemployment Rate=%{y}<extra></extra>",
         "legendgroup": "South",
         "marker": {
          "color": "#636efa",
          "pattern": {
           "shape": ""
          }
         },
         "name": "South",
         "offsetgroup": "South",
         "orientation": "v",
         "showlegend": true,
         "textposition": "auto",
         "type": "bar",
         "x": [
          "South",
          "South",
          "South",
          "South",
          "South",
          "South",
          "South",
          "South",
          "South",
          "South",
          "South",
          "South",
          "South",
          "South",
          "South",
          "South",
          "South",
          "South",
          "South",
          "South",
          "South",
          "South",
          "South",
          "South",
          "South",
          "South",
          "South",
          "South",
          "South",
          "South",
          "South",
          "South",
          "South",
          "South",
          "South",
          "South",
          "South",
          "South",
          "South",
          "South",
          "South",
          "South",
          "South",
          "South",
          "South",
          "South",
          "South",
          "South",
          "South",
          "South",
          "South",
          "South",
          "South",
          "South",
          "South",
          "South",
          "South",
          "South",
          "South",
          "South"
         ],
         "xaxis": "x",
         "y": [
          5.48,
          5.83,
          5.79,
          20.51,
          17.43,
          3.31,
          8.34,
          6.96,
          6.4,
          6.59,
          2.86,
          3.61,
          3.46,
          29.84,
          19.97,
          8.44,
          4.01,
          0.5,
          2.41,
          1.58,
          5.31,
          7.6,
          8.99,
          16.99,
          17.88,
          9.71,
          7.09,
          10.98,
          5.91,
          3.88,
          0.58,
          1.76,
          1.2,
          75.85,
          58.19,
          4.24,
          15.47,
          5.05,
          10.9,
          6.18,
          1.57,
          2.09,
          6.4,
          49.83,
          33.16,
          12.2,
          6.81,
          2.65,
          5,
          2.16,
          5.49,
          8.29,
          5.77,
          6.25,
          14.7,
          10.55,
          5.36,
          5.79,
          3.27,
          2.86
         ],
         "yaxis": "y"
        },
        {
         "alignmentgroup": "True",
         "hovertemplate": "Region=%{x}<br>Estimated Unemployment Rate=%{y}<extra></extra>",
         "legendgroup": "Northeast",
         "marker": {
          "color": "#EF553B",
          "pattern": {
           "shape": ""
          }
         },
         "name": "Northeast",
         "offsetgroup": "Northeast",
         "orientation": "v",
         "showlegend": true,
         "textposition": "auto",
         "type": "bar",
         "x": [
          "Northeast",
          "Northeast",
          "Northeast",
          "Northeast",
          "Northeast",
          "Northeast",
          "Northeast",
          "Northeast",
          "Northeast",
          "Northeast",
          "Northeast",
          "Northeast",
          "Northeast",
          "Northeast",
          "Northeast",
          "Northeast",
          "Northeast",
          "Northeast",
          "Northeast",
          "Northeast",
          "Northeast",
          "Northeast",
          "Northeast",
          "Northeast",
          "Northeast",
          "Northeast",
          "Northeast",
          "Northeast",
          "Northeast",
          "Northeast",
          "Northeast",
          "Northeast",
          "Northeast",
          "Northeast",
          "Northeast",
          "Northeast",
          "Northeast",
          "Northeast"
         ],
         "xaxis": "x",
         "y": [
          4.66,
          4.41,
          4.77,
          11.06,
          9.55,
          0.6,
          3.77,
          5.53,
          1.19,
          3.02,
          1.66,
          3.59,
          1.58,
          10.03,
          5.92,
          1.15,
          2.1,
          3.74,
          4.29,
          4.6,
          23.57,
          2.28,
          24.51,
          4.46,
          4.45,
          12.49,
          5.7,
          0.88,
          32.67,
          28.4,
          29.95,
          41.23,
          21.51,
          21.71,
          18.24,
          27.92,
          17.35,
          11.57
         ],
         "yaxis": "y"
        },
        {
         "alignmentgroup": "True",
         "hovertemplate": "Region=%{x}<br>Estimated Unemployment Rate=%{y}<extra></extra>",
         "legendgroup": "East",
         "marker": {
          "color": "#00cc96",
          "pattern": {
           "shape": ""
          }
         },
         "name": "East",
         "offsetgroup": "East",
         "orientation": "v",
         "showlegend": true,
         "textposition": "auto",
         "type": "bar",
         "x": [
          "East",
          "East",
          "East",
          "East",
          "East",
          "East",
          "East",
          "East",
          "East",
          "East",
          "East",
          "East",
          "East",
          "East",
          "East",
          "East",
          "East",
          "East",
          "East",
          "East",
          "East",
          "East",
          "East",
          "East",
          "East",
          "East",
          "East",
          "East",
          "East",
          "East",
          "East",
          "East",
          "East",
          "East",
          "East",
          "East",
          "East",
          "East",
          "East",
          "East"
         ],
         "xaxis": "x",
         "y": [
          10.61,
          10.29,
          15.43,
          46.64,
          45.96,
          17.82,
          12.79,
          13.44,
          11.91,
          9.82,
          10.61,
          11.85,
          8.23,
          47.09,
          59.23,
          20.95,
          7.63,
          9.76,
          8.24,
          11.8,
          1.9,
          3.12,
          13.08,
          23.76,
          11.41,
          3.77,
          1.88,
          1.42,
          2.1,
          2.18,
          6.94,
          4.92,
          6.92,
          17.41,
          17.41,
          7.29,
          6.83,
          14.87,
          9.35,
          9.98
         ],
         "yaxis": "y"
        },
        {
         "alignmentgroup": "True",
         "hovertemplate": "Region=%{x}<br>Estimated Unemployment Rate=%{y}<extra></extra>",
         "legendgroup": "West",
         "marker": {
          "color": "#ab63fa",
          "pattern": {
           "shape": ""
          }
         },
         "name": "West",
         "offsetgroup": "West",
         "orientation": "v",
         "showlegend": true,
         "textposition": "auto",
         "type": "bar",
         "x": [
          "West",
          "West",
          "West",
          "West",
          "West",
          "West",
          "West",
          "West",
          "West",
          "West",
          "West",
          "West",
          "West",
          "West",
          "West",
          "West",
          "West",
          "West",
          "West",
          "West",
          "West",
          "West",
          "West",
          "West",
          "West",
          "West",
          "West",
          "West",
          "West",
          "West",
          "West",
          "West",
          "West",
          "West",
          "West",
          "West",
          "West",
          "West",
          "West",
          "West",
          "West",
          "West",
          "West",
          "West",
          "West",
          "West",
          "West",
          "West",
          "West",
          "West"
         ],
         "xaxis": "x",
         "y": [
          9.65,
          8.38,
          7.54,
          3.41,
          10.5,
          14.23,
          10.27,
          5.63,
          1.96,
          6.62,
          8.89,
          2.81,
          5.25,
          13.31,
          21.25,
          9.96,
          17.07,
          16.21,
          15.38,
          11.54,
          5.54,
          6.38,
          6.66,
          18.71,
          12.11,
          3.2,
          1.84,
          1.87,
          3.42,
          4.03,
          4.11,
          4.57,
          2.22,
          12.36,
          21.98,
          6.48,
          5.08,
          4.7,
          3.91,
          3.13,
          4.95,
          4.69,
          5.79,
          20.9,
          15.46,
          9.23,
          3.89,
          6.23,
          4.55,
          4.1
         ],
         "yaxis": "y"
        },
        {
         "alignmentgroup": "True",
         "hovertemplate": "Region=%{x}<br>Estimated Unemployment Rate=%{y}<extra></extra>",
         "legendgroup": "North",
         "marker": {
          "color": "#FFA15A",
          "pattern": {
           "shape": ""
          }
         },
         "name": "North",
         "offsetgroup": "North",
         "orientation": "v",
         "showlegend": true,
         "textposition": "auto",
         "type": "bar",
         "x": [
          "North",
          "North",
          "North",
          "North",
          "North",
          "North",
          "North",
          "North",
          "North",
          "North",
          "North",
          "North",
          "North",
          "North",
          "North",
          "North",
          "North",
          "North",
          "North",
          "North",
          "North",
          "North",
          "North",
          "North",
          "North",
          "North",
          "North",
          "North",
          "North",
          "North",
          "North",
          "North",
          "North",
          "North",
          "North",
          "North",
          "North",
          "North",
          "North",
          "North",
          "North",
          "North",
          "North",
          "North",
          "North",
          "North",
          "North",
          "North",
          "North",
          "North",
          "North",
          "North",
          "North",
          "North",
          "North",
          "North",
          "North",
          "North",
          "North",
          "North",
          "North",
          "North",
          "North",
          "North",
          "North",
          "North",
          "North",
          "North",
          "North",
          "North",
          "North",
          "North",
          "North",
          "North",
          "North",
          "North",
          "North",
          "North",
          "North"
         ],
         "xaxis": "x",
         "y": [
          22.23,
          14.84,
          17.04,
          16.68,
          42.27,
          18.19,
          20.3,
          13.79,
          12.53,
          6.27,
          20.34,
          25.77,
          25.05,
          43.22,
          29.02,
          26.7,
          24.18,
          33.5,
          19.68,
          27.31,
          16.83,
          16.84,
          18.76,
          2.2,
          26.95,
          13.47,
          24.31,
          15.79,
          12.04,
          13.46,
          21.08,
          20.78,
          15.5,
          18.74,
          17.92,
          10.88,
          11.09,
          16.17,
          16.14,
          11.11,
          10.97,
          10.32,
          2.86,
          28.33,
          16.55,
          9.19,
          10.99,
          9.61,
          9.88,
          10.97,
          15.16,
          11.9,
          17.7,
          15.74,
          14.39,
          15.81,
          17.51,
          15.35,
          24.15,
          7.58,
          8.98,
          10.11,
          21.54,
          20.41,
          9.47,
          5.56,
          5.79,
          4.18,
          3.75,
          5.49,
          4.99,
          19.85,
          6.48,
          8.01,
          8.61,
          12.38,
          14.26,
          22.26,
          9.23
         ],
         "yaxis": "y"
        }
       ],
       "layout": {
        "barmode": "relative",
        "legend": {
         "title": {
          "text": "Region"
         },
         "tracegroupgap": 0
        },
        "template": {
         "data": {
          "bar": [
           {
            "error_x": {
             "color": "#2a3f5f"
            },
            "error_y": {
             "color": "#2a3f5f"
            },
            "marker": {
             "line": {
              "color": "#E5ECF6",
              "width": 0.5
             },
             "pattern": {
              "fillmode": "overlay",
              "size": 10,
              "solidity": 0.2
             }
            },
            "type": "bar"
           }
          ],
          "barpolar": [
           {
            "marker": {
             "line": {
              "color": "#E5ECF6",
              "width": 0.5
             },
             "pattern": {
              "fillmode": "overlay",
              "size": 10,
              "solidity": 0.2
             }
            },
            "type": "barpolar"
           }
          ],
          "carpet": [
           {
            "aaxis": {
             "endlinecolor": "#2a3f5f",
             "gridcolor": "white",
             "linecolor": "white",
             "minorgridcolor": "white",
             "startlinecolor": "#2a3f5f"
            },
            "baxis": {
             "endlinecolor": "#2a3f5f",
             "gridcolor": "white",
             "linecolor": "white",
             "minorgridcolor": "white",
             "startlinecolor": "#2a3f5f"
            },
            "type": "carpet"
           }
          ],
          "choropleth": [
           {
            "colorbar": {
             "outlinewidth": 0,
             "ticks": ""
            },
            "type": "choropleth"
           }
          ],
          "contour": [
           {
            "colorbar": {
             "outlinewidth": 0,
             "ticks": ""
            },
            "colorscale": [
             [
              0,
              "#0d0887"
             ],
             [
              0.1111111111111111,
              "#46039f"
             ],
             [
              0.2222222222222222,
              "#7201a8"
             ],
             [
              0.3333333333333333,
              "#9c179e"
             ],
             [
              0.4444444444444444,
              "#bd3786"
             ],
             [
              0.5555555555555556,
              "#d8576b"
             ],
             [
              0.6666666666666666,
              "#ed7953"
             ],
             [
              0.7777777777777778,
              "#fb9f3a"
             ],
             [
              0.8888888888888888,
              "#fdca26"
             ],
             [
              1,
              "#f0f921"
             ]
            ],
            "type": "contour"
           }
          ],
          "contourcarpet": [
           {
            "colorbar": {
             "outlinewidth": 0,
             "ticks": ""
            },
            "type": "contourcarpet"
           }
          ],
          "heatmap": [
           {
            "colorbar": {
             "outlinewidth": 0,
             "ticks": ""
            },
            "colorscale": [
             [
              0,
              "#0d0887"
             ],
             [
              0.1111111111111111,
              "#46039f"
             ],
             [
              0.2222222222222222,
              "#7201a8"
             ],
             [
              0.3333333333333333,
              "#9c179e"
             ],
             [
              0.4444444444444444,
              "#bd3786"
             ],
             [
              0.5555555555555556,
              "#d8576b"
             ],
             [
              0.6666666666666666,
              "#ed7953"
             ],
             [
              0.7777777777777778,
              "#fb9f3a"
             ],
             [
              0.8888888888888888,
              "#fdca26"
             ],
             [
              1,
              "#f0f921"
             ]
            ],
            "type": "heatmap"
           }
          ],
          "heatmapgl": [
           {
            "colorbar": {
             "outlinewidth": 0,
             "ticks": ""
            },
            "colorscale": [
             [
              0,
              "#0d0887"
             ],
             [
              0.1111111111111111,
              "#46039f"
             ],
             [
              0.2222222222222222,
              "#7201a8"
             ],
             [
              0.3333333333333333,
              "#9c179e"
             ],
             [
              0.4444444444444444,
              "#bd3786"
             ],
             [
              0.5555555555555556,
              "#d8576b"
             ],
             [
              0.6666666666666666,
              "#ed7953"
             ],
             [
              0.7777777777777778,
              "#fb9f3a"
             ],
             [
              0.8888888888888888,
              "#fdca26"
             ],
             [
              1,
              "#f0f921"
             ]
            ],
            "type": "heatmapgl"
           }
          ],
          "histogram": [
           {
            "marker": {
             "pattern": {
              "fillmode": "overlay",
              "size": 10,
              "solidity": 0.2
             }
            },
            "type": "histogram"
           }
          ],
          "histogram2d": [
           {
            "colorbar": {
             "outlinewidth": 0,
             "ticks": ""
            },
            "colorscale": [
             [
              0,
              "#0d0887"
             ],
             [
              0.1111111111111111,
              "#46039f"
             ],
             [
              0.2222222222222222,
              "#7201a8"
             ],
             [
              0.3333333333333333,
              "#9c179e"
             ],
             [
              0.4444444444444444,
              "#bd3786"
             ],
             [
              0.5555555555555556,
              "#d8576b"
             ],
             [
              0.6666666666666666,
              "#ed7953"
             ],
             [
              0.7777777777777778,
              "#fb9f3a"
             ],
             [
              0.8888888888888888,
              "#fdca26"
             ],
             [
              1,
              "#f0f921"
             ]
            ],
            "type": "histogram2d"
           }
          ],
          "histogram2dcontour": [
           {
            "colorbar": {
             "outlinewidth": 0,
             "ticks": ""
            },
            "colorscale": [
             [
              0,
              "#0d0887"
             ],
             [
              0.1111111111111111,
              "#46039f"
             ],
             [
              0.2222222222222222,
              "#7201a8"
             ],
             [
              0.3333333333333333,
              "#9c179e"
             ],
             [
              0.4444444444444444,
              "#bd3786"
             ],
             [
              0.5555555555555556,
              "#d8576b"
             ],
             [
              0.6666666666666666,
              "#ed7953"
             ],
             [
              0.7777777777777778,
              "#fb9f3a"
             ],
             [
              0.8888888888888888,
              "#fdca26"
             ],
             [
              1,
              "#f0f921"
             ]
            ],
            "type": "histogram2dcontour"
           }
          ],
          "mesh3d": [
           {
            "colorbar": {
             "outlinewidth": 0,
             "ticks": ""
            },
            "type": "mesh3d"
           }
          ],
          "parcoords": [
           {
            "line": {
             "colorbar": {
              "outlinewidth": 0,
              "ticks": ""
             }
            },
            "type": "parcoords"
           }
          ],
          "pie": [
           {
            "automargin": true,
            "type": "pie"
           }
          ],
          "scatter": [
           {
            "fillpattern": {
             "fillmode": "overlay",
             "size": 10,
             "solidity": 0.2
            },
            "type": "scatter"
           }
          ],
          "scatter3d": [
           {
            "line": {
             "colorbar": {
              "outlinewidth": 0,
              "ticks": ""
             }
            },
            "marker": {
             "colorbar": {
              "outlinewidth": 0,
              "ticks": ""
             }
            },
            "type": "scatter3d"
           }
          ],
          "scattercarpet": [
           {
            "marker": {
             "colorbar": {
              "outlinewidth": 0,
              "ticks": ""
             }
            },
            "type": "scattercarpet"
           }
          ],
          "scattergeo": [
           {
            "marker": {
             "colorbar": {
              "outlinewidth": 0,
              "ticks": ""
             }
            },
            "type": "scattergeo"
           }
          ],
          "scattergl": [
           {
            "marker": {
             "colorbar": {
              "outlinewidth": 0,
              "ticks": ""
             }
            },
            "type": "scattergl"
           }
          ],
          "scattermapbox": [
           {
            "marker": {
             "colorbar": {
              "outlinewidth": 0,
              "ticks": ""
             }
            },
            "type": "scattermapbox"
           }
          ],
          "scatterpolar": [
           {
            "marker": {
             "colorbar": {
              "outlinewidth": 0,
              "ticks": ""
             }
            },
            "type": "scatterpolar"
           }
          ],
          "scatterpolargl": [
           {
            "marker": {
             "colorbar": {
              "outlinewidth": 0,
              "ticks": ""
             }
            },
            "type": "scatterpolargl"
           }
          ],
          "scatterternary": [
           {
            "marker": {
             "colorbar": {
              "outlinewidth": 0,
              "ticks": ""
             }
            },
            "type": "scatterternary"
           }
          ],
          "surface": [
           {
            "colorbar": {
             "outlinewidth": 0,
             "ticks": ""
            },
            "colorscale": [
             [
              0,
              "#0d0887"
             ],
             [
              0.1111111111111111,
              "#46039f"
             ],
             [
              0.2222222222222222,
              "#7201a8"
             ],
             [
              0.3333333333333333,
              "#9c179e"
             ],
             [
              0.4444444444444444,
              "#bd3786"
             ],
             [
              0.5555555555555556,
              "#d8576b"
             ],
             [
              0.6666666666666666,
              "#ed7953"
             ],
             [
              0.7777777777777778,
              "#fb9f3a"
             ],
             [
              0.8888888888888888,
              "#fdca26"
             ],
             [
              1,
              "#f0f921"
             ]
            ],
            "type": "surface"
           }
          ],
          "table": [
           {
            "cells": {
             "fill": {
              "color": "#EBF0F8"
             },
             "line": {
              "color": "white"
             }
            },
            "header": {
             "fill": {
              "color": "#C8D4E3"
             },
             "line": {
              "color": "white"
             }
            },
            "type": "table"
           }
          ]
         },
         "layout": {
          "annotationdefaults": {
           "arrowcolor": "#2a3f5f",
           "arrowhead": 0,
           "arrowwidth": 1
          },
          "autotypenumbers": "strict",
          "coloraxis": {
           "colorbar": {
            "outlinewidth": 0,
            "ticks": ""
           }
          },
          "colorscale": {
           "diverging": [
            [
             0,
             "#8e0152"
            ],
            [
             0.1,
             "#c51b7d"
            ],
            [
             0.2,
             "#de77ae"
            ],
            [
             0.3,
             "#f1b6da"
            ],
            [
             0.4,
             "#fde0ef"
            ],
            [
             0.5,
             "#f7f7f7"
            ],
            [
             0.6,
             "#e6f5d0"
            ],
            [
             0.7,
             "#b8e186"
            ],
            [
             0.8,
             "#7fbc41"
            ],
            [
             0.9,
             "#4d9221"
            ],
            [
             1,
             "#276419"
            ]
           ],
           "sequential": [
            [
             0,
             "#0d0887"
            ],
            [
             0.1111111111111111,
             "#46039f"
            ],
            [
             0.2222222222222222,
             "#7201a8"
            ],
            [
             0.3333333333333333,
             "#9c179e"
            ],
            [
             0.4444444444444444,
             "#bd3786"
            ],
            [
             0.5555555555555556,
             "#d8576b"
            ],
            [
             0.6666666666666666,
             "#ed7953"
            ],
            [
             0.7777777777777778,
             "#fb9f3a"
            ],
            [
             0.8888888888888888,
             "#fdca26"
            ],
            [
             1,
             "#f0f921"
            ]
           ],
           "sequentialminus": [
            [
             0,
             "#0d0887"
            ],
            [
             0.1111111111111111,
             "#46039f"
            ],
            [
             0.2222222222222222,
             "#7201a8"
            ],
            [
             0.3333333333333333,
             "#9c179e"
            ],
            [
             0.4444444444444444,
             "#bd3786"
            ],
            [
             0.5555555555555556,
             "#d8576b"
            ],
            [
             0.6666666666666666,
             "#ed7953"
            ],
            [
             0.7777777777777778,
             "#fb9f3a"
            ],
            [
             0.8888888888888888,
             "#fdca26"
            ],
            [
             1,
             "#f0f921"
            ]
           ]
          },
          "colorway": [
           "#636efa",
           "#EF553B",
           "#00cc96",
           "#ab63fa",
           "#FFA15A",
           "#19d3f3",
           "#FF6692",
           "#B6E880",
           "#FF97FF",
           "#FECB52"
          ],
          "font": {
           "color": "#2a3f5f"
          },
          "geo": {
           "bgcolor": "white",
           "lakecolor": "white",
           "landcolor": "#E5ECF6",
           "showlakes": true,
           "showland": true,
           "subunitcolor": "white"
          },
          "hoverlabel": {
           "align": "left"
          },
          "hovermode": "closest",
          "mapbox": {
           "style": "light"
          },
          "paper_bgcolor": "white",
          "plot_bgcolor": "#E5ECF6",
          "polar": {
           "angularaxis": {
            "gridcolor": "white",
            "linecolor": "white",
            "ticks": ""
           },
           "bgcolor": "#E5ECF6",
           "radialaxis": {
            "gridcolor": "white",
            "linecolor": "white",
            "ticks": ""
           }
          },
          "scene": {
           "xaxis": {
            "backgroundcolor": "#E5ECF6",
            "gridcolor": "white",
            "gridwidth": 2,
            "linecolor": "white",
            "showbackground": true,
            "ticks": "",
            "zerolinecolor": "white"
           },
           "yaxis": {
            "backgroundcolor": "#E5ECF6",
            "gridcolor": "white",
            "gridwidth": 2,
            "linecolor": "white",
            "showbackground": true,
            "ticks": "",
            "zerolinecolor": "white"
           },
           "zaxis": {
            "backgroundcolor": "#E5ECF6",
            "gridcolor": "white",
            "gridwidth": 2,
            "linecolor": "white",
            "showbackground": true,
            "ticks": "",
            "zerolinecolor": "white"
           }
          },
          "shapedefaults": {
           "line": {
            "color": "#2a3f5f"
           }
          },
          "ternary": {
           "aaxis": {
            "gridcolor": "white",
            "linecolor": "white",
            "ticks": ""
           },
           "baxis": {
            "gridcolor": "white",
            "linecolor": "white",
            "ticks": ""
           },
           "bgcolor": "#E5ECF6",
           "caxis": {
            "gridcolor": "white",
            "linecolor": "white",
            "ticks": ""
           }
          },
          "title": {
           "x": 0.05
          },
          "xaxis": {
           "automargin": true,
           "gridcolor": "white",
           "linecolor": "white",
           "ticks": "",
           "title": {
            "standoff": 15
           },
           "zerolinecolor": "white",
           "zerolinewidth": 2
          },
          "yaxis": {
           "automargin": true,
           "gridcolor": "white",
           "linecolor": "white",
           "ticks": "",
           "title": {
            "standoff": 15
           },
           "zerolinecolor": "white",
           "zerolinewidth": 2
          }
         }
        },
        "title": {
         "text": "Indian unemployment rate(state-wise)"
        },
        "xaxis": {
         "anchor": "y",
         "categoryarray": [
          "South",
          "Northeast",
          "East",
          "West",
          "North"
         ],
         "categoryorder": "total descending",
         "domain": [
          0,
          1
         ],
         "title": {
          "text": "Region"
         }
        },
        "yaxis": {
         "anchor": "x",
         "domain": [
          0,
          1
         ],
         "title": {
          "text": "Estimated Unemployment Rate"
         }
        }
       }
      },
      "text/html": [
       "<div>                            <div id=\"2f45feba-92f9-4050-919b-77580f0ecfc8\" class=\"plotly-graph-div\" style=\"height:525px; width:100%;\"></div>            <script type=\"text/javascript\">                require([\"plotly\"], function(Plotly) {                    window.PLOTLYENV=window.PLOTLYENV || {};                                    if (document.getElementById(\"2f45feba-92f9-4050-919b-77580f0ecfc8\")) {                    Plotly.newPlot(                        \"2f45feba-92f9-4050-919b-77580f0ecfc8\",                        [{\"alignmentgroup\":\"True\",\"hovertemplate\":\"Region=%{x}<br>Estimated Unemployment Rate=%{y}<extra></extra>\",\"legendgroup\":\"South\",\"marker\":{\"color\":\"#636efa\",\"pattern\":{\"shape\":\"\"}},\"name\":\"South\",\"offsetgroup\":\"South\",\"orientation\":\"v\",\"showlegend\":true,\"textposition\":\"auto\",\"x\":[\"South\",\"South\",\"South\",\"South\",\"South\",\"South\",\"South\",\"South\",\"South\",\"South\",\"South\",\"South\",\"South\",\"South\",\"South\",\"South\",\"South\",\"South\",\"South\",\"South\",\"South\",\"South\",\"South\",\"South\",\"South\",\"South\",\"South\",\"South\",\"South\",\"South\",\"South\",\"South\",\"South\",\"South\",\"South\",\"South\",\"South\",\"South\",\"South\",\"South\",\"South\",\"South\",\"South\",\"South\",\"South\",\"South\",\"South\",\"South\",\"South\",\"South\",\"South\",\"South\",\"South\",\"South\",\"South\",\"South\",\"South\",\"South\",\"South\",\"South\"],\"xaxis\":\"x\",\"y\":[5.48,5.83,5.79,20.51,17.43,3.31,8.34,6.96,6.4,6.59,2.86,3.61,3.46,29.84,19.97,8.44,4.01,0.5,2.41,1.58,5.31,7.6,8.99,16.99,17.88,9.71,7.09,10.98,5.91,3.88,0.58,1.76,1.2,75.85,58.19,4.24,15.47,5.05,10.9,6.18,1.57,2.09,6.4,49.83,33.16,12.2,6.81,2.65,5.0,2.16,5.49,8.29,5.77,6.25,14.7,10.55,5.36,5.79,3.27,2.86],\"yaxis\":\"y\",\"type\":\"bar\"},{\"alignmentgroup\":\"True\",\"hovertemplate\":\"Region=%{x}<br>Estimated Unemployment Rate=%{y}<extra></extra>\",\"legendgroup\":\"Northeast\",\"marker\":{\"color\":\"#EF553B\",\"pattern\":{\"shape\":\"\"}},\"name\":\"Northeast\",\"offsetgroup\":\"Northeast\",\"orientation\":\"v\",\"showlegend\":true,\"textposition\":\"auto\",\"x\":[\"Northeast\",\"Northeast\",\"Northeast\",\"Northeast\",\"Northeast\",\"Northeast\",\"Northeast\",\"Northeast\",\"Northeast\",\"Northeast\",\"Northeast\",\"Northeast\",\"Northeast\",\"Northeast\",\"Northeast\",\"Northeast\",\"Northeast\",\"Northeast\",\"Northeast\",\"Northeast\",\"Northeast\",\"Northeast\",\"Northeast\",\"Northeast\",\"Northeast\",\"Northeast\",\"Northeast\",\"Northeast\",\"Northeast\",\"Northeast\",\"Northeast\",\"Northeast\",\"Northeast\",\"Northeast\",\"Northeast\",\"Northeast\",\"Northeast\",\"Northeast\"],\"xaxis\":\"x\",\"y\":[4.66,4.41,4.77,11.06,9.55,0.6,3.77,5.53,1.19,3.02,1.66,3.59,1.58,10.03,5.92,1.15,2.1,3.74,4.29,4.6,23.57,2.28,24.51,4.46,4.45,12.49,5.7,0.88,32.67,28.4,29.95,41.23,21.51,21.71,18.24,27.92,17.35,11.57],\"yaxis\":\"y\",\"type\":\"bar\"},{\"alignmentgroup\":\"True\",\"hovertemplate\":\"Region=%{x}<br>Estimated Unemployment Rate=%{y}<extra></extra>\",\"legendgroup\":\"East\",\"marker\":{\"color\":\"#00cc96\",\"pattern\":{\"shape\":\"\"}},\"name\":\"East\",\"offsetgroup\":\"East\",\"orientation\":\"v\",\"showlegend\":true,\"textposition\":\"auto\",\"x\":[\"East\",\"East\",\"East\",\"East\",\"East\",\"East\",\"East\",\"East\",\"East\",\"East\",\"East\",\"East\",\"East\",\"East\",\"East\",\"East\",\"East\",\"East\",\"East\",\"East\",\"East\",\"East\",\"East\",\"East\",\"East\",\"East\",\"East\",\"East\",\"East\",\"East\",\"East\",\"East\",\"East\",\"East\",\"East\",\"East\",\"East\",\"East\",\"East\",\"East\"],\"xaxis\":\"x\",\"y\":[10.61,10.29,15.43,46.64,45.96,17.82,12.79,13.44,11.91,9.82,10.61,11.85,8.23,47.09,59.23,20.95,7.63,9.76,8.24,11.8,1.9,3.12,13.08,23.76,11.41,3.77,1.88,1.42,2.1,2.18,6.94,4.92,6.92,17.41,17.41,7.29,6.83,14.87,9.35,9.98],\"yaxis\":\"y\",\"type\":\"bar\"},{\"alignmentgroup\":\"True\",\"hovertemplate\":\"Region=%{x}<br>Estimated Unemployment Rate=%{y}<extra></extra>\",\"legendgroup\":\"West\",\"marker\":{\"color\":\"#ab63fa\",\"pattern\":{\"shape\":\"\"}},\"name\":\"West\",\"offsetgroup\":\"West\",\"orientation\":\"v\",\"showlegend\":true,\"textposition\":\"auto\",\"x\":[\"West\",\"West\",\"West\",\"West\",\"West\",\"West\",\"West\",\"West\",\"West\",\"West\",\"West\",\"West\",\"West\",\"West\",\"West\",\"West\",\"West\",\"West\",\"West\",\"West\",\"West\",\"West\",\"West\",\"West\",\"West\",\"West\",\"West\",\"West\",\"West\",\"West\",\"West\",\"West\",\"West\",\"West\",\"West\",\"West\",\"West\",\"West\",\"West\",\"West\",\"West\",\"West\",\"West\",\"West\",\"West\",\"West\",\"West\",\"West\",\"West\",\"West\"],\"xaxis\":\"x\",\"y\":[9.65,8.38,7.54,3.41,10.5,14.23,10.27,5.63,1.96,6.62,8.89,2.81,5.25,13.31,21.25,9.96,17.07,16.21,15.38,11.54,5.54,6.38,6.66,18.71,12.11,3.2,1.84,1.87,3.42,4.03,4.11,4.57,2.22,12.36,21.98,6.48,5.08,4.7,3.91,3.13,4.95,4.69,5.79,20.9,15.46,9.23,3.89,6.23,4.55,4.1],\"yaxis\":\"y\",\"type\":\"bar\"},{\"alignmentgroup\":\"True\",\"hovertemplate\":\"Region=%{x}<br>Estimated Unemployment Rate=%{y}<extra></extra>\",\"legendgroup\":\"North\",\"marker\":{\"color\":\"#FFA15A\",\"pattern\":{\"shape\":\"\"}},\"name\":\"North\",\"offsetgroup\":\"North\",\"orientation\":\"v\",\"showlegend\":true,\"textposition\":\"auto\",\"x\":[\"North\",\"North\",\"North\",\"North\",\"North\",\"North\",\"North\",\"North\",\"North\",\"North\",\"North\",\"North\",\"North\",\"North\",\"North\",\"North\",\"North\",\"North\",\"North\",\"North\",\"North\",\"North\",\"North\",\"North\",\"North\",\"North\",\"North\",\"North\",\"North\",\"North\",\"North\",\"North\",\"North\",\"North\",\"North\",\"North\",\"North\",\"North\",\"North\",\"North\",\"North\",\"North\",\"North\",\"North\",\"North\",\"North\",\"North\",\"North\",\"North\",\"North\",\"North\",\"North\",\"North\",\"North\",\"North\",\"North\",\"North\",\"North\",\"North\",\"North\",\"North\",\"North\",\"North\",\"North\",\"North\",\"North\",\"North\",\"North\",\"North\",\"North\",\"North\",\"North\",\"North\",\"North\",\"North\",\"North\",\"North\",\"North\",\"North\"],\"xaxis\":\"x\",\"y\":[22.23,14.84,17.04,16.68,42.27,18.19,20.3,13.79,12.53,6.27,20.34,25.77,25.05,43.22,29.02,26.7,24.18,33.5,19.68,27.31,16.83,16.84,18.76,2.2,26.95,13.47,24.31,15.79,12.04,13.46,21.08,20.78,15.5,18.74,17.92,10.88,11.09,16.17,16.14,11.11,10.97,10.32,2.86,28.33,16.55,9.19,10.99,9.61,9.88,10.97,15.16,11.9,17.7,15.74,14.39,15.81,17.51,15.35,24.15,7.58,8.98,10.11,21.54,20.41,9.47,5.56,5.79,4.18,3.75,5.49,4.99,19.85,6.48,8.01,8.61,12.38,14.26,22.26,9.23],\"yaxis\":\"y\",\"type\":\"bar\"}],                        {\"template\":{\"data\":{\"histogram2dcontour\":[{\"type\":\"histogram2dcontour\",\"colorbar\":{\"outlinewidth\":0,\"ticks\":\"\"},\"colorscale\":[[0.0,\"#0d0887\"],[0.1111111111111111,\"#46039f\"],[0.2222222222222222,\"#7201a8\"],[0.3333333333333333,\"#9c179e\"],[0.4444444444444444,\"#bd3786\"],[0.5555555555555556,\"#d8576b\"],[0.6666666666666666,\"#ed7953\"],[0.7777777777777778,\"#fb9f3a\"],[0.8888888888888888,\"#fdca26\"],[1.0,\"#f0f921\"]]}],\"choropleth\":[{\"type\":\"choropleth\",\"colorbar\":{\"outlinewidth\":0,\"ticks\":\"\"}}],\"histogram2d\":[{\"type\":\"histogram2d\",\"colorbar\":{\"outlinewidth\":0,\"ticks\":\"\"},\"colorscale\":[[0.0,\"#0d0887\"],[0.1111111111111111,\"#46039f\"],[0.2222222222222222,\"#7201a8\"],[0.3333333333333333,\"#9c179e\"],[0.4444444444444444,\"#bd3786\"],[0.5555555555555556,\"#d8576b\"],[0.6666666666666666,\"#ed7953\"],[0.7777777777777778,\"#fb9f3a\"],[0.8888888888888888,\"#fdca26\"],[1.0,\"#f0f921\"]]}],\"heatmap\":[{\"type\":\"heatmap\",\"colorbar\":{\"outlinewidth\":0,\"ticks\":\"\"},\"colorscale\":[[0.0,\"#0d0887\"],[0.1111111111111111,\"#46039f\"],[0.2222222222222222,\"#7201a8\"],[0.3333333333333333,\"#9c179e\"],[0.4444444444444444,\"#bd3786\"],[0.5555555555555556,\"#d8576b\"],[0.6666666666666666,\"#ed7953\"],[0.7777777777777778,\"#fb9f3a\"],[0.8888888888888888,\"#fdca26\"],[1.0,\"#f0f921\"]]}],\"heatmapgl\":[{\"type\":\"heatmapgl\",\"colorbar\":{\"outlinewidth\":0,\"ticks\":\"\"},\"colorscale\":[[0.0,\"#0d0887\"],[0.1111111111111111,\"#46039f\"],[0.2222222222222222,\"#7201a8\"],[0.3333333333333333,\"#9c179e\"],[0.4444444444444444,\"#bd3786\"],[0.5555555555555556,\"#d8576b\"],[0.6666666666666666,\"#ed7953\"],[0.7777777777777778,\"#fb9f3a\"],[0.8888888888888888,\"#fdca26\"],[1.0,\"#f0f921\"]]}],\"contourcarpet\":[{\"type\":\"contourcarpet\",\"colorbar\":{\"outlinewidth\":0,\"ticks\":\"\"}}],\"contour\":[{\"type\":\"contour\",\"colorbar\":{\"outlinewidth\":0,\"ticks\":\"\"},\"colorscale\":[[0.0,\"#0d0887\"],[0.1111111111111111,\"#46039f\"],[0.2222222222222222,\"#7201a8\"],[0.3333333333333333,\"#9c179e\"],[0.4444444444444444,\"#bd3786\"],[0.5555555555555556,\"#d8576b\"],[0.6666666666666666,\"#ed7953\"],[0.7777777777777778,\"#fb9f3a\"],[0.8888888888888888,\"#fdca26\"],[1.0,\"#f0f921\"]]}],\"surface\":[{\"type\":\"surface\",\"colorbar\":{\"outlinewidth\":0,\"ticks\":\"\"},\"colorscale\":[[0.0,\"#0d0887\"],[0.1111111111111111,\"#46039f\"],[0.2222222222222222,\"#7201a8\"],[0.3333333333333333,\"#9c179e\"],[0.4444444444444444,\"#bd3786\"],[0.5555555555555556,\"#d8576b\"],[0.6666666666666666,\"#ed7953\"],[0.7777777777777778,\"#fb9f3a\"],[0.8888888888888888,\"#fdca26\"],[1.0,\"#f0f921\"]]}],\"mesh3d\":[{\"type\":\"mesh3d\",\"colorbar\":{\"outlinewidth\":0,\"ticks\":\"\"}}],\"scatter\":[{\"fillpattern\":{\"fillmode\":\"overlay\",\"size\":10,\"solidity\":0.2},\"type\":\"scatter\"}],\"parcoords\":[{\"type\":\"parcoords\",\"line\":{\"colorbar\":{\"outlinewidth\":0,\"ticks\":\"\"}}}],\"scatterpolargl\":[{\"type\":\"scatterpolargl\",\"marker\":{\"colorbar\":{\"outlinewidth\":0,\"ticks\":\"\"}}}],\"bar\":[{\"error_x\":{\"color\":\"#2a3f5f\"},\"error_y\":{\"color\":\"#2a3f5f\"},\"marker\":{\"line\":{\"color\":\"#E5ECF6\",\"width\":0.5},\"pattern\":{\"fillmode\":\"overlay\",\"size\":10,\"solidity\":0.2}},\"type\":\"bar\"}],\"scattergeo\":[{\"type\":\"scattergeo\",\"marker\":{\"colorbar\":{\"outlinewidth\":0,\"ticks\":\"\"}}}],\"scatterpolar\":[{\"type\":\"scatterpolar\",\"marker\":{\"colorbar\":{\"outlinewidth\":0,\"ticks\":\"\"}}}],\"histogram\":[{\"marker\":{\"pattern\":{\"fillmode\":\"overlay\",\"size\":10,\"solidity\":0.2}},\"type\":\"histogram\"}],\"scattergl\":[{\"type\":\"scattergl\",\"marker\":{\"colorbar\":{\"outlinewidth\":0,\"ticks\":\"\"}}}],\"scatter3d\":[{\"type\":\"scatter3d\",\"line\":{\"colorbar\":{\"outlinewidth\":0,\"ticks\":\"\"}},\"marker\":{\"colorbar\":{\"outlinewidth\":0,\"ticks\":\"\"}}}],\"scattermapbox\":[{\"type\":\"scattermapbox\",\"marker\":{\"colorbar\":{\"outlinewidth\":0,\"ticks\":\"\"}}}],\"scatterternary\":[{\"type\":\"scatterternary\",\"marker\":{\"colorbar\":{\"outlinewidth\":0,\"ticks\":\"\"}}}],\"scattercarpet\":[{\"type\":\"scattercarpet\",\"marker\":{\"colorbar\":{\"outlinewidth\":0,\"ticks\":\"\"}}}],\"carpet\":[{\"aaxis\":{\"endlinecolor\":\"#2a3f5f\",\"gridcolor\":\"white\",\"linecolor\":\"white\",\"minorgridcolor\":\"white\",\"startlinecolor\":\"#2a3f5f\"},\"baxis\":{\"endlinecolor\":\"#2a3f5f\",\"gridcolor\":\"white\",\"linecolor\":\"white\",\"minorgridcolor\":\"white\",\"startlinecolor\":\"#2a3f5f\"},\"type\":\"carpet\"}],\"table\":[{\"cells\":{\"fill\":{\"color\":\"#EBF0F8\"},\"line\":{\"color\":\"white\"}},\"header\":{\"fill\":{\"color\":\"#C8D4E3\"},\"line\":{\"color\":\"white\"}},\"type\":\"table\"}],\"barpolar\":[{\"marker\":{\"line\":{\"color\":\"#E5ECF6\",\"width\":0.5},\"pattern\":{\"fillmode\":\"overlay\",\"size\":10,\"solidity\":0.2}},\"type\":\"barpolar\"}],\"pie\":[{\"automargin\":true,\"type\":\"pie\"}]},\"layout\":{\"autotypenumbers\":\"strict\",\"colorway\":[\"#636efa\",\"#EF553B\",\"#00cc96\",\"#ab63fa\",\"#FFA15A\",\"#19d3f3\",\"#FF6692\",\"#B6E880\",\"#FF97FF\",\"#FECB52\"],\"font\":{\"color\":\"#2a3f5f\"},\"hovermode\":\"closest\",\"hoverlabel\":{\"align\":\"left\"},\"paper_bgcolor\":\"white\",\"plot_bgcolor\":\"#E5ECF6\",\"polar\":{\"bgcolor\":\"#E5ECF6\",\"angularaxis\":{\"gridcolor\":\"white\",\"linecolor\":\"white\",\"ticks\":\"\"},\"radialaxis\":{\"gridcolor\":\"white\",\"linecolor\":\"white\",\"ticks\":\"\"}},\"ternary\":{\"bgcolor\":\"#E5ECF6\",\"aaxis\":{\"gridcolor\":\"white\",\"linecolor\":\"white\",\"ticks\":\"\"},\"baxis\":{\"gridcolor\":\"white\",\"linecolor\":\"white\",\"ticks\":\"\"},\"caxis\":{\"gridcolor\":\"white\",\"linecolor\":\"white\",\"ticks\":\"\"}},\"coloraxis\":{\"colorbar\":{\"outlinewidth\":0,\"ticks\":\"\"}},\"colorscale\":{\"sequential\":[[0.0,\"#0d0887\"],[0.1111111111111111,\"#46039f\"],[0.2222222222222222,\"#7201a8\"],[0.3333333333333333,\"#9c179e\"],[0.4444444444444444,\"#bd3786\"],[0.5555555555555556,\"#d8576b\"],[0.6666666666666666,\"#ed7953\"],[0.7777777777777778,\"#fb9f3a\"],[0.8888888888888888,\"#fdca26\"],[1.0,\"#f0f921\"]],\"sequentialminus\":[[0.0,\"#0d0887\"],[0.1111111111111111,\"#46039f\"],[0.2222222222222222,\"#7201a8\"],[0.3333333333333333,\"#9c179e\"],[0.4444444444444444,\"#bd3786\"],[0.5555555555555556,\"#d8576b\"],[0.6666666666666666,\"#ed7953\"],[0.7777777777777778,\"#fb9f3a\"],[0.8888888888888888,\"#fdca26\"],[1.0,\"#f0f921\"]],\"diverging\":[[0,\"#8e0152\"],[0.1,\"#c51b7d\"],[0.2,\"#de77ae\"],[0.3,\"#f1b6da\"],[0.4,\"#fde0ef\"],[0.5,\"#f7f7f7\"],[0.6,\"#e6f5d0\"],[0.7,\"#b8e186\"],[0.8,\"#7fbc41\"],[0.9,\"#4d9221\"],[1,\"#276419\"]]},\"xaxis\":{\"gridcolor\":\"white\",\"linecolor\":\"white\",\"ticks\":\"\",\"title\":{\"standoff\":15},\"zerolinecolor\":\"white\",\"automargin\":true,\"zerolinewidth\":2},\"yaxis\":{\"gridcolor\":\"white\",\"linecolor\":\"white\",\"ticks\":\"\",\"title\":{\"standoff\":15},\"zerolinecolor\":\"white\",\"automargin\":true,\"zerolinewidth\":2},\"scene\":{\"xaxis\":{\"backgroundcolor\":\"#E5ECF6\",\"gridcolor\":\"white\",\"linecolor\":\"white\",\"showbackground\":true,\"ticks\":\"\",\"zerolinecolor\":\"white\",\"gridwidth\":2},\"yaxis\":{\"backgroundcolor\":\"#E5ECF6\",\"gridcolor\":\"white\",\"linecolor\":\"white\",\"showbackground\":true,\"ticks\":\"\",\"zerolinecolor\":\"white\",\"gridwidth\":2},\"zaxis\":{\"backgroundcolor\":\"#E5ECF6\",\"gridcolor\":\"white\",\"linecolor\":\"white\",\"showbackground\":true,\"ticks\":\"\",\"zerolinecolor\":\"white\",\"gridwidth\":2}},\"shapedefaults\":{\"line\":{\"color\":\"#2a3f5f\"}},\"annotationdefaults\":{\"arrowcolor\":\"#2a3f5f\",\"arrowhead\":0,\"arrowwidth\":1},\"geo\":{\"bgcolor\":\"white\",\"landcolor\":\"#E5ECF6\",\"subunitcolor\":\"white\",\"showland\":true,\"showlakes\":true,\"lakecolor\":\"white\"},\"title\":{\"x\":0.05},\"mapbox\":{\"style\":\"light\"}}},\"xaxis\":{\"anchor\":\"y\",\"domain\":[0.0,1.0],\"title\":{\"text\":\"Region\"},\"categoryorder\":\"total descending\",\"categoryarray\":[\"South\",\"Northeast\",\"East\",\"West\",\"North\"]},\"yaxis\":{\"anchor\":\"x\",\"domain\":[0.0,1.0],\"title\":{\"text\":\"Estimated Unemployment Rate\"}},\"legend\":{\"title\":{\"text\":\"Region\"},\"tracegroupgap\":0},\"title\":{\"text\":\"Indian unemployment rate(state-wise)\"},\"barmode\":\"relative\"},                        {\"responsive\": true}                    ).then(function(){\n",
       "                            \n",
       "var gd = document.getElementById('2f45feba-92f9-4050-919b-77580f0ecfc8');\n",
       "var x = new MutationObserver(function (mutations, observer) {{\n",
       "        var display = window.getComputedStyle(gd).display;\n",
       "        if (!display || display === 'none') {{\n",
       "            console.log([gd, 'removed!']);\n",
       "            Plotly.purge(gd);\n",
       "            observer.disconnect();\n",
       "        }}\n",
       "}});\n",
       "\n",
       "// Listen for the removal of the full notebook cells\n",
       "var notebookContainer = gd.closest('#notebook-container');\n",
       "if (notebookContainer) {{\n",
       "    x.observe(notebookContainer, {childList: true});\n",
       "}}\n",
       "\n",
       "// Listen for the clearing of the current output cell\n",
       "var outputEl = gd.closest('.output');\n",
       "if (outputEl) {{\n",
       "    x.observe(outputEl, {childList: true});\n",
       "}}\n",
       "\n",
       "                        })                };                });            </script>        </div>"
      ]
     },
     "metadata": {},
     "output_type": "display_data"
    }
   ],
   "source": [
    "fg=px.bar(dk,x='Region',y='Estimated Unemployment Rate',title='Indian unemployment rate(state-wise)',template='plotly',color='Region')\n",
    "fg.update_layout(xaxis={'categoryorder':'total descending'})\n",
    "fg.show()"
   ]
  },
  {
   "cell_type": "markdown",
   "id": "02603d86",
   "metadata": {},
   "source": [
    "## Analysing data by Box plot"
   ]
  },
  {
   "cell_type": "code",
   "execution_count": 35,
   "id": "1deeb6b5",
   "metadata": {},
   "outputs": [
    {
     "data": {
      "image/png": "[encoded data removed]",
      "text/plain": [
       "<Figure size 640x480 with 1 Axes>"
      ]
     },
     "metadata": {},
     "output_type": "display_data"
    }
   ],
   "source": [
    "sns.set_theme(style=\"ticks\", palette=\"pastel\")\n",
    "sns.boxplot(x=\"Month\", y='Estimated Employed', palette=[\"m\", \"g\"], data=dk)\n",
    "sns.despine(offset=10, trim=True)"
   ]
  },
  {
   "cell_type": "code",
   "execution_count": 36,
   "id": "d1bfef74",
   "metadata": {},
   "outputs": [
    {
     "data": {
      "text/html": [
       "<div>\n",
       "<style scoped>\n",
       "    .dataframe tbody tr th:only-of-type {\n",
       "        vertical-align: middle;\n",
       "    }\n",
       "\n",
       "    .dataframe tbody tr th {\n",
       "        vertical-align: top;\n",
       "    }\n",
       "\n",
       "    .dataframe thead th {\n",
       "        text-align: right;\n",
       "    }\n",
       "</style>\n",
       "<table border=\"1\" class=\"dataframe\">\n",
       "  <thead>\n",
       "    <tr style=\"text-align: right;\">\n",
       "      <th></th>\n",
       "      <th>States</th>\n",
       "      <th>Date</th>\n",
       "      <th>Estimated Unemployment Rate</th>\n",
       "      <th>Estimated Employed</th>\n",
       "      <th>Estimated Labour Participation Rate</th>\n",
       "      <th>Region</th>\n",
       "      <th>longitude</th>\n",
       "      <th>latitude</th>\n",
       "      <th>Day</th>\n",
       "      <th>Month</th>\n",
       "    </tr>\n",
       "  </thead>\n",
       "  <tbody>\n",
       "    <tr>\n",
       "      <th>0</th>\n",
       "      <td>Andhra Pradesh</td>\n",
       "      <td>31-01-2020</td>\n",
       "      <td>5.48</td>\n",
       "      <td>16635535</td>\n",
       "      <td>41.02</td>\n",
       "      <td>South</td>\n",
       "      <td>15.9129</td>\n",
       "      <td>79.740</td>\n",
       "      <td>31</td>\n",
       "      <td>01</td>\n",
       "    </tr>\n",
       "    <tr>\n",
       "      <th>1</th>\n",
       "      <td>Andhra Pradesh</td>\n",
       "      <td>29-02-2020</td>\n",
       "      <td>5.83</td>\n",
       "      <td>16545652</td>\n",
       "      <td>40.90</td>\n",
       "      <td>South</td>\n",
       "      <td>15.9129</td>\n",
       "      <td>79.740</td>\n",
       "      <td>29</td>\n",
       "      <td>02</td>\n",
       "    </tr>\n",
       "    <tr>\n",
       "      <th>2</th>\n",
       "      <td>Andhra Pradesh</td>\n",
       "      <td>31-03-2020</td>\n",
       "      <td>5.79</td>\n",
       "      <td>15881197</td>\n",
       "      <td>39.18</td>\n",
       "      <td>South</td>\n",
       "      <td>15.9129</td>\n",
       "      <td>79.740</td>\n",
       "      <td>31</td>\n",
       "      <td>03</td>\n",
       "    </tr>\n",
       "    <tr>\n",
       "      <th>3</th>\n",
       "      <td>Andhra Pradesh</td>\n",
       "      <td>30-04-2020</td>\n",
       "      <td>20.51</td>\n",
       "      <td>11336911</td>\n",
       "      <td>33.10</td>\n",
       "      <td>South</td>\n",
       "      <td>15.9129</td>\n",
       "      <td>79.740</td>\n",
       "      <td>30</td>\n",
       "      <td>04</td>\n",
       "    </tr>\n",
       "    <tr>\n",
       "      <th>4</th>\n",
       "      <td>Andhra Pradesh</td>\n",
       "      <td>31-05-2020</td>\n",
       "      <td>17.43</td>\n",
       "      <td>12988845</td>\n",
       "      <td>36.46</td>\n",
       "      <td>South</td>\n",
       "      <td>15.9129</td>\n",
       "      <td>79.740</td>\n",
       "      <td>31</td>\n",
       "      <td>05</td>\n",
       "    </tr>\n",
       "    <tr>\n",
       "      <th>...</th>\n",
       "      <td>...</td>\n",
       "      <td>...</td>\n",
       "      <td>...</td>\n",
       "      <td>...</td>\n",
       "      <td>...</td>\n",
       "      <td>...</td>\n",
       "      <td>...</td>\n",
       "      <td>...</td>\n",
       "      <td>...</td>\n",
       "      <td>...</td>\n",
       "    </tr>\n",
       "    <tr>\n",
       "      <th>262</th>\n",
       "      <td>West Bengal</td>\n",
       "      <td>30-06-2020</td>\n",
       "      <td>7.29</td>\n",
       "      <td>30726310</td>\n",
       "      <td>40.39</td>\n",
       "      <td>East</td>\n",
       "      <td>22.9868</td>\n",
       "      <td>87.855</td>\n",
       "      <td>30</td>\n",
       "      <td>06</td>\n",
       "    </tr>\n",
       "    <tr>\n",
       "      <th>263</th>\n",
       "      <td>West Bengal</td>\n",
       "      <td>31-07-2020</td>\n",
       "      <td>6.83</td>\n",
       "      <td>35372506</td>\n",
       "      <td>46.17</td>\n",
       "      <td>East</td>\n",
       "      <td>22.9868</td>\n",
       "      <td>87.855</td>\n",
       "      <td>31</td>\n",
       "      <td>07</td>\n",
       "    </tr>\n",
       "    <tr>\n",
       "      <th>264</th>\n",
       "      <td>West Bengal</td>\n",
       "      <td>31-08-2020</td>\n",
       "      <td>14.87</td>\n",
       "      <td>33298644</td>\n",
       "      <td>47.48</td>\n",
       "      <td>East</td>\n",
       "      <td>22.9868</td>\n",
       "      <td>87.855</td>\n",
       "      <td>31</td>\n",
       "      <td>08</td>\n",
       "    </tr>\n",
       "    <tr>\n",
       "      <th>265</th>\n",
       "      <td>West Bengal</td>\n",
       "      <td>30-09-2020</td>\n",
       "      <td>9.35</td>\n",
       "      <td>35707239</td>\n",
       "      <td>47.73</td>\n",
       "      <td>East</td>\n",
       "      <td>22.9868</td>\n",
       "      <td>87.855</td>\n",
       "      <td>30</td>\n",
       "      <td>09</td>\n",
       "    </tr>\n",
       "    <tr>\n",
       "      <th>266</th>\n",
       "      <td>West Bengal</td>\n",
       "      <td>31-10-2020</td>\n",
       "      <td>9.98</td>\n",
       "      <td>33962549</td>\n",
       "      <td>45.63</td>\n",
       "      <td>East</td>\n",
       "      <td>22.9868</td>\n",
       "      <td>87.855</td>\n",
       "      <td>31</td>\n",
       "      <td>10</td>\n",
       "    </tr>\n",
       "  </tbody>\n",
       "</table>\n",
       "<p>267 rows × 10 columns</p>\n",
       "</div>"
      ],
      "text/plain": [
       "             States         Date  Estimated Unemployment Rate  \\\n",
       "0    Andhra Pradesh   31-01-2020                         5.48   \n",
       "1    Andhra Pradesh   29-02-2020                         5.83   \n",
       "2    Andhra Pradesh   31-03-2020                         5.79   \n",
       "3    Andhra Pradesh   30-04-2020                        20.51   \n",
       "4    Andhra Pradesh   31-05-2020                        17.43   \n",
       "..              ...          ...                          ...   \n",
       "262     West Bengal   30-06-2020                         7.29   \n",
       "263     West Bengal   31-07-2020                         6.83   \n",
       "264     West Bengal   31-08-2020                        14.87   \n",
       "265     West Bengal   30-09-2020                         9.35   \n",
       "266     West Bengal   31-10-2020                         9.98   \n",
       "\n",
       "     Estimated Employed  Estimated Labour Participation Rate Region  \\\n",
       "0              16635535                                41.02  South   \n",
       "1              16545652                                40.90  South   \n",
       "2              15881197                                39.18  South   \n",
       "3              11336911                                33.10  South   \n",
       "4              12988845                                36.46  South   \n",
       "..                  ...                                  ...    ...   \n",
       "262            30726310                                40.39   East   \n",
       "263            35372506                                46.17   East   \n",
       "264            33298644                                47.48   East   \n",
       "265            35707239                                47.73   East   \n",
       "266            33962549                                45.63   East   \n",
       "\n",
       "     longitude  latitude  Day Month  \n",
       "0      15.9129    79.740   31    01  \n",
       "1      15.9129    79.740   29    02  \n",
       "2      15.9129    79.740   31    03  \n",
       "3      15.9129    79.740   30    04  \n",
       "4      15.9129    79.740   31    05  \n",
       "..         ...       ...  ...   ...  \n",
       "262    22.9868    87.855   30    06  \n",
       "263    22.9868    87.855   31    07  \n",
       "264    22.9868    87.855   31    08  \n",
       "265    22.9868    87.855   30    09  \n",
       "266    22.9868    87.855   31    10  \n",
       "\n",
       "[267 rows x 10 columns]"
      ]
     },
     "execution_count": 36,
     "metadata": {},
     "output_type": "execute_result"
    }
   ],
   "source": [
    "dk.drop(columns=['Year'],axis=1)"
   ]
  },
  {
   "cell_type": "code",
   "execution_count": 37,
   "id": "4ece8008",
   "metadata": {},
   "outputs": [
    {
     "data": {
      "image/png": "[encoded data removed]",
      "text/plain": [
       "<Figure size 800x800 with 1 Axes>"
      ]
     },
     "metadata": {},
     "output_type": "display_data"
    }
   ],
   "source": [
    "plt.figure(figsize=[8,8])\n",
    "plt.title('Indian Unemployment')\n",
    "sns.boxplot(x=\"Month\",y=\"Estimated Unemployment Rate\",hue=\"Region\",data=dk)\n",
    "plt.show()"
   ]
  },
  {
   "cell_type": "code",
   "execution_count": 38,
   "id": "1f8d2ee0",
   "metadata": {},
   "outputs": [
    {
     "data": {
      "image/png": "[encoded data removed]",
      "text/plain": [
       "<Figure size 640x480 with 1 Axes>"
      ]
     },
     "metadata": {},
     "output_type": "display_data"
    }
   ],
   "source": [
    "plt.title('Indian Unemployment')\n",
    "sns.boxplot(x=\"Day\",y=\"Estimated Unemployment Rate\",hue=\"Region\",data=dk)\n",
    "plt.show()"
   ]
  },
  {
   "cell_type": "markdown",
   "id": "f112ec57",
   "metadata": {},
   "source": [
    "## Analysing data by scatter plot"
   ]
  },
  {
   "cell_type": "code",
   "execution_count": 39,
   "id": "b43291fb",
   "metadata": {},
   "outputs": [
    {
     "data": {
      "application/vnd.plotly.v1+json": {
       "config": {
        "plotlyServerURL": "https://plot.ly"
       },
       "data": [
        {
         "hovertemplate": "Region=%{x}<br>Estimated Unemployment Rate=%{y}<extra></extra>",
         "legendgroup": "South",
         "marker": {
          "color": "#636efa",
          "symbol": "circle"
         },
         "mode": "markers",
         "name": "South",
         "orientation": "v",
         "showlegend": true,
         "type": "scatter",
         "x": [
          "South",
          "South",
          "South",
          "South",
          "South",
          "South",
          "South",
          "South",
          "South",
          "South",
          "South",
          "South",
          "South",
          "South",
          "South",
          "South",
          "South",
          "South",
          "South",
          "South",
          "South",
          "South",
          "South",
          "South",
          "South",
          "South",
          "South",
          "South",
          "South",
          "South",
          "South",
          "South",
          "South",
          "South",
          "South",
          "South",
          "South",
          "South",
          "South",
          "South",
          "South",
          "South",
          "South",
          "South",
          "South",
          "South",
          "South",
          "South",
          "South",
          "South",
          "South",
          "South",
          "South",
          "South",
          "South",
          "South",
          "South",
          "South",
          "South",
          "South"
         ],
         "xaxis": "x",
         "y": [
          5.48,
          5.83,
          5.79,
          20.51,
          17.43,
          3.31,
          8.34,
          6.96,
          6.4,
          6.59,
          2.86,
          3.61,
          3.46,
          29.84,
          19.97,
          8.44,
          4.01,
          0.5,
          2.41,
          1.58,
          5.31,
          7.6,
          8.99,
          16.99,
          17.88,
          9.71,
          7.09,
          10.98,
          5.91,
          3.88,
          0.58,
          1.76,
          1.2,
          75.85,
          58.19,
          4.24,
          15.47,
          5.05,
          10.9,
          6.18,
          1.57,
          2.09,
          6.4,
          49.83,
          33.16,
          12.2,
          6.81,
          2.65,
          5,
          2.16,
          5.49,
          8.29,
          5.77,
          6.25,
          14.7,
          10.55,
          5.36,
          5.79,
          3.27,
          2.86
         ],
         "yaxis": "y"
        },
        {
         "hovertemplate": "Region=%{x}<br>Estimated Unemployment Rate=%{y}<extra></extra>",
         "legendgroup": "Northeast",
         "marker": {
          "color": "#EF553B",
          "symbol": "circle"
         },
         "mode": "markers",
         "name": "Northeast",
         "orientation": "v",
         "showlegend": true,
         "type": "scatter",
         "x": [
          "Northeast",
          "Northeast",
          "Northeast",
          "Northeast",
          "Northeast",
          "Northeast",
          "Northeast",
          "Northeast",
          "Northeast",
          "Northeast",
          "Northeast",
          "Northeast",
          "Northeast",
          "Northeast",
          "Northeast",
          "Northeast",
          "Northeast",
          "Northeast",
          "Northeast",
          "Northeast",
          "Northeast",
          "Northeast",
          "Northeast",
          "Northeast",
          "Northeast",
          "Northeast",
          "Northeast",
          "Northeast",
          "Northeast",
          "Northeast",
          "Northeast",
          "Northeast",
          "Northeast",
          "Northeast",
          "Northeast",
          "Northeast",
          "Northeast",
          "Northeast"
         ],
         "xaxis": "x",
         "y": [
          4.66,
          4.41,
          4.77,
          11.06,
          9.55,
          0.6,
          3.77,
          5.53,
          1.19,
          3.02,
          1.66,
          3.59,
          1.58,
          10.03,
          5.92,
          1.15,
          2.1,
          3.74,
          4.29,
          4.6,
          23.57,
          2.28,
          24.51,
          4.46,
          4.45,
          12.49,
          5.7,
          0.88,
          32.67,
          28.4,
          29.95,
          41.23,
          21.51,
          21.71,
          18.24,
          27.92,
          17.35,
          11.57
         ],
         "yaxis": "y"
        },
        {
         "hovertemplate": "Region=%{x}<br>Estimated Unemployment Rate=%{y}<extra></extra>",
         "legendgroup": "East",
         "marker": {
          "color": "#00cc96",
          "symbol": "circle"
         },
         "mode": "markers",
         "name": "East",
         "orientation": "v",
         "showlegend": true,
         "type": "scatter",
         "x": [
          "East",
          "East",
          "East",
          "East",
          "East",
          "East",
          "East",
          "East",
          "East",
          "East",
          "East",
          "East",
          "East",
          "East",
          "East",
          "East",
          "East",
          "East",
          "East",
          "East",
          "East",
          "East",
          "East",
          "East",
          "East",
          "East",
          "East",
          "East",
          "East",
          "East",
          "East",
          "East",
          "East",
          "East",
          "East",
          "East",
          "East",
          "East",
          "East",
          "East"
         ],
         "xaxis": "x",
         "y": [
          10.61,
          10.29,
          15.43,
          46.64,
          45.96,
          17.82,
          12.79,
          13.44,
          11.91,
          9.82,
          10.61,
          11.85,
          8.23,
          47.09,
          59.23,
          20.95,
          7.63,
          9.76,
          8.24,
          11.8,
          1.9,
          3.12,
          13.08,
          23.76,
          11.41,
          3.77,
          1.88,
          1.42,
          2.1,
          2.18,
          6.94,
          4.92,
          6.92,
          17.41,
          17.41,
          7.29,
          6.83,
          14.87,
          9.35,
          9.98
         ],
         "yaxis": "y"
        },
        {
         "hovertemplate": "Region=%{x}<br>Estimated Unemployment Rate=%{y}<extra></extra>",
         "legendgroup": "West",
         "marker": {
          "color": "#ab63fa",
          "symbol": "circle"
         },
         "mode": "markers",
         "name": "West",
         "orientation": "v",
         "showlegend": true,
         "type": "scatter",
         "x": [
          "West",
          "West",
          "West",
          "West",
          "West",
          "West",
          "West",
          "West",
          "West",
          "West",
          "West",
          "West",
          "West",
          "West",
          "West",
          "West",
          "West",
          "West",
          "West",
          "West",
          "West",
          "West",
          "West",
          "West",
          "West",
          "West",
          "West",
          "West",
          "West",
          "West",
          "West",
          "West",
          "West",
          "West",
          "West",
          "West",
          "West",
          "West",
          "West",
          "West",
          "West",
          "West",
          "West",
          "West",
          "West",
          "West",
          "West",
          "West",
          "West",
          "West"
         ],
         "xaxis": "x",
         "y": [
          9.65,
          8.38,
          7.54,
          3.41,
          10.5,
          14.23,
          10.27,
          5.63,
          1.96,
          6.62,
          8.89,
          2.81,
          5.25,
          13.31,
          21.25,
          9.96,
          17.07,
          16.21,
          15.38,
          11.54,
          5.54,
          6.38,
          6.66,
          18.71,
          12.11,
          3.2,
          1.84,
          1.87,
          3.42,
          4.03,
          4.11,
          4.57,
          2.22,
          12.36,
          21.98,
          6.48,
          5.08,
          4.7,
          3.91,
          3.13,
          4.95,
          4.69,
          5.79,
          20.9,
          15.46,
          9.23,
          3.89,
          6.23,
          4.55,
          4.1
         ],
         "yaxis": "y"
        },
        {
         "hovertemplate": "Region=%{x}<br>Estimated Unemployment Rate=%{y}<extra></extra>",
         "legendgroup": "North",
         "marker": {
          "color": "#FFA15A",
          "symbol": "circle"
         },
         "mode": "markers",
         "name": "North",
         "orientation": "v",
         "showlegend": true,
         "type": "scatter",
         "x": [
          "North",
          "North",
          "North",
          "North",
          "North",
          "North",
          "North",
          "North",
          "North",
          "North",
          "North",
          "North",
          "North",
          "North",
          "North",
          "North",
          "North",
          "North",
          "North",
          "North",
          "North",
          "North",
          "North",
          "North",
          "North",
          "North",
          "North",
          "North",
          "North",
          "North",
          "North",
          "North",
          "North",
          "North",
          "North",
          "North",
          "North",
          "North",
          "North",
          "North",
          "North",
          "North",
          "North",
          "North",
          "North",
          "North",
          "North",
          "North",
          "North",
          "North",
          "North",
          "North",
          "North",
          "North",
          "North",
          "North",
          "North",
          "North",
          "North",
          "North",
          "North",
          "North",
          "North",
          "North",
          "North",
          "North",
          "North",
          "North",
          "North",
          "North",
          "North",
          "North",
          "North",
          "North",
          "North",
          "North",
          "North",
          "North",
          "North"
         ],
         "xaxis": "x",
         "y": [
          22.23,
          14.84,
          17.04,
          16.68,
          42.27,
          18.19,
          20.3,
          13.79,
          12.53,
          6.27,
          20.34,
          25.77,
          25.05,
          43.22,
          29.02,
          26.7,
          24.18,
          33.5,
          19.68,
          27.31,
          16.83,
          16.84,
          18.76,
          2.2,
          26.95,
          13.47,
          24.31,
          15.79,
          12.04,
          13.46,
          21.08,
          20.78,
          15.5,
          18.74,
          17.92,
          10.88,
          11.09,
          16.17,
          16.14,
          11.11,
          10.97,
          10.32,
          2.86,
          28.33,
          16.55,
          9.19,
          10.99,
          9.61,
          9.88,
          10.97,
          15.16,
          11.9,
          17.7,
          15.74,
          14.39,
          15.81,
          17.51,
          15.35,
          24.15,
          7.58,
          8.98,
          10.11,
          21.54,
          20.41,
          9.47,
          5.56,
          5.79,
          4.18,
          3.75,
          5.49,
          4.99,
          19.85,
          6.48,
          8.01,
          8.61,
          12.38,
          14.26,
          22.26,
          9.23
         ],
         "yaxis": "y"
        }
       ],
       "layout": {
        "legend": {
         "title": {
          "text": "Region"
         },
         "tracegroupgap": 0
        },
        "template": {
         "data": {
          "bar": [
           {
            "error_x": {
             "color": "#2a3f5f"
            },
            "error_y": {
             "color": "#2a3f5f"
            },
            "marker": {
             "line": {
              "color": "#E5ECF6",
              "width": 0.5
             },
             "pattern": {
              "fillmode": "overlay",
              "size": 10,
              "solidity": 0.2
             }
            },
            "type": "bar"
           }
          ],
          "barpolar": [
           {
            "marker": {
             "line": {
              "color": "#E5ECF6",
              "width": 0.5
             },
             "pattern": {
              "fillmode": "overlay",
              "size": 10,
              "solidity": 0.2
             }
            },
            "type": "barpolar"
           }
          ],
          "carpet": [
           {
            "aaxis": {
             "endlinecolor": "#2a3f5f",
             "gridcolor": "white",
             "linecolor": "white",
             "minorgridcolor": "white",
             "startlinecolor": "#2a3f5f"
            },
            "baxis": {
             "endlinecolor": "#2a3f5f",
             "gridcolor": "white",
             "linecolor": "white",
             "minorgridcolor": "white",
             "startlinecolor": "#2a3f5f"
            },
            "type": "carpet"
           }
          ],
          "choropleth": [
           {
            "colorbar": {
             "outlinewidth": 0,
             "ticks": ""
            },
            "type": "choropleth"
           }
          ],
          "contour": [
           {
            "colorbar": {
             "outlinewidth": 0,
             "ticks": ""
            },
            "colorscale": [
             [
              0,
              "#0d0887"
             ],
             [
              0.1111111111111111,
              "#46039f"
             ],
             [
              0.2222222222222222,
              "#7201a8"
             ],
             [
              0.3333333333333333,
              "#9c179e"
             ],
             [
              0.4444444444444444,
              "#bd3786"
             ],
             [
              0.5555555555555556,
              "#d8576b"
             ],
             [
              0.6666666666666666,
              "#ed7953"
             ],
             [
              0.7777777777777778,
              "#fb9f3a"
             ],
             [
              0.8888888888888888,
              "#fdca26"
             ],
             [
              1,
              "#f0f921"
             ]
            ],
            "type": "contour"
           }
          ],
          "contourcarpet": [
           {
            "colorbar": {
             "outlinewidth": 0,
             "ticks": ""
            },
            "type": "contourcarpet"
           }
          ],
          "heatmap": [
           {
            "colorbar": {
             "outlinewidth": 0,
             "ticks": ""
            },
            "colorscale": [
             [
              0,
              "#0d0887"
             ],
             [
              0.1111111111111111,
              "#46039f"
             ],
             [
              0.2222222222222222,
              "#7201a8"
             ],
             [
              0.3333333333333333,
              "#9c179e"
             ],
             [
              0.4444444444444444,
              "#bd3786"
             ],
             [
              0.5555555555555556,
              "#d8576b"
             ],
             [
              0.6666666666666666,
              "#ed7953"
             ],
             [
              0.7777777777777778,
              "#fb9f3a"
             ],
             [
              0.8888888888888888,
              "#fdca26"
             ],
             [
              1,
              "#f0f921"
             ]
            ],
            "type": "heatmap"
           }
          ],
          "heatmapgl": [
           {
            "colorbar": {
             "outlinewidth": 0,
             "ticks": ""
            },
            "colorscale": [
             [
              0,
              "#0d0887"
             ],
             [
              0.1111111111111111,
              "#46039f"
             ],
             [
              0.2222222222222222,
              "#7201a8"
             ],
             [
              0.3333333333333333,
              "#9c179e"
             ],
             [
              0.4444444444444444,
              "#bd3786"
             ],
             [
              0.5555555555555556,
              "#d8576b"
             ],
             [
              0.6666666666666666,
              "#ed7953"
             ],
             [
              0.7777777777777778,
              "#fb9f3a"
             ],
             [
              0.8888888888888888,
              "#fdca26"
             ],
             [
              1,
              "#f0f921"
             ]
            ],
            "type": "heatmapgl"
           }
          ],
          "histogram": [
           {
            "marker": {
             "pattern": {
              "fillmode": "overlay",
              "size": 10,
              "solidity": 0.2
             }
            },
            "type": "histogram"
           }
          ],
          "histogram2d": [
           {
            "colorbar": {
             "outlinewidth": 0,
             "ticks": ""
            },
            "colorscale": [
             [
              0,
              "#0d0887"
             ],
             [
              0.1111111111111111,
              "#46039f"
             ],
             [
              0.2222222222222222,
              "#7201a8"
             ],
             [
              0.3333333333333333,
              "#9c179e"
             ],
             [
              0.4444444444444444,
              "#bd3786"
             ],
             [
              0.5555555555555556,
              "#d8576b"
             ],
             [
              0.6666666666666666,
              "#ed7953"
             ],
             [
              0.7777777777777778,
              "#fb9f3a"
             ],
             [
              0.8888888888888888,
              "#fdca26"
             ],
             [
              1,
              "#f0f921"
             ]
            ],
            "type": "histogram2d"
           }
          ],
          "histogram2dcontour": [
           {
            "colorbar": {
             "outlinewidth": 0,
             "ticks": ""
            },
            "colorscale": [
             [
              0,
              "#0d0887"
             ],
             [
              0.1111111111111111,
              "#46039f"
             ],
             [
              0.2222222222222222,
              "#7201a8"
             ],
             [
              0.3333333333333333,
              "#9c179e"
             ],
             [
              0.4444444444444444,
              "#bd3786"
             ],
             [
              0.5555555555555556,
              "#d8576b"
             ],
             [
              0.6666666666666666,
              "#ed7953"
             ],
             [
              0.7777777777777778,
              "#fb9f3a"
             ],
             [
              0.8888888888888888,
              "#fdca26"
             ],
             [
              1,
              "#f0f921"
             ]
            ],
            "type": "histogram2dcontour"
           }
          ],
          "mesh3d": [
           {
            "colorbar": {
             "outlinewidth": 0,
             "ticks": ""
            },
            "type": "mesh3d"
           }
          ],
          "parcoords": [
           {
            "line": {
             "colorbar": {
              "outlinewidth": 0,
              "ticks": ""
             }
            },
            "type": "parcoords"
           }
          ],
          "pie": [
           {
            "automargin": true,
            "type": "pie"
           }
          ],
          "scatter": [
           {
            "fillpattern": {
             "fillmode": "overlay",
             "size": 10,
             "solidity": 0.2
            },
            "type": "scatter"
           }
          ],
          "scatter3d": [
           {
            "line": {
             "colorbar": {
              "outlinewidth": 0,
              "ticks": ""
             }
            },
            "marker": {
             "colorbar": {
              "outlinewidth": 0,
              "ticks": ""
             }
            },
            "type": "scatter3d"
           }
          ],
          "scattercarpet": [
           {
            "marker": {
             "colorbar": {
              "outlinewidth": 0,
              "ticks": ""
             }
            },
            "type": "scattercarpet"
           }
          ],
          "scattergeo": [
           {
            "marker": {
             "colorbar": {
              "outlinewidth": 0,
              "ticks": ""
             }
            },
            "type": "scattergeo"
           }
          ],
          "scattergl": [
           {
            "marker": {
             "colorbar": {
              "outlinewidth": 0,
              "ticks": ""
             }
            },
            "type": "scattergl"
           }
          ],
          "scattermapbox": [
           {
            "marker": {
             "colorbar": {
              "outlinewidth": 0,
              "ticks": ""
             }
            },
            "type": "scattermapbox"
           }
          ],
          "scatterpolar": [
           {
            "marker": {
             "colorbar": {
              "outlinewidth": 0,
              "ticks": ""
             }
            },
            "type": "scatterpolar"
           }
          ],
          "scatterpolargl": [
           {
            "marker": {
             "colorbar": {
              "outlinewidth": 0,
              "ticks": ""
             }
            },
            "type": "scatterpolargl"
           }
          ],
          "scatterternary": [
           {
            "marker": {
             "colorbar": {
              "outlinewidth": 0,
              "ticks": ""
             }
            },
            "type": "scatterternary"
           }
          ],
          "surface": [
           {
            "colorbar": {
             "outlinewidth": 0,
             "ticks": ""
            },
            "colorscale": [
             [
              0,
              "#0d0887"
             ],
             [
              0.1111111111111111,
              "#46039f"
             ],
             [
              0.2222222222222222,
              "#7201a8"
             ],
             [
              0.3333333333333333,
              "#9c179e"
             ],
             [
              0.4444444444444444,
              "#bd3786"
             ],
             [
              0.5555555555555556,
              "#d8576b"
             ],
             [
              0.6666666666666666,
              "#ed7953"
             ],
             [
              0.7777777777777778,
              "#fb9f3a"
             ],
             [
              0.8888888888888888,
              "#fdca26"
             ],
             [
              1,
              "#f0f921"
             ]
            ],
            "type": "surface"
           }
          ],
          "table": [
           {
            "cells": {
             "fill": {
              "color": "#EBF0F8"
             },
             "line": {
              "color": "white"
             }
            },
            "header": {
             "fill": {
              "color": "#C8D4E3"
             },
             "line": {
              "color": "white"
             }
            },
            "type": "table"
           }
          ]
         },
         "layout": {
          "annotationdefaults": {
           "arrowcolor": "#2a3f5f",
           "arrowhead": 0,
           "arrowwidth": 1
          },
          "autotypenumbers": "strict",
          "coloraxis": {
           "colorbar": {
            "outlinewidth": 0,
            "ticks": ""
           }
          },
          "colorscale": {
           "diverging": [
            [
             0,
             "#8e0152"
            ],
            [
             0.1,
             "#c51b7d"
            ],
            [
             0.2,
             "#de77ae"
            ],
            [
             0.3,
             "#f1b6da"
            ],
            [
             0.4,
             "#fde0ef"
            ],
            [
             0.5,
             "#f7f7f7"
            ],
            [
             0.6,
             "#e6f5d0"
            ],
            [
             0.7,
             "#b8e186"
            ],
            [
             0.8,
             "#7fbc41"
            ],
            [
             0.9,
             "#4d9221"
            ],
            [
             1,
             "#276419"
            ]
           ],
           "sequential": [
            [
             0,
             "#0d0887"
            ],
            [
             0.1111111111111111,
             "#46039f"
            ],
            [
             0.2222222222222222,
             "#7201a8"
            ],
            [
             0.3333333333333333,
             "#9c179e"
            ],
            [
             0.4444444444444444,
             "#bd3786"
            ],
            [
             0.5555555555555556,
             "#d8576b"
            ],
            [
             0.6666666666666666,
             "#ed7953"
            ],
            [
             0.7777777777777778,
             "#fb9f3a"
            ],
            [
             0.8888888888888888,
             "#fdca26"
            ],
            [
             1,
             "#f0f921"
            ]
           ],
           "sequentialminus": [
            [
             0,
             "#0d0887"
            ],
            [
             0.1111111111111111,
             "#46039f"
            ],
            [
             0.2222222222222222,
             "#7201a8"
            ],
            [
             0.3333333333333333,
             "#9c179e"
            ],
            [
             0.4444444444444444,
             "#bd3786"
            ],
            [
             0.5555555555555556,
             "#d8576b"
            ],
            [
             0.6666666666666666,
             "#ed7953"
            ],
            [
             0.7777777777777778,
             "#fb9f3a"
            ],
            [
             0.8888888888888888,
             "#fdca26"
            ],
            [
             1,
             "#f0f921"
            ]
           ]
          },
          "colorway": [
           "#636efa",
           "#EF553B",
           "#00cc96",
           "#ab63fa",
           "#FFA15A",
           "#19d3f3",
           "#FF6692",
           "#B6E880",
           "#FF97FF",
           "#FECB52"
          ],
          "font": {
           "color": "#2a3f5f"
          },
          "geo": {
           "bgcolor": "white",
           "lakecolor": "white",
           "landcolor": "#E5ECF6",
           "showlakes": true,
           "showland": true,
           "subunitcolor": "white"
          },
          "hoverlabel": {
           "align": "left"
          },
          "hovermode": "closest",
          "mapbox": {
           "style": "light"
          },
          "paper_bgcolor": "white",
          "plot_bgcolor": "#E5ECF6",
          "polar": {
           "angularaxis": {
            "gridcolor": "white",
            "linecolor": "white",
            "ticks": ""
           },
           "bgcolor": "#E5ECF6",
           "radialaxis": {
            "gridcolor": "white",
            "linecolor": "white",
            "ticks": ""
           }
          },
          "scene": {
           "xaxis": {
            "backgroundcolor": "#E5ECF6",
            "gridcolor": "white",
            "gridwidth": 2,
            "linecolor": "white",
            "showbackground": true,
            "ticks": "",
            "zerolinecolor": "white"
           },
           "yaxis": {
            "backgroundcolor": "#E5ECF6",
            "gridcolor": "white",
            "gridwidth": 2,
            "linecolor": "white",
            "showbackground": true,
            "ticks": "",
            "zerolinecolor": "white"
           },
           "zaxis": {
            "backgroundcolor": "#E5ECF6",
            "gridcolor": "white",
            "gridwidth": 2,
            "linecolor": "white",
            "showbackground": true,
            "ticks": "",
            "zerolinecolor": "white"
           }
          },
          "shapedefaults": {
           "line": {
            "color": "#2a3f5f"
           }
          },
          "ternary": {
           "aaxis": {
            "gridcolor": "white",
            "linecolor": "white",
            "ticks": ""
           },
           "baxis": {
            "gridcolor": "white",
            "linecolor": "white",
            "ticks": ""
           },
           "bgcolor": "#E5ECF6",
           "caxis": {
            "gridcolor": "white",
            "linecolor": "white",
            "ticks": ""
           }
          },
          "title": {
           "x": 0.05
          },
          "xaxis": {
           "automargin": true,
           "gridcolor": "white",
           "linecolor": "white",
           "ticks": "",
           "title": {
            "standoff": 15
           },
           "zerolinecolor": "white",
           "zerolinewidth": 2
          },
          "yaxis": {
           "automargin": true,
           "gridcolor": "white",
           "linecolor": "white",
           "ticks": "",
           "title": {
            "standoff": 15
           },
           "zerolinecolor": "white",
           "zerolinewidth": 2
          }
         }
        },
        "title": {
         "text": "Indian unemployment rate(state-wise)"
        },
        "xaxis": {
         "anchor": "y",
         "categoryarray": [
          "South",
          "Northeast",
          "East",
          "West",
          "North"
         ],
         "categoryorder": "total descending",
         "domain": [
          0,
          1
         ],
         "title": {
          "text": "Region"
         }
        },
        "yaxis": {
         "anchor": "x",
         "domain": [
          0,
          1
         ],
         "title": {
          "text": "Estimated Unemployment Rate"
         }
        }
       }
      },
      "text/html": [
       "<div>                            <div id=\"98904053-36d9-42ff-baf5-16cc992df6de\" class=\"plotly-graph-div\" style=\"height:525px; width:100%;\"></div>            <script type=\"text/javascript\">                require([\"plotly\"], function(Plotly) {                    window.PLOTLYENV=window.PLOTLYENV || {};                                    if (document.getElementById(\"98904053-36d9-42ff-baf5-16cc992df6de\")) {                    Plotly.newPlot(                        \"98904053-36d9-42ff-baf5-16cc992df6de\",                        [{\"hovertemplate\":\"Region=%{x}<br>Estimated Unemployment Rate=%{y}<extra></extra>\",\"legendgroup\":\"South\",\"marker\":{\"color\":\"#636efa\",\"symbol\":\"circle\"},\"mode\":\"markers\",\"name\":\"South\",\"orientation\":\"v\",\"showlegend\":true,\"x\":[\"South\",\"South\",\"South\",\"South\",\"South\",\"South\",\"South\",\"South\",\"South\",\"South\",\"South\",\"South\",\"South\",\"South\",\"South\",\"South\",\"South\",\"South\",\"South\",\"South\",\"South\",\"South\",\"South\",\"South\",\"South\",\"South\",\"South\",\"South\",\"South\",\"South\",\"South\",\"South\",\"South\",\"South\",\"South\",\"South\",\"South\",\"South\",\"South\",\"South\",\"South\",\"South\",\"South\",\"South\",\"South\",\"South\",\"South\",\"South\",\"South\",\"South\",\"South\",\"South\",\"South\",\"South\",\"South\",\"South\",\"South\",\"South\",\"South\",\"South\"],\"xaxis\":\"x\",\"y\":[5.48,5.83,5.79,20.51,17.43,3.31,8.34,6.96,6.4,6.59,2.86,3.61,3.46,29.84,19.97,8.44,4.01,0.5,2.41,1.58,5.31,7.6,8.99,16.99,17.88,9.71,7.09,10.98,5.91,3.88,0.58,1.76,1.2,75.85,58.19,4.24,15.47,5.05,10.9,6.18,1.57,2.09,6.4,49.83,33.16,12.2,6.81,2.65,5.0,2.16,5.49,8.29,5.77,6.25,14.7,10.55,5.36,5.79,3.27,2.86],\"yaxis\":\"y\",\"type\":\"scatter\"},{\"hovertemplate\":\"Region=%{x}<br>Estimated Unemployment Rate=%{y}<extra></extra>\",\"legendgroup\":\"Northeast\",\"marker\":{\"color\":\"#EF553B\",\"symbol\":\"circle\"},\"mode\":\"markers\",\"name\":\"Northeast\",\"orientation\":\"v\",\"showlegend\":true,\"x\":[\"Northeast\",\"Northeast\",\"Northeast\",\"Northeast\",\"Northeast\",\"Northeast\",\"Northeast\",\"Northeast\",\"Northeast\",\"Northeast\",\"Northeast\",\"Northeast\",\"Northeast\",\"Northeast\",\"Northeast\",\"Northeast\",\"Northeast\",\"Northeast\",\"Northeast\",\"Northeast\",\"Northeast\",\"Northeast\",\"Northeast\",\"Northeast\",\"Northeast\",\"Northeast\",\"Northeast\",\"Northeast\",\"Northeast\",\"Northeast\",\"Northeast\",\"Northeast\",\"Northeast\",\"Northeast\",\"Northeast\",\"Northeast\",\"Northeast\",\"Northeast\"],\"xaxis\":\"x\",\"y\":[4.66,4.41,4.77,11.06,9.55,0.6,3.77,5.53,1.19,3.02,1.66,3.59,1.58,10.03,5.92,1.15,2.1,3.74,4.29,4.6,23.57,2.28,24.51,4.46,4.45,12.49,5.7,0.88,32.67,28.4,29.95,41.23,21.51,21.71,18.24,27.92,17.35,11.57],\"yaxis\":\"y\",\"type\":\"scatter\"},{\"hovertemplate\":\"Region=%{x}<br>Estimated Unemployment Rate=%{y}<extra></extra>\",\"legendgroup\":\"East\",\"marker\":{\"color\":\"#00cc96\",\"symbol\":\"circle\"},\"mode\":\"markers\",\"name\":\"East\",\"orientation\":\"v\",\"showlegend\":true,\"x\":[\"East\",\"East\",\"East\",\"East\",\"East\",\"East\",\"East\",\"East\",\"East\",\"East\",\"East\",\"East\",\"East\",\"East\",\"East\",\"East\",\"East\",\"East\",\"East\",\"East\",\"East\",\"East\",\"East\",\"East\",\"East\",\"East\",\"East\",\"East\",\"East\",\"East\",\"East\",\"East\",\"East\",\"East\",\"East\",\"East\",\"East\",\"East\",\"East\",\"East\"],\"xaxis\":\"x\",\"y\":[10.61,10.29,15.43,46.64,45.96,17.82,12.79,13.44,11.91,9.82,10.61,11.85,8.23,47.09,59.23,20.95,7.63,9.76,8.24,11.8,1.9,3.12,13.08,23.76,11.41,3.77,1.88,1.42,2.1,2.18,6.94,4.92,6.92,17.41,17.41,7.29,6.83,14.87,9.35,9.98],\"yaxis\":\"y\",\"type\":\"scatter\"},{\"hovertemplate\":\"Region=%{x}<br>Estimated Unemployment Rate=%{y}<extra></extra>\",\"legendgroup\":\"West\",\"marker\":{\"color\":\"#ab63fa\",\"symbol\":\"circle\"},\"mode\":\"markers\",\"name\":\"West\",\"orientation\":\"v\",\"showlegend\":true,\"x\":[\"West\",\"West\",\"West\",\"West\",\"West\",\"West\",\"West\",\"West\",\"West\",\"West\",\"West\",\"West\",\"West\",\"West\",\"West\",\"West\",\"West\",\"West\",\"West\",\"West\",\"West\",\"West\",\"West\",\"West\",\"West\",\"West\",\"West\",\"West\",\"West\",\"West\",\"West\",\"West\",\"West\",\"West\",\"West\",\"West\",\"West\",\"West\",\"West\",\"West\",\"West\",\"West\",\"West\",\"West\",\"West\",\"West\",\"West\",\"West\",\"West\",\"West\"],\"xaxis\":\"x\",\"y\":[9.65,8.38,7.54,3.41,10.5,14.23,10.27,5.63,1.96,6.62,8.89,2.81,5.25,13.31,21.25,9.96,17.07,16.21,15.38,11.54,5.54,6.38,6.66,18.71,12.11,3.2,1.84,1.87,3.42,4.03,4.11,4.57,2.22,12.36,21.98,6.48,5.08,4.7,3.91,3.13,4.95,4.69,5.79,20.9,15.46,9.23,3.89,6.23,4.55,4.1],\"yaxis\":\"y\",\"type\":\"scatter\"},{\"hovertemplate\":\"Region=%{x}<br>Estimated Unemployment Rate=%{y}<extra></extra>\",\"legendgroup\":\"North\",\"marker\":{\"color\":\"#FFA15A\",\"symbol\":\"circle\"},\"mode\":\"markers\",\"name\":\"North\",\"orientation\":\"v\",\"showlegend\":true,\"x\":[\"North\",\"North\",\"North\",\"North\",\"North\",\"North\",\"North\",\"North\",\"North\",\"North\",\"North\",\"North\",\"North\",\"North\",\"North\",\"North\",\"North\",\"North\",\"North\",\"North\",\"North\",\"North\",\"North\",\"North\",\"North\",\"North\",\"North\",\"North\",\"North\",\"North\",\"North\",\"North\",\"North\",\"North\",\"North\",\"North\",\"North\",\"North\",\"North\",\"North\",\"North\",\"North\",\"North\",\"North\",\"North\",\"North\",\"North\",\"North\",\"North\",\"North\",\"North\",\"North\",\"North\",\"North\",\"North\",\"North\",\"North\",\"North\",\"North\",\"North\",\"North\",\"North\",\"North\",\"North\",\"North\",\"North\",\"North\",\"North\",\"North\",\"North\",\"North\",\"North\",\"North\",\"North\",\"North\",\"North\",\"North\",\"North\",\"North\"],\"xaxis\":\"x\",\"y\":[22.23,14.84,17.04,16.68,42.27,18.19,20.3,13.79,12.53,6.27,20.34,25.77,25.05,43.22,29.02,26.7,24.18,33.5,19.68,27.31,16.83,16.84,18.76,2.2,26.95,13.47,24.31,15.79,12.04,13.46,21.08,20.78,15.5,18.74,17.92,10.88,11.09,16.17,16.14,11.11,10.97,10.32,2.86,28.33,16.55,9.19,10.99,9.61,9.88,10.97,15.16,11.9,17.7,15.74,14.39,15.81,17.51,15.35,24.15,7.58,8.98,10.11,21.54,20.41,9.47,5.56,5.79,4.18,3.75,5.49,4.99,19.85,6.48,8.01,8.61,12.38,14.26,22.26,9.23],\"yaxis\":\"y\",\"type\":\"scatter\"}],                        {\"template\":{\"data\":{\"histogram2dcontour\":[{\"type\":\"histogram2dcontour\",\"colorbar\":{\"outlinewidth\":0,\"ticks\":\"\"},\"colorscale\":[[0.0,\"#0d0887\"],[0.1111111111111111,\"#46039f\"],[0.2222222222222222,\"#7201a8\"],[0.3333333333333333,\"#9c179e\"],[0.4444444444444444,\"#bd3786\"],[0.5555555555555556,\"#d8576b\"],[0.6666666666666666,\"#ed7953\"],[0.7777777777777778,\"#fb9f3a\"],[0.8888888888888888,\"#fdca26\"],[1.0,\"#f0f921\"]]}],\"choropleth\":[{\"type\":\"choropleth\",\"colorbar\":{\"outlinewidth\":0,\"ticks\":\"\"}}],\"histogram2d\":[{\"type\":\"histogram2d\",\"colorbar\":{\"outlinewidth\":0,\"ticks\":\"\"},\"colorscale\":[[0.0,\"#0d0887\"],[0.1111111111111111,\"#46039f\"],[0.2222222222222222,\"#7201a8\"],[0.3333333333333333,\"#9c179e\"],[0.4444444444444444,\"#bd3786\"],[0.5555555555555556,\"#d8576b\"],[0.6666666666666666,\"#ed7953\"],[0.7777777777777778,\"#fb9f3a\"],[0.8888888888888888,\"#fdca26\"],[1.0,\"#f0f921\"]]}],\"heatmap\":[{\"type\":\"heatmap\",\"colorbar\":{\"outlinewidth\":0,\"ticks\":\"\"},\"colorscale\":[[0.0,\"#0d0887\"],[0.1111111111111111,\"#46039f\"],[0.2222222222222222,\"#7201a8\"],[0.3333333333333333,\"#9c179e\"],[0.4444444444444444,\"#bd3786\"],[0.5555555555555556,\"#d8576b\"],[0.6666666666666666,\"#ed7953\"],[0.7777777777777778,\"#fb9f3a\"],[0.8888888888888888,\"#fdca26\"],[1.0,\"#f0f921\"]]}],\"heatmapgl\":[{\"type\":\"heatmapgl\",\"colorbar\":{\"outlinewidth\":0,\"ticks\":\"\"},\"colorscale\":[[0.0,\"#0d0887\"],[0.1111111111111111,\"#46039f\"],[0.2222222222222222,\"#7201a8\"],[0.3333333333333333,\"#9c179e\"],[0.4444444444444444,\"#bd3786\"],[0.5555555555555556,\"#d8576b\"],[0.6666666666666666,\"#ed7953\"],[0.7777777777777778,\"#fb9f3a\"],[0.8888888888888888,\"#fdca26\"],[1.0,\"#f0f921\"]]}],\"contourcarpet\":[{\"type\":\"contourcarpet\",\"colorbar\":{\"outlinewidth\":0,\"ticks\":\"\"}}],\"contour\":[{\"type\":\"contour\",\"colorbar\":{\"outlinewidth\":0,\"ticks\":\"\"},\"colorscale\":[[0.0,\"#0d0887\"],[0.1111111111111111,\"#46039f\"],[0.2222222222222222,\"#7201a8\"],[0.3333333333333333,\"#9c179e\"],[0.4444444444444444,\"#bd3786\"],[0.5555555555555556,\"#d8576b\"],[0.6666666666666666,\"#ed7953\"],[0.7777777777777778,\"#fb9f3a\"],[0.8888888888888888,\"#fdca26\"],[1.0,\"#f0f921\"]]}],\"surface\":[{\"type\":\"surface\",\"colorbar\":{\"outlinewidth\":0,\"ticks\":\"\"},\"colorscale\":[[0.0,\"#0d0887\"],[0.1111111111111111,\"#46039f\"],[0.2222222222222222,\"#7201a8\"],[0.3333333333333333,\"#9c179e\"],[0.4444444444444444,\"#bd3786\"],[0.5555555555555556,\"#d8576b\"],[0.6666666666666666,\"#ed7953\"],[0.7777777777777778,\"#fb9f3a\"],[0.8888888888888888,\"#fdca26\"],[1.0,\"#f0f921\"]]}],\"mesh3d\":[{\"type\":\"mesh3d\",\"colorbar\":{\"outlinewidth\":0,\"ticks\":\"\"}}],\"scatter\":[{\"fillpattern\":{\"fillmode\":\"overlay\",\"size\":10,\"solidity\":0.2},\"type\":\"scatter\"}],\"parcoords\":[{\"type\":\"parcoords\",\"line\":{\"colorbar\":{\"outlinewidth\":0,\"ticks\":\"\"}}}],\"scatterpolargl\":[{\"type\":\"scatterpolargl\",\"marker\":{\"colorbar\":{\"outlinewidth\":0,\"ticks\":\"\"}}}],\"bar\":[{\"error_x\":{\"color\":\"#2a3f5f\"},\"error_y\":{\"color\":\"#2a3f5f\"},\"marker\":{\"line\":{\"color\":\"#E5ECF6\",\"width\":0.5},\"pattern\":{\"fillmode\":\"overlay\",\"size\":10,\"solidity\":0.2}},\"type\":\"bar\"}],\"scattergeo\":[{\"type\":\"scattergeo\",\"marker\":{\"colorbar\":{\"outlinewidth\":0,\"ticks\":\"\"}}}],\"scatterpolar\":[{\"type\":\"scatterpolar\",\"marker\":{\"colorbar\":{\"outlinewidth\":0,\"ticks\":\"\"}}}],\"histogram\":[{\"marker\":{\"pattern\":{\"fillmode\":\"overlay\",\"size\":10,\"solidity\":0.2}},\"type\":\"histogram\"}],\"scattergl\":[{\"type\":\"scattergl\",\"marker\":{\"colorbar\":{\"outlinewidth\":0,\"ticks\":\"\"}}}],\"scatter3d\":[{\"type\":\"scatter3d\",\"line\":{\"colorbar\":{\"outlinewidth\":0,\"ticks\":\"\"}},\"marker\":{\"colorbar\":{\"outlinewidth\":0,\"ticks\":\"\"}}}],\"scattermapbox\":[{\"type\":\"scattermapbox\",\"marker\":{\"colorbar\":{\"outlinewidth\":0,\"ticks\":\"\"}}}],\"scatterternary\":[{\"type\":\"scatterternary\",\"marker\":{\"colorbar\":{\"outlinewidth\":0,\"ticks\":\"\"}}}],\"scattercarpet\":[{\"type\":\"scattercarpet\",\"marker\":{\"colorbar\":{\"outlinewidth\":0,\"ticks\":\"\"}}}],\"carpet\":[{\"aaxis\":{\"endlinecolor\":\"#2a3f5f\",\"gridcolor\":\"white\",\"linecolor\":\"white\",\"minorgridcolor\":\"white\",\"startlinecolor\":\"#2a3f5f\"},\"baxis\":{\"endlinecolor\":\"#2a3f5f\",\"gridcolor\":\"white\",\"linecolor\":\"white\",\"minorgridcolor\":\"white\",\"startlinecolor\":\"#2a3f5f\"},\"type\":\"carpet\"}],\"table\":[{\"cells\":{\"fill\":{\"color\":\"#EBF0F8\"},\"line\":{\"color\":\"white\"}},\"header\":{\"fill\":{\"color\":\"#C8D4E3\"},\"line\":{\"color\":\"white\"}},\"type\":\"table\"}],\"barpolar\":[{\"marker\":{\"line\":{\"color\":\"#E5ECF6\",\"width\":0.5},\"pattern\":{\"fillmode\":\"overlay\",\"size\":10,\"solidity\":0.2}},\"type\":\"barpolar\"}],\"pie\":[{\"automargin\":true,\"type\":\"pie\"}]},\"layout\":{\"autotypenumbers\":\"strict\",\"colorway\":[\"#636efa\",\"#EF553B\",\"#00cc96\",\"#ab63fa\",\"#FFA15A\",\"#19d3f3\",\"#FF6692\",\"#B6E880\",\"#FF97FF\",\"#FECB52\"],\"font\":{\"color\":\"#2a3f5f\"},\"hovermode\":\"closest\",\"hoverlabel\":{\"align\":\"left\"},\"paper_bgcolor\":\"white\",\"plot_bgcolor\":\"#E5ECF6\",\"polar\":{\"bgcolor\":\"#E5ECF6\",\"angularaxis\":{\"gridcolor\":\"white\",\"linecolor\":\"white\",\"ticks\":\"\"},\"radialaxis\":{\"gridcolor\":\"white\",\"linecolor\":\"white\",\"ticks\":\"\"}},\"ternary\":{\"bgcolor\":\"#E5ECF6\",\"aaxis\":{\"gridcolor\":\"white\",\"linecolor\":\"white\",\"ticks\":\"\"},\"baxis\":{\"gridcolor\":\"white\",\"linecolor\":\"white\",\"ticks\":\"\"},\"caxis\":{\"gridcolor\":\"white\",\"linecolor\":\"white\",\"ticks\":\"\"}},\"coloraxis\":{\"colorbar\":{\"outlinewidth\":0,\"ticks\":\"\"}},\"colorscale\":{\"sequential\":[[0.0,\"#0d0887\"],[0.1111111111111111,\"#46039f\"],[0.2222222222222222,\"#7201a8\"],[0.3333333333333333,\"#9c179e\"],[0.4444444444444444,\"#bd3786\"],[0.5555555555555556,\"#d8576b\"],[0.6666666666666666,\"#ed7953\"],[0.7777777777777778,\"#fb9f3a\"],[0.8888888888888888,\"#fdca26\"],[1.0,\"#f0f921\"]],\"sequentialminus\":[[0.0,\"#0d0887\"],[0.1111111111111111,\"#46039f\"],[0.2222222222222222,\"#7201a8\"],[0.3333333333333333,\"#9c179e\"],[0.4444444444444444,\"#bd3786\"],[0.5555555555555556,\"#d8576b\"],[0.6666666666666666,\"#ed7953\"],[0.7777777777777778,\"#fb9f3a\"],[0.8888888888888888,\"#fdca26\"],[1.0,\"#f0f921\"]],\"diverging\":[[0,\"#8e0152\"],[0.1,\"#c51b7d\"],[0.2,\"#de77ae\"],[0.3,\"#f1b6da\"],[0.4,\"#fde0ef\"],[0.5,\"#f7f7f7\"],[0.6,\"#e6f5d0\"],[0.7,\"#b8e186\"],[0.8,\"#7fbc41\"],[0.9,\"#4d9221\"],[1,\"#276419\"]]},\"xaxis\":{\"gridcolor\":\"white\",\"linecolor\":\"white\",\"ticks\":\"\",\"title\":{\"standoff\":15},\"zerolinecolor\":\"white\",\"automargin\":true,\"zerolinewidth\":2},\"yaxis\":{\"gridcolor\":\"white\",\"linecolor\":\"white\",\"ticks\":\"\",\"title\":{\"standoff\":15},\"zerolinecolor\":\"white\",\"automargin\":true,\"zerolinewidth\":2},\"scene\":{\"xaxis\":{\"backgroundcolor\":\"#E5ECF6\",\"gridcolor\":\"white\",\"linecolor\":\"white\",\"showbackground\":true,\"ticks\":\"\",\"zerolinecolor\":\"white\",\"gridwidth\":2},\"yaxis\":{\"backgroundcolor\":\"#E5ECF6\",\"gridcolor\":\"white\",\"linecolor\":\"white\",\"showbackground\":true,\"ticks\":\"\",\"zerolinecolor\":\"white\",\"gridwidth\":2},\"zaxis\":{\"backgroundcolor\":\"#E5ECF6\",\"gridcolor\":\"white\",\"linecolor\":\"white\",\"showbackground\":true,\"ticks\":\"\",\"zerolinecolor\":\"white\",\"gridwidth\":2}},\"shapedefaults\":{\"line\":{\"color\":\"#2a3f5f\"}},\"annotationdefaults\":{\"arrowcolor\":\"#2a3f5f\",\"arrowhead\":0,\"arrowwidth\":1},\"geo\":{\"bgcolor\":\"white\",\"landcolor\":\"#E5ECF6\",\"subunitcolor\":\"white\",\"showland\":true,\"showlakes\":true,\"lakecolor\":\"white\"},\"title\":{\"x\":0.05},\"mapbox\":{\"style\":\"light\"}}},\"xaxis\":{\"anchor\":\"y\",\"domain\":[0.0,1.0],\"title\":{\"text\":\"Region\"},\"categoryorder\":\"total descending\",\"categoryarray\":[\"South\",\"Northeast\",\"East\",\"West\",\"North\"]},\"yaxis\":{\"anchor\":\"x\",\"domain\":[0.0,1.0],\"title\":{\"text\":\"Estimated Unemployment Rate\"}},\"legend\":{\"title\":{\"text\":\"Region\"},\"tracegroupgap\":0},\"title\":{\"text\":\"Indian unemployment rate(state-wise)\"}},                        {\"responsive\": true}                    ).then(function(){\n",
       "                            \n",
       "var gd = document.getElementById('98904053-36d9-42ff-baf5-16cc992df6de');\n",
       "var x = new MutationObserver(function (mutations, observer) {{\n",
       "        var display = window.getComputedStyle(gd).display;\n",
       "        if (!display || display === 'none') {{\n",
       "            console.log([gd, 'removed!']);\n",
       "            Plotly.purge(gd);\n",
       "            observer.disconnect();\n",
       "        }}\n",
       "}});\n",
       "\n",
       "// Listen for the removal of the full notebook cells\n",
       "var notebookContainer = gd.closest('#notebook-container');\n",
       "if (notebookContainer) {{\n",
       "    x.observe(notebookContainer, {childList: true});\n",
       "}}\n",
       "\n",
       "// Listen for the clearing of the current output cell\n",
       "var outputEl = gd.closest('.output');\n",
       "if (outputEl) {{\n",
       "    x.observe(outputEl, {childList: true});\n",
       "}}\n",
       "\n",
       "                        })                };                });            </script>        </div>"
      ]
     },
     "metadata": {},
     "output_type": "display_data"
    }
   ],
   "source": [
    "fg=px.scatter(dk,x='Region',y='Estimated Unemployment Rate',title='Indian unemployment rate(state-wise)',template='plotly',color='Region')\n",
    "fg.update_layout(xaxis={'categoryorder':'total descending'})\n",
    "fg.show()"
   ]
  },
  {
   "cell_type": "code",
   "execution_count": 40,
   "id": "ac64ee58",
   "metadata": {},
   "outputs": [
    {
     "data": {
      "application/vnd.plotly.v1+json": {
       "config": {
        "plotlyServerURL": "https://plot.ly"
       },
       "data": [
        {
         "hovertemplate": "States=%{x}<br>Estimated Unemployment Rate=%{y}<extra></extra>",
         "legendgroup": "Andhra Pradesh",
         "marker": {
          "color": "#636efa",
          "symbol": "circle"
         },
         "mode": "markers",
         "name": "Andhra Pradesh",
         "orientation": "v",
         "showlegend": true,
         "type": "scatter",
         "x": [
          "Andhra Pradesh",
          "Andhra Pradesh",
          "Andhra Pradesh",
          "Andhra Pradesh",
          "Andhra Pradesh",
          "Andhra Pradesh",
          "Andhra Pradesh",
          "Andhra Pradesh",
          "Andhra Pradesh",
          "Andhra Pradesh"
         ],
         "xaxis": "x",
         "y": [
          5.48,
          5.83,
          5.79,
          20.51,
          17.43,
          3.31,
          8.34,
          6.96,
          6.4,
          6.59
         ],
         "yaxis": "y"
        },
        {
         "hovertemplate": "States=%{x}<br>Estimated Unemployment Rate=%{y}<extra></extra>",
         "legendgroup": "Assam",
         "marker": {
          "color": "#EF553B",
          "symbol": "circle"
         },
         "mode": "markers",
         "name": "Assam",
         "orientation": "v",
         "showlegend": true,
         "type": "scatter",
         "x": [
          "Assam",
          "Assam",
          "Assam",
          "Assam",
          "Assam",
          "Assam",
          "Assam",
          "Assam",
          "Assam",
          "Assam"
         ],
         "xaxis": "x",
         "y": [
          4.66,
          4.41,
          4.77,
          11.06,
          9.55,
          0.6,
          3.77,
          5.53,
          1.19,
          3.02
         ],
         "yaxis": "y"
        },
        {
         "hovertemplate": "States=%{x}<br>Estimated Unemployment Rate=%{y}<extra></extra>",
         "legendgroup": "Bihar",
         "marker": {
          "color": "#00cc96",
          "symbol": "circle"
         },
         "mode": "markers",
         "name": "Bihar",
         "orientation": "v",
         "showlegend": true,
         "type": "scatter",
         "x": [
          "Bihar",
          "Bihar",
          "Bihar",
          "Bihar",
          "Bihar",
          "Bihar",
          "Bihar",
          "Bihar",
          "Bihar",
          "Bihar"
         ],
         "xaxis": "x",
         "y": [
          10.61,
          10.29,
          15.43,
          46.64,
          45.96,
          17.82,
          12.79,
          13.44,
          11.91,
          9.82
         ],
         "yaxis": "y"
        },
        {
         "hovertemplate": "States=%{x}<br>Estimated Unemployment Rate=%{y}<extra></extra>",
         "legendgroup": "Chhattisgarh",
         "marker": {
          "color": "#ab63fa",
          "symbol": "circle"
         },
         "mode": "markers",
         "name": "Chhattisgarh",
         "orientation": "v",
         "showlegend": true,
         "type": "scatter",
         "x": [
          "Chhattisgarh",
          "Chhattisgarh",
          "Chhattisgarh",
          "Chhattisgarh",
          "Chhattisgarh",
          "Chhattisgarh",
          "Chhattisgarh",
          "Chhattisgarh",
          "Chhattisgarh",
          "Chhattisgarh"
         ],
         "xaxis": "x",
         "y": [
          9.65,
          8.38,
          7.54,
          3.41,
          10.5,
          14.23,
          10.27,
          5.63,
          1.96,
          6.62
         ],
         "yaxis": "y"
        },
        {
         "hovertemplate": "States=%{x}<br>Estimated Unemployment Rate=%{y}<extra></extra>",
         "legendgroup": "Delhi",
         "marker": {
          "color": "#FFA15A",
          "symbol": "circle"
         },
         "mode": "markers",
         "name": "Delhi",
         "orientation": "v",
         "showlegend": true,
         "type": "scatter",
         "x": [
          "Delhi",
          "Delhi",
          "Delhi",
          "Delhi",
          "Delhi",
          "Delhi",
          "Delhi",
          "Delhi",
          "Delhi",
          "Delhi"
         ],
         "xaxis": "x",
         "y": [
          22.23,
          14.84,
          17.04,
          16.68,
          42.27,
          18.19,
          20.3,
          13.79,
          12.53,
          6.27
         ],
         "yaxis": "y"
        },
        {
         "hovertemplate": "States=%{x}<br>Estimated Unemployment Rate=%{y}<extra></extra>",
         "legendgroup": "Goa",
         "marker": {
          "color": "#19d3f3",
          "symbol": "circle"
         },
         "mode": "markers",
         "name": "Goa",
         "orientation": "v",
         "showlegend": true,
         "type": "scatter",
         "x": [
          "Goa",
          "Goa",
          "Goa",
          "Goa",
          "Goa",
          "Goa",
          "Goa",
          "Goa",
          "Goa",
          "Goa"
         ],
         "xaxis": "x",
         "y": [
          8.89,
          2.81,
          5.25,
          13.31,
          21.25,
          9.96,
          17.07,
          16.21,
          15.38,
          11.54
         ],
         "yaxis": "y"
        },
        {
         "hovertemplate": "States=%{x}<br>Estimated Unemployment Rate=%{y}<extra></extra>",
         "legendgroup": "Gujarat",
         "marker": {
          "color": "#FF6692",
          "symbol": "circle"
         },
         "mode": "markers",
         "name": "Gujarat",
         "orientation": "v",
         "showlegend": true,
         "type": "scatter",
         "x": [
          "Gujarat",
          "Gujarat",
          "Gujarat",
          "Gujarat",
          "Gujarat",
          "Gujarat",
          "Gujarat",
          "Gujarat",
          "Gujarat",
          "Gujarat"
         ],
         "xaxis": "x",
         "y": [
          5.54,
          6.38,
          6.66,
          18.71,
          12.11,
          3.2,
          1.84,
          1.87,
          3.42,
          4.03
         ],
         "yaxis": "y"
        },
        {
         "hovertemplate": "States=%{x}<br>Estimated Unemployment Rate=%{y}<extra></extra>",
         "legendgroup": "Haryana",
         "marker": {
          "color": "#B6E880",
          "symbol": "circle"
         },
         "mode": "markers",
         "name": "Haryana",
         "orientation": "v",
         "showlegend": true,
         "type": "scatter",
         "x": [
          "Haryana",
          "Haryana",
          "Haryana",
          "Haryana",
          "Haryana",
          "Haryana",
          "Haryana",
          "Haryana",
          "Haryana",
          "Haryana"
         ],
         "xaxis": "x",
         "y": [
          20.34,
          25.77,
          25.05,
          43.22,
          29.02,
          26.7,
          24.18,
          33.5,
          19.68,
          27.31
         ],
         "yaxis": "y"
        },
        {
         "hovertemplate": "States=%{x}<br>Estimated Unemployment Rate=%{y}<extra></extra>",
         "legendgroup": "Himachal Pradesh",
         "marker": {
          "color": "#FF97FF",
          "symbol": "circle"
         },
         "mode": "markers",
         "name": "Himachal Pradesh",
         "orientation": "v",
         "showlegend": true,
         "type": "scatter",
         "x": [
          "Himachal Pradesh",
          "Himachal Pradesh",
          "Himachal Pradesh",
          "Himachal Pradesh",
          "Himachal Pradesh",
          "Himachal Pradesh",
          "Himachal Pradesh",
          "Himachal Pradesh",
          "Himachal Pradesh",
          "Himachal Pradesh"
         ],
         "xaxis": "x",
         "y": [
          16.83,
          16.84,
          18.76,
          2.2,
          26.95,
          13.47,
          24.31,
          15.79,
          12.04,
          13.46
         ],
         "yaxis": "y"
        },
        {
         "hovertemplate": "States=%{x}<br>Estimated Unemployment Rate=%{y}<extra></extra>",
         "legendgroup": "Jammu & Kashmir",
         "marker": {
          "color": "#FECB52",
          "symbol": "circle"
         },
         "mode": "markers",
         "name": "Jammu & Kashmir",
         "orientation": "v",
         "showlegend": true,
         "type": "scatter",
         "x": [
          "Jammu & Kashmir",
          "Jammu & Kashmir",
          "Jammu & Kashmir",
          "Jammu & Kashmir",
          "Jammu & Kashmir",
          "Jammu & Kashmir",
          "Jammu & Kashmir",
          "Jammu & Kashmir",
          "Jammu & Kashmir"
         ],
         "xaxis": "x",
         "y": [
          21.08,
          20.78,
          15.5,
          18.74,
          17.92,
          10.88,
          11.09,
          16.17,
          16.14
         ],
         "yaxis": "y"
        },
        {
         "hovertemplate": "States=%{x}<br>Estimated Unemployment Rate=%{y}<extra></extra>",
         "legendgroup": "Jharkhand",
         "marker": {
          "color": "#636efa",
          "symbol": "circle"
         },
         "mode": "markers",
         "name": "Jharkhand",
         "orientation": "v",
         "showlegend": true,
         "type": "scatter",
         "x": [
          "Jharkhand",
          "Jharkhand",
          "Jharkhand",
          "Jharkhand",
          "Jharkhand",
          "Jharkhand",
          "Jharkhand",
          "Jharkhand",
          "Jharkhand",
          "Jharkhand"
         ],
         "xaxis": "x",
         "y": [
          10.61,
          11.85,
          8.23,
          47.09,
          59.23,
          20.95,
          7.63,
          9.76,
          8.24,
          11.8
         ],
         "yaxis": "y"
        },
        {
         "hovertemplate": "States=%{x}<br>Estimated Unemployment Rate=%{y}<extra></extra>",
         "legendgroup": "Karnataka",
         "marker": {
          "color": "#EF553B",
          "symbol": "circle"
         },
         "mode": "markers",
         "name": "Karnataka",
         "orientation": "v",
         "showlegend": true,
         "type": "scatter",
         "x": [
          "Karnataka",
          "Karnataka",
          "Karnataka",
          "Karnataka",
          "Karnataka",
          "Karnataka",
          "Karnataka",
          "Karnataka",
          "Karnataka",
          "Karnataka"
         ],
         "xaxis": "x",
         "y": [
          2.86,
          3.61,
          3.46,
          29.84,
          19.97,
          8.44,
          4.01,
          0.5,
          2.41,
          1.58
         ],
         "yaxis": "y"
        },
        {
         "hovertemplate": "States=%{x}<br>Estimated Unemployment Rate=%{y}<extra></extra>",
         "legendgroup": "Kerala",
         "marker": {
          "color": "#00cc96",
          "symbol": "circle"
         },
         "mode": "markers",
         "name": "Kerala",
         "orientation": "v",
         "showlegend": true,
         "type": "scatter",
         "x": [
          "Kerala",
          "Kerala",
          "Kerala",
          "Kerala",
          "Kerala",
          "Kerala",
          "Kerala",
          "Kerala",
          "Kerala",
          "Kerala"
         ],
         "xaxis": "x",
         "y": [
          5.31,
          7.6,
          8.99,
          16.99,
          17.88,
          9.71,
          7.09,
          10.98,
          5.91,
          3.88
         ],
         "yaxis": "y"
        },
        {
         "hovertemplate": "States=%{x}<br>Estimated Unemployment Rate=%{y}<extra></extra>",
         "legendgroup": "Madhya Pradesh",
         "marker": {
          "color": "#ab63fa",
          "symbol": "circle"
         },
         "mode": "markers",
         "name": "Madhya Pradesh",
         "orientation": "v",
         "showlegend": true,
         "type": "scatter",
         "x": [
          "Madhya Pradesh",
          "Madhya Pradesh",
          "Madhya Pradesh",
          "Madhya Pradesh",
          "Madhya Pradesh",
          "Madhya Pradesh",
          "Madhya Pradesh",
          "Madhya Pradesh",
          "Madhya Pradesh",
          "Madhya Pradesh"
         ],
         "xaxis": "x",
         "y": [
          4.11,
          4.57,
          2.22,
          12.36,
          21.98,
          6.48,
          5.08,
          4.7,
          3.91,
          3.13
         ],
         "yaxis": "y"
        },
        {
         "hovertemplate": "States=%{x}<br>Estimated Unemployment Rate=%{y}<extra></extra>",
         "legendgroup": "Maharashtra",
         "marker": {
          "color": "#FFA15A",
          "symbol": "circle"
         },
         "mode": "markers",
         "name": "Maharashtra",
         "orientation": "v",
         "showlegend": true,
         "type": "scatter",
         "x": [
          "Maharashtra",
          "Maharashtra",
          "Maharashtra",
          "Maharashtra",
          "Maharashtra",
          "Maharashtra",
          "Maharashtra",
          "Maharashtra",
          "Maharashtra",
          "Maharashtra"
         ],
         "xaxis": "x",
         "y": [
          4.95,
          4.69,
          5.79,
          20.9,
          15.46,
          9.23,
          3.89,
          6.23,
          4.55,
          4.1
         ],
         "yaxis": "y"
        },
        {
         "hovertemplate": "States=%{x}<br>Estimated Unemployment Rate=%{y}<extra></extra>",
         "legendgroup": "Meghalaya",
         "marker": {
          "color": "#19d3f3",
          "symbol": "circle"
         },
         "mode": "markers",
         "name": "Meghalaya",
         "orientation": "v",
         "showlegend": true,
         "type": "scatter",
         "x": [
          "Meghalaya",
          "Meghalaya",
          "Meghalaya",
          "Meghalaya",
          "Meghalaya",
          "Meghalaya",
          "Meghalaya",
          "Meghalaya",
          "Meghalaya",
          "Meghalaya"
         ],
         "xaxis": "x",
         "y": [
          1.66,
          3.59,
          1.58,
          10.03,
          5.92,
          1.15,
          2.1,
          3.74,
          4.29,
          4.6
         ],
         "yaxis": "y"
        },
        {
         "hovertemplate": "States=%{x}<br>Estimated Unemployment Rate=%{y}<extra></extra>",
         "legendgroup": "Odisha",
         "marker": {
          "color": "#FF6692",
          "symbol": "circle"
         },
         "mode": "markers",
         "name": "Odisha",
         "orientation": "v",
         "showlegend": true,
         "type": "scatter",
         "x": [
          "Odisha",
          "Odisha",
          "Odisha",
          "Odisha",
          "Odisha",
          "Odisha",
          "Odisha",
          "Odisha",
          "Odisha",
          "Odisha"
         ],
         "xaxis": "x",
         "y": [
          1.9,
          3.12,
          13.08,
          23.76,
          11.41,
          3.77,
          1.88,
          1.42,
          2.1,
          2.18
         ],
         "yaxis": "y"
        },
        {
         "hovertemplate": "States=%{x}<br>Estimated Unemployment Rate=%{y}<extra></extra>",
         "legendgroup": "Puducherry",
         "marker": {
          "color": "#B6E880",
          "symbol": "circle"
         },
         "mode": "markers",
         "name": "Puducherry",
         "orientation": "v",
         "showlegend": true,
         "type": "scatter",
         "x": [
          "Puducherry",
          "Puducherry",
          "Puducherry",
          "Puducherry",
          "Puducherry",
          "Puducherry",
          "Puducherry",
          "Puducherry",
          "Puducherry",
          "Puducherry"
         ],
         "xaxis": "x",
         "y": [
          0.58,
          1.76,
          1.2,
          75.85,
          58.19,
          4.24,
          15.47,
          5.05,
          10.9,
          6.18
         ],
         "yaxis": "y"
        },
        {
         "hovertemplate": "States=%{x}<br>Estimated Unemployment Rate=%{y}<extra></extra>",
         "legendgroup": "Punjab",
         "marker": {
          "color": "#FF97FF",
          "symbol": "circle"
         },
         "mode": "markers",
         "name": "Punjab",
         "orientation": "v",
         "showlegend": true,
         "type": "scatter",
         "x": [
          "Punjab",
          "Punjab",
          "Punjab",
          "Punjab",
          "Punjab",
          "Punjab",
          "Punjab",
          "Punjab",
          "Punjab",
          "Punjab"
         ],
         "xaxis": "x",
         "y": [
          11.11,
          10.97,
          10.32,
          2.86,
          28.33,
          16.55,
          9.19,
          10.99,
          9.61,
          9.88
         ],
         "yaxis": "y"
        },
        {
         "hovertemplate": "States=%{x}<br>Estimated Unemployment Rate=%{y}<extra></extra>",
         "legendgroup": "Rajasthan",
         "marker": {
          "color": "#FECB52",
          "symbol": "circle"
         },
         "mode": "markers",
         "name": "Rajasthan",
         "orientation": "v",
         "showlegend": true,
         "type": "scatter",
         "x": [
          "Rajasthan",
          "Rajasthan",
          "Rajasthan",
          "Rajasthan",
          "Rajasthan",
          "Rajasthan",
          "Rajasthan",
          "Rajasthan",
          "Rajasthan",
          "Rajasthan"
         ],
         "xaxis": "x",
         "y": [
          10.97,
          15.16,
          11.9,
          17.7,
          15.74,
          14.39,
          15.81,
          17.51,
          15.35,
          24.15
         ],
         "yaxis": "y"
        },
        {
         "hovertemplate": "States=%{x}<br>Estimated Unemployment Rate=%{y}<extra></extra>",
         "legendgroup": "Sikkim",
         "marker": {
          "color": "#636efa",
          "symbol": "circle"
         },
         "mode": "markers",
         "name": "Sikkim",
         "orientation": "v",
         "showlegend": true,
         "type": "scatter",
         "x": [
          "Sikkim",
          "Sikkim",
          "Sikkim",
          "Sikkim",
          "Sikkim",
          "Sikkim",
          "Sikkim",
          "Sikkim"
         ],
         "xaxis": "x",
         "y": [
          23.57,
          2.28,
          24.51,
          4.46,
          4.45,
          12.49,
          5.7,
          0.88
         ],
         "yaxis": "y"
        },
        {
         "hovertemplate": "States=%{x}<br>Estimated Unemployment Rate=%{y}<extra></extra>",
         "legendgroup": "Tamil Nadu",
         "marker": {
          "color": "#EF553B",
          "symbol": "circle"
         },
         "mode": "markers",
         "name": "Tamil Nadu",
         "orientation": "v",
         "showlegend": true,
         "type": "scatter",
         "x": [
          "Tamil Nadu",
          "Tamil Nadu",
          "Tamil Nadu",
          "Tamil Nadu",
          "Tamil Nadu",
          "Tamil Nadu",
          "Tamil Nadu",
          "Tamil Nadu",
          "Tamil Nadu",
          "Tamil Nadu"
         ],
         "xaxis": "x",
         "y": [
          1.57,
          2.09,
          6.4,
          49.83,
          33.16,
          12.2,
          6.81,
          2.65,
          5,
          2.16
         ],
         "yaxis": "y"
        },
        {
         "hovertemplate": "States=%{x}<br>Estimated Unemployment Rate=%{y}<extra></extra>",
         "legendgroup": "Telangana",
         "marker": {
          "color": "#00cc96",
          "symbol": "circle"
         },
         "mode": "markers",
         "name": "Telangana",
         "orientation": "v",
         "showlegend": true,
         "type": "scatter",
         "x": [
          "Telangana",
          "Telangana",
          "Telangana",
          "Telangana",
          "Telangana",
          "Telangana",
          "Telangana",
          "Telangana",
          "Telangana",
          "Telangana"
         ],
         "xaxis": "x",
         "y": [
          5.49,
          8.29,
          5.77,
          6.25,
          14.7,
          10.55,
          5.36,
          5.79,
          3.27,
          2.86
         ],
         "yaxis": "y"
        },
        {
         "hovertemplate": "States=%{x}<br>Estimated Unemployment Rate=%{y}<extra></extra>",
         "legendgroup": "Tripura",
         "marker": {
          "color": "#ab63fa",
          "symbol": "circle"
         },
         "mode": "markers",
         "name": "Tripura",
         "orientation": "v",
         "showlegend": true,
         "type": "scatter",
         "x": [
          "Tripura",
          "Tripura",
          "Tripura",
          "Tripura",
          "Tripura",
          "Tripura",
          "Tripura",
          "Tripura",
          "Tripura",
          "Tripura"
         ],
         "xaxis": "x",
         "y": [
          32.67,
          28.4,
          29.95,
          41.23,
          21.51,
          21.71,
          18.24,
          27.92,
          17.35,
          11.57
         ],
         "yaxis": "y"
        },
        {
         "hovertemplate": "States=%{x}<br>Estimated Unemployment Rate=%{y}<extra></extra>",
         "legendgroup": "Uttar Pradesh",
         "marker": {
          "color": "#FFA15A",
          "symbol": "circle"
         },
         "mode": "markers",
         "name": "Uttar Pradesh",
         "orientation": "v",
         "showlegend": true,
         "type": "scatter",
         "x": [
          "Uttar Pradesh",
          "Uttar Pradesh",
          "Uttar Pradesh",
          "Uttar Pradesh",
          "Uttar Pradesh",
          "Uttar Pradesh",
          "Uttar Pradesh",
          "Uttar Pradesh",
          "Uttar Pradesh",
          "Uttar Pradesh"
         ],
         "xaxis": "x",
         "y": [
          7.58,
          8.98,
          10.11,
          21.54,
          20.41,
          9.47,
          5.56,
          5.79,
          4.18,
          3.75
         ],
         "yaxis": "y"
        },
        {
         "hovertemplate": "States=%{x}<br>Estimated Unemployment Rate=%{y}<extra></extra>",
         "legendgroup": "Uttarakhand",
         "marker": {
          "color": "#19d3f3",
          "symbol": "circle"
         },
         "mode": "markers",
         "name": "Uttarakhand",
         "orientation": "v",
         "showlegend": true,
         "type": "scatter",
         "x": [
          "Uttarakhand",
          "Uttarakhand",
          "Uttarakhand",
          "Uttarakhand",
          "Uttarakhand",
          "Uttarakhand",
          "Uttarakhand",
          "Uttarakhand",
          "Uttarakhand",
          "Uttarakhand"
         ],
         "xaxis": "x",
         "y": [
          5.49,
          4.99,
          19.85,
          6.48,
          8.01,
          8.61,
          12.38,
          14.26,
          22.26,
          9.23
         ],
         "yaxis": "y"
        },
        {
         "hovertemplate": "States=%{x}<br>Estimated Unemployment Rate=%{y}<extra></extra>",
         "legendgroup": "West Bengal",
         "marker": {
          "color": "#FF6692",
          "symbol": "circle"
         },
         "mode": "markers",
         "name": "West Bengal",
         "orientation": "v",
         "showlegend": true,
         "type": "scatter",
         "x": [
          "West Bengal",
          "West Bengal",
          "West Bengal",
          "West Bengal",
          "West Bengal",
          "West Bengal",
          "West Bengal",
          "West Bengal",
          "West Bengal",
          "West Bengal"
         ],
         "xaxis": "x",
         "y": [
          6.94,
          4.92,
          6.92,
          17.41,
          17.41,
          7.29,
          6.83,
          14.87,
          9.35,
          9.98
         ],
         "yaxis": "y"
        }
       ],
       "layout": {
        "legend": {
         "title": {
          "text": "States"
         },
         "tracegroupgap": 0
        },
        "template": {
         "data": {
          "bar": [
           {
            "error_x": {
             "color": "#2a3f5f"
            },
            "error_y": {
             "color": "#2a3f5f"
            },
            "marker": {
             "line": {
              "color": "#E5ECF6",
              "width": 0.5
             },
             "pattern": {
              "fillmode": "overlay",
              "size": 10,
              "solidity": 0.2
             }
            },
            "type": "bar"
           }
          ],
          "barpolar": [
           {
            "marker": {
             "line": {
              "color": "#E5ECF6",
              "width": 0.5
             },
             "pattern": {
              "fillmode": "overlay",
              "size": 10,
              "solidity": 0.2
             }
            },
            "type": "barpolar"
           }
          ],
          "carpet": [
           {
            "aaxis": {
             "endlinecolor": "#2a3f5f",
             "gridcolor": "white",
             "linecolor": "white",
             "minorgridcolor": "white",
             "startlinecolor": "#2a3f5f"
            },
            "baxis": {
             "endlinecolor": "#2a3f5f",
             "gridcolor": "white",
             "linecolor": "white",
             "minorgridcolor": "white",
             "startlinecolor": "#2a3f5f"
            },
            "type": "carpet"
           }
          ],
          "choropleth": [
           {
            "colorbar": {
             "outlinewidth": 0,
             "ticks": ""
            },
            "type": "choropleth"
           }
          ],
          "contour": [
           {
            "colorbar": {
             "outlinewidth": 0,
             "ticks": ""
            },
            "colorscale": [
             [
              0,
              "#0d0887"
             ],
             [
              0.1111111111111111,
              "#46039f"
             ],
             [
              0.2222222222222222,
              "#7201a8"
             ],
             [
              0.3333333333333333,
              "#9c179e"
             ],
             [
              0.4444444444444444,
              "#bd3786"
             ],
             [
              0.5555555555555556,
              "#d8576b"
             ],
             [
              0.6666666666666666,
              "#ed7953"
             ],
             [
              0.7777777777777778,
              "#fb9f3a"
             ],
             [
              0.8888888888888888,
              "#fdca26"
             ],
             [
              1,
              "#f0f921"
             ]
            ],
            "type": "contour"
           }
          ],
          "contourcarpet": [
           {
            "colorbar": {
             "outlinewidth": 0,
             "ticks": ""
            },
            "type": "contourcarpet"
           }
          ],
          "heatmap": [
           {
            "colorbar": {
             "outlinewidth": 0,
             "ticks": ""
            },
            "colorscale": [
             [
              0,
              "#0d0887"
             ],
             [
              0.1111111111111111,
              "#46039f"
             ],
             [
              0.2222222222222222,
              "#7201a8"
             ],
             [
              0.3333333333333333,
              "#9c179e"
             ],
             [
              0.4444444444444444,
              "#bd3786"
             ],
             [
              0.5555555555555556,
              "#d8576b"
             ],
             [
              0.6666666666666666,
              "#ed7953"
             ],
             [
              0.7777777777777778,
              "#fb9f3a"
             ],
             [
              0.8888888888888888,
              "#fdca26"
             ],
             [
              1,
              "#f0f921"
             ]
            ],
            "type": "heatmap"
           }
          ],
          "heatmapgl": [
           {
            "colorbar": {
             "outlinewidth": 0,
             "ticks": ""
            },
            "colorscale": [
             [
              0,
              "#0d0887"
             ],
             [
              0.1111111111111111,
              "#46039f"
             ],
             [
              0.2222222222222222,
              "#7201a8"
             ],
             [
              0.3333333333333333,
              "#9c179e"
             ],
             [
              0.4444444444444444,
              "#bd3786"
             ],
             [
              0.5555555555555556,
              "#d8576b"
             ],
             [
              0.6666666666666666,
              "#ed7953"
             ],
             [
              0.7777777777777778,
              "#fb9f3a"
             ],
             [
              0.8888888888888888,
              "#fdca26"
             ],
             [
              1,
              "#f0f921"
             ]
            ],
            "type": "heatmapgl"
           }
          ],
          "histogram": [
           {
            "marker": {
             "pattern": {
              "fillmode": "overlay",
              "size": 10,
              "solidity": 0.2
             }
            },
            "type": "histogram"
           }
          ],
          "histogram2d": [
           {
            "colorbar": {
             "outlinewidth": 0,
             "ticks": ""
            },
            "colorscale": [
             [
              0,
              "#0d0887"
             ],
             [
              0.1111111111111111,
              "#46039f"
             ],
             [
              0.2222222222222222,
              "#7201a8"
             ],
             [
              0.3333333333333333,
              "#9c179e"
             ],
             [
              0.4444444444444444,
              "#bd3786"
             ],
             [
              0.5555555555555556,
              "#d8576b"
             ],
             [
              0.6666666666666666,
              "#ed7953"
             ],
             [
              0.7777777777777778,
              "#fb9f3a"
             ],
             [
              0.8888888888888888,
              "#fdca26"
             ],
             [
              1,
              "#f0f921"
             ]
            ],
            "type": "histogram2d"
           }
          ],
          "histogram2dcontour": [
           {
            "colorbar": {
             "outlinewidth": 0,
             "ticks": ""
            },
            "colorscale": [
             [
              0,
              "#0d0887"
             ],
             [
              0.1111111111111111,
              "#46039f"
             ],
             [
              0.2222222222222222,
              "#7201a8"
             ],
             [
              0.3333333333333333,
              "#9c179e"
             ],
             [
              0.4444444444444444,
              "#bd3786"
             ],
             [
              0.5555555555555556,
              "#d8576b"
             ],
             [
              0.6666666666666666,
              "#ed7953"
             ],
             [
              0.7777777777777778,
              "#fb9f3a"
             ],
             [
              0.8888888888888888,
              "#fdca26"
             ],
             [
              1,
              "#f0f921"
             ]
            ],
            "type": "histogram2dcontour"
           }
          ],
          "mesh3d": [
           {
            "colorbar": {
             "outlinewidth": 0,
             "ticks": ""
            },
            "type": "mesh3d"
           }
          ],
          "parcoords": [
           {
            "line": {
             "colorbar": {
              "outlinewidth": 0,
              "ticks": ""
             }
            },
            "type": "parcoords"
           }
          ],
          "pie": [
           {
            "automargin": true,
            "type": "pie"
           }
          ],
          "scatter": [
           {
            "fillpattern": {
             "fillmode": "overlay",
             "size": 10,
             "solidity": 0.2
            },
            "type": "scatter"
           }
          ],
          "scatter3d": [
           {
            "line": {
             "colorbar": {
              "outlinewidth": 0,
              "ticks": ""
             }
            },
            "marker": {
             "colorbar": {
              "outlinewidth": 0,
              "ticks": ""
             }
            },
            "type": "scatter3d"
           }
          ],
          "scattercarpet": [
           {
            "marker": {
             "colorbar": {
              "outlinewidth": 0,
              "ticks": ""
             }
            },
            "type": "scattercarpet"
           }
          ],
          "scattergeo": [
           {
            "marker": {
             "colorbar": {
              "outlinewidth": 0,
              "ticks": ""
             }
            },
            "type": "scattergeo"
           }
          ],
          "scattergl": [
           {
            "marker": {
             "colorbar": {
              "outlinewidth": 0,
              "ticks": ""
             }
            },
            "type": "scattergl"
           }
          ],
          "scattermapbox": [
           {
            "marker": {
             "colorbar": {
              "outlinewidth": 0,
              "ticks": ""
             }
            },
            "type": "scattermapbox"
           }
          ],
          "scatterpolar": [
           {
            "marker": {
             "colorbar": {
              "outlinewidth": 0,
              "ticks": ""
             }
            },
            "type": "scatterpolar"
           }
          ],
          "scatterpolargl": [
           {
            "marker": {
             "colorbar": {
              "outlinewidth": 0,
              "ticks": ""
             }
            },
            "type": "scatterpolargl"
           }
          ],
          "scatterternary": [
           {
            "marker": {
             "colorbar": {
              "outlinewidth": 0,
              "ticks": ""
             }
            },
            "type": "scatterternary"
           }
          ],
          "surface": [
           {
            "colorbar": {
             "outlinewidth": 0,
             "ticks": ""
            },
            "colorscale": [
             [
              0,
              "#0d0887"
             ],
             [
              0.1111111111111111,
              "#46039f"
             ],
             [
              0.2222222222222222,
              "#7201a8"
             ],
             [
              0.3333333333333333,
              "#9c179e"
             ],
             [
              0.4444444444444444,
              "#bd3786"
             ],
             [
              0.5555555555555556,
              "#d8576b"
             ],
             [
              0.6666666666666666,
              "#ed7953"
             ],
             [
              0.7777777777777778,
              "#fb9f3a"
             ],
             [
              0.8888888888888888,
              "#fdca26"
             ],
             [
              1,
              "#f0f921"
             ]
            ],
            "type": "surface"
           }
          ],
          "table": [
           {
            "cells": {
             "fill": {
              "color": "#EBF0F8"
             },
             "line": {
              "color": "white"
             }
            },
            "header": {
             "fill": {
              "color": "#C8D4E3"
             },
             "line": {
              "color": "white"
             }
            },
            "type": "table"
           }
          ]
         },
         "layout": {
          "annotationdefaults": {
           "arrowcolor": "#2a3f5f",
           "arrowhead": 0,
           "arrowwidth": 1
          },
          "autotypenumbers": "strict",
          "coloraxis": {
           "colorbar": {
            "outlinewidth": 0,
            "ticks": ""
           }
          },
          "colorscale": {
           "diverging": [
            [
             0,
             "#8e0152"
            ],
            [
             0.1,
             "#c51b7d"
            ],
            [
             0.2,
             "#de77ae"
            ],
            [
             0.3,
             "#f1b6da"
            ],
            [
             0.4,
             "#fde0ef"
            ],
            [
             0.5,
             "#f7f7f7"
            ],
            [
             0.6,
             "#e6f5d0"
            ],
            [
             0.7,
             "#b8e186"
            ],
            [
             0.8,
             "#7fbc41"
            ],
            [
             0.9,
             "#4d9221"
            ],
            [
             1,
             "#276419"
            ]
           ],
           "sequential": [
            [
             0,
             "#0d0887"
            ],
            [
             0.1111111111111111,
             "#46039f"
            ],
            [
             0.2222222222222222,
             "#7201a8"
            ],
            [
             0.3333333333333333,
             "#9c179e"
            ],
            [
             0.4444444444444444,
             "#bd3786"
            ],
            [
             0.5555555555555556,
             "#d8576b"
            ],
            [
             0.6666666666666666,
             "#ed7953"
            ],
            [
             0.7777777777777778,
             "#fb9f3a"
            ],
            [
             0.8888888888888888,
             "#fdca26"
            ],
            [
             1,
             "#f0f921"
            ]
           ],
           "sequentialminus": [
            [
             0,
             "#0d0887"
            ],
            [
             0.1111111111111111,
             "#46039f"
            ],
            [
             0.2222222222222222,
             "#7201a8"
            ],
            [
             0.3333333333333333,
             "#9c179e"
            ],
            [
             0.4444444444444444,
             "#bd3786"
            ],
            [
             0.5555555555555556,
             "#d8576b"
            ],
            [
             0.6666666666666666,
             "#ed7953"
            ],
            [
             0.7777777777777778,
             "#fb9f3a"
            ],
            [
             0.8888888888888888,
             "#fdca26"
            ],
            [
             1,
             "#f0f921"
            ]
           ]
          },
          "colorway": [
           "#636efa",
           "#EF553B",
           "#00cc96",
           "#ab63fa",
           "#FFA15A",
           "#19d3f3",
           "#FF6692",
           "#B6E880",
           "#FF97FF",
           "#FECB52"
          ],
          "font": {
           "color": "#2a3f5f"
          },
          "geo": {
           "bgcolor": "white",
           "lakecolor": "white",
           "landcolor": "#E5ECF6",
           "showlakes": true,
           "showland": true,
           "subunitcolor": "white"
          },
          "hoverlabel": {
           "align": "left"
          },
          "hovermode": "closest",
          "mapbox": {
           "style": "light"
          },
          "paper_bgcolor": "white",
          "plot_bgcolor": "#E5ECF6",
          "polar": {
           "angularaxis": {
            "gridcolor": "white",
            "linecolor": "white",
            "ticks": ""
           },
           "bgcolor": "#E5ECF6",
           "radialaxis": {
            "gridcolor": "white",
            "linecolor": "white",
            "ticks": ""
           }
          },
          "scene": {
           "xaxis": {
            "backgroundcolor": "#E5ECF6",
            "gridcolor": "white",
            "gridwidth": 2,
            "linecolor": "white",
            "showbackground": true,
            "ticks": "",
            "zerolinecolor": "white"
           },
           "yaxis": {
            "backgroundcolor": "#E5ECF6",
            "gridcolor": "white",
            "gridwidth": 2,
            "linecolor": "white",
            "showbackground": true,
            "ticks": "",
            "zerolinecolor": "white"
           },
           "zaxis": {
            "backgroundcolor": "#E5ECF6",
            "gridcolor": "white",
            "gridwidth": 2,
            "linecolor": "white",
            "showbackground": true,
            "ticks": "",
            "zerolinecolor": "white"
           }
          },
          "shapedefaults": {
           "line": {
            "color": "#2a3f5f"
           }
          },
          "ternary": {
           "aaxis": {
            "gridcolor": "white",
            "linecolor": "white",
            "ticks": ""
           },
           "baxis": {
            "gridcolor": "white",
            "linecolor": "white",
            "ticks": ""
           },
           "bgcolor": "#E5ECF6",
           "caxis": {
            "gridcolor": "white",
            "linecolor": "white",
            "ticks": ""
           }
          },
          "title": {
           "x": 0.05
          },
          "xaxis": {
           "automargin": true,
           "gridcolor": "white",
           "linecolor": "white",
           "ticks": "",
           "title": {
            "standoff": 15
           },
           "zerolinecolor": "white",
           "zerolinewidth": 2
          },
          "yaxis": {
           "automargin": true,
           "gridcolor": "white",
           "linecolor": "white",
           "ticks": "",
           "title": {
            "standoff": 15
           },
           "zerolinecolor": "white",
           "zerolinewidth": 2
          }
         }
        },
        "title": {
         "text": "Indian unemployment rate(state-wise)"
        },
        "xaxis": {
         "anchor": "y",
         "categoryarray": [
          "Andhra Pradesh",
          "Assam",
          "Bihar",
          "Chhattisgarh",
          "Delhi",
          "Goa",
          "Gujarat",
          "Haryana",
          "Himachal Pradesh",
          "Jammu & Kashmir",
          "Jharkhand",
          "Karnataka",
          "Kerala",
          "Madhya Pradesh",
          "Maharashtra",
          "Meghalaya",
          "Odisha",
          "Puducherry",
          "Punjab",
          "Rajasthan",
          "Sikkim",
          "Tamil Nadu",
          "Telangana",
          "Tripura",
          "Uttar Pradesh",
          "Uttarakhand",
          "West Bengal"
         ],
         "categoryorder": "total descending",
         "domain": [
          0,
          1
         ],
         "title": {
          "text": "States"
         }
        },
        "yaxis": {
         "anchor": "x",
         "domain": [
          0,
          1
         ],
         "title": {
          "text": "Estimated Unemployment Rate"
         }
        }
       }
      },
      "text/html": [
       "<div>                            <div id=\"f6893ada-9f9d-48f0-9f3d-8ddf19e98832\" class=\"plotly-graph-div\" style=\"height:525px; width:100%;\"></div>            <script type=\"text/javascript\">                require([\"plotly\"], function(Plotly) {                    window.PLOTLYENV=window.PLOTLYENV || {};                                    if (document.getElementById(\"f6893ada-9f9d-48f0-9f3d-8ddf19e98832\")) {                    Plotly.newPlot(                        \"f6893ada-9f9d-48f0-9f3d-8ddf19e98832\",                        [{\"hovertemplate\":\"States=%{x}<br>Estimated Unemployment Rate=%{y}<extra></extra>\",\"legendgroup\":\"Andhra Pradesh\",\"marker\":{\"color\":\"#636efa\",\"symbol\":\"circle\"},\"mode\":\"markers\",\"name\":\"Andhra Pradesh\",\"orientation\":\"v\",\"showlegend\":true,\"x\":[\"Andhra Pradesh\",\"Andhra Pradesh\",\"Andhra Pradesh\",\"Andhra Pradesh\",\"Andhra Pradesh\",\"Andhra Pradesh\",\"Andhra Pradesh\",\"Andhra Pradesh\",\"Andhra Pradesh\",\"Andhra Pradesh\"],\"xaxis\":\"x\",\"y\":[5.48,5.83,5.79,20.51,17.43,3.31,8.34,6.96,6.4,6.59],\"yaxis\":\"y\",\"type\":\"scatter\"},{\"hovertemplate\":\"States=%{x}<br>Estimated Unemployment Rate=%{y}<extra></extra>\",\"legendgroup\":\"Assam\",\"marker\":{\"color\":\"#EF553B\",\"symbol\":\"circle\"},\"mode\":\"markers\",\"name\":\"Assam\",\"orientation\":\"v\",\"showlegend\":true,\"x\":[\"Assam\",\"Assam\",\"Assam\",\"Assam\",\"Assam\",\"Assam\",\"Assam\",\"Assam\",\"Assam\",\"Assam\"],\"xaxis\":\"x\",\"y\":[4.66,4.41,4.77,11.06,9.55,0.6,3.77,5.53,1.19,3.02],\"yaxis\":\"y\",\"type\":\"scatter\"},{\"hovertemplate\":\"States=%{x}<br>Estimated Unemployment Rate=%{y}<extra></extra>\",\"legendgroup\":\"Bihar\",\"marker\":{\"color\":\"#00cc96\",\"symbol\":\"circle\"},\"mode\":\"markers\",\"name\":\"Bihar\",\"orientation\":\"v\",\"showlegend\":true,\"x\":[\"Bihar\",\"Bihar\",\"Bihar\",\"Bihar\",\"Bihar\",\"Bihar\",\"Bihar\",\"Bihar\",\"Bihar\",\"Bihar\"],\"xaxis\":\"x\",\"y\":[10.61,10.29,15.43,46.64,45.96,17.82,12.79,13.44,11.91,9.82],\"yaxis\":\"y\",\"type\":\"scatter\"},{\"hovertemplate\":\"States=%{x}<br>Estimated Unemployment Rate=%{y}<extra></extra>\",\"legendgroup\":\"Chhattisgarh\",\"marker\":{\"color\":\"#ab63fa\",\"symbol\":\"circle\"},\"mode\":\"markers\",\"name\":\"Chhattisgarh\",\"orientation\":\"v\",\"showlegend\":true,\"x\":[\"Chhattisgarh\",\"Chhattisgarh\",\"Chhattisgarh\",\"Chhattisgarh\",\"Chhattisgarh\",\"Chhattisgarh\",\"Chhattisgarh\",\"Chhattisgarh\",\"Chhattisgarh\",\"Chhattisgarh\"],\"xaxis\":\"x\",\"y\":[9.65,8.38,7.54,3.41,10.5,14.23,10.27,5.63,1.96,6.62],\"yaxis\":\"y\",\"type\":\"scatter\"},{\"hovertemplate\":\"States=%{x}<br>Estimated Unemployment Rate=%{y}<extra></extra>\",\"legendgroup\":\"Delhi\",\"marker\":{\"color\":\"#FFA15A\",\"symbol\":\"circle\"},\"mode\":\"markers\",\"name\":\"Delhi\",\"orientation\":\"v\",\"showlegend\":true,\"x\":[\"Delhi\",\"Delhi\",\"Delhi\",\"Delhi\",\"Delhi\",\"Delhi\",\"Delhi\",\"Delhi\",\"Delhi\",\"Delhi\"],\"xaxis\":\"x\",\"y\":[22.23,14.84,17.04,16.68,42.27,18.19,20.3,13.79,12.53,6.27],\"yaxis\":\"y\",\"type\":\"scatter\"},{\"hovertemplate\":\"States=%{x}<br>Estimated Unemployment Rate=%{y}<extra></extra>\",\"legendgroup\":\"Goa\",\"marker\":{\"color\":\"#19d3f3\",\"symbol\":\"circle\"},\"mode\":\"markers\",\"name\":\"Goa\",\"orientation\":\"v\",\"showlegend\":true,\"x\":[\"Goa\",\"Goa\",\"Goa\",\"Goa\",\"Goa\",\"Goa\",\"Goa\",\"Goa\",\"Goa\",\"Goa\"],\"xaxis\":\"x\",\"y\":[8.89,2.81,5.25,13.31,21.25,9.96,17.07,16.21,15.38,11.54],\"yaxis\":\"y\",\"type\":\"scatter\"},{\"hovertemplate\":\"States=%{x}<br>Estimated Unemployment Rate=%{y}<extra></extra>\",\"legendgroup\":\"Gujarat\",\"marker\":{\"color\":\"#FF6692\",\"symbol\":\"circle\"},\"mode\":\"markers\",\"name\":\"Gujarat\",\"orientation\":\"v\",\"showlegend\":true,\"x\":[\"Gujarat\",\"Gujarat\",\"Gujarat\",\"Gujarat\",\"Gujarat\",\"Gujarat\",\"Gujarat\",\"Gujarat\",\"Gujarat\",\"Gujarat\"],\"xaxis\":\"x\",\"y\":[5.54,6.38,6.66,18.71,12.11,3.2,1.84,1.87,3.42,4.03],\"yaxis\":\"y\",\"type\":\"scatter\"},{\"hovertemplate\":\"States=%{x}<br>Estimated Unemployment Rate=%{y}<extra></extra>\",\"legendgroup\":\"Haryana\",\"marker\":{\"color\":\"#B6E880\",\"symbol\":\"circle\"},\"mode\":\"markers\",\"name\":\"Haryana\",\"orientation\":\"v\",\"showlegend\":true,\"x\":[\"Haryana\",\"Haryana\",\"Haryana\",\"Haryana\",\"Haryana\",\"Haryana\",\"Haryana\",\"Haryana\",\"Haryana\",\"Haryana\"],\"xaxis\":\"x\",\"y\":[20.34,25.77,25.05,43.22,29.02,26.7,24.18,33.5,19.68,27.31],\"yaxis\":\"y\",\"type\":\"scatter\"},{\"hovertemplate\":\"States=%{x}<br>Estimated Unemployment Rate=%{y}<extra></extra>\",\"legendgroup\":\"Himachal Pradesh\",\"marker\":{\"color\":\"#FF97FF\",\"symbol\":\"circle\"},\"mode\":\"markers\",\"name\":\"Himachal Pradesh\",\"orientation\":\"v\",\"showlegend\":true,\"x\":[\"Himachal Pradesh\",\"Himachal Pradesh\",\"Himachal Pradesh\",\"Himachal Pradesh\",\"Himachal Pradesh\",\"Himachal Pradesh\",\"Himachal Pradesh\",\"Himachal Pradesh\",\"Himachal Pradesh\",\"Himachal Pradesh\"],\"xaxis\":\"x\",\"y\":[16.83,16.84,18.76,2.2,26.95,13.47,24.31,15.79,12.04,13.46],\"yaxis\":\"y\",\"type\":\"scatter\"},{\"hovertemplate\":\"States=%{x}<br>Estimated Unemployment Rate=%{y}<extra></extra>\",\"legendgroup\":\"Jammu & Kashmir\",\"marker\":{\"color\":\"#FECB52\",\"symbol\":\"circle\"},\"mode\":\"markers\",\"name\":\"Jammu & Kashmir\",\"orientation\":\"v\",\"showlegend\":true,\"x\":[\"Jammu & Kashmir\",\"Jammu & Kashmir\",\"Jammu & Kashmir\",\"Jammu & Kashmir\",\"Jammu & Kashmir\",\"Jammu & Kashmir\",\"Jammu & Kashmir\",\"Jammu & Kashmir\",\"Jammu & Kashmir\"],\"xaxis\":\"x\",\"y\":[21.08,20.78,15.5,18.74,17.92,10.88,11.09,16.17,16.14],\"yaxis\":\"y\",\"type\":\"scatter\"},{\"hovertemplate\":\"States=%{x}<br>Estimated Unemployment Rate=%{y}<extra></extra>\",\"legendgroup\":\"Jharkhand\",\"marker\":{\"color\":\"#636efa\",\"symbol\":\"circle\"},\"mode\":\"markers\",\"name\":\"Jharkhand\",\"orientation\":\"v\",\"showlegend\":true,\"x\":[\"Jharkhand\",\"Jharkhand\",\"Jharkhand\",\"Jharkhand\",\"Jharkhand\",\"Jharkhand\",\"Jharkhand\",\"Jharkhand\",\"Jharkhand\",\"Jharkhand\"],\"xaxis\":\"x\",\"y\":[10.61,11.85,8.23,47.09,59.23,20.95,7.63,9.76,8.24,11.8],\"yaxis\":\"y\",\"type\":\"scatter\"},{\"hovertemplate\":\"States=%{x}<br>Estimated Unemployment Rate=%{y}<extra></extra>\",\"legendgroup\":\"Karnataka\",\"marker\":{\"color\":\"#EF553B\",\"symbol\":\"circle\"},\"mode\":\"markers\",\"name\":\"Karnataka\",\"orientation\":\"v\",\"showlegend\":true,\"x\":[\"Karnataka\",\"Karnataka\",\"Karnataka\",\"Karnataka\",\"Karnataka\",\"Karnataka\",\"Karnataka\",\"Karnataka\",\"Karnataka\",\"Karnataka\"],\"xaxis\":\"x\",\"y\":[2.86,3.61,3.46,29.84,19.97,8.44,4.01,0.5,2.41,1.58],\"yaxis\":\"y\",\"type\":\"scatter\"},{\"hovertemplate\":\"States=%{x}<br>Estimated Unemployment Rate=%{y}<extra></extra>\",\"legendgroup\":\"Kerala\",\"marker\":{\"color\":\"#00cc96\",\"symbol\":\"circle\"},\"mode\":\"markers\",\"name\":\"Kerala\",\"orientation\":\"v\",\"showlegend\":true,\"x\":[\"Kerala\",\"Kerala\",\"Kerala\",\"Kerala\",\"Kerala\",\"Kerala\",\"Kerala\",\"Kerala\",\"Kerala\",\"Kerala\"],\"xaxis\":\"x\",\"y\":[5.31,7.6,8.99,16.99,17.88,9.71,7.09,10.98,5.91,3.88],\"yaxis\":\"y\",\"type\":\"scatter\"},{\"hovertemplate\":\"States=%{x}<br>Estimated Unemployment Rate=%{y}<extra></extra>\",\"legendgroup\":\"Madhya Pradesh\",\"marker\":{\"color\":\"#ab63fa\",\"symbol\":\"circle\"},\"mode\":\"markers\",\"name\":\"Madhya Pradesh\",\"orientation\":\"v\",\"showlegend\":true,\"x\":[\"Madhya Pradesh\",\"Madhya Pradesh\",\"Madhya Pradesh\",\"Madhya Pradesh\",\"Madhya Pradesh\",\"Madhya Pradesh\",\"Madhya Pradesh\",\"Madhya Pradesh\",\"Madhya Pradesh\",\"Madhya Pradesh\"],\"xaxis\":\"x\",\"y\":[4.11,4.57,2.22,12.36,21.98,6.48,5.08,4.7,3.91,3.13],\"yaxis\":\"y\",\"type\":\"scatter\"},{\"hovertemplate\":\"States=%{x}<br>Estimated Unemployment Rate=%{y}<extra></extra>\",\"legendgroup\":\"Maharashtra\",\"marker\":{\"color\":\"#FFA15A\",\"symbol\":\"circle\"},\"mode\":\"markers\",\"name\":\"Maharashtra\",\"orientation\":\"v\",\"showlegend\":true,\"x\":[\"Maharashtra\",\"Maharashtra\",\"Maharashtra\",\"Maharashtra\",\"Maharashtra\",\"Maharashtra\",\"Maharashtra\",\"Maharashtra\",\"Maharashtra\",\"Maharashtra\"],\"xaxis\":\"x\",\"y\":[4.95,4.69,5.79,20.9,15.46,9.23,3.89,6.23,4.55,4.1],\"yaxis\":\"y\",\"type\":\"scatter\"},{\"hovertemplate\":\"States=%{x}<br>Estimated Unemployment Rate=%{y}<extra></extra>\",\"legendgroup\":\"Meghalaya\",\"marker\":{\"color\":\"#19d3f3\",\"symbol\":\"circle\"},\"mode\":\"markers\",\"name\":\"Meghalaya\",\"orientation\":\"v\",\"showlegend\":true,\"x\":[\"Meghalaya\",\"Meghalaya\",\"Meghalaya\",\"Meghalaya\",\"Meghalaya\",\"Meghalaya\",\"Meghalaya\",\"Meghalaya\",\"Meghalaya\",\"Meghalaya\"],\"xaxis\":\"x\",\"y\":[1.66,3.59,1.58,10.03,5.92,1.15,2.1,3.74,4.29,4.6],\"yaxis\":\"y\",\"type\":\"scatter\"},{\"hovertemplate\":\"States=%{x}<br>Estimated Unemployment Rate=%{y}<extra></extra>\",\"legendgroup\":\"Odisha\",\"marker\":{\"color\":\"#FF6692\",\"symbol\":\"circle\"},\"mode\":\"markers\",\"name\":\"Odisha\",\"orientation\":\"v\",\"showlegend\":true,\"x\":[\"Odisha\",\"Odisha\",\"Odisha\",\"Odisha\",\"Odisha\",\"Odisha\",\"Odisha\",\"Odisha\",\"Odisha\",\"Odisha\"],\"xaxis\":\"x\",\"y\":[1.9,3.12,13.08,23.76,11.41,3.77,1.88,1.42,2.1,2.18],\"yaxis\":\"y\",\"type\":\"scatter\"},{\"hovertemplate\":\"States=%{x}<br>Estimated Unemployment Rate=%{y}<extra></extra>\",\"legendgroup\":\"Puducherry\",\"marker\":{\"color\":\"#B6E880\",\"symbol\":\"circle\"},\"mode\":\"markers\",\"name\":\"Puducherry\",\"orientation\":\"v\",\"showlegend\":true,\"x\":[\"Puducherry\",\"Puducherry\",\"Puducherry\",\"Puducherry\",\"Puducherry\",\"Puducherry\",\"Puducherry\",\"Puducherry\",\"Puducherry\",\"Puducherry\"],\"xaxis\":\"x\",\"y\":[0.58,1.76,1.2,75.85,58.19,4.24,15.47,5.05,10.9,6.18],\"yaxis\":\"y\",\"type\":\"scatter\"},{\"hovertemplate\":\"States=%{x}<br>Estimated Unemployment Rate=%{y}<extra></extra>\",\"legendgroup\":\"Punjab\",\"marker\":{\"color\":\"#FF97FF\",\"symbol\":\"circle\"},\"mode\":\"markers\",\"name\":\"Punjab\",\"orientation\":\"v\",\"showlegend\":true,\"x\":[\"Punjab\",\"Punjab\",\"Punjab\",\"Punjab\",\"Punjab\",\"Punjab\",\"Punjab\",\"Punjab\",\"Punjab\",\"Punjab\"],\"xaxis\":\"x\",\"y\":[11.11,10.97,10.32,2.86,28.33,16.55,9.19,10.99,9.61,9.88],\"yaxis\":\"y\",\"type\":\"scatter\"},{\"hovertemplate\":\"States=%{x}<br>Estimated Unemployment Rate=%{y}<extra></extra>\",\"legendgroup\":\"Rajasthan\",\"marker\":{\"color\":\"#FECB52\",\"symbol\":\"circle\"},\"mode\":\"markers\",\"name\":\"Rajasthan\",\"orientation\":\"v\",\"showlegend\":true,\"x\":[\"Rajasthan\",\"Rajasthan\",\"Rajasthan\",\"Rajasthan\",\"Rajasthan\",\"Rajasthan\",\"Rajasthan\",\"Rajasthan\",\"Rajasthan\",\"Rajasthan\"],\"xaxis\":\"x\",\"y\":[10.97,15.16,11.9,17.7,15.74,14.39,15.81,17.51,15.35,24.15],\"yaxis\":\"y\",\"type\":\"scatter\"},{\"hovertemplate\":\"States=%{x}<br>Estimated Unemployment Rate=%{y}<extra></extra>\",\"legendgroup\":\"Sikkim\",\"marker\":{\"color\":\"#636efa\",\"symbol\":\"circle\"},\"mode\":\"markers\",\"name\":\"Sikkim\",\"orientation\":\"v\",\"showlegend\":true,\"x\":[\"Sikkim\",\"Sikkim\",\"Sikkim\",\"Sikkim\",\"Sikkim\",\"Sikkim\",\"Sikkim\",\"Sikkim\"],\"xaxis\":\"x\",\"y\":[23.57,2.28,24.51,4.46,4.45,12.49,5.7,0.88],\"yaxis\":\"y\",\"type\":\"scatter\"},{\"hovertemplate\":\"States=%{x}<br>Estimated Unemployment Rate=%{y}<extra></extra>\",\"legendgroup\":\"Tamil Nadu\",\"marker\":{\"color\":\"#EF553B\",\"symbol\":\"circle\"},\"mode\":\"markers\",\"name\":\"Tamil Nadu\",\"orientation\":\"v\",\"showlegend\":true,\"x\":[\"Tamil Nadu\",\"Tamil Nadu\",\"Tamil Nadu\",\"Tamil Nadu\",\"Tamil Nadu\",\"Tamil Nadu\",\"Tamil Nadu\",\"Tamil Nadu\",\"Tamil Nadu\",\"Tamil Nadu\"],\"xaxis\":\"x\",\"y\":[1.57,2.09,6.4,49.83,33.16,12.2,6.81,2.65,5.0,2.16],\"yaxis\":\"y\",\"type\":\"scatter\"},{\"hovertemplate\":\"States=%{x}<br>Estimated Unemployment Rate=%{y}<extra></extra>\",\"legendgroup\":\"Telangana\",\"marker\":{\"color\":\"#00cc96\",\"symbol\":\"circle\"},\"mode\":\"markers\",\"name\":\"Telangana\",\"orientation\":\"v\",\"showlegend\":true,\"x\":[\"Telangana\",\"Telangana\",\"Telangana\",\"Telangana\",\"Telangana\",\"Telangana\",\"Telangana\",\"Telangana\",\"Telangana\",\"Telangana\"],\"xaxis\":\"x\",\"y\":[5.49,8.29,5.77,6.25,14.7,10.55,5.36,5.79,3.27,2.86],\"yaxis\":\"y\",\"type\":\"scatter\"},{\"hovertemplate\":\"States=%{x}<br>Estimated Unemployment Rate=%{y}<extra></extra>\",\"legendgroup\":\"Tripura\",\"marker\":{\"color\":\"#ab63fa\",\"symbol\":\"circle\"},\"mode\":\"markers\",\"name\":\"Tripura\",\"orientation\":\"v\",\"showlegend\":true,\"x\":[\"Tripura\",\"Tripura\",\"Tripura\",\"Tripura\",\"Tripura\",\"Tripura\",\"Tripura\",\"Tripura\",\"Tripura\",\"Tripura\"],\"xaxis\":\"x\",\"y\":[32.67,28.4,29.95,41.23,21.51,21.71,18.24,27.92,17.35,11.57],\"yaxis\":\"y\",\"type\":\"scatter\"},{\"hovertemplate\":\"States=%{x}<br>Estimated Unemployment Rate=%{y}<extra></extra>\",\"legendgroup\":\"Uttar Pradesh\",\"marker\":{\"color\":\"#FFA15A\",\"symbol\":\"circle\"},\"mode\":\"markers\",\"name\":\"Uttar Pradesh\",\"orientation\":\"v\",\"showlegend\":true,\"x\":[\"Uttar Pradesh\",\"Uttar Pradesh\",\"Uttar Pradesh\",\"Uttar Pradesh\",\"Uttar Pradesh\",\"Uttar Pradesh\",\"Uttar Pradesh\",\"Uttar Pradesh\",\"Uttar Pradesh\",\"Uttar Pradesh\"],\"xaxis\":\"x\",\"y\":[7.58,8.98,10.11,21.54,20.41,9.47,5.56,5.79,4.18,3.75],\"yaxis\":\"y\",\"type\":\"scatter\"},{\"hovertemplate\":\"States=%{x}<br>Estimated Unemployment Rate=%{y}<extra></extra>\",\"legendgroup\":\"Uttarakhand\",\"marker\":{\"color\":\"#19d3f3\",\"symbol\":\"circle\"},\"mode\":\"markers\",\"name\":\"Uttarakhand\",\"orientation\":\"v\",\"showlegend\":true,\"x\":[\"Uttarakhand\",\"Uttarakhand\",\"Uttarakhand\",\"Uttarakhand\",\"Uttarakhand\",\"Uttarakhand\",\"Uttarakhand\",\"Uttarakhand\",\"Uttarakhand\",\"Uttarakhand\"],\"xaxis\":\"x\",\"y\":[5.49,4.99,19.85,6.48,8.01,8.61,12.38,14.26,22.26,9.23],\"yaxis\":\"y\",\"type\":\"scatter\"},{\"hovertemplate\":\"States=%{x}<br>Estimated Unemployment Rate=%{y}<extra></extra>\",\"legendgroup\":\"West Bengal\",\"marker\":{\"color\":\"#FF6692\",\"symbol\":\"circle\"},\"mode\":\"markers\",\"name\":\"West Bengal\",\"orientation\":\"v\",\"showlegend\":true,\"x\":[\"West Bengal\",\"West Bengal\",\"West Bengal\",\"West Bengal\",\"West Bengal\",\"West Bengal\",\"West Bengal\",\"West Bengal\",\"West Bengal\",\"West Bengal\"],\"xaxis\":\"x\",\"y\":[6.94,4.92,6.92,17.41,17.41,7.29,6.83,14.87,9.35,9.98],\"yaxis\":\"y\",\"type\":\"scatter\"}],                        {\"template\":{\"data\":{\"histogram2dcontour\":[{\"type\":\"histogram2dcontour\",\"colorbar\":{\"outlinewidth\":0,\"ticks\":\"\"},\"colorscale\":[[0.0,\"#0d0887\"],[0.1111111111111111,\"#46039f\"],[0.2222222222222222,\"#7201a8\"],[0.3333333333333333,\"#9c179e\"],[0.4444444444444444,\"#bd3786\"],[0.5555555555555556,\"#d8576b\"],[0.6666666666666666,\"#ed7953\"],[0.7777777777777778,\"#fb9f3a\"],[0.8888888888888888,\"#fdca26\"],[1.0,\"#f0f921\"]]}],\"choropleth\":[{\"type\":\"choropleth\",\"colorbar\":{\"outlinewidth\":0,\"ticks\":\"\"}}],\"histogram2d\":[{\"type\":\"histogram2d\",\"colorbar\":{\"outlinewidth\":0,\"ticks\":\"\"},\"colorscale\":[[0.0,\"#0d0887\"],[0.1111111111111111,\"#46039f\"],[0.2222222222222222,\"#7201a8\"],[0.3333333333333333,\"#9c179e\"],[0.4444444444444444,\"#bd3786\"],[0.5555555555555556,\"#d8576b\"],[0.6666666666666666,\"#ed7953\"],[0.7777777777777778,\"#fb9f3a\"],[0.8888888888888888,\"#fdca26\"],[1.0,\"#f0f921\"]]}],\"heatmap\":[{\"type\":\"heatmap\",\"colorbar\":{\"outlinewidth\":0,\"ticks\":\"\"},\"colorscale\":[[0.0,\"#0d0887\"],[0.1111111111111111,\"#46039f\"],[0.2222222222222222,\"#7201a8\"],[0.3333333333333333,\"#9c179e\"],[0.4444444444444444,\"#bd3786\"],[0.5555555555555556,\"#d8576b\"],[0.6666666666666666,\"#ed7953\"],[0.7777777777777778,\"#fb9f3a\"],[0.8888888888888888,\"#fdca26\"],[1.0,\"#f0f921\"]]}],\"heatmapgl\":[{\"type\":\"heatmapgl\",\"colorbar\":{\"outlinewidth\":0,\"ticks\":\"\"},\"colorscale\":[[0.0,\"#0d0887\"],[0.1111111111111111,\"#46039f\"],[0.2222222222222222,\"#7201a8\"],[0.3333333333333333,\"#9c179e\"],[0.4444444444444444,\"#bd3786\"],[0.5555555555555556,\"#d8576b\"],[0.6666666666666666,\"#ed7953\"],[0.7777777777777778,\"#fb9f3a\"],[0.8888888888888888,\"#fdca26\"],[1.0,\"#f0f921\"]]}],\"contourcarpet\":[{\"type\":\"contourcarpet\",\"colorbar\":{\"outlinewidth\":0,\"ticks\":\"\"}}],\"contour\":[{\"type\":\"contour\",\"colorbar\":{\"outlinewidth\":0,\"ticks\":\"\"},\"colorscale\":[[0.0,\"#0d0887\"],[0.1111111111111111,\"#46039f\"],[0.2222222222222222,\"#7201a8\"],[0.3333333333333333,\"#9c179e\"],[0.4444444444444444,\"#bd3786\"],[0.5555555555555556,\"#d8576b\"],[0.6666666666666666,\"#ed7953\"],[0.7777777777777778,\"#fb9f3a\"],[0.8888888888888888,\"#fdca26\"],[1.0,\"#f0f921\"]]}],\"surface\":[{\"type\":\"surface\",\"colorbar\":{\"outlinewidth\":0,\"ticks\":\"\"},\"colorscale\":[[0.0,\"#0d0887\"],[0.1111111111111111,\"#46039f\"],[0.2222222222222222,\"#7201a8\"],[0.3333333333333333,\"#9c179e\"],[0.4444444444444444,\"#bd3786\"],[0.5555555555555556,\"#d8576b\"],[0.6666666666666666,\"#ed7953\"],[0.7777777777777778,\"#fb9f3a\"],[0.8888888888888888,\"#fdca26\"],[1.0,\"#f0f921\"]]}],\"mesh3d\":[{\"type\":\"mesh3d\",\"colorbar\":{\"outlinewidth\":0,\"ticks\":\"\"}}],\"scatter\":[{\"fillpattern\":{\"fillmode\":\"overlay\",\"size\":10,\"solidity\":0.2},\"type\":\"scatter\"}],\"parcoords\":[{\"type\":\"parcoords\",\"line\":{\"colorbar\":{\"outlinewidth\":0,\"ticks\":\"\"}}}],\"scatterpolargl\":[{\"type\":\"scatterpolargl\",\"marker\":{\"colorbar\":{\"outlinewidth\":0,\"ticks\":\"\"}}}],\"bar\":[{\"error_x\":{\"color\":\"#2a3f5f\"},\"error_y\":{\"color\":\"#2a3f5f\"},\"marker\":{\"line\":{\"color\":\"#E5ECF6\",\"width\":0.5},\"pattern\":{\"fillmode\":\"overlay\",\"size\":10,\"solidity\":0.2}},\"type\":\"bar\"}],\"scattergeo\":[{\"type\":\"scattergeo\",\"marker\":{\"colorbar\":{\"outlinewidth\":0,\"ticks\":\"\"}}}],\"scatterpolar\":[{\"type\":\"scatterpolar\",\"marker\":{\"colorbar\":{\"outlinewidth\":0,\"ticks\":\"\"}}}],\"histogram\":[{\"marker\":{\"pattern\":{\"fillmode\":\"overlay\",\"size\":10,\"solidity\":0.2}},\"type\":\"histogram\"}],\"scattergl\":[{\"type\":\"scattergl\",\"marker\":{\"colorbar\":{\"outlinewidth\":0,\"ticks\":\"\"}}}],\"scatter3d\":[{\"type\":\"scatter3d\",\"line\":{\"colorbar\":{\"outlinewidth\":0,\"ticks\":\"\"}},\"marker\":{\"colorbar\":{\"outlinewidth\":0,\"ticks\":\"\"}}}],\"scattermapbox\":[{\"type\":\"scattermapbox\",\"marker\":{\"colorbar\":{\"outlinewidth\":0,\"ticks\":\"\"}}}],\"scatterternary\":[{\"type\":\"scatterternary\",\"marker\":{\"colorbar\":{\"outlinewidth\":0,\"ticks\":\"\"}}}],\"scattercarpet\":[{\"type\":\"scattercarpet\",\"marker\":{\"colorbar\":{\"outlinewidth\":0,\"ticks\":\"\"}}}],\"carpet\":[{\"aaxis\":{\"endlinecolor\":\"#2a3f5f\",\"gridcolor\":\"white\",\"linecolor\":\"white\",\"minorgridcolor\":\"white\",\"startlinecolor\":\"#2a3f5f\"},\"baxis\":{\"endlinecolor\":\"#2a3f5f\",\"gridcolor\":\"white\",\"linecolor\":\"white\",\"minorgridcolor\":\"white\",\"startlinecolor\":\"#2a3f5f\"},\"type\":\"carpet\"}],\"table\":[{\"cells\":{\"fill\":{\"color\":\"#EBF0F8\"},\"line\":{\"color\":\"white\"}},\"header\":{\"fill\":{\"color\":\"#C8D4E3\"},\"line\":{\"color\":\"white\"}},\"type\":\"table\"}],\"barpolar\":[{\"marker\":{\"line\":{\"color\":\"#E5ECF6\",\"width\":0.5},\"pattern\":{\"fillmode\":\"overlay\",\"size\":10,\"solidity\":0.2}},\"type\":\"barpolar\"}],\"pie\":[{\"automargin\":true,\"type\":\"pie\"}]},\"layout\":{\"autotypenumbers\":\"strict\",\"colorway\":[\"#636efa\",\"#EF553B\",\"#00cc96\",\"#ab63fa\",\"#FFA15A\",\"#19d3f3\",\"#FF6692\",\"#B6E880\",\"#FF97FF\",\"#FECB52\"],\"font\":{\"color\":\"#2a3f5f\"},\"hovermode\":\"closest\",\"hoverlabel\":{\"align\":\"left\"},\"paper_bgcolor\":\"white\",\"plot_bgcolor\":\"#E5ECF6\",\"polar\":{\"bgcolor\":\"#E5ECF6\",\"angularaxis\":{\"gridcolor\":\"white\",\"linecolor\":\"white\",\"ticks\":\"\"},\"radialaxis\":{\"gridcolor\":\"white\",\"linecolor\":\"white\",\"ticks\":\"\"}},\"ternary\":{\"bgcolor\":\"#E5ECF6\",\"aaxis\":{\"gridcolor\":\"white\",\"linecolor\":\"white\",\"ticks\":\"\"},\"baxis\":{\"gridcolor\":\"white\",\"linecolor\":\"white\",\"ticks\":\"\"},\"caxis\":{\"gridcolor\":\"white\",\"linecolor\":\"white\",\"ticks\":\"\"}},\"coloraxis\":{\"colorbar\":{\"outlinewidth\":0,\"ticks\":\"\"}},\"colorscale\":{\"sequential\":[[0.0,\"#0d0887\"],[0.1111111111111111,\"#46039f\"],[0.2222222222222222,\"#7201a8\"],[0.3333333333333333,\"#9c179e\"],[0.4444444444444444,\"#bd3786\"],[0.5555555555555556,\"#d8576b\"],[0.6666666666666666,\"#ed7953\"],[0.7777777777777778,\"#fb9f3a\"],[0.8888888888888888,\"#fdca26\"],[1.0,\"#f0f921\"]],\"sequentialminus\":[[0.0,\"#0d0887\"],[0.1111111111111111,\"#46039f\"],[0.2222222222222222,\"#7201a8\"],[0.3333333333333333,\"#9c179e\"],[0.4444444444444444,\"#bd3786\"],[0.5555555555555556,\"#d8576b\"],[0.6666666666666666,\"#ed7953\"],[0.7777777777777778,\"#fb9f3a\"],[0.8888888888888888,\"#fdca26\"],[1.0,\"#f0f921\"]],\"diverging\":[[0,\"#8e0152\"],[0.1,\"#c51b7d\"],[0.2,\"#de77ae\"],[0.3,\"#f1b6da\"],[0.4,\"#fde0ef\"],[0.5,\"#f7f7f7\"],[0.6,\"#e6f5d0\"],[0.7,\"#b8e186\"],[0.8,\"#7fbc41\"],[0.9,\"#4d9221\"],[1,\"#276419\"]]},\"xaxis\":{\"gridcolor\":\"white\",\"linecolor\":\"white\",\"ticks\":\"\",\"title\":{\"standoff\":15},\"zerolinecolor\":\"white\",\"automargin\":true,\"zerolinewidth\":2},\"yaxis\":{\"gridcolor\":\"white\",\"linecolor\":\"white\",\"ticks\":\"\",\"title\":{\"standoff\":15},\"zerolinecolor\":\"white\",\"automargin\":true,\"zerolinewidth\":2},\"scene\":{\"xaxis\":{\"backgroundcolor\":\"#E5ECF6\",\"gridcolor\":\"white\",\"linecolor\":\"white\",\"showbackground\":true,\"ticks\":\"\",\"zerolinecolor\":\"white\",\"gridwidth\":2},\"yaxis\":{\"backgroundcolor\":\"#E5ECF6\",\"gridcolor\":\"white\",\"linecolor\":\"white\",\"showbackground\":true,\"ticks\":\"\",\"zerolinecolor\":\"white\",\"gridwidth\":2},\"zaxis\":{\"backgroundcolor\":\"#E5ECF6\",\"gridcolor\":\"white\",\"linecolor\":\"white\",\"showbackground\":true,\"ticks\":\"\",\"zerolinecolor\":\"white\",\"gridwidth\":2}},\"shapedefaults\":{\"line\":{\"color\":\"#2a3f5f\"}},\"annotationdefaults\":{\"arrowcolor\":\"#2a3f5f\",\"arrowhead\":0,\"arrowwidth\":1},\"geo\":{\"bgcolor\":\"white\",\"landcolor\":\"#E5ECF6\",\"subunitcolor\":\"white\",\"showland\":true,\"showlakes\":true,\"lakecolor\":\"white\"},\"title\":{\"x\":0.05},\"mapbox\":{\"style\":\"light\"}}},\"xaxis\":{\"anchor\":\"y\",\"domain\":[0.0,1.0],\"title\":{\"text\":\"States\"},\"categoryorder\":\"total descending\",\"categoryarray\":[\"Andhra Pradesh\",\"Assam\",\"Bihar\",\"Chhattisgarh\",\"Delhi\",\"Goa\",\"Gujarat\",\"Haryana\",\"Himachal Pradesh\",\"Jammu & Kashmir\",\"Jharkhand\",\"Karnataka\",\"Kerala\",\"Madhya Pradesh\",\"Maharashtra\",\"Meghalaya\",\"Odisha\",\"Puducherry\",\"Punjab\",\"Rajasthan\",\"Sikkim\",\"Tamil Nadu\",\"Telangana\",\"Tripura\",\"Uttar Pradesh\",\"Uttarakhand\",\"West Bengal\"]},\"yaxis\":{\"anchor\":\"x\",\"domain\":[0.0,1.0],\"title\":{\"text\":\"Estimated Unemployment Rate\"}},\"legend\":{\"title\":{\"text\":\"States\"},\"tracegroupgap\":0},\"title\":{\"text\":\"Indian unemployment rate(state-wise)\"}},                        {\"responsive\": true}                    ).then(function(){\n",
       "                            \n",
       "var gd = document.getElementById('f6893ada-9f9d-48f0-9f3d-8ddf19e98832');\n",
       "var x = new MutationObserver(function (mutations, observer) {{\n",
       "        var display = window.getComputedStyle(gd).display;\n",
       "        if (!display || display === 'none') {{\n",
       "            console.log([gd, 'removed!']);\n",
       "            Plotly.purge(gd);\n",
       "            observer.disconnect();\n",
       "        }}\n",
       "}});\n",
       "\n",
       "// Listen for the removal of the full notebook cells\n",
       "var notebookContainer = gd.closest('#notebook-container');\n",
       "if (notebookContainer) {{\n",
       "    x.observe(notebookContainer, {childList: true});\n",
       "}}\n",
       "\n",
       "// Listen for the clearing of the current output cell\n",
       "var outputEl = gd.closest('.output');\n",
       "if (outputEl) {{\n",
       "    x.observe(outputEl, {childList: true});\n",
       "}}\n",
       "\n",
       "                        })                };                });            </script>        </div>"
      ]
     },
     "metadata": {},
     "output_type": "display_data"
    }
   ],
   "source": [
    "fg=px.scatter(dk,x='States',y='Estimated Unemployment Rate',title='Indian unemployment rate(state-wise)',template='plotly',color='States')\n",
    "fg.update_layout(xaxis={'categoryorder':'total descending'})\n",
    "fg.show()"
   ]
  },
  {
   "cell_type": "markdown",
   "id": "c7282fa6",
   "metadata": {},
   "source": [
    "## Analysing data by sunburst chart"
   ]
  },
  {
   "cell_type": "code",
   "execution_count": 41,
   "id": "1dbb1e67",
   "metadata": {},
   "outputs": [
    {
     "data": {
      "application/vnd.plotly.v1+json": {
       "config": {
        "plotlyServerURL": "https://plot.ly"
       },
       "data": [
        {
         "branchvalues": "total",
         "domain": {
          "x": [
           0,
           1
          ],
          "y": [
           0,
           1
          ]
         },
         "hovertemplate": "labels=%{label}<br>Estimated Unemployment Rate=%{value}<br>parent=%{parent}<br>id=%{id}<extra></extra>",
         "ids": [
          "South/Andhra Pradesh",
          "Northeast/Assam",
          "East/Bihar",
          "West/Chhattisgarh",
          "North/Delhi",
          "West/Goa",
          "West/Gujarat",
          "North/Haryana",
          "North/Himachal Pradesh",
          "North/Jammu & Kashmir",
          "East/Jharkhand",
          "South/Karnataka",
          "South/Kerala",
          "West/Madhya Pradesh",
          "West/Maharashtra",
          "Northeast/Meghalaya",
          "East/Odisha",
          "South/Puducherry",
          "North/Punjab",
          "North/Rajasthan",
          "Northeast/Sikkim",
          "South/Tamil Nadu",
          "South/Telangana",
          "Northeast/Tripura",
          "North/Uttar Pradesh",
          "North/Uttarakhand",
          "East/West Bengal",
          "East",
          "North",
          "Northeast",
          "South",
          "West"
         ],
         "labels": [
          "Andhra Pradesh",
          "Assam",
          "Bihar",
          "Chhattisgarh",
          "Delhi",
          "Goa",
          "Gujarat",
          "Haryana",
          "Himachal Pradesh",
          "Jammu & Kashmir",
          "Jharkhand",
          "Karnataka",
          "Kerala",
          "Madhya Pradesh",
          "Maharashtra",
          "Meghalaya",
          "Odisha",
          "Puducherry",
          "Punjab",
          "Rajasthan",
          "Sikkim",
          "Tamil Nadu",
          "Telangana",
          "Tripura",
          "Uttar Pradesh",
          "Uttarakhand",
          "West Bengal",
          "East",
          "North",
          "Northeast",
          "South",
          "West"
         ],
         "name": "",
         "parents": [
          "South",
          "Northeast",
          "East",
          "West",
          "North",
          "West",
          "West",
          "North",
          "North",
          "North",
          "East",
          "South",
          "South",
          "West",
          "West",
          "Northeast",
          "East",
          "South",
          "North",
          "North",
          "Northeast",
          "South",
          "South",
          "Northeast",
          "North",
          "North",
          "East",
          "",
          "",
          "",
          "",
          ""
         ],
         "type": "sunburst",
         "values": [
          86.64,
          48.56,
          194.71,
          78.19,
          184.14000000000001,
          121.67,
          63.76,
          274.77,
          160.65,
          148.3,
          195.39,
          76.67999999999999,
          94.34,
          68.54,
          79.79,
          38.66,
          64.62,
          179.42,
          119.81,
          158.68,
          78.34,
          121.86999999999999,
          68.33,
          250.55,
          97.37,
          111.56,
          101.92,
          556.64,
          1255.28,
          416.11,
          627.28,
          411.95
         ]
        }
       ],
       "layout": {
        "height": 700,
        "legend": {
         "tracegroupgap": 0
        },
        "template": {
         "data": {
          "bar": [
           {
            "error_x": {
             "color": "#2a3f5f"
            },
            "error_y": {
             "color": "#2a3f5f"
            },
            "marker": {
             "line": {
              "color": "#E5ECF6",
              "width": 0.5
             },
             "pattern": {
              "fillmode": "overlay",
              "size": 10,
              "solidity": 0.2
             }
            },
            "type": "bar"
           }
          ],
          "barpolar": [
           {
            "marker": {
             "line": {
              "color": "#E5ECF6",
              "width": 0.5
             },
             "pattern": {
              "fillmode": "overlay",
              "size": 10,
              "solidity": 0.2
             }
            },
            "type": "barpolar"
           }
          ],
          "carpet": [
           {
            "aaxis": {
             "endlinecolor": "#2a3f5f",
             "gridcolor": "white",
             "linecolor": "white",
             "minorgridcolor": "white",
             "startlinecolor": "#2a3f5f"
            },
            "baxis": {
             "endlinecolor": "#2a3f5f",
             "gridcolor": "white",
             "linecolor": "white",
             "minorgridcolor": "white",
             "startlinecolor": "#2a3f5f"
            },
            "type": "carpet"
           }
          ],
          "choropleth": [
           {
            "colorbar": {
             "outlinewidth": 0,
             "ticks": ""
            },
            "type": "choropleth"
           }
          ],
          "contour": [
           {
            "colorbar": {
             "outlinewidth": 0,
             "ticks": ""
            },
            "colorscale": [
             [
              0,
              "#0d0887"
             ],
             [
              0.1111111111111111,
              "#46039f"
             ],
             [
              0.2222222222222222,
              "#7201a8"
             ],
             [
              0.3333333333333333,
              "#9c179e"
             ],
             [
              0.4444444444444444,
              "#bd3786"
             ],
             [
              0.5555555555555556,
              "#d8576b"
             ],
             [
              0.6666666666666666,
              "#ed7953"
             ],
             [
              0.7777777777777778,
              "#fb9f3a"
             ],
             [
              0.8888888888888888,
              "#fdca26"
             ],
             [
              1,
              "#f0f921"
             ]
            ],
            "type": "contour"
           }
          ],
          "contourcarpet": [
           {
            "colorbar": {
             "outlinewidth": 0,
             "ticks": ""
            },
            "type": "contourcarpet"
           }
          ],
          "heatmap": [
           {
            "colorbar": {
             "outlinewidth": 0,
             "ticks": ""
            },
            "colorscale": [
             [
              0,
              "#0d0887"
             ],
             [
              0.1111111111111111,
              "#46039f"
             ],
             [
              0.2222222222222222,
              "#7201a8"
             ],
             [
              0.3333333333333333,
              "#9c179e"
             ],
             [
              0.4444444444444444,
              "#bd3786"
             ],
             [
              0.5555555555555556,
              "#d8576b"
             ],
             [
              0.6666666666666666,
              "#ed7953"
             ],
             [
              0.7777777777777778,
              "#fb9f3a"
             ],
             [
              0.8888888888888888,
              "#fdca26"
             ],
             [
              1,
              "#f0f921"
             ]
            ],
            "type": "heatmap"
           }
          ],
          "heatmapgl": [
           {
            "colorbar": {
             "outlinewidth": 0,
             "ticks": ""
            },
            "colorscale": [
             [
              0,
              "#0d0887"
             ],
             [
              0.1111111111111111,
              "#46039f"
             ],
             [
              0.2222222222222222,
              "#7201a8"
             ],
             [
              0.3333333333333333,
              "#9c179e"
             ],
             [
              0.4444444444444444,
              "#bd3786"
             ],
             [
              0.5555555555555556,
              "#d8576b"
             ],
             [
              0.6666666666666666,
              "#ed7953"
             ],
             [
              0.7777777777777778,
              "#fb9f3a"
             ],
             [
              0.8888888888888888,
              "#fdca26"
             ],
             [
              1,
              "#f0f921"
             ]
            ],
            "type": "heatmapgl"
           }
          ],
          "histogram": [
           {
            "marker": {
             "pattern": {
              "fillmode": "overlay",
              "size": 10,
              "solidity": 0.2
             }
            },
            "type": "histogram"
           }
          ],
          "histogram2d": [
           {
            "colorbar": {
             "outlinewidth": 0,
             "ticks": ""
            },
            "colorscale": [
             [
              0,
              "#0d0887"
             ],
             [
              0.1111111111111111,
              "#46039f"
             ],
             [
              0.2222222222222222,
              "#7201a8"
             ],
             [
              0.3333333333333333,
              "#9c179e"
             ],
             [
              0.4444444444444444,
              "#bd3786"
             ],
             [
              0.5555555555555556,
              "#d8576b"
             ],
             [
              0.6666666666666666,
              "#ed7953"
             ],
             [
              0.7777777777777778,
              "#fb9f3a"
             ],
             [
              0.8888888888888888,
              "#fdca26"
             ],
             [
              1,
              "#f0f921"
             ]
            ],
            "type": "histogram2d"
           }
          ],
          "histogram2dcontour": [
           {
            "colorbar": {
             "outlinewidth": 0,
             "ticks": ""
            },
            "colorscale": [
             [
              0,
              "#0d0887"
             ],
             [
              0.1111111111111111,
              "#46039f"
             ],
             [
              0.2222222222222222,
              "#7201a8"
             ],
             [
              0.3333333333333333,
              "#9c179e"
             ],
             [
              0.4444444444444444,
              "#bd3786"
             ],
             [
              0.5555555555555556,
              "#d8576b"
             ],
             [
              0.6666666666666666,
              "#ed7953"
             ],
             [
              0.7777777777777778,
              "#fb9f3a"
             ],
             [
              0.8888888888888888,
              "#fdca26"
             ],
             [
              1,
              "#f0f921"
             ]
            ],
            "type": "histogram2dcontour"
           }
          ],
          "mesh3d": [
           {
            "colorbar": {
             "outlinewidth": 0,
             "ticks": ""
            },
            "type": "mesh3d"
           }
          ],
          "parcoords": [
           {
            "line": {
             "colorbar": {
              "outlinewidth": 0,
              "ticks": ""
             }
            },
            "type": "parcoords"
           }
          ],
          "pie": [
           {
            "automargin": true,
            "type": "pie"
           }
          ],
          "scatter": [
           {
            "fillpattern": {
             "fillmode": "overlay",
             "size": 10,
             "solidity": 0.2
            },
            "type": "scatter"
           }
          ],
          "scatter3d": [
           {
            "line": {
             "colorbar": {
              "outlinewidth": 0,
              "ticks": ""
             }
            },
            "marker": {
             "colorbar": {
              "outlinewidth": 0,
              "ticks": ""
             }
            },
            "type": "scatter3d"
           }
          ],
          "scattercarpet": [
           {
            "marker": {
             "colorbar": {
              "outlinewidth": 0,
              "ticks": ""
             }
            },
            "type": "scattercarpet"
           }
          ],
          "scattergeo": [
           {
            "marker": {
             "colorbar": {
              "outlinewidth": 0,
              "ticks": ""
             }
            },
            "type": "scattergeo"
           }
          ],
          "scattergl": [
           {
            "marker": {
             "colorbar": {
              "outlinewidth": 0,
              "ticks": ""
             }
            },
            "type": "scattergl"
           }
          ],
          "scattermapbox": [
           {
            "marker": {
             "colorbar": {
              "outlinewidth": 0,
              "ticks": ""
             }
            },
            "type": "scattermapbox"
           }
          ],
          "scatterpolar": [
           {
            "marker": {
             "colorbar": {
              "outlinewidth": 0,
              "ticks": ""
             }
            },
            "type": "scatterpolar"
           }
          ],
          "scatterpolargl": [
           {
            "marker": {
             "colorbar": {
              "outlinewidth": 0,
              "ticks": ""
             }
            },
            "type": "scatterpolargl"
           }
          ],
          "scatterternary": [
           {
            "marker": {
             "colorbar": {
              "outlinewidth": 0,
              "ticks": ""
             }
            },
            "type": "scatterternary"
           }
          ],
          "surface": [
           {
            "colorbar": {
             "outlinewidth": 0,
             "ticks": ""
            },
            "colorscale": [
             [
              0,
              "#0d0887"
             ],
             [
              0.1111111111111111,
              "#46039f"
             ],
             [
              0.2222222222222222,
              "#7201a8"
             ],
             [
              0.3333333333333333,
              "#9c179e"
             ],
             [
              0.4444444444444444,
              "#bd3786"
             ],
             [
              0.5555555555555556,
              "#d8576b"
             ],
             [
              0.6666666666666666,
              "#ed7953"
             ],
             [
              0.7777777777777778,
              "#fb9f3a"
             ],
             [
              0.8888888888888888,
              "#fdca26"
             ],
             [
              1,
              "#f0f921"
             ]
            ],
            "type": "surface"
           }
          ],
          "table": [
           {
            "cells": {
             "fill": {
              "color": "#EBF0F8"
             },
             "line": {
              "color": "white"
             }
            },
            "header": {
             "fill": {
              "color": "#C8D4E3"
             },
             "line": {
              "color": "white"
             }
            },
            "type": "table"
           }
          ]
         },
         "layout": {
          "annotationdefaults": {
           "arrowcolor": "#2a3f5f",
           "arrowhead": 0,
           "arrowwidth": 1
          },
          "autotypenumbers": "strict",
          "coloraxis": {
           "colorbar": {
            "outlinewidth": 0,
            "ticks": ""
           }
          },
          "colorscale": {
           "diverging": [
            [
             0,
             "#8e0152"
            ],
            [
             0.1,
             "#c51b7d"
            ],
            [
             0.2,
             "#de77ae"
            ],
            [
             0.3,
             "#f1b6da"
            ],
            [
             0.4,
             "#fde0ef"
            ],
            [
             0.5,
             "#f7f7f7"
            ],
            [
             0.6,
             "#e6f5d0"
            ],
            [
             0.7,
             "#b8e186"
            ],
            [
             0.8,
             "#7fbc41"
            ],
            [
             0.9,
             "#4d9221"
            ],
            [
             1,
             "#276419"
            ]
           ],
           "sequential": [
            [
             0,
             "#0d0887"
            ],
            [
             0.1111111111111111,
             "#46039f"
            ],
            [
             0.2222222222222222,
             "#7201a8"
            ],
            [
             0.3333333333333333,
             "#9c179e"
            ],
            [
             0.4444444444444444,
             "#bd3786"
            ],
            [
             0.5555555555555556,
             "#d8576b"
            ],
            [
             0.6666666666666666,
             "#ed7953"
            ],
            [
             0.7777777777777778,
             "#fb9f3a"
            ],
            [
             0.8888888888888888,
             "#fdca26"
            ],
            [
             1,
             "#f0f921"
            ]
           ],
           "sequentialminus": [
            [
             0,
             "#0d0887"
            ],
            [
             0.1111111111111111,
             "#46039f"
            ],
            [
             0.2222222222222222,
             "#7201a8"
            ],
            [
             0.3333333333333333,
             "#9c179e"
            ],
            [
             0.4444444444444444,
             "#bd3786"
            ],
            [
             0.5555555555555556,
             "#d8576b"
            ],
            [
             0.6666666666666666,
             "#ed7953"
            ],
            [
             0.7777777777777778,
             "#fb9f3a"
            ],
            [
             0.8888888888888888,
             "#fdca26"
            ],
            [
             1,
             "#f0f921"
            ]
           ]
          },
          "colorway": [
           "#636efa",
           "#EF553B",
           "#00cc96",
           "#ab63fa",
           "#FFA15A",
           "#19d3f3",
           "#FF6692",
           "#B6E880",
           "#FF97FF",
           "#FECB52"
          ],
          "font": {
           "color": "#2a3f5f"
          },
          "geo": {
           "bgcolor": "white",
           "lakecolor": "white",
           "landcolor": "#E5ECF6",
           "showlakes": true,
           "showland": true,
           "subunitcolor": "white"
          },
          "hoverlabel": {
           "align": "left"
          },
          "hovermode": "closest",
          "mapbox": {
           "style": "light"
          },
          "paper_bgcolor": "white",
          "plot_bgcolor": "#E5ECF6",
          "polar": {
           "angularaxis": {
            "gridcolor": "white",
            "linecolor": "white",
            "ticks": ""
           },
           "bgcolor": "#E5ECF6",
           "radialaxis": {
            "gridcolor": "white",
            "linecolor": "white",
            "ticks": ""
           }
          },
          "scene": {
           "xaxis": {
            "backgroundcolor": "#E5ECF6",
            "gridcolor": "white",
            "gridwidth": 2,
            "linecolor": "white",
            "showbackground": true,
            "ticks": "",
            "zerolinecolor": "white"
           },
           "yaxis": {
            "backgroundcolor": "#E5ECF6",
            "gridcolor": "white",
            "gridwidth": 2,
            "linecolor": "white",
            "showbackground": true,
            "ticks": "",
            "zerolinecolor": "white"
           },
           "zaxis": {
            "backgroundcolor": "#E5ECF6",
            "gridcolor": "white",
            "gridwidth": 2,
            "linecolor": "white",
            "showbackground": true,
            "ticks": "",
            "zerolinecolor": "white"
           }
          },
          "shapedefaults": {
           "line": {
            "color": "#2a3f5f"
           }
          },
          "ternary": {
           "aaxis": {
            "gridcolor": "white",
            "linecolor": "white",
            "ticks": ""
           },
           "baxis": {
            "gridcolor": "white",
            "linecolor": "white",
            "ticks": ""
           },
           "bgcolor": "#E5ECF6",
           "caxis": {
            "gridcolor": "white",
            "linecolor": "white",
            "ticks": ""
           }
          },
          "title": {
           "x": 0.05
          },
          "xaxis": {
           "automargin": true,
           "gridcolor": "white",
           "linecolor": "white",
           "ticks": "",
           "title": {
            "standoff": 15
           },
           "zerolinecolor": "white",
           "zerolinewidth": 2
          },
          "yaxis": {
           "automargin": true,
           "gridcolor": "white",
           "linecolor": "white",
           "ticks": "",
           "title": {
            "standoff": 15
           },
           "zerolinecolor": "white",
           "zerolinewidth": 2
          }
         }
        },
        "title": {
         "text": "Indian unemployment Rate"
        },
        "width": 700
       }
      },
      "text/html": [
       "<div>                            <div id=\"98e2d0f1-7c8b-4057-b0b3-5709d81cdea6\" class=\"plotly-graph-div\" style=\"height:700px; width:700px;\"></div>            <script type=\"text/javascript\">                require([\"plotly\"], function(Plotly) {                    window.PLOTLYENV=window.PLOTLYENV || {};                                    if (document.getElementById(\"98e2d0f1-7c8b-4057-b0b3-5709d81cdea6\")) {                    Plotly.newPlot(                        \"98e2d0f1-7c8b-4057-b0b3-5709d81cdea6\",                        [{\"branchvalues\":\"total\",\"domain\":{\"x\":[0.0,1.0],\"y\":[0.0,1.0]},\"hovertemplate\":\"labels=%{label}<br>Estimated Unemployment Rate=%{value}<br>parent=%{parent}<br>id=%{id}<extra></extra>\",\"ids\":[\"South/Andhra Pradesh\",\"Northeast/Assam\",\"East/Bihar\",\"West/Chhattisgarh\",\"North/Delhi\",\"West/Goa\",\"West/Gujarat\",\"North/Haryana\",\"North/Himachal Pradesh\",\"North/Jammu & Kashmir\",\"East/Jharkhand\",\"South/Karnataka\",\"South/Kerala\",\"West/Madhya Pradesh\",\"West/Maharashtra\",\"Northeast/Meghalaya\",\"East/Odisha\",\"South/Puducherry\",\"North/Punjab\",\"North/Rajasthan\",\"Northeast/Sikkim\",\"South/Tamil Nadu\",\"South/Telangana\",\"Northeast/Tripura\",\"North/Uttar Pradesh\",\"North/Uttarakhand\",\"East/West Bengal\",\"East\",\"North\",\"Northeast\",\"South\",\"West\"],\"labels\":[\"Andhra Pradesh\",\"Assam\",\"Bihar\",\"Chhattisgarh\",\"Delhi\",\"Goa\",\"Gujarat\",\"Haryana\",\"Himachal Pradesh\",\"Jammu & Kashmir\",\"Jharkhand\",\"Karnataka\",\"Kerala\",\"Madhya Pradesh\",\"Maharashtra\",\"Meghalaya\",\"Odisha\",\"Puducherry\",\"Punjab\",\"Rajasthan\",\"Sikkim\",\"Tamil Nadu\",\"Telangana\",\"Tripura\",\"Uttar Pradesh\",\"Uttarakhand\",\"West Bengal\",\"East\",\"North\",\"Northeast\",\"South\",\"West\"],\"name\":\"\",\"parents\":[\"South\",\"Northeast\",\"East\",\"West\",\"North\",\"West\",\"West\",\"North\",\"North\",\"North\",\"East\",\"South\",\"South\",\"West\",\"West\",\"Northeast\",\"East\",\"South\",\"North\",\"North\",\"Northeast\",\"South\",\"South\",\"Northeast\",\"North\",\"North\",\"East\",\"\",\"\",\"\",\"\",\"\"],\"values\":[86.64,48.56,194.71,78.19,184.14000000000001,121.67,63.76,274.77,160.65,148.3,195.39,76.67999999999999,94.34,68.54,79.79,38.66,64.62,179.42,119.81,158.68,78.34,121.86999999999999,68.33,250.55,97.37,111.56,101.92,556.64,1255.28,416.11,627.28,411.95],\"type\":\"sunburst\"}],                        {\"template\":{\"data\":{\"histogram2dcontour\":[{\"type\":\"histogram2dcontour\",\"colorbar\":{\"outlinewidth\":0,\"ticks\":\"\"},\"colorscale\":[[0.0,\"#0d0887\"],[0.1111111111111111,\"#46039f\"],[0.2222222222222222,\"#7201a8\"],[0.3333333333333333,\"#9c179e\"],[0.4444444444444444,\"#bd3786\"],[0.5555555555555556,\"#d8576b\"],[0.6666666666666666,\"#ed7953\"],[0.7777777777777778,\"#fb9f3a\"],[0.8888888888888888,\"#fdca26\"],[1.0,\"#f0f921\"]]}],\"choropleth\":[{\"type\":\"choropleth\",\"colorbar\":{\"outlinewidth\":0,\"ticks\":\"\"}}],\"histogram2d\":[{\"type\":\"histogram2d\",\"colorbar\":{\"outlinewidth\":0,\"ticks\":\"\"},\"colorscale\":[[0.0,\"#0d0887\"],[0.1111111111111111,\"#46039f\"],[0.2222222222222222,\"#7201a8\"],[0.3333333333333333,\"#9c179e\"],[0.4444444444444444,\"#bd3786\"],[0.5555555555555556,\"#d8576b\"],[0.6666666666666666,\"#ed7953\"],[0.7777777777777778,\"#fb9f3a\"],[0.8888888888888888,\"#fdca26\"],[1.0,\"#f0f921\"]]}],\"heatmap\":[{\"type\":\"heatmap\",\"colorbar\":{\"outlinewidth\":0,\"ticks\":\"\"},\"colorscale\":[[0.0,\"#0d0887\"],[0.1111111111111111,\"#46039f\"],[0.2222222222222222,\"#7201a8\"],[0.3333333333333333,\"#9c179e\"],[0.4444444444444444,\"#bd3786\"],[0.5555555555555556,\"#d8576b\"],[0.6666666666666666,\"#ed7953\"],[0.7777777777777778,\"#fb9f3a\"],[0.8888888888888888,\"#fdca26\"],[1.0,\"#f0f921\"]]}],\"heatmapgl\":[{\"type\":\"heatmapgl\",\"colorbar\":{\"outlinewidth\":0,\"ticks\":\"\"},\"colorscale\":[[0.0,\"#0d0887\"],[0.1111111111111111,\"#46039f\"],[0.2222222222222222,\"#7201a8\"],[0.3333333333333333,\"#9c179e\"],[0.4444444444444444,\"#bd3786\"],[0.5555555555555556,\"#d8576b\"],[0.6666666666666666,\"#ed7953\"],[0.7777777777777778,\"#fb9f3a\"],[0.8888888888888888,\"#fdca26\"],[1.0,\"#f0f921\"]]}],\"contourcarpet\":[{\"type\":\"contourcarpet\",\"colorbar\":{\"outlinewidth\":0,\"ticks\":\"\"}}],\"contour\":[{\"type\":\"contour\",\"colorbar\":{\"outlinewidth\":0,\"ticks\":\"\"},\"colorscale\":[[0.0,\"#0d0887\"],[0.1111111111111111,\"#46039f\"],[0.2222222222222222,\"#7201a8\"],[0.3333333333333333,\"#9c179e\"],[0.4444444444444444,\"#bd3786\"],[0.5555555555555556,\"#d8576b\"],[0.6666666666666666,\"#ed7953\"],[0.7777777777777778,\"#fb9f3a\"],[0.8888888888888888,\"#fdca26\"],[1.0,\"#f0f921\"]]}],\"surface\":[{\"type\":\"surface\",\"colorbar\":{\"outlinewidth\":0,\"ticks\":\"\"},\"colorscale\":[[0.0,\"#0d0887\"],[0.1111111111111111,\"#46039f\"],[0.2222222222222222,\"#7201a8\"],[0.3333333333333333,\"#9c179e\"],[0.4444444444444444,\"#bd3786\"],[0.5555555555555556,\"#d8576b\"],[0.6666666666666666,\"#ed7953\"],[0.7777777777777778,\"#fb9f3a\"],[0.8888888888888888,\"#fdca26\"],[1.0,\"#f0f921\"]]}],\"mesh3d\":[{\"type\":\"mesh3d\",\"colorbar\":{\"outlinewidth\":0,\"ticks\":\"\"}}],\"scatter\":[{\"fillpattern\":{\"fillmode\":\"overlay\",\"size\":10,\"solidity\":0.2},\"type\":\"scatter\"}],\"parcoords\":[{\"type\":\"parcoords\",\"line\":{\"colorbar\":{\"outlinewidth\":0,\"ticks\":\"\"}}}],\"scatterpolargl\":[{\"type\":\"scatterpolargl\",\"marker\":{\"colorbar\":{\"outlinewidth\":0,\"ticks\":\"\"}}}],\"bar\":[{\"error_x\":{\"color\":\"#2a3f5f\"},\"error_y\":{\"color\":\"#2a3f5f\"},\"marker\":{\"line\":{\"color\":\"#E5ECF6\",\"width\":0.5},\"pattern\":{\"fillmode\":\"overlay\",\"size\":10,\"solidity\":0.2}},\"type\":\"bar\"}],\"scattergeo\":[{\"type\":\"scattergeo\",\"marker\":{\"colorbar\":{\"outlinewidth\":0,\"ticks\":\"\"}}}],\"scatterpolar\":[{\"type\":\"scatterpolar\",\"marker\":{\"colorbar\":{\"outlinewidth\":0,\"ticks\":\"\"}}}],\"histogram\":[{\"marker\":{\"pattern\":{\"fillmode\":\"overlay\",\"size\":10,\"solidity\":0.2}},\"type\":\"histogram\"}],\"scattergl\":[{\"type\":\"scattergl\",\"marker\":{\"colorbar\":{\"outlinewidth\":0,\"ticks\":\"\"}}}],\"scatter3d\":[{\"type\":\"scatter3d\",\"line\":{\"colorbar\":{\"outlinewidth\":0,\"ticks\":\"\"}},\"marker\":{\"colorbar\":{\"outlinewidth\":0,\"ticks\":\"\"}}}],\"scattermapbox\":[{\"type\":\"scattermapbox\",\"marker\":{\"colorbar\":{\"outlinewidth\":0,\"ticks\":\"\"}}}],\"scatterternary\":[{\"type\":\"scatterternary\",\"marker\":{\"colorbar\":{\"outlinewidth\":0,\"ticks\":\"\"}}}],\"scattercarpet\":[{\"type\":\"scattercarpet\",\"marker\":{\"colorbar\":{\"outlinewidth\":0,\"ticks\":\"\"}}}],\"carpet\":[{\"aaxis\":{\"endlinecolor\":\"#2a3f5f\",\"gridcolor\":\"white\",\"linecolor\":\"white\",\"minorgridcolor\":\"white\",\"startlinecolor\":\"#2a3f5f\"},\"baxis\":{\"endlinecolor\":\"#2a3f5f\",\"gridcolor\":\"white\",\"linecolor\":\"white\",\"minorgridcolor\":\"white\",\"startlinecolor\":\"#2a3f5f\"},\"type\":\"carpet\"}],\"table\":[{\"cells\":{\"fill\":{\"color\":\"#EBF0F8\"},\"line\":{\"color\":\"white\"}},\"header\":{\"fill\":{\"color\":\"#C8D4E3\"},\"line\":{\"color\":\"white\"}},\"type\":\"table\"}],\"barpolar\":[{\"marker\":{\"line\":{\"color\":\"#E5ECF6\",\"width\":0.5},\"pattern\":{\"fillmode\":\"overlay\",\"size\":10,\"solidity\":0.2}},\"type\":\"barpolar\"}],\"pie\":[{\"automargin\":true,\"type\":\"pie\"}]},\"layout\":{\"autotypenumbers\":\"strict\",\"colorway\":[\"#636efa\",\"#EF553B\",\"#00cc96\",\"#ab63fa\",\"#FFA15A\",\"#19d3f3\",\"#FF6692\",\"#B6E880\",\"#FF97FF\",\"#FECB52\"],\"font\":{\"color\":\"#2a3f5f\"},\"hovermode\":\"closest\",\"hoverlabel\":{\"align\":\"left\"},\"paper_bgcolor\":\"white\",\"plot_bgcolor\":\"#E5ECF6\",\"polar\":{\"bgcolor\":\"#E5ECF6\",\"angularaxis\":{\"gridcolor\":\"white\",\"linecolor\":\"white\",\"ticks\":\"\"},\"radialaxis\":{\"gridcolor\":\"white\",\"linecolor\":\"white\",\"ticks\":\"\"}},\"ternary\":{\"bgcolor\":\"#E5ECF6\",\"aaxis\":{\"gridcolor\":\"white\",\"linecolor\":\"white\",\"ticks\":\"\"},\"baxis\":{\"gridcolor\":\"white\",\"linecolor\":\"white\",\"ticks\":\"\"},\"caxis\":{\"gridcolor\":\"white\",\"linecolor\":\"white\",\"ticks\":\"\"}},\"coloraxis\":{\"colorbar\":{\"outlinewidth\":0,\"ticks\":\"\"}},\"colorscale\":{\"sequential\":[[0.0,\"#0d0887\"],[0.1111111111111111,\"#46039f\"],[0.2222222222222222,\"#7201a8\"],[0.3333333333333333,\"#9c179e\"],[0.4444444444444444,\"#bd3786\"],[0.5555555555555556,\"#d8576b\"],[0.6666666666666666,\"#ed7953\"],[0.7777777777777778,\"#fb9f3a\"],[0.8888888888888888,\"#fdca26\"],[1.0,\"#f0f921\"]],\"sequentialminus\":[[0.0,\"#0d0887\"],[0.1111111111111111,\"#46039f\"],[0.2222222222222222,\"#7201a8\"],[0.3333333333333333,\"#9c179e\"],[0.4444444444444444,\"#bd3786\"],[0.5555555555555556,\"#d8576b\"],[0.6666666666666666,\"#ed7953\"],[0.7777777777777778,\"#fb9f3a\"],[0.8888888888888888,\"#fdca26\"],[1.0,\"#f0f921\"]],\"diverging\":[[0,\"#8e0152\"],[0.1,\"#c51b7d\"],[0.2,\"#de77ae\"],[0.3,\"#f1b6da\"],[0.4,\"#fde0ef\"],[0.5,\"#f7f7f7\"],[0.6,\"#e6f5d0\"],[0.7,\"#b8e186\"],[0.8,\"#7fbc41\"],[0.9,\"#4d9221\"],[1,\"#276419\"]]},\"xaxis\":{\"gridcolor\":\"white\",\"linecolor\":\"white\",\"ticks\":\"\",\"title\":{\"standoff\":15},\"zerolinecolor\":\"white\",\"automargin\":true,\"zerolinewidth\":2},\"yaxis\":{\"gridcolor\":\"white\",\"linecolor\":\"white\",\"ticks\":\"\",\"title\":{\"standoff\":15},\"zerolinecolor\":\"white\",\"automargin\":true,\"zerolinewidth\":2},\"scene\":{\"xaxis\":{\"backgroundcolor\":\"#E5ECF6\",\"gridcolor\":\"white\",\"linecolor\":\"white\",\"showbackground\":true,\"ticks\":\"\",\"zerolinecolor\":\"white\",\"gridwidth\":2},\"yaxis\":{\"backgroundcolor\":\"#E5ECF6\",\"gridcolor\":\"white\",\"linecolor\":\"white\",\"showbackground\":true,\"ticks\":\"\",\"zerolinecolor\":\"white\",\"gridwidth\":2},\"zaxis\":{\"backgroundcolor\":\"#E5ECF6\",\"gridcolor\":\"white\",\"linecolor\":\"white\",\"showbackground\":true,\"ticks\":\"\",\"zerolinecolor\":\"white\",\"gridwidth\":2}},\"shapedefaults\":{\"line\":{\"color\":\"#2a3f5f\"}},\"annotationdefaults\":{\"arrowcolor\":\"#2a3f5f\",\"arrowhead\":0,\"arrowwidth\":1},\"geo\":{\"bgcolor\":\"white\",\"landcolor\":\"#E5ECF6\",\"subunitcolor\":\"white\",\"showland\":true,\"showlakes\":true,\"lakecolor\":\"white\"},\"title\":{\"x\":0.05},\"mapbox\":{\"style\":\"light\"}}},\"legend\":{\"tracegroupgap\":0},\"title\":{\"text\":\"Indian unemployment Rate\"},\"height\":700,\"width\":700},                        {\"responsive\": true}                    ).then(function(){\n",
       "                            \n",
       "var gd = document.getElementById('98e2d0f1-7c8b-4057-b0b3-5709d81cdea6');\n",
       "var x = new MutationObserver(function (mutations, observer) {{\n",
       "        var display = window.getComputedStyle(gd).display;\n",
       "        if (!display || display === 'none') {{\n",
       "            console.log([gd, 'removed!']);\n",
       "            Plotly.purge(gd);\n",
       "            observer.disconnect();\n",
       "        }}\n",
       "}});\n",
       "\n",
       "// Listen for the removal of the full notebook cells\n",
       "var notebookContainer = gd.closest('#notebook-container');\n",
       "if (notebookContainer) {{\n",
       "    x.observe(notebookContainer, {childList: true});\n",
       "}}\n",
       "\n",
       "// Listen for the clearing of the current output cell\n",
       "var outputEl = gd.closest('.output');\n",
       "if (outputEl) {{\n",
       "    x.observe(outputEl, {childList: true});\n",
       "}}\n",
       "\n",
       "                        })                };                });            </script>        </div>"
      ]
     },
     "metadata": {},
     "output_type": "display_data"
    }
   ],
   "source": [
    "unemploment = dk[[\"Region\",'Estimated Unemployment Rate','States']]\n",
    "figure = px.sunburst(unemploment, path=[\"Region\",\"States\"], \n",
    "                     values='Estimated Unemployment Rate',\n",
    "                     width=700, height=700,  \n",
    "                     title=\"Indian unemployment Rate\")\n",
    "figure.show()   "
   ]
  },
  {
   "cell_type": "code",
   "execution_count": 42,
   "id": "5c8454ad",
   "metadata": {},
   "outputs": [
    {
     "data": {
      "application/vnd.plotly.v1+json": {
       "config": {
        "plotlyServerURL": "https://plot.ly"
       },
       "data": [
        {
         "branchvalues": "total",
         "domain": {
          "x": [
           0,
           1
          ],
          "y": [
           0,
           1
          ]
         },
         "hovertemplate": "labels=%{label}<br>Estimated Unemployment Rate=%{value}<br>parent=%{parent}<br>id=%{id}<extra></extra>",
         "ids": [
          "South/Karnataka/0.5",
          "South/Puducherry/0.58",
          "Northeast/Assam/0.6",
          "Northeast/Sikkim/0.88",
          "Northeast/Meghalaya/1.15",
          "Northeast/Assam/1.19",
          "South/Puducherry/1.2",
          "East/Odisha/1.42",
          "South/Tamil Nadu/1.57",
          "South/Karnataka/1.58",
          "Northeast/Meghalaya/1.58",
          "Northeast/Meghalaya/1.66",
          "South/Puducherry/1.76",
          "West/Gujarat/1.84",
          "West/Gujarat/1.87",
          "East/Odisha/1.88",
          "East/Odisha/1.9",
          "West/Chhattisgarh/1.96",
          "South/Tamil Nadu/2.09",
          "Northeast/Meghalaya/2.1",
          "East/Odisha/2.1",
          "South/Tamil Nadu/2.16",
          "East/Odisha/2.18",
          "North/Himachal Pradesh/2.2",
          "West/Madhya Pradesh/2.22",
          "Northeast/Sikkim/2.28",
          "South/Karnataka/2.41",
          "South/Tamil Nadu/2.65",
          "West/Goa/2.81",
          "South/Karnataka/2.86",
          "North/Punjab/2.86",
          "South/Telangana/2.86",
          "Northeast/Assam/3.02",
          "East/Odisha/3.12",
          "West/Madhya Pradesh/3.13",
          "West/Gujarat/3.2",
          "South/Telangana/3.27",
          "South/Andhra Pradesh/3.31",
          "West/Chhattisgarh/3.41",
          "West/Gujarat/3.42",
          "South/Karnataka/3.46",
          "Northeast/Meghalaya/3.59",
          "South/Karnataka/3.61",
          "Northeast/Meghalaya/3.74",
          "North/Uttar Pradesh/3.75",
          "Northeast/Assam/3.77",
          "East/Odisha/3.77",
          "South/Kerala/3.88",
          "West/Maharashtra/3.89",
          "West/Madhya Pradesh/3.91",
          "South/Karnataka/4.01",
          "West/Gujarat/4.03",
          "West/Maharashtra/4.1",
          "West/Madhya Pradesh/4.11",
          "North/Uttar Pradesh/4.18",
          "South/Puducherry/4.24",
          "Northeast/Meghalaya/4.29",
          "Northeast/Assam/4.41",
          "Northeast/Sikkim/4.45",
          "Northeast/Sikkim/4.46",
          "West/Maharashtra/4.55",
          "West/Madhya Pradesh/4.57",
          "Northeast/Meghalaya/4.6",
          "Northeast/Assam/4.66",
          "West/Maharashtra/4.69",
          "West/Madhya Pradesh/4.7",
          "Northeast/Assam/4.77",
          "East/West Bengal/4.92",
          "West/Maharashtra/4.95",
          "North/Uttarakhand/4.99",
          "South/Tamil Nadu/5.0",
          "South/Puducherry/5.05",
          "West/Madhya Pradesh/5.08",
          "West/Goa/5.25",
          "South/Kerala/5.31",
          "South/Telangana/5.36",
          "South/Andhra Pradesh/5.48",
          "South/Telangana/5.49",
          "North/Uttarakhand/5.49",
          "Northeast/Assam/5.53",
          "West/Gujarat/5.54",
          "North/Uttar Pradesh/5.56",
          "West/Chhattisgarh/5.63",
          "Northeast/Sikkim/5.7",
          "South/Telangana/5.77",
          "South/Andhra Pradesh/5.79",
          "West/Maharashtra/5.79",
          "South/Telangana/5.79",
          "North/Uttar Pradesh/5.79",
          "South/Andhra Pradesh/5.83",
          "South/Kerala/5.91",
          "Northeast/Meghalaya/5.92",
          "South/Puducherry/6.18",
          "West/Maharashtra/6.23",
          "South/Telangana/6.25",
          "North/Delhi/6.27",
          "West/Gujarat/6.38",
          "South/Andhra Pradesh/6.4",
          "South/Tamil Nadu/6.4",
          "West/Madhya Pradesh/6.48",
          "North/Uttarakhand/6.48",
          "South/Andhra Pradesh/6.59",
          "West/Chhattisgarh/6.62",
          "West/Gujarat/6.66",
          "South/Tamil Nadu/6.81",
          "East/West Bengal/6.83",
          "East/West Bengal/6.92",
          "East/West Bengal/6.94",
          "South/Andhra Pradesh/6.96",
          "South/Kerala/7.09",
          "East/West Bengal/7.29",
          "West/Chhattisgarh/7.54",
          "North/Uttar Pradesh/7.58",
          "South/Kerala/7.6",
          "East/Jharkhand/7.63",
          "North/Uttarakhand/8.01",
          "East/Jharkhand/8.23",
          "East/Jharkhand/8.24",
          "South/Telangana/8.29",
          "South/Andhra Pradesh/8.34",
          "West/Chhattisgarh/8.38",
          "South/Karnataka/8.44",
          "North/Uttarakhand/8.61",
          "West/Goa/8.89",
          "North/Uttar Pradesh/8.98",
          "South/Kerala/8.99",
          "North/Punjab/9.19",
          "West/Maharashtra/9.23",
          "North/Uttarakhand/9.23",
          "East/West Bengal/9.35",
          "North/Uttar Pradesh/9.47",
          "Northeast/Assam/9.55",
          "North/Punjab/9.61",
          "West/Chhattisgarh/9.65",
          "South/Kerala/9.71",
          "East/Jharkhand/9.76",
          "East/Bihar/9.82",
          "North/Punjab/9.88",
          "West/Goa/9.96",
          "East/West Bengal/9.98",
          "Northeast/Meghalaya/10.03",
          "North/Uttar Pradesh/10.11",
          "West/Chhattisgarh/10.27",
          "East/Bihar/10.29",
          "North/Punjab/10.32",
          "West/Chhattisgarh/10.5",
          "South/Telangana/10.55",
          "East/Bihar/10.61",
          "East/Jharkhand/10.61",
          "North/Jammu & Kashmir/10.88",
          "South/Puducherry/10.9",
          "North/Punjab/10.97",
          "North/Rajasthan/10.97",
          "South/Kerala/10.98",
          "North/Punjab/10.99",
          "Northeast/Assam/11.06",
          "North/Jammu & Kashmir/11.09",
          "North/Punjab/11.11",
          "East/Odisha/11.41",
          "West/Goa/11.54",
          "Northeast/Tripura/11.57",
          "East/Jharkhand/11.8",
          "East/Jharkhand/11.85",
          "North/Rajasthan/11.9",
          "East/Bihar/11.91",
          "North/Himachal Pradesh/12.04",
          "West/Gujarat/12.11",
          "South/Tamil Nadu/12.2",
          "West/Madhya Pradesh/12.36",
          "North/Uttarakhand/12.38",
          "Northeast/Sikkim/12.49",
          "North/Delhi/12.53",
          "East/Bihar/12.79",
          "East/Odisha/13.08",
          "West/Goa/13.31",
          "East/Bihar/13.44",
          "North/Himachal Pradesh/13.46",
          "North/Himachal Pradesh/13.47",
          "North/Delhi/13.79",
          "West/Chhattisgarh/14.23",
          "North/Uttarakhand/14.26",
          "North/Rajasthan/14.39",
          "South/Telangana/14.7",
          "North/Delhi/14.84",
          "East/West Bengal/14.87",
          "North/Rajasthan/15.16",
          "North/Rajasthan/15.35",
          "West/Goa/15.38",
          "East/Bihar/15.43",
          "West/Maharashtra/15.46",
          "South/Puducherry/15.47",
          "North/Jammu & Kashmir/15.5",
          "North/Rajasthan/15.74",
          "North/Himachal Pradesh/15.79",
          "North/Rajasthan/15.81",
          "North/Jammu & Kashmir/16.14",
          "North/Jammu & Kashmir/16.17",
          "West/Goa/16.21",
          "North/Punjab/16.55",
          "North/Delhi/16.68",
          "North/Himachal Pradesh/16.83",
          "North/Himachal Pradesh/16.84",
          "South/Kerala/16.99",
          "North/Delhi/17.04",
          "West/Goa/17.07",
          "Northeast/Tripura/17.35",
          "East/West Bengal/17.41",
          "South/Andhra Pradesh/17.43",
          "North/Rajasthan/17.51",
          "North/Rajasthan/17.7",
          "East/Bihar/17.82",
          "South/Kerala/17.88",
          "North/Jammu & Kashmir/17.92",
          "North/Delhi/18.19",
          "Northeast/Tripura/18.24",
          "West/Gujarat/18.71",
          "North/Jammu & Kashmir/18.74",
          "North/Himachal Pradesh/18.76",
          "North/Haryana/19.68",
          "North/Uttarakhand/19.85",
          "South/Karnataka/19.97",
          "North/Delhi/20.3",
          "North/Haryana/20.34",
          "North/Uttar Pradesh/20.41",
          "South/Andhra Pradesh/20.51",
          "North/Jammu & Kashmir/20.78",
          "West/Maharashtra/20.9",
          "East/Jharkhand/20.95",
          "North/Jammu & Kashmir/21.08",
          "West/Goa/21.25",
          "Northeast/Tripura/21.51",
          "North/Uttar Pradesh/21.54",
          "Northeast/Tripura/21.71",
          "West/Madhya Pradesh/21.98",
          "North/Delhi/22.23",
          "North/Uttarakhand/22.26",
          "Northeast/Sikkim/23.57",
          "East/Odisha/23.76",
          "North/Rajasthan/24.15",
          "North/Haryana/24.18",
          "North/Himachal Pradesh/24.31",
          "Northeast/Sikkim/24.51",
          "North/Haryana/25.05",
          "North/Haryana/25.77",
          "North/Haryana/26.7",
          "North/Himachal Pradesh/26.95",
          "North/Haryana/27.31",
          "Northeast/Tripura/27.92",
          "North/Punjab/28.33",
          "Northeast/Tripura/28.4",
          "North/Haryana/29.02",
          "South/Karnataka/29.84",
          "Northeast/Tripura/29.95",
          "Northeast/Tripura/32.67",
          "South/Tamil Nadu/33.16",
          "North/Haryana/33.5",
          "Northeast/Tripura/41.23",
          "North/Delhi/42.27",
          "North/Haryana/43.22",
          "East/Bihar/45.96",
          "East/Bihar/46.64",
          "East/Jharkhand/47.09",
          "South/Tamil Nadu/49.83",
          "South/Puducherry/58.19",
          "East/Jharkhand/59.23",
          "South/Puducherry/75.85",
          "South/Andhra Pradesh",
          "Northeast/Assam",
          "East/Bihar",
          "West/Chhattisgarh",
          "North/Delhi",
          "West/Goa",
          "West/Gujarat",
          "North/Haryana",
          "North/Himachal Pradesh",
          "North/Jammu & Kashmir",
          "East/Jharkhand",
          "South/Karnataka",
          "South/Kerala",
          "West/Madhya Pradesh",
          "West/Maharashtra",
          "Northeast/Meghalaya",
          "East/Odisha",
          "South/Puducherry",
          "North/Punjab",
          "North/Rajasthan",
          "Northeast/Sikkim",
          "South/Tamil Nadu",
          "South/Telangana",
          "Northeast/Tripura",
          "North/Uttar Pradesh",
          "North/Uttarakhand",
          "East/West Bengal",
          "East",
          "North",
          "Northeast",
          "South",
          "West"
         ],
         "labels": [
          "0.5",
          "0.58",
          "0.6",
          "0.88",
          "1.15",
          "1.19",
          "1.2",
          "1.42",
          "1.57",
          "1.58",
          "1.58",
          "1.66",
          "1.76",
          "1.84",
          "1.87",
          "1.88",
          "1.9",
          "1.96",
          "2.09",
          "2.1",
          "2.1",
          "2.16",
          "2.18",
          "2.2",
          "2.22",
          "2.28",
          "2.41",
          "2.65",
          "2.81",
          "2.86",
          "2.86",
          "2.86",
          "3.02",
          "3.12",
          "3.13",
          "3.2",
          "3.27",
          "3.31",
          "3.41",
          "3.42",
          "3.46",
          "3.59",
          "3.61",
          "3.74",
          "3.75",
          "3.77",
          "3.77",
          "3.88",
          "3.89",
          "3.91",
          "4.01",
          "4.03",
          "4.1",
          "4.11",
          "4.18",
          "4.24",
          "4.29",
          "4.41",
          "4.45",
          "4.46",
          "4.55",
          "4.57",
          "4.6",
          "4.66",
          "4.69",
          "4.7",
          "4.77",
          "4.92",
          "4.95",
          "4.99",
          "5.0",
          "5.05",
          "5.08",
          "5.25",
          "5.31",
          "5.36",
          "5.48",
          "5.49",
          "5.49",
          "5.53",
          "5.54",
          "5.56",
          "5.63",
          "5.7",
          "5.77",
          "5.79",
          "5.79",
          "5.79",
          "5.79",
          "5.83",
          "5.91",
          "5.92",
          "6.18",
          "6.23",
          "6.25",
          "6.27",
          "6.38",
          "6.4",
          "6.4",
          "6.48",
          "6.48",
          "6.59",
          "6.62",
          "6.66",
          "6.81",
          "6.83",
          "6.92",
          "6.94",
          "6.96",
          "7.09",
          "7.29",
          "7.54",
          "7.58",
          "7.6",
          "7.63",
          "8.01",
          "8.23",
          "8.24",
          "8.29",
          "8.34",
          "8.38",
          "8.44",
          "8.61",
          "8.89",
          "8.98",
          "8.99",
          "9.19",
          "9.23",
          "9.23",
          "9.35",
          "9.47",
          "9.55",
          "9.61",
          "9.65",
          "9.71",
          "9.76",
          "9.82",
          "9.88",
          "9.96",
          "9.98",
          "10.03",
          "10.11",
          "10.27",
          "10.29",
          "10.32",
          "10.5",
          "10.55",
          "10.61",
          "10.61",
          "10.88",
          "10.9",
          "10.97",
          "10.97",
          "10.98",
          "10.99",
          "11.06",
          "11.09",
          "11.11",
          "11.41",
          "11.54",
          "11.57",
          "11.8",
          "11.85",
          "11.9",
          "11.91",
          "12.04",
          "12.11",
          "12.2",
          "12.36",
          "12.38",
          "12.49",
          "12.53",
          "12.79",
          "13.08",
          "13.31",
          "13.44",
          "13.46",
          "13.47",
          "13.79",
          "14.23",
          "14.26",
          "14.39",
          "14.7",
          "14.84",
          "14.87",
          "15.16",
          "15.35",
          "15.38",
          "15.43",
          "15.46",
          "15.47",
          "15.5",
          "15.74",
          "15.79",
          "15.81",
          "16.14",
          "16.17",
          "16.21",
          "16.55",
          "16.68",
          "16.83",
          "16.84",
          "16.99",
          "17.04",
          "17.07",
          "17.35",
          "17.41",
          "17.43",
          "17.51",
          "17.7",
          "17.82",
          "17.88",
          "17.92",
          "18.19",
          "18.24",
          "18.71",
          "18.74",
          "18.76",
          "19.68",
          "19.85",
          "19.97",
          "20.3",
          "20.34",
          "20.41",
          "20.51",
          "20.78",
          "20.9",
          "20.95",
          "21.08",
          "21.25",
          "21.51",
          "21.54",
          "21.71",
          "21.98",
          "22.23",
          "22.26",
          "23.57",
          "23.76",
          "24.15",
          "24.18",
          "24.31",
          "24.51",
          "25.05",
          "25.77",
          "26.7",
          "26.95",
          "27.31",
          "27.92",
          "28.33",
          "28.4",
          "29.02",
          "29.84",
          "29.95",
          "32.67",
          "33.16",
          "33.5",
          "41.23",
          "42.27",
          "43.22",
          "45.96",
          "46.64",
          "47.09",
          "49.83",
          "58.19",
          "59.23",
          "75.85",
          "Andhra Pradesh",
          "Assam",
          "Bihar",
          "Chhattisgarh",
          "Delhi",
          "Goa",
          "Gujarat",
          "Haryana",
          "Himachal Pradesh",
          "Jammu & Kashmir",
          "Jharkhand",
          "Karnataka",
          "Kerala",
          "Madhya Pradesh",
          "Maharashtra",
          "Meghalaya",
          "Odisha",
          "Puducherry",
          "Punjab",
          "Rajasthan",
          "Sikkim",
          "Tamil Nadu",
          "Telangana",
          "Tripura",
          "Uttar Pradesh",
          "Uttarakhand",
          "West Bengal",
          "East",
          "North",
          "Northeast",
          "South",
          "West"
         ],
         "name": "",
         "parents": [
          "South/Karnataka",
          "South/Puducherry",
          "Northeast/Assam",
          "Northeast/Sikkim",
          "Northeast/Meghalaya",
          "Northeast/Assam",
          "South/Puducherry",
          "East/Odisha",
          "South/Tamil Nadu",
          "South/Karnataka",
          "Northeast/Meghalaya",
          "Northeast/Meghalaya",
          "South/Puducherry",
          "West/Gujarat",
          "West/Gujarat",
          "East/Odisha",
          "East/Odisha",
          "West/Chhattisgarh",
          "South/Tamil Nadu",
          "Northeast/Meghalaya",
          "East/Odisha",
          "South/Tamil Nadu",
          "East/Odisha",
          "North/Himachal Pradesh",
          "West/Madhya Pradesh",
          "Northeast/Sikkim",
          "South/Karnataka",
          "South/Tamil Nadu",
          "West/Goa",
          "South/Karnataka",
          "North/Punjab",
          "South/Telangana",
          "Northeast/Assam",
          "East/Odisha",
          "West/Madhya Pradesh",
          "West/Gujarat",
          "South/Telangana",
          "South/Andhra Pradesh",
          "West/Chhattisgarh",
          "West/Gujarat",
          "South/Karnataka",
          "Northeast/Meghalaya",
          "South/Karnataka",
          "Northeast/Meghalaya",
          "North/Uttar Pradesh",
          "Northeast/Assam",
          "East/Odisha",
          "South/Kerala",
          "West/Maharashtra",
          "West/Madhya Pradesh",
          "South/Karnataka",
          "West/Gujarat",
          "West/Maharashtra",
          "West/Madhya Pradesh",
          "North/Uttar Pradesh",
          "South/Puducherry",
          "Northeast/Meghalaya",
          "Northeast/Assam",
          "Northeast/Sikkim",
          "Northeast/Sikkim",
          "West/Maharashtra",
          "West/Madhya Pradesh",
          "Northeast/Meghalaya",
          "Northeast/Assam",
          "West/Maharashtra",
          "West/Madhya Pradesh",
          "Northeast/Assam",
          "East/West Bengal",
          "West/Maharashtra",
          "North/Uttarakhand",
          "South/Tamil Nadu",
          "South/Puducherry",
          "West/Madhya Pradesh",
          "West/Goa",
          "South/Kerala",
          "South/Telangana",
          "South/Andhra Pradesh",
          "South/Telangana",
          "North/Uttarakhand",
          "Northeast/Assam",
          "West/Gujarat",
          "North/Uttar Pradesh",
          "West/Chhattisgarh",
          "Northeast/Sikkim",
          "South/Telangana",
          "South/Andhra Pradesh",
          "West/Maharashtra",
          "South/Telangana",
          "North/Uttar Pradesh",
          "South/Andhra Pradesh",
          "South/Kerala",
          "Northeast/Meghalaya",
          "South/Puducherry",
          "West/Maharashtra",
          "South/Telangana",
          "North/Delhi",
          "West/Gujarat",
          "South/Andhra Pradesh",
          "South/Tamil Nadu",
          "West/Madhya Pradesh",
          "North/Uttarakhand",
          "South/Andhra Pradesh",
          "West/Chhattisgarh",
          "West/Gujarat",
          "South/Tamil Nadu",
          "East/West Bengal",
          "East/West Bengal",
          "East/West Bengal",
          "South/Andhra Pradesh",
          "South/Kerala",
          "East/West Bengal",
          "West/Chhattisgarh",
          "North/Uttar Pradesh",
          "South/Kerala",
          "East/Jharkhand",
          "North/Uttarakhand",
          "East/Jharkhand",
          "East/Jharkhand",
          "South/Telangana",
          "South/Andhra Pradesh",
          "West/Chhattisgarh",
          "South/Karnataka",
          "North/Uttarakhand",
          "West/Goa",
          "North/Uttar Pradesh",
          "South/Kerala",
          "North/Punjab",
          "West/Maharashtra",
          "North/Uttarakhand",
          "East/West Bengal",
          "North/Uttar Pradesh",
          "Northeast/Assam",
          "North/Punjab",
          "West/Chhattisgarh",
          "South/Kerala",
          "East/Jharkhand",
          "East/Bihar",
          "North/Punjab",
          "West/Goa",
          "East/West Bengal",
          "Northeast/Meghalaya",
          "North/Uttar Pradesh",
          "West/Chhattisgarh",
          "East/Bihar",
          "North/Punjab",
          "West/Chhattisgarh",
          "South/Telangana",
          "East/Bihar",
          "East/Jharkhand",
          "North/Jammu & Kashmir",
          "South/Puducherry",
          "North/Punjab",
          "North/Rajasthan",
          "South/Kerala",
          "North/Punjab",
          "Northeast/Assam",
          "North/Jammu & Kashmir",
          "North/Punjab",
          "East/Odisha",
          "West/Goa",
          "Northeast/Tripura",
          "East/Jharkhand",
          "East/Jharkhand",
          "North/Rajasthan",
          "East/Bihar",
          "North/Himachal Pradesh",
          "West/Gujarat",
          "South/Tamil Nadu",
          "West/Madhya Pradesh",
          "North/Uttarakhand",
          "Northeast/Sikkim",
          "North/Delhi",
          "East/Bihar",
          "East/Odisha",
          "West/Goa",
          "East/Bihar",
          "North/Himachal Pradesh",
          "North/Himachal Pradesh",
          "North/Delhi",
          "West/Chhattisgarh",
          "North/Uttarakhand",
          "North/Rajasthan",
          "South/Telangana",
          "North/Delhi",
          "East/West Bengal",
          "North/Rajasthan",
          "North/Rajasthan",
          "West/Goa",
          "East/Bihar",
          "West/Maharashtra",
          "South/Puducherry",
          "North/Jammu & Kashmir",
          "North/Rajasthan",
          "North/Himachal Pradesh",
          "North/Rajasthan",
          "North/Jammu & Kashmir",
          "North/Jammu & Kashmir",
          "West/Goa",
          "North/Punjab",
          "North/Delhi",
          "North/Himachal Pradesh",
          "North/Himachal Pradesh",
          "South/Kerala",
          "North/Delhi",
          "West/Goa",
          "Northeast/Tripura",
          "East/West Bengal",
          "South/Andhra Pradesh",
          "North/Rajasthan",
          "North/Rajasthan",
          "East/Bihar",
          "South/Kerala",
          "North/Jammu & Kashmir",
          "North/Delhi",
          "Northeast/Tripura",
          "West/Gujarat",
          "North/Jammu & Kashmir",
          "North/Himachal Pradesh",
          "North/Haryana",
          "North/Uttarakhand",
          "South/Karnataka",
          "North/Delhi",
          "North/Haryana",
          "North/Uttar Pradesh",
          "South/Andhra Pradesh",
          "North/Jammu & Kashmir",
          "West/Maharashtra",
          "East/Jharkhand",
          "North/Jammu & Kashmir",
          "West/Goa",
          "Northeast/Tripura",
          "North/Uttar Pradesh",
          "Northeast/Tripura",
          "West/Madhya Pradesh",
          "North/Delhi",
          "North/Uttarakhand",
          "Northeast/Sikkim",
          "East/Odisha",
          "North/Rajasthan",
          "North/Haryana",
          "North/Himachal Pradesh",
          "Northeast/Sikkim",
          "North/Haryana",
          "North/Haryana",
          "North/Haryana",
          "North/Himachal Pradesh",
          "North/Haryana",
          "Northeast/Tripura",
          "North/Punjab",
          "Northeast/Tripura",
          "North/Haryana",
          "South/Karnataka",
          "Northeast/Tripura",
          "Northeast/Tripura",
          "South/Tamil Nadu",
          "North/Haryana",
          "Northeast/Tripura",
          "North/Delhi",
          "North/Haryana",
          "East/Bihar",
          "East/Bihar",
          "East/Jharkhand",
          "South/Tamil Nadu",
          "South/Puducherry",
          "East/Jharkhand",
          "South/Puducherry",
          "South",
          "Northeast",
          "East",
          "West",
          "North",
          "West",
          "West",
          "North",
          "North",
          "North",
          "East",
          "South",
          "South",
          "West",
          "West",
          "Northeast",
          "East",
          "South",
          "North",
          "North",
          "Northeast",
          "South",
          "South",
          "Northeast",
          "North",
          "North",
          "East",
          "",
          "",
          "",
          "",
          ""
         ],
         "type": "sunburst",
         "values": [
          0.5,
          0.58,
          0.6,
          0.88,
          1.15,
          1.19,
          1.2,
          1.42,
          1.57,
          1.58,
          1.58,
          1.66,
          1.76,
          1.84,
          1.87,
          1.88,
          1.9,
          1.96,
          2.09,
          2.1,
          2.1,
          2.16,
          2.18,
          2.2,
          2.22,
          2.28,
          2.41,
          2.65,
          2.81,
          2.86,
          2.86,
          2.86,
          3.02,
          3.12,
          3.13,
          3.2,
          3.27,
          3.31,
          3.41,
          3.42,
          3.46,
          3.59,
          3.61,
          3.74,
          3.75,
          3.77,
          3.77,
          3.88,
          3.89,
          3.91,
          4.01,
          4.03,
          4.1,
          4.11,
          4.18,
          4.24,
          4.29,
          4.41,
          4.45,
          4.46,
          4.55,
          4.57,
          4.6,
          4.66,
          4.69,
          4.7,
          4.77,
          4.92,
          4.95,
          4.99,
          5,
          5.05,
          5.08,
          5.25,
          5.31,
          5.36,
          5.48,
          5.49,
          5.49,
          5.53,
          5.54,
          5.56,
          5.63,
          5.7,
          5.77,
          5.79,
          5.79,
          5.79,
          5.79,
          5.83,
          5.91,
          5.92,
          6.18,
          6.23,
          6.25,
          6.27,
          6.38,
          6.4,
          6.4,
          6.48,
          6.48,
          6.59,
          6.62,
          6.66,
          6.81,
          6.83,
          6.92,
          6.94,
          6.96,
          7.09,
          7.29,
          7.54,
          7.58,
          7.6,
          7.63,
          8.01,
          8.23,
          8.24,
          8.29,
          8.34,
          8.38,
          8.44,
          8.61,
          8.89,
          8.98,
          8.99,
          9.19,
          9.23,
          9.23,
          9.35,
          9.47,
          9.55,
          9.61,
          9.65,
          9.71,
          9.76,
          9.82,
          9.88,
          9.96,
          9.98,
          10.03,
          10.11,
          10.27,
          10.29,
          10.32,
          10.5,
          10.55,
          10.61,
          10.61,
          10.88,
          10.9,
          10.97,
          10.97,
          10.98,
          10.99,
          11.06,
          11.09,
          11.11,
          11.41,
          11.54,
          11.57,
          11.8,
          11.85,
          11.9,
          11.91,
          12.04,
          12.11,
          12.2,
          12.36,
          12.38,
          12.49,
          12.53,
          12.79,
          13.08,
          13.31,
          13.44,
          13.46,
          13.47,
          13.79,
          14.23,
          14.26,
          14.39,
          14.7,
          14.84,
          14.87,
          15.16,
          15.35,
          15.38,
          15.43,
          15.46,
          15.47,
          15.5,
          15.74,
          15.79,
          15.81,
          16.14,
          16.17,
          16.21,
          16.55,
          16.68,
          16.83,
          16.84,
          16.99,
          17.04,
          17.07,
          17.35,
          34.82,
          17.43,
          17.51,
          17.7,
          17.82,
          17.88,
          17.92,
          18.19,
          18.24,
          18.71,
          18.74,
          18.76,
          19.68,
          19.85,
          19.97,
          20.3,
          20.34,
          20.41,
          20.51,
          20.78,
          20.9,
          20.95,
          21.08,
          21.25,
          21.51,
          21.54,
          21.71,
          21.98,
          22.23,
          22.26,
          23.57,
          23.76,
          24.15,
          24.18,
          24.31,
          24.51,
          25.05,
          25.77,
          26.7,
          26.95,
          27.31,
          27.92,
          28.33,
          28.4,
          29.02,
          29.84,
          29.95,
          32.67,
          33.16,
          33.5,
          41.23,
          42.27,
          43.22,
          45.96,
          46.64,
          47.09,
          49.83,
          58.19,
          59.23,
          75.85,
          86.64,
          48.56,
          194.71,
          78.19,
          184.14000000000001,
          121.67,
          63.76,
          274.77,
          160.65,
          148.3,
          195.39,
          76.67999999999999,
          94.34,
          68.54,
          79.79,
          38.66,
          64.62,
          179.42,
          119.81,
          158.68,
          78.34,
          121.86999999999999,
          68.33,
          250.55,
          97.37,
          111.56,
          101.92,
          556.64,
          1255.28,
          416.11,
          627.28,
          411.95
         ]
        }
       ],
       "layout": {
        "height": 1000,
        "legend": {
         "tracegroupgap": 0
        },
        "template": {
         "data": {
          "bar": [
           {
            "error_x": {
             "color": "#2a3f5f"
            },
            "error_y": {
             "color": "#2a3f5f"
            },
            "marker": {
             "line": {
              "color": "#E5ECF6",
              "width": 0.5
             },
             "pattern": {
              "fillmode": "overlay",
              "size": 10,
              "solidity": 0.2
             }
            },
            "type": "bar"
           }
          ],
          "barpolar": [
           {
            "marker": {
             "line": {
              "color": "#E5ECF6",
              "width": 0.5
             },
             "pattern": {
              "fillmode": "overlay",
              "size": 10,
              "solidity": 0.2
             }
            },
            "type": "barpolar"
           }
          ],
          "carpet": [
           {
            "aaxis": {
             "endlinecolor": "#2a3f5f",
             "gridcolor": "white",
             "linecolor": "white",
             "minorgridcolor": "white",
             "startlinecolor": "#2a3f5f"
            },
            "baxis": {
             "endlinecolor": "#2a3f5f",
             "gridcolor": "white",
             "linecolor": "white",
             "minorgridcolor": "white",
             "startlinecolor": "#2a3f5f"
            },
            "type": "carpet"
           }
          ],
          "choropleth": [
           {
            "colorbar": {
             "outlinewidth": 0,
             "ticks": ""
            },
            "type": "choropleth"
           }
          ],
          "contour": [
           {
            "colorbar": {
             "outlinewidth": 0,
             "ticks": ""
            },
            "colorscale": [
             [
              0,
              "#0d0887"
             ],
             [
              0.1111111111111111,
              "#46039f"
             ],
             [
              0.2222222222222222,
              "#7201a8"
             ],
             [
              0.3333333333333333,
              "#9c179e"
             ],
             [
              0.4444444444444444,
              "#bd3786"
             ],
             [
              0.5555555555555556,
              "#d8576b"
             ],
             [
              0.6666666666666666,
              "#ed7953"
             ],
             [
              0.7777777777777778,
              "#fb9f3a"
             ],
             [
              0.8888888888888888,
              "#fdca26"
             ],
             [
              1,
              "#f0f921"
             ]
            ],
            "type": "contour"
           }
          ],
          "contourcarpet": [
           {
            "colorbar": {
             "outlinewidth": 0,
             "ticks": ""
            },
            "type": "contourcarpet"
           }
          ],
          "heatmap": [
           {
            "colorbar": {
             "outlinewidth": 0,
             "ticks": ""
            },
            "colorscale": [
             [
              0,
              "#0d0887"
             ],
             [
              0.1111111111111111,
              "#46039f"
             ],
             [
              0.2222222222222222,
              "#7201a8"
             ],
             [
              0.3333333333333333,
              "#9c179e"
             ],
             [
              0.4444444444444444,
              "#bd3786"
             ],
             [
              0.5555555555555556,
              "#d8576b"
             ],
             [
              0.6666666666666666,
              "#ed7953"
             ],
             [
              0.7777777777777778,
              "#fb9f3a"
             ],
             [
              0.8888888888888888,
              "#fdca26"
             ],
             [
              1,
              "#f0f921"
             ]
            ],
            "type": "heatmap"
           }
          ],
          "heatmapgl": [
           {
            "colorbar": {
             "outlinewidth": 0,
             "ticks": ""
            },
            "colorscale": [
             [
              0,
              "#0d0887"
             ],
             [
              0.1111111111111111,
              "#46039f"
             ],
             [
              0.2222222222222222,
              "#7201a8"
             ],
             [
              0.3333333333333333,
              "#9c179e"
             ],
             [
              0.4444444444444444,
              "#bd3786"
             ],
             [
              0.5555555555555556,
              "#d8576b"
             ],
             [
              0.6666666666666666,
              "#ed7953"
             ],
             [
              0.7777777777777778,
              "#fb9f3a"
             ],
             [
              0.8888888888888888,
              "#fdca26"
             ],
             [
              1,
              "#f0f921"
             ]
            ],
            "type": "heatmapgl"
           }
          ],
          "histogram": [
           {
            "marker": {
             "pattern": {
              "fillmode": "overlay",
              "size": 10,
              "solidity": 0.2
             }
            },
            "type": "histogram"
           }
          ],
          "histogram2d": [
           {
            "colorbar": {
             "outlinewidth": 0,
             "ticks": ""
            },
            "colorscale": [
             [
              0,
              "#0d0887"
             ],
             [
              0.1111111111111111,
              "#46039f"
             ],
             [
              0.2222222222222222,
              "#7201a8"
             ],
             [
              0.3333333333333333,
              "#9c179e"
             ],
             [
              0.4444444444444444,
              "#bd3786"
             ],
             [
              0.5555555555555556,
              "#d8576b"
             ],
             [
              0.6666666666666666,
              "#ed7953"
             ],
             [
              0.7777777777777778,
              "#fb9f3a"
             ],
             [
              0.8888888888888888,
              "#fdca26"
             ],
             [
              1,
              "#f0f921"
             ]
            ],
            "type": "histogram2d"
           }
          ],
          "histogram2dcontour": [
           {
            "colorbar": {
             "outlinewidth": 0,
             "ticks": ""
            },
            "colorscale": [
             [
              0,
              "#0d0887"
             ],
             [
              0.1111111111111111,
              "#46039f"
             ],
             [
              0.2222222222222222,
              "#7201a8"
             ],
             [
              0.3333333333333333,
              "#9c179e"
             ],
             [
              0.4444444444444444,
              "#bd3786"
             ],
             [
              0.5555555555555556,
              "#d8576b"
             ],
             [
              0.6666666666666666,
              "#ed7953"
             ],
             [
              0.7777777777777778,
              "#fb9f3a"
             ],
             [
              0.8888888888888888,
              "#fdca26"
             ],
             [
              1,
              "#f0f921"
             ]
            ],
            "type": "histogram2dcontour"
           }
          ],
          "mesh3d": [
           {
            "colorbar": {
             "outlinewidth": 0,
             "ticks": ""
            },
            "type": "mesh3d"
           }
          ],
          "parcoords": [
           {
            "line": {
             "colorbar": {
              "outlinewidth": 0,
              "ticks": ""
             }
            },
            "type": "parcoords"
           }
          ],
          "pie": [
           {
            "automargin": true,
            "type": "pie"
           }
          ],
          "scatter": [
           {
            "fillpattern": {
             "fillmode": "overlay",
             "size": 10,
             "solidity": 0.2
            },
            "type": "scatter"
           }
          ],
          "scatter3d": [
           {
            "line": {
             "colorbar": {
              "outlinewidth": 0,
              "ticks": ""
             }
            },
            "marker": {
             "colorbar": {
              "outlinewidth": 0,
              "ticks": ""
             }
            },
            "type": "scatter3d"
           }
          ],
          "scattercarpet": [
           {
            "marker": {
             "colorbar": {
              "outlinewidth": 0,
              "ticks": ""
             }
            },
            "type": "scattercarpet"
           }
          ],
          "scattergeo": [
           {
            "marker": {
             "colorbar": {
              "outlinewidth": 0,
              "ticks": ""
             }
            },
            "type": "scattergeo"
           }
          ],
          "scattergl": [
           {
            "marker": {
             "colorbar": {
              "outlinewidth": 0,
              "ticks": ""
             }
            },
            "type": "scattergl"
           }
          ],
          "scattermapbox": [
           {
            "marker": {
             "colorbar": {
              "outlinewidth": 0,
              "ticks": ""
             }
            },
            "type": "scattermapbox"
           }
          ],
          "scatterpolar": [
           {
            "marker": {
             "colorbar": {
              "outlinewidth": 0,
              "ticks": ""
             }
            },
            "type": "scatterpolar"
           }
          ],
          "scatterpolargl": [
           {
            "marker": {
             "colorbar": {
              "outlinewidth": 0,
              "ticks": ""
             }
            },
            "type": "scatterpolargl"
           }
          ],
          "scatterternary": [
           {
            "marker": {
             "colorbar": {
              "outlinewidth": 0,
              "ticks": ""
             }
            },
            "type": "scatterternary"
           }
          ],
          "surface": [
           {
            "colorbar": {
             "outlinewidth": 0,
             "ticks": ""
            },
            "colorscale": [
             [
              0,
              "#0d0887"
             ],
             [
              0.1111111111111111,
              "#46039f"
             ],
             [
              0.2222222222222222,
              "#7201a8"
             ],
             [
              0.3333333333333333,
              "#9c179e"
             ],
             [
              0.4444444444444444,
              "#bd3786"
             ],
             [
              0.5555555555555556,
              "#d8576b"
             ],
             [
              0.6666666666666666,
              "#ed7953"
             ],
             [
              0.7777777777777778,
              "#fb9f3a"
             ],
             [
              0.8888888888888888,
              "#fdca26"
             ],
             [
              1,
              "#f0f921"
             ]
            ],
            "type": "surface"
           }
          ],
          "table": [
           {
            "cells": {
             "fill": {
              "color": "#EBF0F8"
             },
             "line": {
              "color": "white"
             }
            },
            "header": {
             "fill": {
              "color": "#C8D4E3"
             },
             "line": {
              "color": "white"
             }
            },
            "type": "table"
           }
          ]
         },
         "layout": {
          "annotationdefaults": {
           "arrowcolor": "#2a3f5f",
           "arrowhead": 0,
           "arrowwidth": 1
          },
          "autotypenumbers": "strict",
          "coloraxis": {
           "colorbar": {
            "outlinewidth": 0,
            "ticks": ""
           }
          },
          "colorscale": {
           "diverging": [
            [
             0,
             "#8e0152"
            ],
            [
             0.1,
             "#c51b7d"
            ],
            [
             0.2,
             "#de77ae"
            ],
            [
             0.3,
             "#f1b6da"
            ],
            [
             0.4,
             "#fde0ef"
            ],
            [
             0.5,
             "#f7f7f7"
            ],
            [
             0.6,
             "#e6f5d0"
            ],
            [
             0.7,
             "#b8e186"
            ],
            [
             0.8,
             "#7fbc41"
            ],
            [
             0.9,
             "#4d9221"
            ],
            [
             1,
             "#276419"
            ]
           ],
           "sequential": [
            [
             0,
             "#0d0887"
            ],
            [
             0.1111111111111111,
             "#46039f"
            ],
            [
             0.2222222222222222,
             "#7201a8"
            ],
            [
             0.3333333333333333,
             "#9c179e"
            ],
            [
             0.4444444444444444,
             "#bd3786"
            ],
            [
             0.5555555555555556,
             "#d8576b"
            ],
            [
             0.6666666666666666,
             "#ed7953"
            ],
            [
             0.7777777777777778,
             "#fb9f3a"
            ],
            [
             0.8888888888888888,
             "#fdca26"
            ],
            [
             1,
             "#f0f921"
            ]
           ],
           "sequentialminus": [
            [
             0,
             "#0d0887"
            ],
            [
             0.1111111111111111,
             "#46039f"
            ],
            [
             0.2222222222222222,
             "#7201a8"
            ],
            [
             0.3333333333333333,
             "#9c179e"
            ],
            [
             0.4444444444444444,
             "#bd3786"
            ],
            [
             0.5555555555555556,
             "#d8576b"
            ],
            [
             0.6666666666666666,
             "#ed7953"
            ],
            [
             0.7777777777777778,
             "#fb9f3a"
            ],
            [
             0.8888888888888888,
             "#fdca26"
            ],
            [
             1,
             "#f0f921"
            ]
           ]
          },
          "colorway": [
           "#636efa",
           "#EF553B",
           "#00cc96",
           "#ab63fa",
           "#FFA15A",
           "#19d3f3",
           "#FF6692",
           "#B6E880",
           "#FF97FF",
           "#FECB52"
          ],
          "font": {
           "color": "#2a3f5f"
          },
          "geo": {
           "bgcolor": "white",
           "lakecolor": "white",
           "landcolor": "#E5ECF6",
           "showlakes": true,
           "showland": true,
           "subunitcolor": "white"
          },
          "hoverlabel": {
           "align": "left"
          },
          "hovermode": "closest",
          "mapbox": {
           "style": "light"
          },
          "paper_bgcolor": "white",
          "plot_bgcolor": "#E5ECF6",
          "polar": {
           "angularaxis": {
            "gridcolor": "white",
            "linecolor": "white",
            "ticks": ""
           },
           "bgcolor": "#E5ECF6",
           "radialaxis": {
            "gridcolor": "white",
            "linecolor": "white",
            "ticks": ""
           }
          },
          "scene": {
           "xaxis": {
            "backgroundcolor": "#E5ECF6",
            "gridcolor": "white",
            "gridwidth": 2,
            "linecolor": "white",
            "showbackground": true,
            "ticks": "",
            "zerolinecolor": "white"
           },
           "yaxis": {
            "backgroundcolor": "#E5ECF6",
            "gridcolor": "white",
            "gridwidth": 2,
            "linecolor": "white",
            "showbackground": true,
            "ticks": "",
            "zerolinecolor": "white"
           },
           "zaxis": {
            "backgroundcolor": "#E5ECF6",
            "gridcolor": "white",
            "gridwidth": 2,
            "linecolor": "white",
            "showbackground": true,
            "ticks": "",
            "zerolinecolor": "white"
           }
          },
          "shapedefaults": {
           "line": {
            "color": "#2a3f5f"
           }
          },
          "ternary": {
           "aaxis": {
            "gridcolor": "white",
            "linecolor": "white",
            "ticks": ""
           },
           "baxis": {
            "gridcolor": "white",
            "linecolor": "white",
            "ticks": ""
           },
           "bgcolor": "#E5ECF6",
           "caxis": {
            "gridcolor": "white",
            "linecolor": "white",
            "ticks": ""
           }
          },
          "title": {
           "x": 0.05
          },
          "xaxis": {
           "automargin": true,
           "gridcolor": "white",
           "linecolor": "white",
           "ticks": "",
           "title": {
            "standoff": 15
           },
           "zerolinecolor": "white",
           "zerolinewidth": 2
          },
          "yaxis": {
           "automargin": true,
           "gridcolor": "white",
           "linecolor": "white",
           "ticks": "",
           "title": {
            "standoff": 15
           },
           "zerolinecolor": "white",
           "zerolinewidth": 2
          }
         }
        },
        "title": {
         "text": "Indian unemployment Rate"
        },
        "width": 1000
       }
      },
      "text/html": [
       "<div>                            <div id=\"8e427980-f13d-4b0d-962a-e2e5cf646da8\" class=\"plotly-graph-div\" style=\"height:1000px; width:1000px;\"></div>            <script type=\"text/javascript\">                require([\"plotly\"], function(Plotly) {                    window.PLOTLYENV=window.PLOTLYENV || {};                                    if (document.getElementById(\"8e427980-f13d-4b0d-962a-e2e5cf646da8\")) {                    Plotly.newPlot(                        \"8e427980-f13d-4b0d-962a-e2e5cf646da8\",                        [{\"branchvalues\":\"total\",\"domain\":{\"x\":[0.0,1.0],\"y\":[0.0,1.0]},\"hovertemplate\":\"labels=%{label}<br>Estimated Unemployment Rate=%{value}<br>parent=%{parent}<br>id=%{id}<extra></extra>\",\"ids\":[\"South/Karnataka/0.5\",\"South/Puducherry/0.58\",\"Northeast/Assam/0.6\",\"Northeast/Sikkim/0.88\",\"Northeast/Meghalaya/1.15\",\"Northeast/Assam/1.19\",\"South/Puducherry/1.2\",\"East/Odisha/1.42\",\"South/Tamil Nadu/1.57\",\"South/Karnataka/1.58\",\"Northeast/Meghalaya/1.58\",\"Northeast/Meghalaya/1.66\",\"South/Puducherry/1.76\",\"West/Gujarat/1.84\",\"West/Gujarat/1.87\",\"East/Odisha/1.88\",\"East/Odisha/1.9\",\"West/Chhattisgarh/1.96\",\"South/Tamil Nadu/2.09\",\"Northeast/Meghalaya/2.1\",\"East/Odisha/2.1\",\"South/Tamil Nadu/2.16\",\"East/Odisha/2.18\",\"North/Himachal Pradesh/2.2\",\"West/Madhya Pradesh/2.22\",\"Northeast/Sikkim/2.28\",\"South/Karnataka/2.41\",\"South/Tamil Nadu/2.65\",\"West/Goa/2.81\",\"South/Karnataka/2.86\",\"North/Punjab/2.86\",\"South/Telangana/2.86\",\"Northeast/Assam/3.02\",\"East/Odisha/3.12\",\"West/Madhya Pradesh/3.13\",\"West/Gujarat/3.2\",\"South/Telangana/3.27\",\"South/Andhra Pradesh/3.31\",\"West/Chhattisgarh/3.41\",\"West/Gujarat/3.42\",\"South/Karnataka/3.46\",\"Northeast/Meghalaya/3.59\",\"South/Karnataka/3.61\",\"Northeast/Meghalaya/3.74\",\"North/Uttar Pradesh/3.75\",\"Northeast/Assam/3.77\",\"East/Odisha/3.77\",\"South/Kerala/3.88\",\"West/Maharashtra/3.89\",\"West/Madhya Pradesh/3.91\",\"South/Karnataka/4.01\",\"West/Gujarat/4.03\",\"West/Maharashtra/4.1\",\"West/Madhya Pradesh/4.11\",\"North/Uttar Pradesh/4.18\",\"South/Puducherry/4.24\",\"Northeast/Meghalaya/4.29\",\"Northeast/Assam/4.41\",\"Northeast/Sikkim/4.45\",\"Northeast/Sikkim/4.46\",\"West/Maharashtra/4.55\",\"West/Madhya Pradesh/4.57\",\"Northeast/Meghalaya/4.6\",\"Northeast/Assam/4.66\",\"West/Maharashtra/4.69\",\"West/Madhya Pradesh/4.7\",\"Northeast/Assam/4.77\",\"East/West Bengal/4.92\",\"West/Maharashtra/4.95\",\"North/Uttarakhand/4.99\",\"South/Tamil Nadu/5.0\",\"South/Puducherry/5.05\",\"West/Madhya Pradesh/5.08\",\"West/Goa/5.25\",\"South/Kerala/5.31\",\"South/Telangana/5.36\",\"South/Andhra Pradesh/5.48\",\"South/Telangana/5.49\",\"North/Uttarakhand/5.49\",\"Northeast/Assam/5.53\",\"West/Gujarat/5.54\",\"North/Uttar Pradesh/5.56\",\"West/Chhattisgarh/5.63\",\"Northeast/Sikkim/5.7\",\"South/Telangana/5.77\",\"South/Andhra Pradesh/5.79\",\"West/Maharashtra/5.79\",\"South/Telangana/5.79\",\"North/Uttar Pradesh/5.79\",\"South/Andhra Pradesh/5.83\",\"South/Kerala/5.91\",\"Northeast/Meghalaya/5.92\",\"South/Puducherry/6.18\",\"West/Maharashtra/6.23\",\"South/Telangana/6.25\",\"North/Delhi/6.27\",\"West/Gujarat/6.38\",\"South/Andhra Pradesh/6.4\",\"South/Tamil Nadu/6.4\",\"West/Madhya Pradesh/6.48\",\"North/Uttarakhand/6.48\",\"South/Andhra Pradesh/6.59\",\"West/Chhattisgarh/6.62\",\"West/Gujarat/6.66\",\"South/Tamil Nadu/6.81\",\"East/West Bengal/6.83\",\"East/West Bengal/6.92\",\"East/West Bengal/6.94\",\"South/Andhra Pradesh/6.96\",\"South/Kerala/7.09\",\"East/West Bengal/7.29\",\"West/Chhattisgarh/7.54\",\"North/Uttar Pradesh/7.58\",\"South/Kerala/7.6\",\"East/Jharkhand/7.63\",\"North/Uttarakhand/8.01\",\"East/Jharkhand/8.23\",\"East/Jharkhand/8.24\",\"South/Telangana/8.29\",\"South/Andhra Pradesh/8.34\",\"West/Chhattisgarh/8.38\",\"South/Karnataka/8.44\",\"North/Uttarakhand/8.61\",\"West/Goa/8.89\",\"North/Uttar Pradesh/8.98\",\"South/Kerala/8.99\",\"North/Punjab/9.19\",\"West/Maharashtra/9.23\",\"North/Uttarakhand/9.23\",\"East/West Bengal/9.35\",\"North/Uttar Pradesh/9.47\",\"Northeast/Assam/9.55\",\"North/Punjab/9.61\",\"West/Chhattisgarh/9.65\",\"South/Kerala/9.71\",\"East/Jharkhand/9.76\",\"East/Bihar/9.82\",\"North/Punjab/9.88\",\"West/Goa/9.96\",\"East/West Bengal/9.98\",\"Northeast/Meghalaya/10.03\",\"North/Uttar Pradesh/10.11\",\"West/Chhattisgarh/10.27\",\"East/Bihar/10.29\",\"North/Punjab/10.32\",\"West/Chhattisgarh/10.5\",\"South/Telangana/10.55\",\"East/Bihar/10.61\",\"East/Jharkhand/10.61\",\"North/Jammu & Kashmir/10.88\",\"South/Puducherry/10.9\",\"North/Punjab/10.97\",\"North/Rajasthan/10.97\",\"South/Kerala/10.98\",\"North/Punjab/10.99\",\"Northeast/Assam/11.06\",\"North/Jammu & Kashmir/11.09\",\"North/Punjab/11.11\",\"East/Odisha/11.41\",\"West/Goa/11.54\",\"Northeast/Tripura/11.57\",\"East/Jharkhand/11.8\",\"East/Jharkhand/11.85\",\"North/Rajasthan/11.9\",\"East/Bihar/11.91\",\"North/Himachal Pradesh/12.04\",\"West/Gujarat/12.11\",\"South/Tamil Nadu/12.2\",\"West/Madhya Pradesh/12.36\",\"North/Uttarakhand/12.38\",\"Northeast/Sikkim/12.49\",\"North/Delhi/12.53\",\"East/Bihar/12.79\",\"East/Odisha/13.08\",\"West/Goa/13.31\",\"East/Bihar/13.44\",\"North/Himachal Pradesh/13.46\",\"North/Himachal Pradesh/13.47\",\"North/Delhi/13.79\",\"West/Chhattisgarh/14.23\",\"North/Uttarakhand/14.26\",\"North/Rajasthan/14.39\",\"South/Telangana/14.7\",\"North/Delhi/14.84\",\"East/West Bengal/14.87\",\"North/Rajasthan/15.16\",\"North/Rajasthan/15.35\",\"West/Goa/15.38\",\"East/Bihar/15.43\",\"West/Maharashtra/15.46\",\"South/Puducherry/15.47\",\"North/Jammu & Kashmir/15.5\",\"North/Rajasthan/15.74\",\"North/Himachal Pradesh/15.79\",\"North/Rajasthan/15.81\",\"North/Jammu & Kashmir/16.14\",\"North/Jammu & Kashmir/16.17\",\"West/Goa/16.21\",\"North/Punjab/16.55\",\"North/Delhi/16.68\",\"North/Himachal Pradesh/16.83\",\"North/Himachal Pradesh/16.84\",\"South/Kerala/16.99\",\"North/Delhi/17.04\",\"West/Goa/17.07\",\"Northeast/Tripura/17.35\",\"East/West Bengal/17.41\",\"South/Andhra Pradesh/17.43\",\"North/Rajasthan/17.51\",\"North/Rajasthan/17.7\",\"East/Bihar/17.82\",\"South/Kerala/17.88\",\"North/Jammu & Kashmir/17.92\",\"North/Delhi/18.19\",\"Northeast/Tripura/18.24\",\"West/Gujarat/18.71\",\"North/Jammu & Kashmir/18.74\",\"North/Himachal Pradesh/18.76\",\"North/Haryana/19.68\",\"North/Uttarakhand/19.85\",\"South/Karnataka/19.97\",\"North/Delhi/20.3\",\"North/Haryana/20.34\",\"North/Uttar Pradesh/20.41\",\"South/Andhra Pradesh/20.51\",\"North/Jammu & Kashmir/20.78\",\"West/Maharashtra/20.9\",\"East/Jharkhand/20.95\",\"North/Jammu & Kashmir/21.08\",\"West/Goa/21.25\",\"Northeast/Tripura/21.51\",\"North/Uttar Pradesh/21.54\",\"Northeast/Tripura/21.71\",\"West/Madhya Pradesh/21.98\",\"North/Delhi/22.23\",\"North/Uttarakhand/22.26\",\"Northeast/Sikkim/23.57\",\"East/Odisha/23.76\",\"North/Rajasthan/24.15\",\"North/Haryana/24.18\",\"North/Himachal Pradesh/24.31\",\"Northeast/Sikkim/24.51\",\"North/Haryana/25.05\",\"North/Haryana/25.77\",\"North/Haryana/26.7\",\"North/Himachal Pradesh/26.95\",\"North/Haryana/27.31\",\"Northeast/Tripura/27.92\",\"North/Punjab/28.33\",\"Northeast/Tripura/28.4\",\"North/Haryana/29.02\",\"South/Karnataka/29.84\",\"Northeast/Tripura/29.95\",\"Northeast/Tripura/32.67\",\"South/Tamil Nadu/33.16\",\"North/Haryana/33.5\",\"Northeast/Tripura/41.23\",\"North/Delhi/42.27\",\"North/Haryana/43.22\",\"East/Bihar/45.96\",\"East/Bihar/46.64\",\"East/Jharkhand/47.09\",\"South/Tamil Nadu/49.83\",\"South/Puducherry/58.19\",\"East/Jharkhand/59.23\",\"South/Puducherry/75.85\",\"South/Andhra Pradesh\",\"Northeast/Assam\",\"East/Bihar\",\"West/Chhattisgarh\",\"North/Delhi\",\"West/Goa\",\"West/Gujarat\",\"North/Haryana\",\"North/Himachal Pradesh\",\"North/Jammu & Kashmir\",\"East/Jharkhand\",\"South/Karnataka\",\"South/Kerala\",\"West/Madhya Pradesh\",\"West/Maharashtra\",\"Northeast/Meghalaya\",\"East/Odisha\",\"South/Puducherry\",\"North/Punjab\",\"North/Rajasthan\",\"Northeast/Sikkim\",\"South/Tamil Nadu\",\"South/Telangana\",\"Northeast/Tripura\",\"North/Uttar Pradesh\",\"North/Uttarakhand\",\"East/West Bengal\",\"East\",\"North\",\"Northeast\",\"South\",\"West\"],\"labels\":[\"0.5\",\"0.58\",\"0.6\",\"0.88\",\"1.15\",\"1.19\",\"1.2\",\"1.42\",\"1.57\",\"1.58\",\"1.58\",\"1.66\",\"1.76\",\"1.84\",\"1.87\",\"1.88\",\"1.9\",\"1.96\",\"2.09\",\"2.1\",\"2.1\",\"2.16\",\"2.18\",\"2.2\",\"2.22\",\"2.28\",\"2.41\",\"2.65\",\"2.81\",\"2.86\",\"2.86\",\"2.86\",\"3.02\",\"3.12\",\"3.13\",\"3.2\",\"3.27\",\"3.31\",\"3.41\",\"3.42\",\"3.46\",\"3.59\",\"3.61\",\"3.74\",\"3.75\",\"3.77\",\"3.77\",\"3.88\",\"3.89\",\"3.91\",\"4.01\",\"4.03\",\"4.1\",\"4.11\",\"4.18\",\"4.24\",\"4.29\",\"4.41\",\"4.45\",\"4.46\",\"4.55\",\"4.57\",\"4.6\",\"4.66\",\"4.69\",\"4.7\",\"4.77\",\"4.92\",\"4.95\",\"4.99\",\"5.0\",\"5.05\",\"5.08\",\"5.25\",\"5.31\",\"5.36\",\"5.48\",\"5.49\",\"5.49\",\"5.53\",\"5.54\",\"5.56\",\"5.63\",\"5.7\",\"5.77\",\"5.79\",\"5.79\",\"5.79\",\"5.79\",\"5.83\",\"5.91\",\"5.92\",\"6.18\",\"6.23\",\"6.25\",\"6.27\",\"6.38\",\"6.4\",\"6.4\",\"6.48\",\"6.48\",\"6.59\",\"6.62\",\"6.66\",\"6.81\",\"6.83\",\"6.92\",\"6.94\",\"6.96\",\"7.09\",\"7.29\",\"7.54\",\"7.58\",\"7.6\",\"7.63\",\"8.01\",\"8.23\",\"8.24\",\"8.29\",\"8.34\",\"8.38\",\"8.44\",\"8.61\",\"8.89\",\"8.98\",\"8.99\",\"9.19\",\"9.23\",\"9.23\",\"9.35\",\"9.47\",\"9.55\",\"9.61\",\"9.65\",\"9.71\",\"9.76\",\"9.82\",\"9.88\",\"9.96\",\"9.98\",\"10.03\",\"10.11\",\"10.27\",\"10.29\",\"10.32\",\"10.5\",\"10.55\",\"10.61\",\"10.61\",\"10.88\",\"10.9\",\"10.97\",\"10.97\",\"10.98\",\"10.99\",\"11.06\",\"11.09\",\"11.11\",\"11.41\",\"11.54\",\"11.57\",\"11.8\",\"11.85\",\"11.9\",\"11.91\",\"12.04\",\"12.11\",\"12.2\",\"12.36\",\"12.38\",\"12.49\",\"12.53\",\"12.79\",\"13.08\",\"13.31\",\"13.44\",\"13.46\",\"13.47\",\"13.79\",\"14.23\",\"14.26\",\"14.39\",\"14.7\",\"14.84\",\"14.87\",\"15.16\",\"15.35\",\"15.38\",\"15.43\",\"15.46\",\"15.47\",\"15.5\",\"15.74\",\"15.79\",\"15.81\",\"16.14\",\"16.17\",\"16.21\",\"16.55\",\"16.68\",\"16.83\",\"16.84\",\"16.99\",\"17.04\",\"17.07\",\"17.35\",\"17.41\",\"17.43\",\"17.51\",\"17.7\",\"17.82\",\"17.88\",\"17.92\",\"18.19\",\"18.24\",\"18.71\",\"18.74\",\"18.76\",\"19.68\",\"19.85\",\"19.97\",\"20.3\",\"20.34\",\"20.41\",\"20.51\",\"20.78\",\"20.9\",\"20.95\",\"21.08\",\"21.25\",\"21.51\",\"21.54\",\"21.71\",\"21.98\",\"22.23\",\"22.26\",\"23.57\",\"23.76\",\"24.15\",\"24.18\",\"24.31\",\"24.51\",\"25.05\",\"25.77\",\"26.7\",\"26.95\",\"27.31\",\"27.92\",\"28.33\",\"28.4\",\"29.02\",\"29.84\",\"29.95\",\"32.67\",\"33.16\",\"33.5\",\"41.23\",\"42.27\",\"43.22\",\"45.96\",\"46.64\",\"47.09\",\"49.83\",\"58.19\",\"59.23\",\"75.85\",\"Andhra Pradesh\",\"Assam\",\"Bihar\",\"Chhattisgarh\",\"Delhi\",\"Goa\",\"Gujarat\",\"Haryana\",\"Himachal Pradesh\",\"Jammu & Kashmir\",\"Jharkhand\",\"Karnataka\",\"Kerala\",\"Madhya Pradesh\",\"Maharashtra\",\"Meghalaya\",\"Odisha\",\"Puducherry\",\"Punjab\",\"Rajasthan\",\"Sikkim\",\"Tamil Nadu\",\"Telangana\",\"Tripura\",\"Uttar Pradesh\",\"Uttarakhand\",\"West Bengal\",\"East\",\"North\",\"Northeast\",\"South\",\"West\"],\"name\":\"\",\"parents\":[\"South/Karnataka\",\"South/Puducherry\",\"Northeast/Assam\",\"Northeast/Sikkim\",\"Northeast/Meghalaya\",\"Northeast/Assam\",\"South/Puducherry\",\"East/Odisha\",\"South/Tamil Nadu\",\"South/Karnataka\",\"Northeast/Meghalaya\",\"Northeast/Meghalaya\",\"South/Puducherry\",\"West/Gujarat\",\"West/Gujarat\",\"East/Odisha\",\"East/Odisha\",\"West/Chhattisgarh\",\"South/Tamil Nadu\",\"Northeast/Meghalaya\",\"East/Odisha\",\"South/Tamil Nadu\",\"East/Odisha\",\"North/Himachal Pradesh\",\"West/Madhya Pradesh\",\"Northeast/Sikkim\",\"South/Karnataka\",\"South/Tamil Nadu\",\"West/Goa\",\"South/Karnataka\",\"North/Punjab\",\"South/Telangana\",\"Northeast/Assam\",\"East/Odisha\",\"West/Madhya Pradesh\",\"West/Gujarat\",\"South/Telangana\",\"South/Andhra Pradesh\",\"West/Chhattisgarh\",\"West/Gujarat\",\"South/Karnataka\",\"Northeast/Meghalaya\",\"South/Karnataka\",\"Northeast/Meghalaya\",\"North/Uttar Pradesh\",\"Northeast/Assam\",\"East/Odisha\",\"South/Kerala\",\"West/Maharashtra\",\"West/Madhya Pradesh\",\"South/Karnataka\",\"West/Gujarat\",\"West/Maharashtra\",\"West/Madhya Pradesh\",\"North/Uttar Pradesh\",\"South/Puducherry\",\"Northeast/Meghalaya\",\"Northeast/Assam\",\"Northeast/Sikkim\",\"Northeast/Sikkim\",\"West/Maharashtra\",\"West/Madhya Pradesh\",\"Northeast/Meghalaya\",\"Northeast/Assam\",\"West/Maharashtra\",\"West/Madhya Pradesh\",\"Northeast/Assam\",\"East/West Bengal\",\"West/Maharashtra\",\"North/Uttarakhand\",\"South/Tamil Nadu\",\"South/Puducherry\",\"West/Madhya Pradesh\",\"West/Goa\",\"South/Kerala\",\"South/Telangana\",\"South/Andhra Pradesh\",\"South/Telangana\",\"North/Uttarakhand\",\"Northeast/Assam\",\"West/Gujarat\",\"North/Uttar Pradesh\",\"West/Chhattisgarh\",\"Northeast/Sikkim\",\"South/Telangana\",\"South/Andhra Pradesh\",\"West/Maharashtra\",\"South/Telangana\",\"North/Uttar Pradesh\",\"South/Andhra Pradesh\",\"South/Kerala\",\"Northeast/Meghalaya\",\"South/Puducherry\",\"West/Maharashtra\",\"South/Telangana\",\"North/Delhi\",\"West/Gujarat\",\"South/Andhra Pradesh\",\"South/Tamil Nadu\",\"West/Madhya Pradesh\",\"North/Uttarakhand\",\"South/Andhra Pradesh\",\"West/Chhattisgarh\",\"West/Gujarat\",\"South/Tamil Nadu\",\"East/West Bengal\",\"East/West Bengal\",\"East/West Bengal\",\"South/Andhra Pradesh\",\"South/Kerala\",\"East/West Bengal\",\"West/Chhattisgarh\",\"North/Uttar Pradesh\",\"South/Kerala\",\"East/Jharkhand\",\"North/Uttarakhand\",\"East/Jharkhand\",\"East/Jharkhand\",\"South/Telangana\",\"South/Andhra Pradesh\",\"West/Chhattisgarh\",\"South/Karnataka\",\"North/Uttarakhand\",\"West/Goa\",\"North/Uttar Pradesh\",\"South/Kerala\",\"North/Punjab\",\"West/Maharashtra\",\"North/Uttarakhand\",\"East/West Bengal\",\"North/Uttar Pradesh\",\"Northeast/Assam\",\"North/Punjab\",\"West/Chhattisgarh\",\"South/Kerala\",\"East/Jharkhand\",\"East/Bihar\",\"North/Punjab\",\"West/Goa\",\"East/West Bengal\",\"Northeast/Meghalaya\",\"North/Uttar Pradesh\",\"West/Chhattisgarh\",\"East/Bihar\",\"North/Punjab\",\"West/Chhattisgarh\",\"South/Telangana\",\"East/Bihar\",\"East/Jharkhand\",\"North/Jammu & Kashmir\",\"South/Puducherry\",\"North/Punjab\",\"North/Rajasthan\",\"South/Kerala\",\"North/Punjab\",\"Northeast/Assam\",\"North/Jammu & Kashmir\",\"North/Punjab\",\"East/Odisha\",\"West/Goa\",\"Northeast/Tripura\",\"East/Jharkhand\",\"East/Jharkhand\",\"North/Rajasthan\",\"East/Bihar\",\"North/Himachal Pradesh\",\"West/Gujarat\",\"South/Tamil Nadu\",\"West/Madhya Pradesh\",\"North/Uttarakhand\",\"Northeast/Sikkim\",\"North/Delhi\",\"East/Bihar\",\"East/Odisha\",\"West/Goa\",\"East/Bihar\",\"North/Himachal Pradesh\",\"North/Himachal Pradesh\",\"North/Delhi\",\"West/Chhattisgarh\",\"North/Uttarakhand\",\"North/Rajasthan\",\"South/Telangana\",\"North/Delhi\",\"East/West Bengal\",\"North/Rajasthan\",\"North/Rajasthan\",\"West/Goa\",\"East/Bihar\",\"West/Maharashtra\",\"South/Puducherry\",\"North/Jammu & Kashmir\",\"North/Rajasthan\",\"North/Himachal Pradesh\",\"North/Rajasthan\",\"North/Jammu & Kashmir\",\"North/Jammu & Kashmir\",\"West/Goa\",\"North/Punjab\",\"North/Delhi\",\"North/Himachal Pradesh\",\"North/Himachal Pradesh\",\"South/Kerala\",\"North/Delhi\",\"West/Goa\",\"Northeast/Tripura\",\"East/West Bengal\",\"South/Andhra Pradesh\",\"North/Rajasthan\",\"North/Rajasthan\",\"East/Bihar\",\"South/Kerala\",\"North/Jammu & Kashmir\",\"North/Delhi\",\"Northeast/Tripura\",\"West/Gujarat\",\"North/Jammu & Kashmir\",\"North/Himachal Pradesh\",\"North/Haryana\",\"North/Uttarakhand\",\"South/Karnataka\",\"North/Delhi\",\"North/Haryana\",\"North/Uttar Pradesh\",\"South/Andhra Pradesh\",\"North/Jammu & Kashmir\",\"West/Maharashtra\",\"East/Jharkhand\",\"North/Jammu & Kashmir\",\"West/Goa\",\"Northeast/Tripura\",\"North/Uttar Pradesh\",\"Northeast/Tripura\",\"West/Madhya Pradesh\",\"North/Delhi\",\"North/Uttarakhand\",\"Northeast/Sikkim\",\"East/Odisha\",\"North/Rajasthan\",\"North/Haryana\",\"North/Himachal Pradesh\",\"Northeast/Sikkim\",\"North/Haryana\",\"North/Haryana\",\"North/Haryana\",\"North/Himachal Pradesh\",\"North/Haryana\",\"Northeast/Tripura\",\"North/Punjab\",\"Northeast/Tripura\",\"North/Haryana\",\"South/Karnataka\",\"Northeast/Tripura\",\"Northeast/Tripura\",\"South/Tamil Nadu\",\"North/Haryana\",\"Northeast/Tripura\",\"North/Delhi\",\"North/Haryana\",\"East/Bihar\",\"East/Bihar\",\"East/Jharkhand\",\"South/Tamil Nadu\",\"South/Puducherry\",\"East/Jharkhand\",\"South/Puducherry\",\"South\",\"Northeast\",\"East\",\"West\",\"North\",\"West\",\"West\",\"North\",\"North\",\"North\",\"East\",\"South\",\"South\",\"West\",\"West\",\"Northeast\",\"East\",\"South\",\"North\",\"North\",\"Northeast\",\"South\",\"South\",\"Northeast\",\"North\",\"North\",\"East\",\"\",\"\",\"\",\"\",\"\"],\"values\":[0.5,0.58,0.6,0.88,1.15,1.19,1.2,1.42,1.57,1.58,1.58,1.66,1.76,1.84,1.87,1.88,1.9,1.96,2.09,2.1,2.1,2.16,2.18,2.2,2.22,2.28,2.41,2.65,2.81,2.86,2.86,2.86,3.02,3.12,3.13,3.2,3.27,3.31,3.41,3.42,3.46,3.59,3.61,3.74,3.75,3.77,3.77,3.88,3.89,3.91,4.01,4.03,4.1,4.11,4.18,4.24,4.29,4.41,4.45,4.46,4.55,4.57,4.6,4.66,4.69,4.7,4.77,4.92,4.95,4.99,5.0,5.05,5.08,5.25,5.31,5.36,5.48,5.49,5.49,5.53,5.54,5.56,5.63,5.7,5.77,5.79,5.79,5.79,5.79,5.83,5.91,5.92,6.18,6.23,6.25,6.27,6.38,6.4,6.4,6.48,6.48,6.59,6.62,6.66,6.81,6.83,6.92,6.94,6.96,7.09,7.29,7.54,7.58,7.6,7.63,8.01,8.23,8.24,8.29,8.34,8.38,8.44,8.61,8.89,8.98,8.99,9.19,9.23,9.23,9.35,9.47,9.55,9.61,9.65,9.71,9.76,9.82,9.88,9.96,9.98,10.03,10.11,10.27,10.29,10.32,10.5,10.55,10.61,10.61,10.88,10.9,10.97,10.97,10.98,10.99,11.06,11.09,11.11,11.41,11.54,11.57,11.8,11.85,11.9,11.91,12.04,12.11,12.2,12.36,12.38,12.49,12.53,12.79,13.08,13.31,13.44,13.46,13.47,13.79,14.23,14.26,14.39,14.7,14.84,14.87,15.16,15.35,15.38,15.43,15.46,15.47,15.5,15.74,15.79,15.81,16.14,16.17,16.21,16.55,16.68,16.83,16.84,16.99,17.04,17.07,17.35,34.82,17.43,17.51,17.7,17.82,17.88,17.92,18.19,18.24,18.71,18.74,18.76,19.68,19.85,19.97,20.3,20.34,20.41,20.51,20.78,20.9,20.95,21.08,21.25,21.51,21.54,21.71,21.98,22.23,22.26,23.57,23.76,24.15,24.18,24.31,24.51,25.05,25.77,26.7,26.95,27.31,27.92,28.33,28.4,29.02,29.84,29.95,32.67,33.16,33.5,41.23,42.27,43.22,45.96,46.64,47.09,49.83,58.19,59.23,75.85,86.64,48.56,194.71,78.19,184.14000000000001,121.67,63.76,274.77,160.65,148.3,195.39,76.67999999999999,94.34,68.54,79.79,38.66,64.62,179.42,119.81,158.68,78.34,121.86999999999999,68.33,250.55,97.37,111.56,101.92,556.64,1255.28,416.11,627.28,411.95],\"type\":\"sunburst\"}],                        {\"template\":{\"data\":{\"histogram2dcontour\":[{\"type\":\"histogram2dcontour\",\"colorbar\":{\"outlinewidth\":0,\"ticks\":\"\"},\"colorscale\":[[0.0,\"#0d0887\"],[0.1111111111111111,\"#46039f\"],[0.2222222222222222,\"#7201a8\"],[0.3333333333333333,\"#9c179e\"],[0.4444444444444444,\"#bd3786\"],[0.5555555555555556,\"#d8576b\"],[0.6666666666666666,\"#ed7953\"],[0.7777777777777778,\"#fb9f3a\"],[0.8888888888888888,\"#fdca26\"],[1.0,\"#f0f921\"]]}],\"choropleth\":[{\"type\":\"choropleth\",\"colorbar\":{\"outlinewidth\":0,\"ticks\":\"\"}}],\"histogram2d\":[{\"type\":\"histogram2d\",\"colorbar\":{\"outlinewidth\":0,\"ticks\":\"\"},\"colorscale\":[[0.0,\"#0d0887\"],[0.1111111111111111,\"#46039f\"],[0.2222222222222222,\"#7201a8\"],[0.3333333333333333,\"#9c179e\"],[0.4444444444444444,\"#bd3786\"],[0.5555555555555556,\"#d8576b\"],[0.6666666666666666,\"#ed7953\"],[0.7777777777777778,\"#fb9f3a\"],[0.8888888888888888,\"#fdca26\"],[1.0,\"#f0f921\"]]}],\"heatmap\":[{\"type\":\"heatmap\",\"colorbar\":{\"outlinewidth\":0,\"ticks\":\"\"},\"colorscale\":[[0.0,\"#0d0887\"],[0.1111111111111111,\"#46039f\"],[0.2222222222222222,\"#7201a8\"],[0.3333333333333333,\"#9c179e\"],[0.4444444444444444,\"#bd3786\"],[0.5555555555555556,\"#d8576b\"],[0.6666666666666666,\"#ed7953\"],[0.7777777777777778,\"#fb9f3a\"],[0.8888888888888888,\"#fdca26\"],[1.0,\"#f0f921\"]]}],\"heatmapgl\":[{\"type\":\"heatmapgl\",\"colorbar\":{\"outlinewidth\":0,\"ticks\":\"\"},\"colorscale\":[[0.0,\"#0d0887\"],[0.1111111111111111,\"#46039f\"],[0.2222222222222222,\"#7201a8\"],[0.3333333333333333,\"#9c179e\"],[0.4444444444444444,\"#bd3786\"],[0.5555555555555556,\"#d8576b\"],[0.6666666666666666,\"#ed7953\"],[0.7777777777777778,\"#fb9f3a\"],[0.8888888888888888,\"#fdca26\"],[1.0,\"#f0f921\"]]}],\"contourcarpet\":[{\"type\":\"contourcarpet\",\"colorbar\":{\"outlinewidth\":0,\"ticks\":\"\"}}],\"contour\":[{\"type\":\"contour\",\"colorbar\":{\"outlinewidth\":0,\"ticks\":\"\"},\"colorscale\":[[0.0,\"#0d0887\"],[0.1111111111111111,\"#46039f\"],[0.2222222222222222,\"#7201a8\"],[0.3333333333333333,\"#9c179e\"],[0.4444444444444444,\"#bd3786\"],[0.5555555555555556,\"#d8576b\"],[0.6666666666666666,\"#ed7953\"],[0.7777777777777778,\"#fb9f3a\"],[0.8888888888888888,\"#fdca26\"],[1.0,\"#f0f921\"]]}],\"surface\":[{\"type\":\"surface\",\"colorbar\":{\"outlinewidth\":0,\"ticks\":\"\"},\"colorscale\":[[0.0,\"#0d0887\"],[0.1111111111111111,\"#46039f\"],[0.2222222222222222,\"#7201a8\"],[0.3333333333333333,\"#9c179e\"],[0.4444444444444444,\"#bd3786\"],[0.5555555555555556,\"#d8576b\"],[0.6666666666666666,\"#ed7953\"],[0.7777777777777778,\"#fb9f3a\"],[0.8888888888888888,\"#fdca26\"],[1.0,\"#f0f921\"]]}],\"mesh3d\":[{\"type\":\"mesh3d\",\"colorbar\":{\"outlinewidth\":0,\"ticks\":\"\"}}],\"scatter\":[{\"fillpattern\":{\"fillmode\":\"overlay\",\"size\":10,\"solidity\":0.2},\"type\":\"scatter\"}],\"parcoords\":[{\"type\":\"parcoords\",\"line\":{\"colorbar\":{\"outlinewidth\":0,\"ticks\":\"\"}}}],\"scatterpolargl\":[{\"type\":\"scatterpolargl\",\"marker\":{\"colorbar\":{\"outlinewidth\":0,\"ticks\":\"\"}}}],\"bar\":[{\"error_x\":{\"color\":\"#2a3f5f\"},\"error_y\":{\"color\":\"#2a3f5f\"},\"marker\":{\"line\":{\"color\":\"#E5ECF6\",\"width\":0.5},\"pattern\":{\"fillmode\":\"overlay\",\"size\":10,\"solidity\":0.2}},\"type\":\"bar\"}],\"scattergeo\":[{\"type\":\"scattergeo\",\"marker\":{\"colorbar\":{\"outlinewidth\":0,\"ticks\":\"\"}}}],\"scatterpolar\":[{\"type\":\"scatterpolar\",\"marker\":{\"colorbar\":{\"outlinewidth\":0,\"ticks\":\"\"}}}],\"histogram\":[{\"marker\":{\"pattern\":{\"fillmode\":\"overlay\",\"size\":10,\"solidity\":0.2}},\"type\":\"histogram\"}],\"scattergl\":[{\"type\":\"scattergl\",\"marker\":{\"colorbar\":{\"outlinewidth\":0,\"ticks\":\"\"}}}],\"scatter3d\":[{\"type\":\"scatter3d\",\"line\":{\"colorbar\":{\"outlinewidth\":0,\"ticks\":\"\"}},\"marker\":{\"colorbar\":{\"outlinewidth\":0,\"ticks\":\"\"}}}],\"scattermapbox\":[{\"type\":\"scattermapbox\",\"marker\":{\"colorbar\":{\"outlinewidth\":0,\"ticks\":\"\"}}}],\"scatterternary\":[{\"type\":\"scatterternary\",\"marker\":{\"colorbar\":{\"outlinewidth\":0,\"ticks\":\"\"}}}],\"scattercarpet\":[{\"type\":\"scattercarpet\",\"marker\":{\"colorbar\":{\"outlinewidth\":0,\"ticks\":\"\"}}}],\"carpet\":[{\"aaxis\":{\"endlinecolor\":\"#2a3f5f\",\"gridcolor\":\"white\",\"linecolor\":\"white\",\"minorgridcolor\":\"white\",\"startlinecolor\":\"#2a3f5f\"},\"baxis\":{\"endlinecolor\":\"#2a3f5f\",\"gridcolor\":\"white\",\"linecolor\":\"white\",\"minorgridcolor\":\"white\",\"startlinecolor\":\"#2a3f5f\"},\"type\":\"carpet\"}],\"table\":[{\"cells\":{\"fill\":{\"color\":\"#EBF0F8\"},\"line\":{\"color\":\"white\"}},\"header\":{\"fill\":{\"color\":\"#C8D4E3\"},\"line\":{\"color\":\"white\"}},\"type\":\"table\"}],\"barpolar\":[{\"marker\":{\"line\":{\"color\":\"#E5ECF6\",\"width\":0.5},\"pattern\":{\"fillmode\":\"overlay\",\"size\":10,\"solidity\":0.2}},\"type\":\"barpolar\"}],\"pie\":[{\"automargin\":true,\"type\":\"pie\"}]},\"layout\":{\"autotypenumbers\":\"strict\",\"colorway\":[\"#636efa\",\"#EF553B\",\"#00cc96\",\"#ab63fa\",\"#FFA15A\",\"#19d3f3\",\"#FF6692\",\"#B6E880\",\"#FF97FF\",\"#FECB52\"],\"font\":{\"color\":\"#2a3f5f\"},\"hovermode\":\"closest\",\"hoverlabel\":{\"align\":\"left\"},\"paper_bgcolor\":\"white\",\"plot_bgcolor\":\"#E5ECF6\",\"polar\":{\"bgcolor\":\"#E5ECF6\",\"angularaxis\":{\"gridcolor\":\"white\",\"linecolor\":\"white\",\"ticks\":\"\"},\"radialaxis\":{\"gridcolor\":\"white\",\"linecolor\":\"white\",\"ticks\":\"\"}},\"ternary\":{\"bgcolor\":\"#E5ECF6\",\"aaxis\":{\"gridcolor\":\"white\",\"linecolor\":\"white\",\"ticks\":\"\"},\"baxis\":{\"gridcolor\":\"white\",\"linecolor\":\"white\",\"ticks\":\"\"},\"caxis\":{\"gridcolor\":\"white\",\"linecolor\":\"white\",\"ticks\":\"\"}},\"coloraxis\":{\"colorbar\":{\"outlinewidth\":0,\"ticks\":\"\"}},\"colorscale\":{\"sequential\":[[0.0,\"#0d0887\"],[0.1111111111111111,\"#46039f\"],[0.2222222222222222,\"#7201a8\"],[0.3333333333333333,\"#9c179e\"],[0.4444444444444444,\"#bd3786\"],[0.5555555555555556,\"#d8576b\"],[0.6666666666666666,\"#ed7953\"],[0.7777777777777778,\"#fb9f3a\"],[0.8888888888888888,\"#fdca26\"],[1.0,\"#f0f921\"]],\"sequentialminus\":[[0.0,\"#0d0887\"],[0.1111111111111111,\"#46039f\"],[0.2222222222222222,\"#7201a8\"],[0.3333333333333333,\"#9c179e\"],[0.4444444444444444,\"#bd3786\"],[0.5555555555555556,\"#d8576b\"],[0.6666666666666666,\"#ed7953\"],[0.7777777777777778,\"#fb9f3a\"],[0.8888888888888888,\"#fdca26\"],[1.0,\"#f0f921\"]],\"diverging\":[[0,\"#8e0152\"],[0.1,\"#c51b7d\"],[0.2,\"#de77ae\"],[0.3,\"#f1b6da\"],[0.4,\"#fde0ef\"],[0.5,\"#f7f7f7\"],[0.6,\"#e6f5d0\"],[0.7,\"#b8e186\"],[0.8,\"#7fbc41\"],[0.9,\"#4d9221\"],[1,\"#276419\"]]},\"xaxis\":{\"gridcolor\":\"white\",\"linecolor\":\"white\",\"ticks\":\"\",\"title\":{\"standoff\":15},\"zerolinecolor\":\"white\",\"automargin\":true,\"zerolinewidth\":2},\"yaxis\":{\"gridcolor\":\"white\",\"linecolor\":\"white\",\"ticks\":\"\",\"title\":{\"standoff\":15},\"zerolinecolor\":\"white\",\"automargin\":true,\"zerolinewidth\":2},\"scene\":{\"xaxis\":{\"backgroundcolor\":\"#E5ECF6\",\"gridcolor\":\"white\",\"linecolor\":\"white\",\"showbackground\":true,\"ticks\":\"\",\"zerolinecolor\":\"white\",\"gridwidth\":2},\"yaxis\":{\"backgroundcolor\":\"#E5ECF6\",\"gridcolor\":\"white\",\"linecolor\":\"white\",\"showbackground\":true,\"ticks\":\"\",\"zerolinecolor\":\"white\",\"gridwidth\":2},\"zaxis\":{\"backgroundcolor\":\"#E5ECF6\",\"gridcolor\":\"white\",\"linecolor\":\"white\",\"showbackground\":true,\"ticks\":\"\",\"zerolinecolor\":\"white\",\"gridwidth\":2}},\"shapedefaults\":{\"line\":{\"color\":\"#2a3f5f\"}},\"annotationdefaults\":{\"arrowcolor\":\"#2a3f5f\",\"arrowhead\":0,\"arrowwidth\":1},\"geo\":{\"bgcolor\":\"white\",\"landcolor\":\"#E5ECF6\",\"subunitcolor\":\"white\",\"showland\":true,\"showlakes\":true,\"lakecolor\":\"white\"},\"title\":{\"x\":0.05},\"mapbox\":{\"style\":\"light\"}}},\"legend\":{\"tracegroupgap\":0},\"title\":{\"text\":\"Indian unemployment Rate\"},\"height\":1000,\"width\":1000},                        {\"responsive\": true}                    ).then(function(){\n",
       "                            \n",
       "var gd = document.getElementById('8e427980-f13d-4b0d-962a-e2e5cf646da8');\n",
       "var x = new MutationObserver(function (mutations, observer) {{\n",
       "        var display = window.getComputedStyle(gd).display;\n",
       "        if (!display || display === 'none') {{\n",
       "            console.log([gd, 'removed!']);\n",
       "            Plotly.purge(gd);\n",
       "            observer.disconnect();\n",
       "        }}\n",
       "}});\n",
       "\n",
       "// Listen for the removal of the full notebook cells\n",
       "var notebookContainer = gd.closest('#notebook-container');\n",
       "if (notebookContainer) {{\n",
       "    x.observe(notebookContainer, {childList: true});\n",
       "}}\n",
       "\n",
       "// Listen for the clearing of the current output cell\n",
       "var outputEl = gd.closest('.output');\n",
       "if (outputEl) {{\n",
       "    x.observe(outputEl, {childList: true});\n",
       "}}\n",
       "\n",
       "                        })                };                });            </script>        </div>"
      ]
     },
     "metadata": {},
     "output_type": "display_data"
    }
   ],
   "source": [
    "unemploment = dk[[\"Region\",'Estimated Unemployment Rate','States']]\n",
    "figure = px.sunburst(unemploment, path=[\"Region\",\"States\",'Estimated Unemployment Rate'], \n",
    "                     values='Estimated Unemployment Rate',\n",
    "                     width=1000, height=1000,  \n",
    "                     title=\"Indian unemployment Rate\")\n",
    "figure.show()   "
   ]
  },
  {
   "cell_type": "code",
   "execution_count": null,
   "id": "5a4e7ef2",
   "metadata": {},
   "outputs": [],
   "source": []
  }
 ],
 "metadata": {
  "kernelspec": {
   "display_name": "Python 3 (ipykernel)",
   "language": "python",
   "name": "python3"
  },
  "language_info": {
   "codemirror_mode": {
    "name": "ipython",
    "version": 3
   },
   "file_extension": ".py",
   "mimetype": "text/x-python",
   "name": "python",
   "nbconvert_exporter": "python",
   "pygments_lexer": "ipython3",
   "version": "3.11.5"
  }
 },
 "nbformat": 4,
 "nbformat_minor": 5
}
